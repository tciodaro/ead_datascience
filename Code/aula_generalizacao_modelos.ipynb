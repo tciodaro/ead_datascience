{
 "cells": [
  {
   "cell_type": "code",
   "execution_count": 1,
   "id": "488807a8-fc82-4c09-8576-40716e13392e",
   "metadata": {},
   "outputs": [],
   "source": [
    "import matplotlib.pyplot as plt\n",
    "import seaborn as sns\n",
    "import pandas\n",
    "import numpy as np\n",
    "from sklearn import tree\n",
    "import sklearn.linear_model as lm\n",
    "from sklearn import preprocessing, model_selection, pipeline\n",
    "from sklearn.model_selection import validation_curve\n",
    "from sklearn import metrics\n",
    "from sklearn.inspection import permutation_importance\n",
    "\n",
    "from sklearn import svm\n",
    "\n",
    "\n",
    "\n",
    "from ipywidgets import interact, interactive, fixed\n",
    "import ipywidgets as widgets\n",
    "\n",
    "\n",
    "np.set_printoptions(precision=3)\n",
    "pandas.set_option(\"display.precision\", 3)\n",
    "\n",
    "\n",
    "\n",
    "classification_scores = ['accuracy','precision_weighted',\n",
    "                         'recall_weighted', 'roc_auc_ovr_weighted',\n",
    "                         'f1_weighted']\n",
    "\n",
    "\n",
    "regression_scores = ['explained_variance','neg_mean_absolute_error',\n",
    "                     'neg_mean_absolute_percentage_error', 'r2',\n",
    "                     'neg_root_mean_squared_error']\n",
    "\n",
    "%matplotlib inline"
   ]
  },
  {
   "cell_type": "markdown",
   "id": "7b58667c-9e44-486f-8543-1d99bd1d4fc0",
   "metadata": {},
   "source": [
    "# Classificacao"
   ]
  },
  {
   "cell_type": "markdown",
   "id": "8faf27f9-6e0b-40a3-a1ac-ef386bb0a049",
   "metadata": {
    "tags": []
   },
   "source": [
    "## Vinhos\n"
   ]
  },
  {
   "cell_type": "markdown",
   "id": "01cb7b41-d918-491c-9a31-595a011900d3",
   "metadata": {
    "tags": []
   },
   "source": [
    "### Leitura da Base "
   ]
  },
  {
   "cell_type": "code",
   "execution_count": 2,
   "id": "cfdff72a-267c-41a0-a3b1-59dbd5f632fc",
   "metadata": {},
   "outputs": [
    {
     "name": "stdout",
     "output_type": "stream",
     "text": [
      "(5320, 13)\n"
     ]
    },
    {
     "data": {
      "text/html": [
       "<div>\n",
       "<style scoped>\n",
       "    .dataframe tbody tr th:only-of-type {\n",
       "        vertical-align: middle;\n",
       "    }\n",
       "\n",
       "    .dataframe tbody tr th {\n",
       "        vertical-align: top;\n",
       "    }\n",
       "\n",
       "    .dataframe thead th {\n",
       "        text-align: right;\n",
       "    }\n",
       "</style>\n",
       "<table border=\"1\" class=\"dataframe\">\n",
       "  <thead>\n",
       "    <tr style=\"text-align: right;\">\n",
       "      <th></th>\n",
       "      <th>fixed acidity</th>\n",
       "      <th>volatile acidity</th>\n",
       "      <th>citric acid</th>\n",
       "      <th>residual sugar</th>\n",
       "      <th>chlorides</th>\n",
       "      <th>free sulfur dioxide</th>\n",
       "      <th>total sulfur dioxide</th>\n",
       "      <th>density</th>\n",
       "      <th>pH</th>\n",
       "      <th>sulphates</th>\n",
       "      <th>alcohol</th>\n",
       "      <th>target</th>\n",
       "      <th>type</th>\n",
       "    </tr>\n",
       "  </thead>\n",
       "  <tbody>\n",
       "    <tr>\n",
       "      <th>0</th>\n",
       "      <td>7.4</td>\n",
       "      <td>0.70</td>\n",
       "      <td>0.00</td>\n",
       "      <td>1.9</td>\n",
       "      <td>0.076</td>\n",
       "      <td>11.0</td>\n",
       "      <td>34.0</td>\n",
       "      <td>0.998</td>\n",
       "      <td>3.51</td>\n",
       "      <td>0.56</td>\n",
       "      <td>9.4</td>\n",
       "      <td>0</td>\n",
       "      <td>red</td>\n",
       "    </tr>\n",
       "    <tr>\n",
       "      <th>1</th>\n",
       "      <td>7.8</td>\n",
       "      <td>0.88</td>\n",
       "      <td>0.00</td>\n",
       "      <td>2.6</td>\n",
       "      <td>0.098</td>\n",
       "      <td>25.0</td>\n",
       "      <td>67.0</td>\n",
       "      <td>0.997</td>\n",
       "      <td>3.20</td>\n",
       "      <td>0.68</td>\n",
       "      <td>9.8</td>\n",
       "      <td>0</td>\n",
       "      <td>red</td>\n",
       "    </tr>\n",
       "    <tr>\n",
       "      <th>2</th>\n",
       "      <td>7.8</td>\n",
       "      <td>0.76</td>\n",
       "      <td>0.04</td>\n",
       "      <td>2.3</td>\n",
       "      <td>0.092</td>\n",
       "      <td>15.0</td>\n",
       "      <td>54.0</td>\n",
       "      <td>0.997</td>\n",
       "      <td>3.26</td>\n",
       "      <td>0.65</td>\n",
       "      <td>9.8</td>\n",
       "      <td>0</td>\n",
       "      <td>red</td>\n",
       "    </tr>\n",
       "    <tr>\n",
       "      <th>3</th>\n",
       "      <td>11.2</td>\n",
       "      <td>0.28</td>\n",
       "      <td>0.56</td>\n",
       "      <td>1.9</td>\n",
       "      <td>0.075</td>\n",
       "      <td>17.0</td>\n",
       "      <td>60.0</td>\n",
       "      <td>0.998</td>\n",
       "      <td>3.16</td>\n",
       "      <td>0.58</td>\n",
       "      <td>9.8</td>\n",
       "      <td>1</td>\n",
       "      <td>red</td>\n",
       "    </tr>\n",
       "    <tr>\n",
       "      <th>4</th>\n",
       "      <td>7.4</td>\n",
       "      <td>0.66</td>\n",
       "      <td>0.00</td>\n",
       "      <td>1.8</td>\n",
       "      <td>0.075</td>\n",
       "      <td>13.0</td>\n",
       "      <td>40.0</td>\n",
       "      <td>0.998</td>\n",
       "      <td>3.51</td>\n",
       "      <td>0.56</td>\n",
       "      <td>9.4</td>\n",
       "      <td>0</td>\n",
       "      <td>red</td>\n",
       "    </tr>\n",
       "  </tbody>\n",
       "</table>\n",
       "</div>"
      ],
      "text/plain": [
       "   fixed acidity  volatile acidity  citric acid  residual sugar  chlorides  \\\n",
       "0            7.4              0.70         0.00             1.9      0.076   \n",
       "1            7.8              0.88         0.00             2.6      0.098   \n",
       "2            7.8              0.76         0.04             2.3      0.092   \n",
       "3           11.2              0.28         0.56             1.9      0.075   \n",
       "4            7.4              0.66         0.00             1.8      0.075   \n",
       "\n",
       "   free sulfur dioxide  total sulfur dioxide  density    pH  sulphates  \\\n",
       "0                 11.0                  34.0    0.998  3.51       0.56   \n",
       "1                 25.0                  67.0    0.997  3.20       0.68   \n",
       "2                 15.0                  54.0    0.997  3.26       0.65   \n",
       "3                 17.0                  60.0    0.998  3.16       0.58   \n",
       "4                 13.0                  40.0    0.998  3.51       0.56   \n",
       "\n",
       "   alcohol  target type  \n",
       "0      9.4       0  red  \n",
       "1      9.8       0  red  \n",
       "2      9.8       0  red  \n",
       "3      9.8       1  red  \n",
       "4      9.4       0  red  "
      ]
     },
     "execution_count": 2,
     "metadata": {},
     "output_type": "execute_result"
    }
   ],
   "source": [
    "df_wine = pandas.read_csv('../Data/dataset_vinhos.csv',sep=';')\n",
    "\n",
    "\n",
    "wine_target_col = 'target'\n",
    "\n",
    "wine_label_map = df_wine[['target', 'target_label']].drop_duplicates()\n",
    "\n",
    "drop_cols = ['target_label']\n",
    "df_wine.drop(drop_cols, axis=1, inplace=True)\n",
    "print(df_wine.shape)\n",
    "df_wine.head()"
   ]
  },
  {
   "cell_type": "markdown",
   "id": "4a648461-8994-482a-942e-bcacb059fbc0",
   "metadata": {
    "tags": []
   },
   "source": [
    "### Transformação Variáveis Categóricas"
   ]
  },
  {
   "cell_type": "code",
   "execution_count": 3,
   "id": "95340798-6afc-48ab-842a-487737b9a610",
   "metadata": {},
   "outputs": [
    {
     "data": {
      "text/html": [
       "<div>\n",
       "<style scoped>\n",
       "    .dataframe tbody tr th:only-of-type {\n",
       "        vertical-align: middle;\n",
       "    }\n",
       "\n",
       "    .dataframe tbody tr th {\n",
       "        vertical-align: top;\n",
       "    }\n",
       "\n",
       "    .dataframe thead th {\n",
       "        text-align: right;\n",
       "    }\n",
       "</style>\n",
       "<table border=\"1\" class=\"dataframe\">\n",
       "  <thead>\n",
       "    <tr style=\"text-align: right;\">\n",
       "      <th></th>\n",
       "      <th>fixed acidity</th>\n",
       "      <th>volatile acidity</th>\n",
       "      <th>citric acid</th>\n",
       "      <th>residual sugar</th>\n",
       "      <th>chlorides</th>\n",
       "      <th>free sulfur dioxide</th>\n",
       "      <th>total sulfur dioxide</th>\n",
       "      <th>density</th>\n",
       "      <th>pH</th>\n",
       "      <th>sulphates</th>\n",
       "      <th>alcohol</th>\n",
       "      <th>target</th>\n",
       "      <th>type_red</th>\n",
       "      <th>type_white</th>\n",
       "    </tr>\n",
       "  </thead>\n",
       "  <tbody>\n",
       "    <tr>\n",
       "      <th>0</th>\n",
       "      <td>7.4</td>\n",
       "      <td>0.70</td>\n",
       "      <td>0.00</td>\n",
       "      <td>1.9</td>\n",
       "      <td>0.076</td>\n",
       "      <td>11.0</td>\n",
       "      <td>34.0</td>\n",
       "      <td>0.998</td>\n",
       "      <td>3.51</td>\n",
       "      <td>0.56</td>\n",
       "      <td>9.4</td>\n",
       "      <td>0</td>\n",
       "      <td>1.0</td>\n",
       "      <td>0.0</td>\n",
       "    </tr>\n",
       "    <tr>\n",
       "      <th>1</th>\n",
       "      <td>7.8</td>\n",
       "      <td>0.88</td>\n",
       "      <td>0.00</td>\n",
       "      <td>2.6</td>\n",
       "      <td>0.098</td>\n",
       "      <td>25.0</td>\n",
       "      <td>67.0</td>\n",
       "      <td>0.997</td>\n",
       "      <td>3.20</td>\n",
       "      <td>0.68</td>\n",
       "      <td>9.8</td>\n",
       "      <td>0</td>\n",
       "      <td>1.0</td>\n",
       "      <td>0.0</td>\n",
       "    </tr>\n",
       "    <tr>\n",
       "      <th>2</th>\n",
       "      <td>7.8</td>\n",
       "      <td>0.76</td>\n",
       "      <td>0.04</td>\n",
       "      <td>2.3</td>\n",
       "      <td>0.092</td>\n",
       "      <td>15.0</td>\n",
       "      <td>54.0</td>\n",
       "      <td>0.997</td>\n",
       "      <td>3.26</td>\n",
       "      <td>0.65</td>\n",
       "      <td>9.8</td>\n",
       "      <td>0</td>\n",
       "      <td>1.0</td>\n",
       "      <td>0.0</td>\n",
       "    </tr>\n",
       "    <tr>\n",
       "      <th>3</th>\n",
       "      <td>11.2</td>\n",
       "      <td>0.28</td>\n",
       "      <td>0.56</td>\n",
       "      <td>1.9</td>\n",
       "      <td>0.075</td>\n",
       "      <td>17.0</td>\n",
       "      <td>60.0</td>\n",
       "      <td>0.998</td>\n",
       "      <td>3.16</td>\n",
       "      <td>0.58</td>\n",
       "      <td>9.8</td>\n",
       "      <td>1</td>\n",
       "      <td>1.0</td>\n",
       "      <td>0.0</td>\n",
       "    </tr>\n",
       "    <tr>\n",
       "      <th>4</th>\n",
       "      <td>7.4</td>\n",
       "      <td>0.66</td>\n",
       "      <td>0.00</td>\n",
       "      <td>1.8</td>\n",
       "      <td>0.075</td>\n",
       "      <td>13.0</td>\n",
       "      <td>40.0</td>\n",
       "      <td>0.998</td>\n",
       "      <td>3.51</td>\n",
       "      <td>0.56</td>\n",
       "      <td>9.4</td>\n",
       "      <td>0</td>\n",
       "      <td>1.0</td>\n",
       "      <td>0.0</td>\n",
       "    </tr>\n",
       "  </tbody>\n",
       "</table>\n",
       "</div>"
      ],
      "text/plain": [
       "   fixed acidity  volatile acidity  citric acid  residual sugar  chlorides  \\\n",
       "0            7.4              0.70         0.00             1.9      0.076   \n",
       "1            7.8              0.88         0.00             2.6      0.098   \n",
       "2            7.8              0.76         0.04             2.3      0.092   \n",
       "3           11.2              0.28         0.56             1.9      0.075   \n",
       "4            7.4              0.66         0.00             1.8      0.075   \n",
       "\n",
       "   free sulfur dioxide  total sulfur dioxide  density    pH  sulphates  \\\n",
       "0                 11.0                  34.0    0.998  3.51       0.56   \n",
       "1                 25.0                  67.0    0.997  3.20       0.68   \n",
       "2                 15.0                  54.0    0.997  3.26       0.65   \n",
       "3                 17.0                  60.0    0.998  3.16       0.58   \n",
       "4                 13.0                  40.0    0.998  3.51       0.56   \n",
       "\n",
       "   alcohol  target  type_red  type_white  \n",
       "0      9.4       0       1.0         0.0  \n",
       "1      9.8       0       1.0         0.0  \n",
       "2      9.8       0       1.0         0.0  \n",
       "3      9.8       1       1.0         0.0  \n",
       "4      9.4       0       1.0         0.0  "
      ]
     },
     "execution_count": 3,
     "metadata": {},
     "output_type": "execute_result"
    }
   ],
   "source": [
    "categorical_cols = ['type']\n",
    "encoder_map = {}\n",
    "\n",
    "for cname in categorical_cols:\n",
    "    encoder = preprocessing.OneHotEncoder(sparse=False)\n",
    "    transformed = encoder.fit_transform(df_wine[[cname]])\n",
    "    ohe_df = pandas.DataFrame(transformed, columns=[cname+'_'+cat for cat in encoder.categories_[0]])\n",
    "    encoder_map[cname] = encoder\n",
    "    \n",
    "    df_wine = pandas.concat([df_wine, ohe_df], axis=1).drop(cname, axis=1)\n",
    "df_wine.head()"
   ]
  },
  {
   "cell_type": "markdown",
   "id": "6f03e91b-1c70-4147-9fd6-89d642e97251",
   "metadata": {
    "tags": []
   },
   "source": [
    "## Treinamento dos modelos"
   ]
  },
  {
   "cell_type": "code",
   "execution_count": 4,
   "id": "7624b7b7-3fff-464c-9ac9-f7c6ad8e7375",
   "metadata": {},
   "outputs": [],
   "source": [
    "Y = df_wine[wine_target_col]\n",
    "X = df_wine.drop(wine_target_col, axis=1)\n",
    "\n",
    "# train/test\n",
    "xtrain, xtest, ytrain, ytest = model_selection.train_test_split(X, Y, test_size=0.2)\n",
    "\n",
    "cvfold = model_selection.StratifiedKFold(n_splits = 10, random_state = 0, shuffle=True)\n"
   ]
  },
  {
   "cell_type": "markdown",
   "id": "90480148-8f78-405d-9e6a-a5a913b2effe",
   "metadata": {},
   "source": [
    "### Regressão Logística "
   ]
  },
  {
   "cell_type": "markdown",
   "id": "9d88c79f-bc72-4cb2-879d-ca5c5b570326",
   "metadata": {
    "tags": []
   },
   "source": [
    "#### Curva de Validação-Cruzada "
   ]
  },
  {
   "cell_type": "code",
   "execution_count": 6,
   "id": "e5372e01-561f-4a09-a164-e95863c0a4dc",
   "metadata": {},
   "outputs": [
    {
     "data": {
      "application/vnd.jupyter.widget-view+json": {
       "model_id": "a1bd646ccb304547908e2ecc5d550cab",
       "version_major": 2,
       "version_minor": 0
      },
      "text/plain": [
       "interactive(children=(Dropdown(description='param_name', options=('C', 'kernel'), value='C'), Dropdown(descrip…"
      ]
     },
     "metadata": {},
     "output_type": "display_data"
    },
    {
     "data": {
      "text/plain": [
       "<function __main__.plot_parameter_validation_curve(param_name, grid_search, model, model_name, scoring, logx)>"
      ]
     },
     "execution_count": 6,
     "metadata": {},
     "output_type": "execute_result"
    }
   ],
   "source": [
    "\n",
    "grid_search_lr = {\n",
    "    'C': [0.01, 0.1, 1, 10, 100],\n",
    "    'kernel':['linear', 'rbf', 'poly'],\n",
    "}\n",
    "\n",
    "\n",
    "def plot_parameter_validation_curve(param_name, grid_search,\n",
    "                                    model, model_name, scoring,\n",
    "                                    logx):\n",
    "    print('Parameter:', param_name)\n",
    "    print('GridSearch:', grid_search[param_name])\n",
    "    print('Scoring:', scoring)\n",
    "    plt.figure(figsize=(6,4))\n",
    "    train_scores, test_scores = validation_curve(model,\n",
    "                                                 X = xtrain, \n",
    "                                                 y = ytrain, \n",
    "                                                 param_name=param_name, \n",
    "                                                 param_range= grid_search[param_name],\n",
    "                                                 scoring=scoring,\n",
    "                                                 cv=cvfold,\n",
    "                                                 n_jobs=-1)\n",
    "    train_scores_mean = np.mean(train_scores, axis=1)\n",
    "    train_scores_std = np.std(train_scores, axis=1)\n",
    "    test_scores_mean = np.mean(test_scores, axis=1)\n",
    "    test_scores_std = np.std(test_scores, axis=1)\n",
    "    plt.title(\"Curva Validação Modelo \" + model_name)\n",
    "    plt.xlabel(param_name)\n",
    "    plt.ylabel(\"Score (\"+scoring+\")\")\n",
    "    if logx:\n",
    "        plt.semilogx(grid_search[param_name], train_scores_mean,'-o', label=\"Treino\",\n",
    "                     color=\"darkorange\", lw=2)\n",
    "        plt.semilogx(grid_search[param_name], test_scores_mean,'-o', label=\"Validação-Cruzada\",\n",
    "                     color=\"navy\", lw=2)\n",
    "    else:\n",
    "        plt.plot(grid_search[param_name], train_scores_mean,'-o', label=\"Treino\",\n",
    "                     color=\"darkorange\", lw=2)\n",
    "        plt.plot(grid_search[param_name], test_scores_mean,'-o', label=\"Validação-Cruzada\",\n",
    "                 color=\"navy\", lw=2)\n",
    "    plt.fill_between(grid_search[param_name], train_scores_mean - train_scores_std,\n",
    "                     train_scores_mean + train_scores_std, alpha=0.2,\n",
    "                     color=\"darkorange\", lw=2)\n",
    "    plt.fill_between(grid_search[param_name], test_scores_mean - test_scores_std,\n",
    "                     test_scores_mean + test_scores_std, alpha=0.2,\n",
    "                     color=\"navy\", lw=2)\n",
    "    plt.legend(loc='best')\n",
    "    plt.grid(True)\n",
    "    plt.show()\n",
    "    \n",
    "    \n",
    "#     \n",
    "model_wine = svm.SVC(kernel='linear', C=0.1, probability=True)\n",
    "    \n",
    "    \n",
    "interact(plot_parameter_validation_curve,\n",
    "         param_name = list(grid_search_lr.keys()), \n",
    "         grid_search = fixed(grid_search_lr),\n",
    "         model = fixed(svm.SVC()),\n",
    "         model_name = fixed('SVM'),\n",
    "         scoring = classification_scores,\n",
    "         logx = True\n",
    ")\n"
   ]
  },
  {
   "cell_type": "code",
   "execution_count": 6,
   "id": "dc381c47-86ad-482f-af5b-971c7fb3e040",
   "metadata": {},
   "outputs": [
    {
     "data": {
      "application/vnd.jupyter.widget-view+json": {
       "model_id": "575e21241164457980ee5b102f9f03bb",
       "version_major": 2,
       "version_minor": 0
      },
      "text/plain": [
       "interactive(children=(Dropdown(description='param_name', options=('C', 'penalty'), value='C'), Dropdown(descri…"
      ]
     },
     "metadata": {},
     "output_type": "display_data"
    },
    {
     "data": {
      "text/plain": [
       "<function __main__.plot_parameter_validation_curve(param_name, grid_search, model, model_name, scoring, logx)>"
      ]
     },
     "execution_count": 6,
     "metadata": {},
     "output_type": "execute_result"
    }
   ],
   "source": [
    "\n",
    "grid_search_lr = {\n",
    "    'C': [0.01, 0.1, 1, 10, 100],\n",
    "    'penalty': ['l1', 'l2', 'elasticnet', 'none']\n",
    "}\n",
    "\n",
    "\n",
    "def plot_parameter_validation_curve(param_name, grid_search,\n",
    "                                    model, model_name, scoring,\n",
    "                                    logx):\n",
    "    print('Parameter:', param_name)\n",
    "    print('GridSearch:', grid_search[param_name])\n",
    "    print('Scoring:', scoring)\n",
    "    plt.figure(figsize=(6,4))\n",
    "    train_scores, test_scores = validation_curve(model,\n",
    "                                                 X = xtrain, \n",
    "                                                 y = ytrain, \n",
    "                                                 param_name=param_name, \n",
    "                                                 param_range= grid_search[param_name],\n",
    "                                                 scoring=scoring,\n",
    "                                                 cv=cvfold,\n",
    "                                                 n_jobs=-1)\n",
    "    train_scores_mean = np.mean(train_scores, axis=1)\n",
    "    train_scores_std = np.std(train_scores, axis=1)\n",
    "    test_scores_mean = np.mean(test_scores, axis=1)\n",
    "    test_scores_std = np.std(test_scores, axis=1)\n",
    "    plt.title(\"Curva Validação Modelo \" + model_name)\n",
    "    plt.xlabel(param_name)\n",
    "    plt.ylabel(\"Score (\"+scoring+\")\")\n",
    "    if logx:\n",
    "        plt.semilogx(grid_search[param_name], train_scores_mean,'-o', label=\"Treino\",\n",
    "                     color=\"darkorange\", lw=2)\n",
    "        plt.semilogx(grid_search[param_name], test_scores_mean,'-o', label=\"Validação-Cruzada\",\n",
    "                     color=\"navy\", lw=2)\n",
    "    else:\n",
    "        plt.plot(grid_search[param_name], train_scores_mean,'-o', label=\"Treino\",\n",
    "                     color=\"darkorange\", lw=2)\n",
    "        plt.plot(grid_search[param_name], test_scores_mean,'-o', label=\"Validação-Cruzada\",\n",
    "                 color=\"navy\", lw=2)\n",
    "    plt.fill_between(grid_search[param_name], train_scores_mean - train_scores_std,\n",
    "                     train_scores_mean + train_scores_std, alpha=0.2,\n",
    "                     color=\"darkorange\", lw=2)\n",
    "    plt.fill_between(grid_search[param_name], test_scores_mean - test_scores_std,\n",
    "                     test_scores_mean + test_scores_std, alpha=0.2,\n",
    "                     color=\"navy\", lw=2)\n",
    "    plt.legend(loc='best')\n",
    "    plt.grid(True)\n",
    "    plt.show()\n",
    "    \n",
    "interact(plot_parameter_validation_curve,\n",
    "         param_name = list(grid_search_lr.keys()), \n",
    "         grid_search = fixed(grid_search_lr),\n",
    "         model = fixed(lm.LogisticRegression(solver='liblinear')),\n",
    "         model_name = fixed('Regressão Logística'),\n",
    "         scoring = classification_scores,\n",
    "         logx = True\n",
    ")\n"
   ]
  },
  {
   "cell_type": "markdown",
   "id": "3eb1ce39-4c4f-451f-a6bb-5cd9b41e8b7c",
   "metadata": {},
   "source": [
    "#### Curva de Aprendizado "
   ]
  },
  {
   "cell_type": "code",
   "execution_count": 7,
   "id": "a9b84cfc-1565-4cc3-8773-eed836d6b6eb",
   "metadata": {},
   "outputs": [
    {
     "data": {
      "application/vnd.jupyter.widget-view+json": {
       "model_id": "05d301b2e8364aa4868d3656b9e10eff",
       "version_major": 2,
       "version_minor": 0
      },
      "text/plain": [
       "interactive(children=(Dropdown(description='scoring', options=('accuracy', 'precision_weighted', 'recall_weigh…"
      ]
     },
     "metadata": {},
     "output_type": "display_data"
    },
    {
     "data": {
      "text/plain": [
       "<function __main__.plot_learning_curve(model, model_name, scoring, train_sizes)>"
      ]
     },
     "execution_count": 7,
     "metadata": {},
     "output_type": "execute_result"
    }
   ],
   "source": [
    "from sklearn.model_selection import learning_curve\n",
    "from sklearn.model_selection import ShuffleSplit\n",
    "\n",
    "\n",
    "train_sizes = np.linspace(.1, 1.0, 10)\n",
    "\n",
    "\n",
    "def plot_learning_curve(model, model_name, scoring, train_sizes):\n",
    "    plt.figure(figsize=(6,4))\n",
    "    ax = plt.gca()\n",
    "        \n",
    "    ax.set_title('Curva de Aprendizado (%s)'%model_name)\n",
    "    ax.set_xlabel(\"Exemplos do Treino\")\n",
    "    ax.set_ylabel(\"Score (\" + scoring + \")\")\n",
    "\n",
    "    train_sizes, train_scores, test_scores = learning_curve(model,\n",
    "                                                            X = xtrain,\n",
    "                                                            y = ytrain,\n",
    "                                                            cv=cvfold,\n",
    "                                                            n_jobs=-1,\n",
    "                                                            train_sizes=train_sizes,\n",
    "                                                            scoring=scoring)\n",
    "    train_scores_mean = np.mean(train_scores, axis=1)\n",
    "    train_scores_std = np.std(train_scores, axis=1)\n",
    "    test_scores_mean = np.mean(test_scores, axis=1)\n",
    "    test_scores_std = np.std(test_scores, axis=1)\n",
    "    \n",
    "    # Plot learning curve\n",
    "    ax.grid()\n",
    "    ax.plot(train_sizes, train_scores_mean, 'o-', color=\"darkorange\",\n",
    "                 label=\"Treino\")\n",
    "    ax.plot(train_sizes, test_scores_mean, 'o-', color=\"navy\",\n",
    "                 label=\"Validação-cruzada\")\n",
    "    ax.fill_between(train_sizes, train_scores_mean - train_scores_std,\n",
    "                         train_scores_mean + train_scores_std, alpha=0.1,\n",
    "                         color=\"darkorange\")\n",
    "    ax.fill_between(train_sizes, test_scores_mean - test_scores_std,\n",
    "                         test_scores_mean + test_scores_std, alpha=0.1,\n",
    "                         color=\"navy\")\n",
    "    ax.legend(loc=\"best\")\n",
    "    plt.show()\n",
    "\n",
    "    \n",
    "interact(plot_learning_curve,\n",
    "         model = fixed(lm.LogisticRegression(solver='liblinear', C=1)),\n",
    "         model_name = fixed('Regressão Logística'),\n",
    "         scoring = classification_scores,\n",
    "         train_sizes=fixed(train_sizes)\n",
    ")\n"
   ]
  },
  {
   "cell_type": "markdown",
   "id": "b72b39e5-094f-4e39-a8e2-748a2c33cfb0",
   "metadata": {},
   "source": [
    "### Árvore de Decisão "
   ]
  },
  {
   "cell_type": "markdown",
   "id": "38828c96-89ab-4d4e-9d6a-b64d3fdd8405",
   "metadata": {},
   "source": [
    "#### Curva de Validação-Cruzada "
   ]
  },
  {
   "cell_type": "code",
   "execution_count": 8,
   "id": "c399e0fe-2431-4cb7-863c-13028aea1d63",
   "metadata": {},
   "outputs": [
    {
     "data": {
      "application/vnd.jupyter.widget-view+json": {
       "model_id": "4ec2415cf6cd40b8b0029c330aa2571a",
       "version_major": 2,
       "version_minor": 0
      },
      "text/plain": [
       "interactive(children=(Dropdown(description='param_name', options=('max_depth', 'criterion', 'min_samples_split…"
      ]
     },
     "metadata": {},
     "output_type": "display_data"
    },
    {
     "data": {
      "text/plain": [
       "<function __main__.plot_parameter_validation_curve(param_name, grid_search, model, model_name, scoring, logx)>"
      ]
     },
     "execution_count": 8,
     "metadata": {},
     "output_type": "execute_result"
    }
   ],
   "source": [
    "\n",
    "grid_search_dt = {\n",
    "    'max_depth': [2, 3, 4, 5, 6, 7, 8, 9, 10],\n",
    "    'criterion': ['gini', 'entropy'],\n",
    "    'min_samples_split': [2, 4, 6, 8],\n",
    "    'max_features': [\"auto\", \"sqrt\", \"log2\"],\n",
    "}\n",
    "\n",
    "\n",
    "interact(plot_parameter_validation_curve,\n",
    "         param_name = list(grid_search_dt.keys()), \n",
    "         grid_search = fixed(grid_search_dt),\n",
    "         model = fixed(tree.DecisionTreeClassifier()),\n",
    "         model_name = fixed('Árvore de Decisão'),\n",
    "         scoring = classification_scores,\n",
    "         logx = False\n",
    ")\n"
   ]
  },
  {
   "cell_type": "markdown",
   "id": "f18f2066-e8ec-4847-9ba3-d373e7a39fdc",
   "metadata": {},
   "source": [
    "#### Curva de Aprendizado "
   ]
  },
  {
   "cell_type": "code",
   "execution_count": 9,
   "id": "3f087829-37aa-488f-9525-f998dad0f658",
   "metadata": {},
   "outputs": [
    {
     "data": {
      "application/vnd.jupyter.widget-view+json": {
       "model_id": "e4fce68ee600478b9ce1ae1c392ccd85",
       "version_major": 2,
       "version_minor": 0
      },
      "text/plain": [
       "interactive(children=(Dropdown(description='scoring', options=('accuracy', 'precision_weighted', 'recall_weigh…"
      ]
     },
     "metadata": {},
     "output_type": "display_data"
    },
    {
     "data": {
      "text/plain": [
       "<function __main__.plot_learning_curve(model, model_name, scoring, train_sizes)>"
      ]
     },
     "execution_count": 9,
     "metadata": {},
     "output_type": "execute_result"
    }
   ],
   "source": [
    "train_sizes = np.linspace(.1, 1.0, 10)\n",
    "    \n",
    "\n",
    "interact(plot_learning_curve,\n",
    "         model = fixed(tree.DecisionTreeClassifier(max_depth=5,\n",
    "                                                   )),\n",
    "         model_name = fixed('Árvore de Decisão'),\n",
    "         scoring = classification_scores,\n",
    "         train_sizes=fixed(train_sizes)\n",
    ")\n"
   ]
  },
  {
   "cell_type": "markdown",
   "id": "ad7f0faa-3458-4ac9-ba96-4f858ac085f5",
   "metadata": {
    "tags": []
   },
   "source": [
    "## Íris "
   ]
  },
  {
   "cell_type": "markdown",
   "id": "5bfc18de-92b5-4dba-8a71-08f1472bd841",
   "metadata": {},
   "source": [
    "## Leitura da Base "
   ]
  },
  {
   "cell_type": "code",
   "execution_count": 10,
   "id": "61cde7e9-8d31-4aff-94ea-7e705a09ba9f",
   "metadata": {},
   "outputs": [
    {
     "name": "stdout",
     "output_type": "stream",
     "text": [
      "(150, 5)\n"
     ]
    },
    {
     "data": {
      "text/html": [
       "<div>\n",
       "<style scoped>\n",
       "    .dataframe tbody tr th:only-of-type {\n",
       "        vertical-align: middle;\n",
       "    }\n",
       "\n",
       "    .dataframe tbody tr th {\n",
       "        vertical-align: top;\n",
       "    }\n",
       "\n",
       "    .dataframe thead th {\n",
       "        text-align: right;\n",
       "    }\n",
       "</style>\n",
       "<table border=\"1\" class=\"dataframe\">\n",
       "  <thead>\n",
       "    <tr style=\"text-align: right;\">\n",
       "      <th></th>\n",
       "      <th>sepal length (cm)</th>\n",
       "      <th>sepal width (cm)</th>\n",
       "      <th>petal length (cm)</th>\n",
       "      <th>petal width (cm)</th>\n",
       "      <th>target</th>\n",
       "    </tr>\n",
       "  </thead>\n",
       "  <tbody>\n",
       "    <tr>\n",
       "      <th>0</th>\n",
       "      <td>5.1</td>\n",
       "      <td>3.5</td>\n",
       "      <td>1.4</td>\n",
       "      <td>0.2</td>\n",
       "      <td>0</td>\n",
       "    </tr>\n",
       "    <tr>\n",
       "      <th>1</th>\n",
       "      <td>4.9</td>\n",
       "      <td>3.0</td>\n",
       "      <td>1.4</td>\n",
       "      <td>0.2</td>\n",
       "      <td>0</td>\n",
       "    </tr>\n",
       "    <tr>\n",
       "      <th>2</th>\n",
       "      <td>4.7</td>\n",
       "      <td>3.2</td>\n",
       "      <td>1.3</td>\n",
       "      <td>0.2</td>\n",
       "      <td>0</td>\n",
       "    </tr>\n",
       "    <tr>\n",
       "      <th>3</th>\n",
       "      <td>4.6</td>\n",
       "      <td>3.1</td>\n",
       "      <td>1.5</td>\n",
       "      <td>0.2</td>\n",
       "      <td>0</td>\n",
       "    </tr>\n",
       "    <tr>\n",
       "      <th>4</th>\n",
       "      <td>5.0</td>\n",
       "      <td>3.6</td>\n",
       "      <td>1.4</td>\n",
       "      <td>0.2</td>\n",
       "      <td>0</td>\n",
       "    </tr>\n",
       "  </tbody>\n",
       "</table>\n",
       "</div>"
      ],
      "text/plain": [
       "   sepal length (cm)  sepal width (cm)  petal length (cm)  petal width (cm)  \\\n",
       "0                5.1               3.5                1.4               0.2   \n",
       "1                4.9               3.0                1.4               0.2   \n",
       "2                4.7               3.2                1.3               0.2   \n",
       "3                4.6               3.1                1.5               0.2   \n",
       "4                5.0               3.6                1.4               0.2   \n",
       "\n",
       "   target  \n",
       "0       0  \n",
       "1       0  \n",
       "2       0  \n",
       "3       0  \n",
       "4       0  "
      ]
     },
     "execution_count": 10,
     "metadata": {},
     "output_type": "execute_result"
    }
   ],
   "source": [
    "df_iris = pandas.read_csv('../Data/dataset_iris.csv',sep=';')\n",
    "\n",
    "iris_label_map = df_iris[['target', 'target_label']].drop_duplicates()\n",
    "\n",
    "drop_cols = ['target_label']\n",
    "df_iris.drop(drop_cols, axis=1, inplace=True)\n",
    "\n",
    "print(df_iris.shape)\n",
    "\n",
    "iris_target_col = 'target'\n",
    "\n",
    "\n",
    "df_iris.head()"
   ]
  },
  {
   "cell_type": "markdown",
   "id": "80bb174d-8b39-4b81-84c7-118b5127ad3b",
   "metadata": {},
   "source": [
    "## Treinamento dos Modelos "
   ]
  },
  {
   "cell_type": "code",
   "execution_count": 11,
   "id": "6a8fdfb4-3f2d-4532-8868-3a9e02467f29",
   "metadata": {},
   "outputs": [],
   "source": [
    "\n",
    "Y = df_iris[iris_target_col]\n",
    "X = df_iris.drop(iris_target_col, axis=1)\n",
    "iris_feature_names = list(X.columns)\n",
    "\n",
    "# train/test\n",
    "xtrain, xtest, ytrain, ytest = model_selection.train_test_split(X, Y, test_size=0.2)\n",
    "\n",
    "cvfold = model_selection.StratifiedKFold(n_splits = 10, random_state = 0, shuffle=True)"
   ]
  },
  {
   "cell_type": "markdown",
   "id": "b5ab45ac-c414-43e8-a865-a03d941bb088",
   "metadata": {},
   "source": [
    "### Regressão Logística "
   ]
  },
  {
   "cell_type": "markdown",
   "id": "8fc8a823-a97e-4dfa-b3cb-62fa2385701a",
   "metadata": {},
   "source": [
    "#### Curva de Validação-Cruzada "
   ]
  },
  {
   "cell_type": "code",
   "execution_count": 12,
   "id": "51725c62-8fc7-4b99-bb11-753ef5e41671",
   "metadata": {},
   "outputs": [
    {
     "data": {
      "application/vnd.jupyter.widget-view+json": {
       "model_id": "4a1281ec58f64bfa9a3da2934339f388",
       "version_major": 2,
       "version_minor": 0
      },
      "text/plain": [
       "interactive(children=(Dropdown(description='param_name', options=('C', 'penalty'), value='C'), Dropdown(descri…"
      ]
     },
     "metadata": {},
     "output_type": "display_data"
    },
    {
     "data": {
      "text/plain": [
       "<function __main__.plot_parameter_validation_curve(param_name, grid_search, model, model_name, scoring, logx)>"
      ]
     },
     "execution_count": 12,
     "metadata": {},
     "output_type": "execute_result"
    }
   ],
   "source": [
    "\n",
    "grid_search_lr = {\n",
    "    'C': [0.01, 0.1, 1, 10, 100],\n",
    "    'penalty': ['l1', 'l2', 'elasticnet', 'none']\n",
    "}\n",
    "\n",
    "interact(plot_parameter_validation_curve,\n",
    "         param_name = list(grid_search_lr.keys()), \n",
    "         grid_search = fixed(grid_search_lr),\n",
    "         model = fixed(lm.LogisticRegression(solver='liblinear')),\n",
    "         model_name = fixed('Regressão Logística'),\n",
    "         scoring = classification_scores,\n",
    "         logx = True\n",
    ")\n"
   ]
  },
  {
   "cell_type": "markdown",
   "id": "7bfee856-4c5d-4533-a62e-18453c300542",
   "metadata": {},
   "source": [
    "#### Curva de Aprendizado "
   ]
  },
  {
   "cell_type": "code",
   "execution_count": 13,
   "id": "81ac2f7e-696c-4ae4-b4bc-dc47961acb3b",
   "metadata": {},
   "outputs": [
    {
     "data": {
      "application/vnd.jupyter.widget-view+json": {
       "model_id": "ce3487aed82747b5a3cf81f452589ad7",
       "version_major": 2,
       "version_minor": 0
      },
      "text/plain": [
       "interactive(children=(Dropdown(description='scoring', options=('accuracy', 'precision_weighted', 'recall_weigh…"
      ]
     },
     "metadata": {},
     "output_type": "display_data"
    },
    {
     "data": {
      "text/plain": [
       "<function __main__.plot_learning_curve(model, model_name, scoring, train_sizes)>"
      ]
     },
     "execution_count": 13,
     "metadata": {},
     "output_type": "execute_result"
    }
   ],
   "source": [
    "train_sizes = np.linspace(.1, 1.0, 10)\n",
    "    \n",
    "interact(plot_learning_curve,\n",
    "         model = fixed(lm.LogisticRegression(solver='liblinear', C=1)),\n",
    "         model_name = fixed('Regressão Logística'),\n",
    "         scoring = classification_scores,\n",
    "         train_sizes=fixed(train_sizes)\n",
    ")\n"
   ]
  },
  {
   "cell_type": "markdown",
   "id": "76c14977-be70-45f3-ab8d-3b1e9319a38f",
   "metadata": {},
   "source": [
    "### Árvore de Decisão "
   ]
  },
  {
   "cell_type": "markdown",
   "id": "00ad970a-029d-4cdb-b2c3-6ec1d4c6abca",
   "metadata": {},
   "source": [
    "#### Curva de Validação-Cruzada "
   ]
  },
  {
   "cell_type": "code",
   "execution_count": 14,
   "id": "ec49ef85-6830-4793-b675-7792973d1fba",
   "metadata": {},
   "outputs": [
    {
     "data": {
      "application/vnd.jupyter.widget-view+json": {
       "model_id": "4fa3b704bf0e40ad859476d25bf83814",
       "version_major": 2,
       "version_minor": 0
      },
      "text/plain": [
       "interactive(children=(Dropdown(description='param_name', options=('max_depth', 'criterion', 'min_samples_split…"
      ]
     },
     "metadata": {},
     "output_type": "display_data"
    },
    {
     "data": {
      "text/plain": [
       "<function __main__.plot_parameter_validation_curve(param_name, grid_search, model, model_name, scoring, logx)>"
      ]
     },
     "execution_count": 14,
     "metadata": {},
     "output_type": "execute_result"
    }
   ],
   "source": [
    "grid_search_dt = {\n",
    "    'max_depth': [2, 3, 4, 5, 6, 7, 8, 9, 10],\n",
    "    'criterion': ['gini', 'entropy'],\n",
    "    'min_samples_split': [2, 4, 6, 8],\n",
    "    'max_features': [\"auto\", \"sqrt\", \"log2\"],\n",
    "}\n",
    "\n",
    "interact(plot_parameter_validation_curve,\n",
    "         param_name = list(grid_search_dt.keys()), \n",
    "         grid_search = fixed(grid_search_dt),\n",
    "         model = fixed(tree.DecisionTreeClassifier()),\n",
    "         model_name = fixed('Árvore de Decisão'),\n",
    "         scoring = classification_scores,\n",
    "         logx = False\n",
    ")"
   ]
  },
  {
   "cell_type": "markdown",
   "id": "d8e54d59-6287-4e55-a728-736f2e927313",
   "metadata": {},
   "source": [
    "#### Curva de Aprendizado "
   ]
  },
  {
   "cell_type": "code",
   "execution_count": 15,
   "id": "7a8a79a3-d2bd-4c9b-bb00-1486c54725f0",
   "metadata": {},
   "outputs": [
    {
     "data": {
      "application/vnd.jupyter.widget-view+json": {
       "model_id": "615ae7efccbf41c9b37a10f2be838ac1",
       "version_major": 2,
       "version_minor": 0
      },
      "text/plain": [
       "interactive(children=(Dropdown(description='scoring', options=('accuracy', 'precision_weighted', 'recall_weigh…"
      ]
     },
     "metadata": {},
     "output_type": "display_data"
    },
    {
     "data": {
      "text/plain": [
       "<function __main__.plot_learning_curve(model, model_name, scoring, train_sizes)>"
      ]
     },
     "execution_count": 15,
     "metadata": {},
     "output_type": "execute_result"
    }
   ],
   "source": [
    "train_sizes = np.linspace(.1, 1.0, 10)\n",
    "    \n",
    "\n",
    "interact(plot_learning_curve,\n",
    "         model = fixed(tree.DecisionTreeClassifier(max_depth=2,\n",
    "                                                   )),\n",
    "         model_name = fixed('Árvore de Decisão'),\n",
    "         scoring = classification_scores,\n",
    "         train_sizes=fixed(train_sizes)\n",
    ")\n"
   ]
  },
  {
   "cell_type": "markdown",
   "id": "5348aaec-a1d1-4d0d-aa28-0f79d4fb567d",
   "metadata": {},
   "source": [
    "### Distribuições "
   ]
  },
  {
   "cell_type": "code",
   "execution_count": 16,
   "id": "26afa40c-fcfc-4320-892f-228d41a5e954",
   "metadata": {},
   "outputs": [
    {
     "ename": "NameError",
     "evalue": "name 'df_wine_tr' is not defined",
     "output_type": "error",
     "traceback": [
      "\u001b[1;31m---------------------------------------------------------------------------\u001b[0m",
      "\u001b[1;31mNameError\u001b[0m                                 Traceback (most recent call last)",
      "\u001b[1;32m<ipython-input-16-0b499a65c2cd>\u001b[0m in \u001b[0;36m<module>\u001b[1;34m\u001b[0m\n\u001b[1;32m----> 1\u001b[1;33m \u001b[0mdf\u001b[0m \u001b[1;33m=\u001b[0m \u001b[0mdf_wine_tr\u001b[0m\u001b[1;33m.\u001b[0m\u001b[0mmerge\u001b[0m\u001b[1;33m(\u001b[0m\u001b[0mwine_label_map\u001b[0m\u001b[1;33m,\u001b[0m \u001b[0mon\u001b[0m\u001b[1;33m=\u001b[0m\u001b[1;34m'target'\u001b[0m\u001b[1;33m)\u001b[0m\u001b[1;33m\u001b[0m\u001b[1;33m\u001b[0m\u001b[0m\n\u001b[0m\u001b[0;32m      2\u001b[0m ax = sns.jointplot(data=df, x='alcohol',y='volatile acidity',\n\u001b[0;32m      3\u001b[0m               hue='target_label', kind='kde')\n\u001b[0;32m      4\u001b[0m \u001b[1;33m\u001b[0m\u001b[0m\n\u001b[0;32m      5\u001b[0m \u001b[0max\u001b[0m\u001b[1;33m.\u001b[0m\u001b[0max_joint\u001b[0m\u001b[1;33m.\u001b[0m\u001b[0maxvline\u001b[0m\u001b[1;33m(\u001b[0m\u001b[0mx\u001b[0m\u001b[1;33m=\u001b[0m\u001b[1;36m10.725\u001b[0m\u001b[1;33m,\u001b[0m \u001b[0mlinestyle\u001b[0m\u001b[1;33m=\u001b[0m\u001b[1;34m'--'\u001b[0m\u001b[1;33m,\u001b[0m \u001b[0mcolor\u001b[0m\u001b[1;33m=\u001b[0m\u001b[1;34m'k'\u001b[0m\u001b[1;33m)\u001b[0m\u001b[1;33m\u001b[0m\u001b[1;33m\u001b[0m\u001b[0m\n",
      "\u001b[1;31mNameError\u001b[0m: name 'df_wine_tr' is not defined"
     ]
    }
   ],
   "source": [
    "df = df_wine_tr.merge(wine_label_map, on='target')\n",
    "ax = sns.jointplot(data=df, x='alcohol',y='volatile acidity',\n",
    "              hue='target_label', kind='kde')\n",
    "\n",
    "ax.ax_joint.axvline(x=10.725, linestyle='--', color='k')\n",
    "ax.ax_joint.axhline(y=0.287, linestyle='--', color='k')\n"
   ]
  },
  {
   "cell_type": "markdown",
   "id": "72d4f664-a959-4c2a-a735-49a901378a6a",
   "metadata": {},
   "source": [
    "### Caminho da Árvore "
   ]
  },
  {
   "cell_type": "code",
   "execution_count": null,
   "id": "2377c7e6-9329-4c5b-9f16-6b8790370626",
   "metadata": {},
   "outputs": [],
   "source": [
    "from dtreeviz.trees import dtreeviz # remember to load the package\n",
    "\n",
    "viz = dtreeviz(model_wine, df_wine_tr[wine_feature_names],\n",
    "               df_wine_tr[wine_target_col],\n",
    "                target_name=\"Qualidade Vinho\",\n",
    "                feature_names=wine_feature_names,\n",
    "                class_names=list(wine_label_map.target_label.values))\n",
    "\n",
    "viz.save(\"./teste.svg\")\n",
    "viz"
   ]
  },
  {
   "cell_type": "markdown",
   "id": "9e0b3bfe-3abd-4a42-97de-23dc01be9f97",
   "metadata": {},
   "source": [
    "### Importância das Variáveis - Entropia"
   ]
  },
  {
   "cell_type": "code",
   "execution_count": null,
   "id": "ce70ef79-18bd-44d6-8a23-86878e3d6f7b",
   "metadata": {},
   "outputs": [],
   "source": [
    "plt.figure(figsize=(15,6))\n",
    "\n",
    "\n",
    "plt.subplot(1,2,1)\n",
    "idx = np.argsort(model_wine.feature_importances_)\n",
    "\n",
    "plt.barh(np.arange(idx.shape[0]), model_wine.feature_importances_[idx]*100)\n",
    "\n",
    "plt.yticks(np.arange(idx.shape[0]), np.array(wine_feature_names)[idx])\n",
    "plt.title('Importância das Variáveis por Entropia')\n",
    "plt.grid()\n",
    "plt.xlabel('Importância Relativa [%]')\n",
    "plt.tight_layout()\n",
    "\n",
    "plt.subplot(1,2,2)\n",
    "r = permutation_importance(model_wine, xtest, ytest,\n",
    "                           n_repeats=30,\n",
    "                        random_state=0)\n",
    "importance =  r.importances_mean\n",
    "idx = np.argsort(importance)\n",
    "plt.barh(np.arange(idx.shape[0]), importance[idx]*100)\n",
    "plt.yticks(np.arange(idx.shape[0]), np.array(wine_feature_names)[idx])\n",
    "plt.title('Importância das Variáveis por Permutação')\n",
    "plt.grid()\n",
    "plt.xlabel('Importância Relativa [%]')\n",
    "plt.tight_layout()"
   ]
  },
  {
   "cell_type": "markdown",
   "id": "66e1ae1c-0399-4a46-abb7-8b74b97712b4",
   "metadata": {},
   "source": [
    "# Regressao "
   ]
  },
  {
   "cell_type": "markdown",
   "id": "df0b810a-d9f8-47db-84c9-87a7079f6a13",
   "metadata": {
    "tags": []
   },
   "source": [
    "## Clima "
   ]
  },
  {
   "cell_type": "markdown",
   "id": "e821db74-c934-417d-95ae-b531c0bb385e",
   "metadata": {},
   "source": [
    "### Leitura dos dados "
   ]
  },
  {
   "cell_type": "code",
   "execution_count": null,
   "id": "165ef93f-332b-4349-82ca-b974951d650e",
   "metadata": {},
   "outputs": [],
   "source": [
    "df_weather = pandas.read_csv('../Data/dataset_clima.csv',sep=';')\n",
    "\n",
    "drop_cols = ['Temperature (C)']\n",
    "df_weather.drop(drop_cols, axis=1, inplace=True)\n",
    "\n",
    "print(df_weather.shape)\n",
    "\n",
    "weather_target_col = 'Apparent Temperature (C)'\n",
    "\n",
    "df_weather.head()"
   ]
  },
  {
   "cell_type": "markdown",
   "id": "7843a5d8-0579-4bfd-a74d-6f5e0f8e647d",
   "metadata": {},
   "source": [
    "### Treinamento dos Modelos "
   ]
  },
  {
   "cell_type": "code",
   "execution_count": null,
   "id": "1fbe0047-e48a-4d68-adb5-3b26af934417",
   "metadata": {},
   "outputs": [],
   "source": [
    "\n",
    "Y = df_weather[weather_target_col]\n",
    "X = df_weather.drop(weather_target_col, axis=1)\n",
    "weather_feature_names = list(X.columns)\n",
    "\n",
    "# train/test\n",
    "xtrain, xtest, ytrain, ytest = model_selection.train_test_split(X, Y, test_size=0.2)\n",
    "\n",
    "\n",
    "cvfold = model_selection.KFold(n_splits = 10, random_state = 0, shuffle=True)"
   ]
  },
  {
   "cell_type": "markdown",
   "id": "ef88f3f1-28a5-4dab-b34e-4334e41ffd53",
   "metadata": {},
   "source": [
    "### Regressão Linear "
   ]
  },
  {
   "cell_type": "markdown",
   "id": "d234c672-aff1-4d04-863b-1813420e6ee5",
   "metadata": {},
   "source": [
    "#### Curva de Validação-Cruzada "
   ]
  },
  {
   "cell_type": "code",
   "execution_count": null,
   "id": "f3d6e7fa-4e22-4723-9bb8-f9867b42c9a6",
   "metadata": {},
   "outputs": [],
   "source": [
    "grid_search_el = {\n",
    "    'alpha': [0.001, 0.01, 0.1, 1],\n",
    "    'l1_ratio': np.linspace(0, 1, 5),\n",
    "    'selection': ['cyclic', 'random'],\n",
    "}\n",
    "\n",
    "interact(plot_parameter_validation_curve,\n",
    "         param_name = list(grid_search_el.keys()), \n",
    "         grid_search = fixed(grid_search_el),\n",
    "         model = fixed(lm.ElasticNet()),\n",
    "         model_name = fixed('ElasticNet'),\n",
    "         scoring = regression_scores,\n",
    "         logx = True\n",
    ")"
   ]
  },
  {
   "cell_type": "markdown",
   "id": "ec5131bb-21ff-4347-9b0a-0d408b7620fb",
   "metadata": {},
   "source": [
    "#### Curva de Aprendizado "
   ]
  },
  {
   "cell_type": "code",
   "execution_count": null,
   "id": "065724e8-a115-4fea-8a58-0af6d4afd915",
   "metadata": {},
   "outputs": [],
   "source": [
    "train_sizes = np.linspace(.1, 1.0, 10)\n",
    "    \n",
    "\n",
    "interact(plot_learning_curve,\n",
    "         model = fixed(lm.ElasticNet(alpha=1e-3)),\n",
    "         model_name = fixed('ElasticNet'),\n",
    "         scoring = regression_scores,\n",
    "         train_sizes=fixed(train_sizes)\n",
    ")\n"
   ]
  },
  {
   "cell_type": "markdown",
   "id": "58d2c67f-5e6f-4035-a638-879c926ec812",
   "metadata": {},
   "source": [
    "### Árvore de Regressão "
   ]
  },
  {
   "cell_type": "markdown",
   "id": "78577345-1656-4e1d-9fdd-677435a64c1a",
   "metadata": {},
   "source": [
    "#### Curva de Validação-Cruzada "
   ]
  },
  {
   "cell_type": "code",
   "execution_count": null,
   "id": "c9b9adce-2701-4af9-aaf1-38dda4c89e7d",
   "metadata": {},
   "outputs": [],
   "source": [
    "grid_search_dt = {\n",
    "    'max_depth': [2, 3, 4, 5, 6, 7, 8, 9, 10],\n",
    "    'criterion': ['gini', 'entropy'],\n",
    "    'min_samples_split': [2, 4, 6, 8],\n",
    "    'max_features': [\"auto\", \"sqrt\", \"log2\"],\n",
    "}\n",
    "\n",
    "interact(plot_parameter_validation_curve,\n",
    "         param_name = list(grid_search_dt.keys()), \n",
    "         grid_search = fixed(grid_search_dt),\n",
    "         model = fixed(tree.DecisionTreeRegressor()),\n",
    "         model_name = fixed('Árvore de Decisão'),\n",
    "         scoring = regression_scores,\n",
    "         logx = False\n",
    ")"
   ]
  },
  {
   "cell_type": "markdown",
   "id": "85901e0e-f9a2-4a61-91cf-70dd2e6bcf3b",
   "metadata": {},
   "source": [
    "#### Curva de Aprendizado "
   ]
  },
  {
   "cell_type": "code",
   "execution_count": null,
   "id": "acfcbc03-76c0-4217-b3ab-dad1275cade0",
   "metadata": {},
   "outputs": [],
   "source": [
    "train_sizes = np.linspace(.1, 1.0, 10)\n",
    "    \n",
    "\n",
    "interact(plot_learning_curve,\n",
    "         model = fixed(tree.DecisionTreeRegressor(max_depth=7)),\n",
    "         model_name = fixed('Árvore de Decisão'),\n",
    "         scoring = regression_scores,\n",
    "         train_sizes=fixed(train_sizes)\n",
    ")\n"
   ]
  },
  {
   "cell_type": "markdown",
   "id": "7002384b-b5b2-4e16-9da4-aba3f3358980",
   "metadata": {},
   "source": [
    "## Automóveis "
   ]
  },
  {
   "cell_type": "markdown",
   "id": "df011576-8839-4fbf-bd7b-17b955b3af35",
   "metadata": {},
   "source": [
    "### Leitura dos Dados "
   ]
  },
  {
   "cell_type": "code",
   "execution_count": null,
   "id": "7e000962-5dc3-4a7e-a09c-d56def235b89",
   "metadata": {},
   "outputs": [],
   "source": [
    "df_auto = pandas.read_csv('../Data/dataset_auto.csv',sep=';')\n",
    "df_auto['model'] = df_auto['brand'].astype(str) + df_auto['model'].astype(str)\n",
    "\n",
    "auto_target_col = 'price'\n",
    "\n",
    "drop_cols = ['brand','tax']\n",
    "df_auto.drop(drop_cols, axis=1, inplace=True)\n",
    "print(df_auto.shape)\n",
    "df_auto.head()"
   ]
  },
  {
   "cell_type": "markdown",
   "id": "2599752f-ca19-43c5-bf2c-a252614836e1",
   "metadata": {},
   "source": [
    "### Variáveis Categóricas "
   ]
  },
  {
   "cell_type": "code",
   "execution_count": null,
   "id": "8b8e7348-a1ad-4abc-8ffa-05f13a4bc4c7",
   "metadata": {},
   "outputs": [],
   "source": [
    "categorical_cols = ['transmission', 'fuelType', 'model']\n",
    "encoder_map = {}\n",
    "\n",
    "for cname in categorical_cols:\n",
    "    encoder = preprocessing.OneHotEncoder(sparse=False)\n",
    "    transformed = encoder.fit_transform(df_auto[[cname]])\n",
    "    ohe_df = pandas.DataFrame(transformed, columns=[cname+'_'+cat for cat in encoder.categories_[0]])\n",
    "    encoder_map[cname] = encoder\n",
    "    \n",
    "    df_auto = pandas.concat([df_auto, ohe_df], axis=1).drop(cname, axis=1)\n",
    "df_auto.head()"
   ]
  },
  {
   "cell_type": "markdown",
   "id": "70fd43a9-e10d-46cc-8b6e-1243a4536f7f",
   "metadata": {},
   "source": [
    "### Treinamento dos Modelos "
   ]
  },
  {
   "cell_type": "code",
   "execution_count": null,
   "id": "49153f6e-70c2-40d9-8c7f-8e8689984b5c",
   "metadata": {
    "tags": []
   },
   "outputs": [],
   "source": [
    "\n",
    "Y = df_auto[auto_target_col]\n",
    "X = df_auto.drop(auto_target_col, axis=1)\n",
    "auto_feature_names = list(X.columns)\n",
    "\n",
    "# train/test\n",
    "xtrain, xtest, ytrain, ytest = model_selection.train_test_split(X, Y, test_size=0.2)\n",
    "\n",
    "cvfold = model_selection.KFold(n_splits = 10, random_state = 0, shuffle=True)\n"
   ]
  },
  {
   "cell_type": "markdown",
   "id": "4fffcd0b-ac86-4383-a8e4-b0b2fdf8b82b",
   "metadata": {},
   "source": [
    "### Regressão Linear "
   ]
  },
  {
   "cell_type": "markdown",
   "id": "9be0fb39-13c9-43d3-a3b4-40af19704f95",
   "metadata": {},
   "source": [
    "#### Curva de Validação "
   ]
  },
  {
   "cell_type": "code",
   "execution_count": null,
   "id": "117b41a4-b470-4f0c-97f7-aad1f41ec70a",
   "metadata": {},
   "outputs": [],
   "source": [
    "grid_search_el = {\n",
    "    'alpha': [0.001, 0.01, 0.1, 1],\n",
    "    'l1_ratio': np.linspace(0, 1, 5),\n",
    "    'selection': ['cyclic', 'random'],\n",
    "}\n",
    "\n",
    "interact(plot_parameter_validation_curve,\n",
    "         param_name = list(grid_search_el.keys()), \n",
    "         grid_search = fixed(grid_search_el),\n",
    "         model = fixed(lm.ElasticNet()),\n",
    "         model_name = fixed('ElasticNet'),\n",
    "         scoring = regression_scores,\n",
    "         logx = True\n",
    ")"
   ]
  },
  {
   "cell_type": "markdown",
   "id": "4e70fc76-9a11-4011-8d10-424a1c0e4577",
   "metadata": {},
   "source": [
    "#### Curva de Aprendizado "
   ]
  },
  {
   "cell_type": "code",
   "execution_count": null,
   "id": "84bf37df-aa5a-4d03-ab88-83722c8b6ec1",
   "metadata": {},
   "outputs": [],
   "source": [
    "train_sizes = np.linspace(.1, 1.0, 10)\n",
    "    \n",
    "\n",
    "interact(plot_learning_curve,\n",
    "         model = fixed(lm.ElasticNet(alpha=1e-3)),\n",
    "         model_name = fixed('ElasticNet'),\n",
    "         scoring = regression_scores,\n",
    "         train_sizes=fixed(train_sizes)\n",
    ")\n"
   ]
  },
  {
   "cell_type": "markdown",
   "id": "5502e26a-e681-419c-9a91-6e8926163aec",
   "metadata": {},
   "source": [
    "### Árvore de Regressão "
   ]
  },
  {
   "cell_type": "markdown",
   "id": "945890da-a1cd-4061-9f1c-afb7f1af60f2",
   "metadata": {},
   "source": [
    "#### Curva de Validação-Cruzada "
   ]
  },
  {
   "cell_type": "code",
   "execution_count": null,
   "id": "9f8bb8ce-ab2a-4e00-b9ad-379cd55918fd",
   "metadata": {},
   "outputs": [],
   "source": [
    "grid_search_dt = {\n",
    "    'max_depth': [2, 3, 4, 5, 6, 7, 8, 9, 10],\n",
    "    'criterion': ['gini', 'entropy'],\n",
    "    'min_samples_split': [2, 4, 6, 8],\n",
    "    'max_features': [\"auto\", \"sqrt\", \"log2\"],\n",
    "}\n",
    "\n",
    "interact(plot_parameter_validation_curve,\n",
    "         param_name = list(grid_search_dt.keys()), \n",
    "         grid_search = fixed(grid_search_dt),\n",
    "         model = fixed(tree.DecisionTreeRegressor()),\n",
    "         model_name = fixed('Árvore de Decisão'),\n",
    "         scoring = regression_scores,\n",
    "         logx = False\n",
    ")"
   ]
  },
  {
   "cell_type": "markdown",
   "id": "128a0aba-ef30-4880-be81-8433e0d60381",
   "metadata": {},
   "source": [
    "#### Curva de Aprendizado "
   ]
  },
  {
   "cell_type": "code",
   "execution_count": null,
   "id": "f4afb4b6-845b-4aed-a459-0325e8eddb1d",
   "metadata": {},
   "outputs": [],
   "source": [
    "train_sizes = np.linspace(.1, 1.0, 10)\n",
    "    \n",
    "\n",
    "interact(plot_learning_curve,\n",
    "         model = fixed(tree.DecisionTreeRegressor(max_depth=9)),\n",
    "         model_name = fixed('Árvore de Decisão'),\n",
    "         scoring = regression_scores,\n",
    "         train_sizes=fixed(train_sizes)\n",
    ")\n"
   ]
  }
 ],
 "metadata": {
  "kernelspec": {
   "display_name": "Python 3",
   "language": "python",
   "name": "python3"
  },
  "language_info": {
   "codemirror_mode": {
    "name": "ipython",
    "version": 3
   },
   "file_extension": ".py",
   "mimetype": "text/x-python",
   "name": "python",
   "nbconvert_exporter": "python",
   "pygments_lexer": "ipython3",
   "version": "3.7.10"
  }
 },
 "nbformat": 4,
 "nbformat_minor": 5
}
