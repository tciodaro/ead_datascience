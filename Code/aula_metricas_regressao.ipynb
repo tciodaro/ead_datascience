{
 "cells": [
  {
   "cell_type": "code",
   "execution_count": 1,
   "id": "488807a8-fc82-4c09-8576-40716e13392e",
   "metadata": {},
   "outputs": [],
   "source": [
    "import matplotlib.pyplot as plt\n",
    "import seaborn as sns\n",
    "import pandas\n",
    "import numpy as np\n",
    "from sklearn import linear_model as lm\n",
    "from sklearn import preprocessing, model_selection\n",
    "from sklearn import metrics\n",
    "from scipy import stats\n",
    "from scipy.stats import norm\n",
    "\n",
    "\n",
    "from ipywidgets import interact, interactive, fixed\n",
    "import ipywidgets as widgets\n",
    "\n",
    "\n",
    "%matplotlib inline"
   ]
  },
  {
   "cell_type": "markdown",
   "id": "8faf27f9-6e0b-40a3-a1ac-ef386bb0a049",
   "metadata": {
    "tags": []
   },
   "source": [
    "# Automóveis\n"
   ]
  },
  {
   "cell_type": "markdown",
   "id": "01cb7b41-d918-491c-9a31-595a011900d3",
   "metadata": {},
   "source": [
    "## Leitura da Base "
   ]
  },
  {
   "cell_type": "code",
   "execution_count": 2,
   "id": "cfdff72a-267c-41a0-a3b1-59dbd5f632fc",
   "metadata": {},
   "outputs": [
    {
     "name": "stdout",
     "output_type": "stream",
     "text": [
      "(15000, 8)\n"
     ]
    },
    {
     "data": {
      "text/html": [
       "<div>\n",
       "<style scoped>\n",
       "    .dataframe tbody tr th:only-of-type {\n",
       "        vertical-align: middle;\n",
       "    }\n",
       "\n",
       "    .dataframe tbody tr th {\n",
       "        vertical-align: top;\n",
       "    }\n",
       "\n",
       "    .dataframe thead th {\n",
       "        text-align: right;\n",
       "    }\n",
       "</style>\n",
       "<table border=\"1\" class=\"dataframe\">\n",
       "  <thead>\n",
       "    <tr style=\"text-align: right;\">\n",
       "      <th></th>\n",
       "      <th>model</th>\n",
       "      <th>year</th>\n",
       "      <th>price</th>\n",
       "      <th>transmission</th>\n",
       "      <th>mileage</th>\n",
       "      <th>fuelType</th>\n",
       "      <th>mpg</th>\n",
       "      <th>engineSize</th>\n",
       "    </tr>\n",
       "  </thead>\n",
       "  <tbody>\n",
       "    <tr>\n",
       "      <th>0</th>\n",
       "      <td>audi A1</td>\n",
       "      <td>2020</td>\n",
       "      <td>20000</td>\n",
       "      <td>Manual</td>\n",
       "      <td>5000</td>\n",
       "      <td>Petrol</td>\n",
       "      <td>49.6</td>\n",
       "      <td>1.0</td>\n",
       "    </tr>\n",
       "    <tr>\n",
       "      <th>1</th>\n",
       "      <td>audi A5</td>\n",
       "      <td>2017</td>\n",
       "      <td>19995</td>\n",
       "      <td>Semi-Auto</td>\n",
       "      <td>54000</td>\n",
       "      <td>Diesel</td>\n",
       "      <td>67.3</td>\n",
       "      <td>2.0</td>\n",
       "    </tr>\n",
       "    <tr>\n",
       "      <th>2</th>\n",
       "      <td>audi A3</td>\n",
       "      <td>2017</td>\n",
       "      <td>11895</td>\n",
       "      <td>Manual</td>\n",
       "      <td>28334</td>\n",
       "      <td>Petrol</td>\n",
       "      <td>62.8</td>\n",
       "      <td>1.0</td>\n",
       "    </tr>\n",
       "    <tr>\n",
       "      <th>3</th>\n",
       "      <td>audi Q7</td>\n",
       "      <td>2018</td>\n",
       "      <td>56900</td>\n",
       "      <td>Semi-Auto</td>\n",
       "      <td>5330</td>\n",
       "      <td>Diesel</td>\n",
       "      <td>39.2</td>\n",
       "      <td>4.0</td>\n",
       "    </tr>\n",
       "    <tr>\n",
       "      <th>4</th>\n",
       "      <td>audi A4</td>\n",
       "      <td>2019</td>\n",
       "      <td>27160</td>\n",
       "      <td>Semi-Auto</td>\n",
       "      <td>17790</td>\n",
       "      <td>Diesel</td>\n",
       "      <td>47.9</td>\n",
       "      <td>2.0</td>\n",
       "    </tr>\n",
       "  </tbody>\n",
       "</table>\n",
       "</div>"
      ],
      "text/plain": [
       "     model  year  price transmission  mileage fuelType   mpg  engineSize\n",
       "0  audi A1  2020  20000       Manual     5000   Petrol  49.6         1.0\n",
       "1  audi A5  2017  19995    Semi-Auto    54000   Diesel  67.3         2.0\n",
       "2  audi A3  2017  11895       Manual    28334   Petrol  62.8         1.0\n",
       "3  audi Q7  2018  56900    Semi-Auto     5330   Diesel  39.2         4.0\n",
       "4  audi A4  2019  27160    Semi-Auto    17790   Diesel  47.9         2.0"
      ]
     },
     "execution_count": 2,
     "metadata": {},
     "output_type": "execute_result"
    }
   ],
   "source": [
    "df_auto = pandas.read_csv('../Data/dataset_auto.csv',sep=';')\n",
    "df_auto['model'] = df_auto['brand'].astype(str) + df_auto['model'].astype(str)\n",
    "\n",
    "auto_target_col = 'price'\n",
    "\n",
    "drop_cols = ['brand','tax']\n",
    "df_auto.drop(drop_cols, axis=1, inplace=True)\n",
    "print(df_auto.shape)\n",
    "df_auto.head()"
   ]
  },
  {
   "cell_type": "markdown",
   "id": "4a648461-8994-482a-942e-bcacb059fbc0",
   "metadata": {
    "tags": []
   },
   "source": [
    "# Transformação Variáveis Categóricas"
   ]
  },
  {
   "cell_type": "code",
   "execution_count": 3,
   "id": "95340798-6afc-48ab-842a-487737b9a610",
   "metadata": {},
   "outputs": [
    {
     "data": {
      "text/html": [
       "<div>\n",
       "<style scoped>\n",
       "    .dataframe tbody tr th:only-of-type {\n",
       "        vertical-align: middle;\n",
       "    }\n",
       "\n",
       "    .dataframe tbody tr th {\n",
       "        vertical-align: top;\n",
       "    }\n",
       "\n",
       "    .dataframe thead th {\n",
       "        text-align: right;\n",
       "    }\n",
       "</style>\n",
       "<table border=\"1\" class=\"dataframe\">\n",
       "  <thead>\n",
       "    <tr style=\"text-align: right;\">\n",
       "      <th></th>\n",
       "      <th>year</th>\n",
       "      <th>price</th>\n",
       "      <th>mileage</th>\n",
       "      <th>mpg</th>\n",
       "      <th>engineSize</th>\n",
       "      <th>transmission_Automatic</th>\n",
       "      <th>transmission_Manual</th>\n",
       "      <th>transmission_Semi-Auto</th>\n",
       "      <th>fuelType_Diesel</th>\n",
       "      <th>fuelType_Electric</th>\n",
       "      <th>...</th>\n",
       "      <th>model_ford Ka+</th>\n",
       "      <th>model_ford Kuga</th>\n",
       "      <th>model_ford Mondeo</th>\n",
       "      <th>model_ford Mustang</th>\n",
       "      <th>model_ford Puma</th>\n",
       "      <th>model_ford S-MAX</th>\n",
       "      <th>model_ford Streetka</th>\n",
       "      <th>model_ford Tourneo Connect</th>\n",
       "      <th>model_ford Tourneo Custom</th>\n",
       "      <th>model_ford Transit Tourneo</th>\n",
       "    </tr>\n",
       "  </thead>\n",
       "  <tbody>\n",
       "    <tr>\n",
       "      <th>0</th>\n",
       "      <td>2020</td>\n",
       "      <td>20000</td>\n",
       "      <td>5000</td>\n",
       "      <td>49.6</td>\n",
       "      <td>1.0</td>\n",
       "      <td>0.0</td>\n",
       "      <td>1.0</td>\n",
       "      <td>0.0</td>\n",
       "      <td>0.0</td>\n",
       "      <td>0.0</td>\n",
       "      <td>...</td>\n",
       "      <td>0.0</td>\n",
       "      <td>0.0</td>\n",
       "      <td>0.0</td>\n",
       "      <td>0.0</td>\n",
       "      <td>0.0</td>\n",
       "      <td>0.0</td>\n",
       "      <td>0.0</td>\n",
       "      <td>0.0</td>\n",
       "      <td>0.0</td>\n",
       "      <td>0.0</td>\n",
       "    </tr>\n",
       "    <tr>\n",
       "      <th>1</th>\n",
       "      <td>2017</td>\n",
       "      <td>19995</td>\n",
       "      <td>54000</td>\n",
       "      <td>67.3</td>\n",
       "      <td>2.0</td>\n",
       "      <td>0.0</td>\n",
       "      <td>0.0</td>\n",
       "      <td>1.0</td>\n",
       "      <td>1.0</td>\n",
       "      <td>0.0</td>\n",
       "      <td>...</td>\n",
       "      <td>0.0</td>\n",
       "      <td>0.0</td>\n",
       "      <td>0.0</td>\n",
       "      <td>0.0</td>\n",
       "      <td>0.0</td>\n",
       "      <td>0.0</td>\n",
       "      <td>0.0</td>\n",
       "      <td>0.0</td>\n",
       "      <td>0.0</td>\n",
       "      <td>0.0</td>\n",
       "    </tr>\n",
       "    <tr>\n",
       "      <th>2</th>\n",
       "      <td>2017</td>\n",
       "      <td>11895</td>\n",
       "      <td>28334</td>\n",
       "      <td>62.8</td>\n",
       "      <td>1.0</td>\n",
       "      <td>0.0</td>\n",
       "      <td>1.0</td>\n",
       "      <td>0.0</td>\n",
       "      <td>0.0</td>\n",
       "      <td>0.0</td>\n",
       "      <td>...</td>\n",
       "      <td>0.0</td>\n",
       "      <td>0.0</td>\n",
       "      <td>0.0</td>\n",
       "      <td>0.0</td>\n",
       "      <td>0.0</td>\n",
       "      <td>0.0</td>\n",
       "      <td>0.0</td>\n",
       "      <td>0.0</td>\n",
       "      <td>0.0</td>\n",
       "      <td>0.0</td>\n",
       "    </tr>\n",
       "    <tr>\n",
       "      <th>3</th>\n",
       "      <td>2018</td>\n",
       "      <td>56900</td>\n",
       "      <td>5330</td>\n",
       "      <td>39.2</td>\n",
       "      <td>4.0</td>\n",
       "      <td>0.0</td>\n",
       "      <td>0.0</td>\n",
       "      <td>1.0</td>\n",
       "      <td>1.0</td>\n",
       "      <td>0.0</td>\n",
       "      <td>...</td>\n",
       "      <td>0.0</td>\n",
       "      <td>0.0</td>\n",
       "      <td>0.0</td>\n",
       "      <td>0.0</td>\n",
       "      <td>0.0</td>\n",
       "      <td>0.0</td>\n",
       "      <td>0.0</td>\n",
       "      <td>0.0</td>\n",
       "      <td>0.0</td>\n",
       "      <td>0.0</td>\n",
       "    </tr>\n",
       "    <tr>\n",
       "      <th>4</th>\n",
       "      <td>2019</td>\n",
       "      <td>27160</td>\n",
       "      <td>17790</td>\n",
       "      <td>47.9</td>\n",
       "      <td>2.0</td>\n",
       "      <td>0.0</td>\n",
       "      <td>0.0</td>\n",
       "      <td>1.0</td>\n",
       "      <td>1.0</td>\n",
       "      <td>0.0</td>\n",
       "      <td>...</td>\n",
       "      <td>0.0</td>\n",
       "      <td>0.0</td>\n",
       "      <td>0.0</td>\n",
       "      <td>0.0</td>\n",
       "      <td>0.0</td>\n",
       "      <td>0.0</td>\n",
       "      <td>0.0</td>\n",
       "      <td>0.0</td>\n",
       "      <td>0.0</td>\n",
       "      <td>0.0</td>\n",
       "    </tr>\n",
       "  </tbody>\n",
       "</table>\n",
       "<p>5 rows × 82 columns</p>\n",
       "</div>"
      ],
      "text/plain": [
       "   year  price  mileage   mpg  engineSize  transmission_Automatic  \\\n",
       "0  2020  20000     5000  49.6         1.0                     0.0   \n",
       "1  2017  19995    54000  67.3         2.0                     0.0   \n",
       "2  2017  11895    28334  62.8         1.0                     0.0   \n",
       "3  2018  56900     5330  39.2         4.0                     0.0   \n",
       "4  2019  27160    17790  47.9         2.0                     0.0   \n",
       "\n",
       "   transmission_Manual  transmission_Semi-Auto  fuelType_Diesel  \\\n",
       "0                  1.0                     0.0              0.0   \n",
       "1                  0.0                     1.0              1.0   \n",
       "2                  1.0                     0.0              0.0   \n",
       "3                  0.0                     1.0              1.0   \n",
       "4                  0.0                     1.0              1.0   \n",
       "\n",
       "   fuelType_Electric  ...  model_ford Ka+  model_ford Kuga  model_ford Mondeo  \\\n",
       "0                0.0  ...             0.0              0.0                0.0   \n",
       "1                0.0  ...             0.0              0.0                0.0   \n",
       "2                0.0  ...             0.0              0.0                0.0   \n",
       "3                0.0  ...             0.0              0.0                0.0   \n",
       "4                0.0  ...             0.0              0.0                0.0   \n",
       "\n",
       "   model_ford Mustang  model_ford Puma  model_ford S-MAX  model_ford Streetka  \\\n",
       "0                 0.0              0.0               0.0                  0.0   \n",
       "1                 0.0              0.0               0.0                  0.0   \n",
       "2                 0.0              0.0               0.0                  0.0   \n",
       "3                 0.0              0.0               0.0                  0.0   \n",
       "4                 0.0              0.0               0.0                  0.0   \n",
       "\n",
       "   model_ford Tourneo Connect  model_ford Tourneo Custom  \\\n",
       "0                         0.0                        0.0   \n",
       "1                         0.0                        0.0   \n",
       "2                         0.0                        0.0   \n",
       "3                         0.0                        0.0   \n",
       "4                         0.0                        0.0   \n",
       "\n",
       "   model_ford Transit Tourneo  \n",
       "0                         0.0  \n",
       "1                         0.0  \n",
       "2                         0.0  \n",
       "3                         0.0  \n",
       "4                         0.0  \n",
       "\n",
       "[5 rows x 82 columns]"
      ]
     },
     "execution_count": 3,
     "metadata": {},
     "output_type": "execute_result"
    }
   ],
   "source": [
    "categorical_cols = ['transmission', 'fuelType', 'model']\n",
    "encoder_map = {}\n",
    "\n",
    "for cname in categorical_cols:\n",
    "    encoder = preprocessing.OneHotEncoder(sparse=False)\n",
    "    transformed = encoder.fit_transform(df_auto[[cname]])\n",
    "    ohe_df = pandas.DataFrame(transformed, columns=[cname+'_'+cat for cat in encoder.categories_[0]])\n",
    "    encoder_map[cname] = encoder\n",
    "    \n",
    "    df_auto = pandas.concat([df_auto, ohe_df], axis=1).drop(cname, axis=1)\n",
    "df_auto.head()"
   ]
  },
  {
   "cell_type": "markdown",
   "id": "1274055c-baf4-4000-b65a-0fc1631011a5",
   "metadata": {},
   "source": [
    "## Treinamento do Modelo "
   ]
  },
  {
   "cell_type": "code",
   "execution_count": 4,
   "id": "b9839dce-b3c9-4b67-b37b-a91e6ad8d5a3",
   "metadata": {},
   "outputs": [],
   "source": [
    "\n",
    "Y = df_auto[auto_target_col]\n",
    "X = df_auto.drop(auto_target_col, axis=1)\n",
    "\n",
    "# train/test\n",
    "xtrain, xtest, ytrain, ytest = model_selection.train_test_split(X, Y, test_size=0.2)\n",
    "\n",
    "df_train = xtrain.copy()\n",
    "df_test = xtest.copy()\n",
    "df_train['train_set'] = 1\n",
    "df_test['train_set'] = 0\n",
    "df_train[auto_target_col] = ytrain\n",
    "df_test[auto_target_col] = ytest\n",
    "\n",
    "\n",
    "model_auto = lm.LinearRegression()\n",
    "model_auto.fit(xtrain, ytrain)      \n",
    "df_train['prediction'] = model_auto.predict(xtrain)\n",
    "df_test['prediction']  = model_auto.predict(xtest)\n",
    "\n",
    "df_auto = pandas.concat((df_train, df_test), axis=0)"
   ]
  },
  {
   "cell_type": "markdown",
   "id": "0809415b-7847-4f63-83a4-ab60c944ac2b",
   "metadata": {
    "tags": []
   },
   "source": [
    "## Curva de Resíduos"
   ]
  },
  {
   "cell_type": "code",
   "execution_count": 5,
   "id": "67ba1718-11a3-4e90-83bb-b29276e9824d",
   "metadata": {},
   "outputs": [
    {
     "data": {
      "image/png": "[encoded data removed]",
      "text/plain": [
       "<Figure size 864x288 with 2 Axes>"
      ]
     },
     "metadata": {
      "needs_background": "light"
     },
     "output_type": "display_data"
    }
   ],
   "source": [
    "plt.figure(figsize=(12,4))\n",
    "\n",
    "# Dispersion plot\n",
    "plt.subplot(1,2,1)\n",
    "plt.scatter(df_auto[auto_target_col], df_auto['prediction'])\n",
    "plt.plot([0, plt.gca().axis()[3]],[0, plt.gca().axis()[3]],  '--k', lw=2)\n",
    "plt.grid()\n",
    "plt.ylabel('Predição do Modelo')\n",
    "plt.xlabel('Valor Real')\n",
    "plt.title(f'Curva de Dispersão')\n",
    "plt.tight_layout()\n",
    "\n",
    "plt.subplot(1,2,2)\n",
    "error = df_auto[auto_target_col] - df_auto['prediction']\n",
    "plt.scatter(df_auto['prediction'], error)\n",
    "plt.plot([plt.gca().axis()[0], plt.gca().axis()[1]],[0, 0],  '--k', lw=2)\n",
    "plt.grid()\n",
    "plt.ylabel('Resíduo (erro)')\n",
    "plt.xlabel('Predição do Modelo')\n",
    "plt.title(f'Curva de Resíduos')\n",
    "plt.tight_layout()"
   ]
  },
  {
   "cell_type": "markdown",
   "id": "bceb0b82-a4f3-4661-98d6-7820b042d94c",
   "metadata": {},
   "source": [
    "## Teste de Normalidade do Erro "
   ]
  },
  {
   "cell_type": "code",
   "execution_count": 6,
   "id": "50c5fbf8-7ca9-4daf-a04b-bd5676484046",
   "metadata": {},
   "outputs": [
    {
     "name": "stdout",
     "output_type": "stream",
     "text": [
      "mu = 5.52 and sigma = 3872.30\n",
      "Shapiro-Wilk p-value: 0.0\n"
     ]
    },
    {
     "name": "stderr",
     "output_type": "stream",
     "text": [
      "C:\\Users\\BZ241WX\\AppData\\Local\\Continuum\\anaconda3\\envs\\infnet-ead\\lib\\site-packages\\scipy\\stats\\morestats.py:1760: UserWarning: p-value may not be accurate for N > 5000.\n",
      "  warnings.warn(\"p-value may not be accurate for N > 5000.\")\n",
      "C:\\Users\\BZ241WX\\AppData\\Local\\Continuum\\anaconda3\\envs\\infnet-ead\\lib\\site-packages\\seaborn\\distributions.py:2619: FutureWarning: `distplot` is a deprecated function and will be removed in a future version. Please adapt your code to use either `displot` (a figure-level function with similar flexibility) or `histplot` (an axes-level function for histograms).\n",
      "  warnings.warn(msg, FutureWarning)\n"
     ]
    },
    {
     "data": {
      "image/png": "[encoded data removed]",
      "text/plain": [
       "<Figure size 432x288 with 1 Axes>"
      ]
     },
     "metadata": {
      "needs_background": "light"
     },
     "output_type": "display_data"
    },
    {
     "data": {
      "image/png": "[encoded data removed]",
      "text/plain": [
       "<Figure size 432x288 with 1 Axes>"
      ]
     },
     "metadata": {
      "needs_background": "light"
     },
     "output_type": "display_data"
    }
   ],
   "source": [
    "\n",
    "error = df_auto[auto_target_col] - df_auto['prediction']\n",
    "(mu, sigma) = norm.fit(error.values.reshape((-1, 1)))\n",
    "print('mu = {:.2f} and sigma = {:.2f}'.format(mu, sigma))\n",
    "_, p_value = stats.shapiro(error)\n",
    "print('Shapiro-Wilk p-value: ' + str(p_value))\n",
    "# Get the fitted parameters used by the function\n",
    "sns.distplot(error , fit=norm)\n",
    "plt.legend(['Normal dist. ($\\mu=$ {:.2f} and $\\sigma=$ {:.2f} )'.format(mu, sigma)], loc='best')\n",
    "plt.ylabel('Frequência')\n",
    "plt.xlabel('Resíduo: Real-Estimado [R$]')\n",
    "plt.title(f'Distribuição do Resíduo')\n",
    "plt.xlim((mu-5*sigma, mu+5*sigma))\n",
    "plt.grid(True)\n",
    "plt.show()\n",
    "#Get also the QQ-plot\n",
    "res = stats.probplot(error, plot=plt)\n",
    "plt.xlabel('Quartis Teóricos')\n",
    "plt.title(f'Q-Q Plot')\n",
    "plt.ylabel('Resíduo Ordenado [R$]')\n",
    "plt.grid(True)\n",
    "plt.show()\n"
   ]
  },
  {
   "cell_type": "markdown",
   "id": "8ae68c58-89f4-415e-b1a6-8600c05a9ded",
   "metadata": {
    "tags": []
   },
   "source": [
    "## Métricas de Regressão"
   ]
  },
  {
   "cell_type": "code",
   "execution_count": 23,
   "id": "d3dda490-19e5-4498-93c7-6099324d657f",
   "metadata": {},
   "outputs": [
    {
     "data": {
      "text/html": [
       "<div>\n",
       "<style scoped>\n",
       "    .dataframe tbody tr th:only-of-type {\n",
       "        vertical-align: middle;\n",
       "    }\n",
       "\n",
       "    .dataframe tbody tr th {\n",
       "        vertical-align: top;\n",
       "    }\n",
       "\n",
       "    .dataframe thead th {\n",
       "        text-align: right;\n",
       "    }\n",
       "</style>\n",
       "<table border=\"1\" class=\"dataframe\">\n",
       "  <thead>\n",
       "    <tr style=\"text-align: right;\">\n",
       "      <th></th>\n",
       "      <th>auto</th>\n",
       "    </tr>\n",
       "  </thead>\n",
       "  <tbody>\n",
       "    <tr>\n",
       "      <th>mean_absolute_error</th>\n",
       "      <td>2.431837e+03</td>\n",
       "    </tr>\n",
       "    <tr>\n",
       "      <th>mean_squared_error</th>\n",
       "      <td>1.499475e+07</td>\n",
       "    </tr>\n",
       "    <tr>\n",
       "      <th>root_mean_squared_error</th>\n",
       "      <td>3.872305e+03</td>\n",
       "    </tr>\n",
       "    <tr>\n",
       "      <th>median_absolute_error</th>\n",
       "      <td>1.652605e+03</td>\n",
       "    </tr>\n",
       "    <tr>\n",
       "      <th>r2</th>\n",
       "      <td>8.769047e-01</td>\n",
       "    </tr>\n",
       "    <tr>\n",
       "      <th>mean_absolute_percentage_error</th>\n",
       "      <td>1.665748e+01</td>\n",
       "    </tr>\n",
       "  </tbody>\n",
       "</table>\n",
       "</div>"
      ],
      "text/plain": [
       "                                        auto\n",
       "mean_absolute_error             2.431837e+03\n",
       "mean_squared_error              1.499475e+07\n",
       "root_mean_squared_error         3.872305e+03\n",
       "median_absolute_error           1.652605e+03\n",
       "r2                              8.769047e-01\n",
       "mean_absolute_percentage_error  1.665748e+01"
      ]
     },
     "execution_count": 23,
     "metadata": {},
     "output_type": "execute_result"
    }
   ],
   "source": [
    "def print_regression_report(ytrue, ypred, dset):\n",
    "    def mape(y, yhat):\n",
    "        return np.mean(np.abs((y - yhat) / y)) * 100\n",
    "    \n",
    "    \n",
    "    measurement_dict = {\n",
    "        'mean_absolute_error': metrics.mean_absolute_error(ytrue, ypred),\n",
    "        'mean_squared_error': metrics.mean_squared_error(ytrue, ypred),\n",
    "        'root_mean_squared_error': np.sqrt(metrics.mean_squared_error(ytrue, ypred)),\n",
    "        'median_absolute_error': metrics.median_absolute_error(ytrue, ypred),\n",
    "        'r2': metrics.r2_score(ytrue, ypred),\n",
    "        'mean_absolute_percentage_error': mape(ytrue, ypred),\n",
    "    }\n",
    "    df =  pandas.DataFrame.from_dict(measurement_dict, orient='index')\n",
    "    df.columns=[dset]\n",
    "    return df\n",
    "   \n",
    "print_regression_report(df_auto[auto_target_col], df_auto['prediction'], 'auto')"
   ]
  },
  {
   "cell_type": "markdown",
   "id": "b4cdc10d-3cd7-4b20-b805-7b655f786ba1",
   "metadata": {},
   "source": [
    "#  Clima"
   ]
  },
  {
   "cell_type": "markdown",
   "id": "31c436f9-63b1-46f9-a0e7-66a770e39456",
   "metadata": {},
   "source": [
    "## Leitura da Base "
   ]
  },
  {
   "cell_type": "code",
   "execution_count": 24,
   "id": "09d57a12-6ca1-4007-8fd2-1be674285217",
   "metadata": {},
   "outputs": [
    {
     "name": "stdout",
     "output_type": "stream",
     "text": [
      "(4019, 7)\n"
     ]
    },
    {
     "data": {
      "text/html": [
       "<div>\n",
       "<style scoped>\n",
       "    .dataframe tbody tr th:only-of-type {\n",
       "        vertical-align: middle;\n",
       "    }\n",
       "\n",
       "    .dataframe tbody tr th {\n",
       "        vertical-align: top;\n",
       "    }\n",
       "\n",
       "    .dataframe thead th {\n",
       "        text-align: right;\n",
       "    }\n",
       "</style>\n",
       "<table border=\"1\" class=\"dataframe\">\n",
       "  <thead>\n",
       "    <tr style=\"text-align: right;\">\n",
       "      <th></th>\n",
       "      <th>Apparent Temperature (C)</th>\n",
       "      <th>Humidity</th>\n",
       "      <th>Wind Speed (km/h)</th>\n",
       "      <th>Wind Bearing (degrees)</th>\n",
       "      <th>Visibility (km)</th>\n",
       "      <th>Loud Cover</th>\n",
       "      <th>Pressure (millibars)</th>\n",
       "    </tr>\n",
       "  </thead>\n",
       "  <tbody>\n",
       "    <tr>\n",
       "      <th>0</th>\n",
       "      <td>-4.050000</td>\n",
       "      <td>0.890000</td>\n",
       "      <td>17.114300</td>\n",
       "      <td>140.000000</td>\n",
       "      <td>9.982000</td>\n",
       "      <td>0.0</td>\n",
       "      <td>1016.660000</td>\n",
       "    </tr>\n",
       "    <tr>\n",
       "      <th>1</th>\n",
       "      <td>-0.174537</td>\n",
       "      <td>0.817083</td>\n",
       "      <td>21.229192</td>\n",
       "      <td>142.750000</td>\n",
       "      <td>11.348487</td>\n",
       "      <td>0.0</td>\n",
       "      <td>1011.985000</td>\n",
       "    </tr>\n",
       "    <tr>\n",
       "      <th>2</th>\n",
       "      <td>1.808796</td>\n",
       "      <td>0.847083</td>\n",
       "      <td>17.824713</td>\n",
       "      <td>164.583333</td>\n",
       "      <td>8.492079</td>\n",
       "      <td>0.0</td>\n",
       "      <td>1010.384167</td>\n",
       "    </tr>\n",
       "    <tr>\n",
       "      <th>3</th>\n",
       "      <td>0.445370</td>\n",
       "      <td>0.897083</td>\n",
       "      <td>7.726658</td>\n",
       "      <td>252.541667</td>\n",
       "      <td>9.223958</td>\n",
       "      <td>0.0</td>\n",
       "      <td>1021.170833</td>\n",
       "    </tr>\n",
       "    <tr>\n",
       "      <th>4</th>\n",
       "      <td>-0.663194</td>\n",
       "      <td>0.906667</td>\n",
       "      <td>12.152817</td>\n",
       "      <td>35.000000</td>\n",
       "      <td>8.352546</td>\n",
       "      <td>0.0</td>\n",
       "      <td>981.770833</td>\n",
       "    </tr>\n",
       "  </tbody>\n",
       "</table>\n",
       "</div>"
      ],
      "text/plain": [
       "   Apparent Temperature (C)  Humidity  Wind Speed (km/h)  \\\n",
       "0                 -4.050000  0.890000          17.114300   \n",
       "1                 -0.174537  0.817083          21.229192   \n",
       "2                  1.808796  0.847083          17.824713   \n",
       "3                  0.445370  0.897083           7.726658   \n",
       "4                 -0.663194  0.906667          12.152817   \n",
       "\n",
       "   Wind Bearing (degrees)  Visibility (km)  Loud Cover  Pressure (millibars)  \n",
       "0              140.000000         9.982000         0.0           1016.660000  \n",
       "1              142.750000        11.348487         0.0           1011.985000  \n",
       "2              164.583333         8.492079         0.0           1010.384167  \n",
       "3              252.541667         9.223958         0.0           1021.170833  \n",
       "4               35.000000         8.352546         0.0            981.770833  "
      ]
     },
     "execution_count": 24,
     "metadata": {},
     "output_type": "execute_result"
    }
   ],
   "source": [
    "df_weather = pandas.read_csv('../Data/dataset_clima.csv',sep=';')\n",
    "\n",
    "drop_cols = ['Temperature (C)']\n",
    "df_weather.drop(drop_cols, axis=1, inplace=True)\n",
    "\n",
    "print(df_weather.shape)\n",
    "\n",
    "weather_target_col = 'Apparent Temperature (C)'\n",
    "\n",
    "df_weather.head()"
   ]
  },
  {
   "cell_type": "markdown",
   "id": "1dd0eeb0-041c-4e84-93a1-da3b875912f3",
   "metadata": {},
   "source": [
    "## Treinamento do Modelo "
   ]
  },
  {
   "cell_type": "code",
   "execution_count": 25,
   "id": "46f61df9-fa75-4ede-8920-41912aa91282",
   "metadata": {},
   "outputs": [],
   "source": [
    "\n",
    "Y = df_weather[weather_target_col]\n",
    "X = df_weather.drop(weather_target_col, axis=1)\n",
    "\n",
    "# train/test\n",
    "xtrain, xtest, ytrain, ytest = model_selection.train_test_split(X, Y, test_size=0.2)\n",
    "\n",
    "df_train = xtrain.copy()\n",
    "df_test = xtest.copy()\n",
    "df_train['train_set'] = 1\n",
    "df_test['train_set'] = 0\n",
    "df_train[weather_target_col] = ytrain\n",
    "df_test[weather_target_col] = ytest\n",
    "\n",
    "\n",
    "model_weather = lm.LinearRegression()\n",
    "model_weather.fit(xtrain, ytrain)      \n",
    "df_train['prediction'] = model_weather.predict(xtrain)\n",
    "df_test['prediction']  = model_weather.predict(xtest)\n",
    "\n",
    "df_weather = pandas.concat((df_train, df_test), axis=0)"
   ]
  },
  {
   "cell_type": "markdown",
   "id": "333f3247-04e0-4ba8-9500-5f9c758180ef",
   "metadata": {},
   "source": [
    "## Curvas de Resíduo "
   ]
  },
  {
   "cell_type": "code",
   "execution_count": 26,
   "id": "0aa104cc-ab4c-4622-8fee-03bccbcd86b9",
   "metadata": {},
   "outputs": [
    {
     "data": {
      "image/png": "[encoded data removed]",
      "text/plain": [
       "<Figure size 864x288 with 2 Axes>"
      ]
     },
     "metadata": {
      "needs_background": "light"
     },
     "output_type": "display_data"
    }
   ],
   "source": [
    "plt.figure(figsize=(12,4))\n",
    "\n",
    "# Dispersion plot\n",
    "plt.subplot(1,2,1)\n",
    "plt.scatter(df_weather[weather_target_col], df_weather['prediction'])\n",
    "plt.plot([plt.gca().axis()[2], plt.gca().axis()[3]],\n",
    "         [plt.gca().axis()[2], plt.gca().axis()[3]],  '--k', lw=2)\n",
    "plt.grid()\n",
    "plt.ylabel('Predição do Modelo')\n",
    "plt.xlabel('Valor Real')\n",
    "plt.title(f'Curva de Dispersão')\n",
    "plt.tight_layout()\n",
    "\n",
    "plt.subplot(1,2,2)\n",
    "error = df_weather[weather_target_col] - df_weather['prediction']\n",
    "plt.scatter(df_weather['prediction'], error)\n",
    "plt.plot([plt.gca().axis()[0], plt.gca().axis()[1]],[0, 0],  '--k', lw=2)\n",
    "plt.grid()\n",
    "plt.ylabel('Resíduo (erro)')\n",
    "plt.xlabel('Predição do Modelo')\n",
    "plt.title(f'Curva de Resíduos')\n",
    "plt.tight_layout()"
   ]
  },
  {
   "cell_type": "markdown",
   "id": "ecfa6686-2b7a-4a6b-a361-690f0d1f457c",
   "metadata": {},
   "source": [
    "# Teste de Normalidade do Erro "
   ]
  },
  {
   "cell_type": "code",
   "execution_count": 27,
   "id": "e3027824-6f62-4d0b-89fe-9eaced094d8c",
   "metadata": {},
   "outputs": [
    {
     "name": "stdout",
     "output_type": "stream",
     "text": [
      "mu = -0.05 and sigma = 7.30\n",
      "Shapiro-Wilk p-value: 1.441664887525766e-22\n"
     ]
    },
    {
     "name": "stderr",
     "output_type": "stream",
     "text": [
      "C:\\Users\\BZ241WX\\AppData\\Local\\Continuum\\anaconda3\\envs\\infnet-ead\\lib\\site-packages\\seaborn\\distributions.py:2619: FutureWarning: `distplot` is a deprecated function and will be removed in a future version. Please adapt your code to use either `displot` (a figure-level function with similar flexibility) or `histplot` (an axes-level function for histograms).\n",
      "  warnings.warn(msg, FutureWarning)\n"
     ]
    },
    {
     "data": {
      "image/png": "[encoded data removed]",
      "text/plain": [
       "<Figure size 432x288 with 1 Axes>"
      ]
     },
     "metadata": {
      "needs_background": "light"
     },
     "output_type": "display_data"
    },
    {
     "data": {
      "image/png": "[encoded data removed]",
      "text/plain": [
       "<Figure size 432x288 with 1 Axes>"
      ]
     },
     "metadata": {
      "needs_background": "light"
     },
     "output_type": "display_data"
    }
   ],
   "source": [
    "error = df_weather[weather_target_col] - df_weather['prediction']\n",
    "(mu, sigma) = norm.fit(error.values.reshape((-1, 1)))\n",
    "print('mu = {:.2f} and sigma = {:.2f}'.format(mu, sigma))\n",
    "_, p_value = stats.shapiro(error)\n",
    "print('Shapiro-Wilk p-value: ' + str(p_value))\n",
    "# Get the fitted parameters used by the function\n",
    "sns.distplot(error , fit=norm)\n",
    "plt.legend(['Normal dist. ($\\mu=$ {:.2f} and $\\sigma=$ {:.2f} )'.format(mu, sigma)], loc='best')\n",
    "plt.ylabel('Frequência')\n",
    "plt.xlabel('Resíduo: Real-Estimado [R$]')\n",
    "plt.title(f'Distribuição do Resíduo')\n",
    "plt.xlim((mu-5*sigma, mu+5*sigma))\n",
    "plt.grid(True)\n",
    "plt.show()\n",
    "#Get also the QQ-plot\n",
    "res = stats.probplot(error, plot=plt)\n",
    "plt.xlabel('Quartis Teóricos')\n",
    "plt.title(f'Q-Q Plot')\n",
    "plt.ylabel('Resíduo Ordenado [R$]')\n",
    "plt.grid(True)\n",
    "plt.show()\n"
   ]
  },
  {
   "cell_type": "markdown",
   "id": "df439b84-1511-43e6-a476-5a02b1488391",
   "metadata": {},
   "source": [
    "## Métricas de Regressão "
   ]
  },
  {
   "cell_type": "code",
   "execution_count": 28,
   "id": "d19758c9-62df-4ee4-a545-a4b67ee988e9",
   "metadata": {},
   "outputs": [
    {
     "data": {
      "text/html": [
       "<div>\n",
       "<style scoped>\n",
       "    .dataframe tbody tr th:only-of-type {\n",
       "        vertical-align: middle;\n",
       "    }\n",
       "\n",
       "    .dataframe tbody tr th {\n",
       "        vertical-align: top;\n",
       "    }\n",
       "\n",
       "    .dataframe thead th {\n",
       "        text-align: right;\n",
       "    }\n",
       "</style>\n",
       "<table border=\"1\" class=\"dataframe\">\n",
       "  <thead>\n",
       "    <tr style=\"text-align: right;\">\n",
       "      <th></th>\n",
       "      <th>weather</th>\n",
       "    </tr>\n",
       "  </thead>\n",
       "  <tbody>\n",
       "    <tr>\n",
       "      <th>mean_absolute_error</th>\n",
       "      <td>5.855191</td>\n",
       "    </tr>\n",
       "    <tr>\n",
       "      <th>mean_squared_error</th>\n",
       "      <td>53.360261</td>\n",
       "    </tr>\n",
       "    <tr>\n",
       "      <th>root_mean_squared_error</th>\n",
       "      <td>7.304811</td>\n",
       "    </tr>\n",
       "    <tr>\n",
       "      <th>median_absolute_error</th>\n",
       "      <td>5.148592</td>\n",
       "    </tr>\n",
       "    <tr>\n",
       "      <th>r2</th>\n",
       "      <td>0.459763</td>\n",
       "    </tr>\n",
       "    <tr>\n",
       "      <th>mean_absolute_percentage_error</th>\n",
       "      <td>261.829113</td>\n",
       "    </tr>\n",
       "  </tbody>\n",
       "</table>\n",
       "</div>"
      ],
      "text/plain": [
       "                                   weather\n",
       "mean_absolute_error               5.855191\n",
       "mean_squared_error               53.360261\n",
       "root_mean_squared_error           7.304811\n",
       "median_absolute_error             5.148592\n",
       "r2                                0.459763\n",
       "mean_absolute_percentage_error  261.829113"
      ]
     },
     "execution_count": 28,
     "metadata": {},
     "output_type": "execute_result"
    }
   ],
   "source": [
    "print_regression_report(df_weather[weather_target_col], df_weather['prediction'], 'weather')"
   ]
  },
  {
   "cell_type": "code",
   "execution_count": null,
   "id": "8c50d048-b5c3-46fb-a042-fde58c626a6c",
   "metadata": {},
   "outputs": [],
   "source": []
  },
  {
   "cell_type": "code",
   "execution_count": null,
   "id": "0eb9e22a-a902-4cc9-974a-3ac264837914",
   "metadata": {},
   "outputs": [],
   "source": []
  }
 ],
 "metadata": {
  "kernelspec": {
   "display_name": "Python 3",
   "language": "python",
   "name": "python3"
  },
  "language_info": {
   "codemirror_mode": {
    "name": "ipython",
    "version": 3
   },
   "file_extension": ".py",
   "mimetype": "text/x-python",
   "name": "python",
   "nbconvert_exporter": "python",
   "pygments_lexer": "ipython3",
   "version": "3.7.10"
  }
 },
 "nbformat": 4,
 "nbformat_minor": 5
}
