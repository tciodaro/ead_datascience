{
 "cells": [
  {
   "cell_type": "code",
   "execution_count": 23,
   "id": "488807a8-fc82-4c09-8576-40716e13392e",
   "metadata": {},
   "outputs": [
    {
     "data": {
      "text/plain": [
       "'2.3.6'"
      ]
     },
     "execution_count": 23,
     "metadata": {},
     "output_type": "execute_result"
    }
   ],
   "source": [
    "import matplotlib.pyplot as plt\n",
    "import pandas\n",
    "import numpy as np\n",
    "import pycaret.classification as pc\n",
    "from sklearn import metrics\n",
    "\n",
    "%matplotlib inline\n",
    "model_name = 'wine_model'\n",
    "\n",
    "from pycaret.utils import version\n",
    "version()"
   ]
  },
  {
   "cell_type": "markdown",
   "id": "8faf27f9-6e0b-40a3-a1ac-ef386bb0a049",
   "metadata": {
    "tags": []
   },
   "source": [
    "# Vinhos\n"
   ]
  },
  {
   "cell_type": "markdown",
   "id": "01cb7b41-d918-491c-9a31-595a011900d3",
   "metadata": {},
   "source": [
    "## Leitura da Base "
   ]
  },
  {
   "cell_type": "code",
   "execution_count": 2,
   "id": "cfdff72a-267c-41a0-a3b1-59dbd5f632fc",
   "metadata": {},
   "outputs": [
    {
     "name": "stdout",
     "output_type": "stream",
     "text": [
      "(5320, 14)\n"
     ]
    },
    {
     "data": {
      "text/html": [
       "<div>\n",
       "<style scoped>\n",
       "    .dataframe tbody tr th:only-of-type {\n",
       "        vertical-align: middle;\n",
       "    }\n",
       "\n",
       "    .dataframe tbody tr th {\n",
       "        vertical-align: top;\n",
       "    }\n",
       "\n",
       "    .dataframe thead th {\n",
       "        text-align: right;\n",
       "    }\n",
       "</style>\n",
       "<table border=\"1\" class=\"dataframe\">\n",
       "  <thead>\n",
       "    <tr style=\"text-align: right;\">\n",
       "      <th></th>\n",
       "      <th>fixed acidity</th>\n",
       "      <th>volatile acidity</th>\n",
       "      <th>citric acid</th>\n",
       "      <th>residual sugar</th>\n",
       "      <th>chlorides</th>\n",
       "      <th>free sulfur dioxide</th>\n",
       "      <th>total sulfur dioxide</th>\n",
       "      <th>density</th>\n",
       "      <th>pH</th>\n",
       "      <th>sulphates</th>\n",
       "      <th>alcohol</th>\n",
       "      <th>target</th>\n",
       "      <th>target_label</th>\n",
       "      <th>type</th>\n",
       "    </tr>\n",
       "  </thead>\n",
       "  <tbody>\n",
       "    <tr>\n",
       "      <th>0</th>\n",
       "      <td>7.4</td>\n",
       "      <td>0.70</td>\n",
       "      <td>0.00</td>\n",
       "      <td>1.9</td>\n",
       "      <td>0.076</td>\n",
       "      <td>11.0</td>\n",
       "      <td>34.0</td>\n",
       "      <td>0.9978</td>\n",
       "      <td>3.51</td>\n",
       "      <td>0.56</td>\n",
       "      <td>9.4</td>\n",
       "      <td>0</td>\n",
       "      <td>baixa qualidade</td>\n",
       "      <td>red</td>\n",
       "    </tr>\n",
       "    <tr>\n",
       "      <th>1</th>\n",
       "      <td>7.8</td>\n",
       "      <td>0.88</td>\n",
       "      <td>0.00</td>\n",
       "      <td>2.6</td>\n",
       "      <td>0.098</td>\n",
       "      <td>25.0</td>\n",
       "      <td>67.0</td>\n",
       "      <td>0.9968</td>\n",
       "      <td>3.20</td>\n",
       "      <td>0.68</td>\n",
       "      <td>9.8</td>\n",
       "      <td>0</td>\n",
       "      <td>baixa qualidade</td>\n",
       "      <td>red</td>\n",
       "    </tr>\n",
       "    <tr>\n",
       "      <th>2</th>\n",
       "      <td>7.8</td>\n",
       "      <td>0.76</td>\n",
       "      <td>0.04</td>\n",
       "      <td>2.3</td>\n",
       "      <td>0.092</td>\n",
       "      <td>15.0</td>\n",
       "      <td>54.0</td>\n",
       "      <td>0.9970</td>\n",
       "      <td>3.26</td>\n",
       "      <td>0.65</td>\n",
       "      <td>9.8</td>\n",
       "      <td>0</td>\n",
       "      <td>baixa qualidade</td>\n",
       "      <td>red</td>\n",
       "    </tr>\n",
       "    <tr>\n",
       "      <th>3</th>\n",
       "      <td>11.2</td>\n",
       "      <td>0.28</td>\n",
       "      <td>0.56</td>\n",
       "      <td>1.9</td>\n",
       "      <td>0.075</td>\n",
       "      <td>17.0</td>\n",
       "      <td>60.0</td>\n",
       "      <td>0.9980</td>\n",
       "      <td>3.16</td>\n",
       "      <td>0.58</td>\n",
       "      <td>9.8</td>\n",
       "      <td>1</td>\n",
       "      <td>alta qualidade</td>\n",
       "      <td>red</td>\n",
       "    </tr>\n",
       "    <tr>\n",
       "      <th>4</th>\n",
       "      <td>7.4</td>\n",
       "      <td>0.66</td>\n",
       "      <td>0.00</td>\n",
       "      <td>1.8</td>\n",
       "      <td>0.075</td>\n",
       "      <td>13.0</td>\n",
       "      <td>40.0</td>\n",
       "      <td>0.9978</td>\n",
       "      <td>3.51</td>\n",
       "      <td>0.56</td>\n",
       "      <td>9.4</td>\n",
       "      <td>0</td>\n",
       "      <td>baixa qualidade</td>\n",
       "      <td>red</td>\n",
       "    </tr>\n",
       "  </tbody>\n",
       "</table>\n",
       "</div>"
      ],
      "text/plain": [
       "   fixed acidity  volatile acidity  citric acid  residual sugar  chlorides  \\\n",
       "0            7.4              0.70         0.00             1.9      0.076   \n",
       "1            7.8              0.88         0.00             2.6      0.098   \n",
       "2            7.8              0.76         0.04             2.3      0.092   \n",
       "3           11.2              0.28         0.56             1.9      0.075   \n",
       "4            7.4              0.66         0.00             1.8      0.075   \n",
       "\n",
       "   free sulfur dioxide  total sulfur dioxide  density    pH  sulphates  \\\n",
       "0                 11.0                  34.0   0.9978  3.51       0.56   \n",
       "1                 25.0                  67.0   0.9968  3.20       0.68   \n",
       "2                 15.0                  54.0   0.9970  3.26       0.65   \n",
       "3                 17.0                  60.0   0.9980  3.16       0.58   \n",
       "4                 13.0                  40.0   0.9978  3.51       0.56   \n",
       "\n",
       "   alcohol  target     target_label type  \n",
       "0      9.4       0  baixa qualidade  red  \n",
       "1      9.8       0  baixa qualidade  red  \n",
       "2      9.8       0  baixa qualidade  red  \n",
       "3      9.8       1   alta qualidade  red  \n",
       "4      9.4       0  baixa qualidade  red  "
      ]
     },
     "execution_count": 2,
     "metadata": {},
     "output_type": "execute_result"
    }
   ],
   "source": [
    "df_wine = pandas.read_csv('../Data/dataset_vinhos.csv',sep=';')\n",
    "wine_target_col = 'target'\n",
    "wine_label_map = df_wine[['target', 'target_label']].drop_duplicates()\n",
    "print(df_wine.shape)\n",
    "df_wine.head()"
   ]
  },
  {
   "cell_type": "markdown",
   "id": "1c85e0a0-e89e-4418-a6e4-4c6b701e6af9",
   "metadata": {},
   "source": [
    "## Configuração do PyCaret "
   ]
  },
  {
   "cell_type": "code",
   "execution_count": 3,
   "id": "e034e564-373b-49b8-907a-6b1987805198",
   "metadata": {},
   "outputs": [],
   "source": [
    "# pc.setup?"
   ]
  },
  {
   "cell_type": "code",
   "execution_count": 4,
   "id": "39bddd80-71d2-4e0d-8d1c-7fd06336f7aa",
   "metadata": {},
   "outputs": [
    {
     "data": {
      "text/html": [
       "<style type=\"text/css\">\n",
       "#T_5332f_row19_col1, #T_5332f_row29_col1, #T_5332f_row31_col1, #T_5332f_row36_col1, #T_5332f_row42_col1, #T_5332f_row44_col1 {\n",
       "  background-color: lightgreen;\n",
       "}\n",
       "</style>\n",
       "<table id=\"T_5332f\">\n",
       "  <thead>\n",
       "    <tr>\n",
       "      <th class=\"blank level0\" >&nbsp;</th>\n",
       "      <th id=\"T_5332f_level0_col0\" class=\"col_heading level0 col0\" >Description</th>\n",
       "      <th id=\"T_5332f_level0_col1\" class=\"col_heading level0 col1\" >Value</th>\n",
       "    </tr>\n",
       "  </thead>\n",
       "  <tbody>\n",
       "    <tr>\n",
       "      <th id=\"T_5332f_level0_row0\" class=\"row_heading level0 row0\" >0</th>\n",
       "      <td id=\"T_5332f_row0_col0\" class=\"data row0 col0\" >session_id</td>\n",
       "      <td id=\"T_5332f_row0_col1\" class=\"data row0 col1\" >123</td>\n",
       "    </tr>\n",
       "    <tr>\n",
       "      <th id=\"T_5332f_level0_row1\" class=\"row_heading level0 row1\" >1</th>\n",
       "      <td id=\"T_5332f_row1_col0\" class=\"data row1 col0\" >Target</td>\n",
       "      <td id=\"T_5332f_row1_col1\" class=\"data row1 col1\" >target</td>\n",
       "    </tr>\n",
       "    <tr>\n",
       "      <th id=\"T_5332f_level0_row2\" class=\"row_heading level0 row2\" >2</th>\n",
       "      <td id=\"T_5332f_row2_col0\" class=\"data row2 col0\" >Target Type</td>\n",
       "      <td id=\"T_5332f_row2_col1\" class=\"data row2 col1\" >Binary</td>\n",
       "    </tr>\n",
       "    <tr>\n",
       "      <th id=\"T_5332f_level0_row3\" class=\"row_heading level0 row3\" >3</th>\n",
       "      <td id=\"T_5332f_row3_col0\" class=\"data row3 col0\" >Label Encoded</td>\n",
       "      <td id=\"T_5332f_row3_col1\" class=\"data row3 col1\" >None</td>\n",
       "    </tr>\n",
       "    <tr>\n",
       "      <th id=\"T_5332f_level0_row4\" class=\"row_heading level0 row4\" >4</th>\n",
       "      <td id=\"T_5332f_row4_col0\" class=\"data row4 col0\" >Original Data</td>\n",
       "      <td id=\"T_5332f_row4_col1\" class=\"data row4 col1\" >(5320, 14)</td>\n",
       "    </tr>\n",
       "    <tr>\n",
       "      <th id=\"T_5332f_level0_row5\" class=\"row_heading level0 row5\" >5</th>\n",
       "      <td id=\"T_5332f_row5_col0\" class=\"data row5 col0\" >Missing Values</td>\n",
       "      <td id=\"T_5332f_row5_col1\" class=\"data row5 col1\" >False</td>\n",
       "    </tr>\n",
       "    <tr>\n",
       "      <th id=\"T_5332f_level0_row6\" class=\"row_heading level0 row6\" >6</th>\n",
       "      <td id=\"T_5332f_row6_col0\" class=\"data row6 col0\" >Numeric Features</td>\n",
       "      <td id=\"T_5332f_row6_col1\" class=\"data row6 col1\" >11</td>\n",
       "    </tr>\n",
       "    <tr>\n",
       "      <th id=\"T_5332f_level0_row7\" class=\"row_heading level0 row7\" >7</th>\n",
       "      <td id=\"T_5332f_row7_col0\" class=\"data row7 col0\" >Categorical Features</td>\n",
       "      <td id=\"T_5332f_row7_col1\" class=\"data row7 col1\" >1</td>\n",
       "    </tr>\n",
       "    <tr>\n",
       "      <th id=\"T_5332f_level0_row8\" class=\"row_heading level0 row8\" >8</th>\n",
       "      <td id=\"T_5332f_row8_col0\" class=\"data row8 col0\" >Ordinal Features</td>\n",
       "      <td id=\"T_5332f_row8_col1\" class=\"data row8 col1\" >False</td>\n",
       "    </tr>\n",
       "    <tr>\n",
       "      <th id=\"T_5332f_level0_row9\" class=\"row_heading level0 row9\" >9</th>\n",
       "      <td id=\"T_5332f_row9_col0\" class=\"data row9 col0\" >High Cardinality Features</td>\n",
       "      <td id=\"T_5332f_row9_col1\" class=\"data row9 col1\" >False</td>\n",
       "    </tr>\n",
       "    <tr>\n",
       "      <th id=\"T_5332f_level0_row10\" class=\"row_heading level0 row10\" >10</th>\n",
       "      <td id=\"T_5332f_row10_col0\" class=\"data row10 col0\" >High Cardinality Method</td>\n",
       "      <td id=\"T_5332f_row10_col1\" class=\"data row10 col1\" >None</td>\n",
       "    </tr>\n",
       "    <tr>\n",
       "      <th id=\"T_5332f_level0_row11\" class=\"row_heading level0 row11\" >11</th>\n",
       "      <td id=\"T_5332f_row11_col0\" class=\"data row11 col0\" >Transformed Train Set</td>\n",
       "      <td id=\"T_5332f_row11_col1\" class=\"data row11 col1\" >(3192, 12)</td>\n",
       "    </tr>\n",
       "    <tr>\n",
       "      <th id=\"T_5332f_level0_row12\" class=\"row_heading level0 row12\" >12</th>\n",
       "      <td id=\"T_5332f_row12_col0\" class=\"data row12 col0\" >Transformed Test Set</td>\n",
       "      <td id=\"T_5332f_row12_col1\" class=\"data row12 col1\" >(2128, 12)</td>\n",
       "    </tr>\n",
       "    <tr>\n",
       "      <th id=\"T_5332f_level0_row13\" class=\"row_heading level0 row13\" >13</th>\n",
       "      <td id=\"T_5332f_row13_col0\" class=\"data row13 col0\" >Shuffle Train-Test</td>\n",
       "      <td id=\"T_5332f_row13_col1\" class=\"data row13 col1\" >True</td>\n",
       "    </tr>\n",
       "    <tr>\n",
       "      <th id=\"T_5332f_level0_row14\" class=\"row_heading level0 row14\" >14</th>\n",
       "      <td id=\"T_5332f_row14_col0\" class=\"data row14 col0\" >Stratify Train-Test</td>\n",
       "      <td id=\"T_5332f_row14_col1\" class=\"data row14 col1\" >False</td>\n",
       "    </tr>\n",
       "    <tr>\n",
       "      <th id=\"T_5332f_level0_row15\" class=\"row_heading level0 row15\" >15</th>\n",
       "      <td id=\"T_5332f_row15_col0\" class=\"data row15 col0\" >Fold Generator</td>\n",
       "      <td id=\"T_5332f_row15_col1\" class=\"data row15 col1\" >StratifiedKFold</td>\n",
       "    </tr>\n",
       "    <tr>\n",
       "      <th id=\"T_5332f_level0_row16\" class=\"row_heading level0 row16\" >16</th>\n",
       "      <td id=\"T_5332f_row16_col0\" class=\"data row16 col0\" >Fold Number</td>\n",
       "      <td id=\"T_5332f_row16_col1\" class=\"data row16 col1\" >10</td>\n",
       "    </tr>\n",
       "    <tr>\n",
       "      <th id=\"T_5332f_level0_row17\" class=\"row_heading level0 row17\" >17</th>\n",
       "      <td id=\"T_5332f_row17_col0\" class=\"data row17 col0\" >CPU Jobs</td>\n",
       "      <td id=\"T_5332f_row17_col1\" class=\"data row17 col1\" >-1</td>\n",
       "    </tr>\n",
       "    <tr>\n",
       "      <th id=\"T_5332f_level0_row18\" class=\"row_heading level0 row18\" >18</th>\n",
       "      <td id=\"T_5332f_row18_col0\" class=\"data row18 col0\" >Use GPU</td>\n",
       "      <td id=\"T_5332f_row18_col1\" class=\"data row18 col1\" >False</td>\n",
       "    </tr>\n",
       "    <tr>\n",
       "      <th id=\"T_5332f_level0_row19\" class=\"row_heading level0 row19\" >19</th>\n",
       "      <td id=\"T_5332f_row19_col0\" class=\"data row19 col0\" >Log Experiment</td>\n",
       "      <td id=\"T_5332f_row19_col1\" class=\"data row19 col1\" >True</td>\n",
       "    </tr>\n",
       "    <tr>\n",
       "      <th id=\"T_5332f_level0_row20\" class=\"row_heading level0 row20\" >20</th>\n",
       "      <td id=\"T_5332f_row20_col0\" class=\"data row20 col0\" >Experiment Name</td>\n",
       "      <td id=\"T_5332f_row20_col1\" class=\"data row20 col1\" >wine-model</td>\n",
       "    </tr>\n",
       "    <tr>\n",
       "      <th id=\"T_5332f_level0_row21\" class=\"row_heading level0 row21\" >21</th>\n",
       "      <td id=\"T_5332f_row21_col0\" class=\"data row21 col0\" >USI</td>\n",
       "      <td id=\"T_5332f_row21_col1\" class=\"data row21 col1\" >b589</td>\n",
       "    </tr>\n",
       "    <tr>\n",
       "      <th id=\"T_5332f_level0_row22\" class=\"row_heading level0 row22\" >22</th>\n",
       "      <td id=\"T_5332f_row22_col0\" class=\"data row22 col0\" >Imputation Type</td>\n",
       "      <td id=\"T_5332f_row22_col1\" class=\"data row22 col1\" >simple</td>\n",
       "    </tr>\n",
       "    <tr>\n",
       "      <th id=\"T_5332f_level0_row23\" class=\"row_heading level0 row23\" >23</th>\n",
       "      <td id=\"T_5332f_row23_col0\" class=\"data row23 col0\" >Iterative Imputation Iteration</td>\n",
       "      <td id=\"T_5332f_row23_col1\" class=\"data row23 col1\" >None</td>\n",
       "    </tr>\n",
       "    <tr>\n",
       "      <th id=\"T_5332f_level0_row24\" class=\"row_heading level0 row24\" >24</th>\n",
       "      <td id=\"T_5332f_row24_col0\" class=\"data row24 col0\" >Numeric Imputer</td>\n",
       "      <td id=\"T_5332f_row24_col1\" class=\"data row24 col1\" >mean</td>\n",
       "    </tr>\n",
       "    <tr>\n",
       "      <th id=\"T_5332f_level0_row25\" class=\"row_heading level0 row25\" >25</th>\n",
       "      <td id=\"T_5332f_row25_col0\" class=\"data row25 col0\" >Iterative Imputation Numeric Model</td>\n",
       "      <td id=\"T_5332f_row25_col1\" class=\"data row25 col1\" >None</td>\n",
       "    </tr>\n",
       "    <tr>\n",
       "      <th id=\"T_5332f_level0_row26\" class=\"row_heading level0 row26\" >26</th>\n",
       "      <td id=\"T_5332f_row26_col0\" class=\"data row26 col0\" >Categorical Imputer</td>\n",
       "      <td id=\"T_5332f_row26_col1\" class=\"data row26 col1\" >constant</td>\n",
       "    </tr>\n",
       "    <tr>\n",
       "      <th id=\"T_5332f_level0_row27\" class=\"row_heading level0 row27\" >27</th>\n",
       "      <td id=\"T_5332f_row27_col0\" class=\"data row27 col0\" >Iterative Imputation Categorical Model</td>\n",
       "      <td id=\"T_5332f_row27_col1\" class=\"data row27 col1\" >None</td>\n",
       "    </tr>\n",
       "    <tr>\n",
       "      <th id=\"T_5332f_level0_row28\" class=\"row_heading level0 row28\" >28</th>\n",
       "      <td id=\"T_5332f_row28_col0\" class=\"data row28 col0\" >Unknown Categoricals Handling</td>\n",
       "      <td id=\"T_5332f_row28_col1\" class=\"data row28 col1\" >least_frequent</td>\n",
       "    </tr>\n",
       "    <tr>\n",
       "      <th id=\"T_5332f_level0_row29\" class=\"row_heading level0 row29\" >29</th>\n",
       "      <td id=\"T_5332f_row29_col0\" class=\"data row29 col0\" >Normalize</td>\n",
       "      <td id=\"T_5332f_row29_col1\" class=\"data row29 col1\" >True</td>\n",
       "    </tr>\n",
       "    <tr>\n",
       "      <th id=\"T_5332f_level0_row30\" class=\"row_heading level0 row30\" >30</th>\n",
       "      <td id=\"T_5332f_row30_col0\" class=\"data row30 col0\" >Normalize Method</td>\n",
       "      <td id=\"T_5332f_row30_col1\" class=\"data row30 col1\" >zscore</td>\n",
       "    </tr>\n",
       "    <tr>\n",
       "      <th id=\"T_5332f_level0_row31\" class=\"row_heading level0 row31\" >31</th>\n",
       "      <td id=\"T_5332f_row31_col0\" class=\"data row31 col0\" >Transformation</td>\n",
       "      <td id=\"T_5332f_row31_col1\" class=\"data row31 col1\" >True</td>\n",
       "    </tr>\n",
       "    <tr>\n",
       "      <th id=\"T_5332f_level0_row32\" class=\"row_heading level0 row32\" >32</th>\n",
       "      <td id=\"T_5332f_row32_col0\" class=\"data row32 col0\" >Transformation Method</td>\n",
       "      <td id=\"T_5332f_row32_col1\" class=\"data row32 col1\" >yeo-johnson</td>\n",
       "    </tr>\n",
       "    <tr>\n",
       "      <th id=\"T_5332f_level0_row33\" class=\"row_heading level0 row33\" >33</th>\n",
       "      <td id=\"T_5332f_row33_col0\" class=\"data row33 col0\" >PCA</td>\n",
       "      <td id=\"T_5332f_row33_col1\" class=\"data row33 col1\" >False</td>\n",
       "    </tr>\n",
       "    <tr>\n",
       "      <th id=\"T_5332f_level0_row34\" class=\"row_heading level0 row34\" >34</th>\n",
       "      <td id=\"T_5332f_row34_col0\" class=\"data row34 col0\" >PCA Method</td>\n",
       "      <td id=\"T_5332f_row34_col1\" class=\"data row34 col1\" >None</td>\n",
       "    </tr>\n",
       "    <tr>\n",
       "      <th id=\"T_5332f_level0_row35\" class=\"row_heading level0 row35\" >35</th>\n",
       "      <td id=\"T_5332f_row35_col0\" class=\"data row35 col0\" >PCA Components</td>\n",
       "      <td id=\"T_5332f_row35_col1\" class=\"data row35 col1\" >None</td>\n",
       "    </tr>\n",
       "    <tr>\n",
       "      <th id=\"T_5332f_level0_row36\" class=\"row_heading level0 row36\" >36</th>\n",
       "      <td id=\"T_5332f_row36_col0\" class=\"data row36 col0\" >Ignore Low Variance</td>\n",
       "      <td id=\"T_5332f_row36_col1\" class=\"data row36 col1\" >True</td>\n",
       "    </tr>\n",
       "    <tr>\n",
       "      <th id=\"T_5332f_level0_row37\" class=\"row_heading level0 row37\" >37</th>\n",
       "      <td id=\"T_5332f_row37_col0\" class=\"data row37 col0\" >Combine Rare Levels</td>\n",
       "      <td id=\"T_5332f_row37_col1\" class=\"data row37 col1\" >False</td>\n",
       "    </tr>\n",
       "    <tr>\n",
       "      <th id=\"T_5332f_level0_row38\" class=\"row_heading level0 row38\" >38</th>\n",
       "      <td id=\"T_5332f_row38_col0\" class=\"data row38 col0\" >Rare Level Threshold</td>\n",
       "      <td id=\"T_5332f_row38_col1\" class=\"data row38 col1\" >None</td>\n",
       "    </tr>\n",
       "    <tr>\n",
       "      <th id=\"T_5332f_level0_row39\" class=\"row_heading level0 row39\" >39</th>\n",
       "      <td id=\"T_5332f_row39_col0\" class=\"data row39 col0\" >Numeric Binning</td>\n",
       "      <td id=\"T_5332f_row39_col1\" class=\"data row39 col1\" >False</td>\n",
       "    </tr>\n",
       "    <tr>\n",
       "      <th id=\"T_5332f_level0_row40\" class=\"row_heading level0 row40\" >40</th>\n",
       "      <td id=\"T_5332f_row40_col0\" class=\"data row40 col0\" >Remove Outliers</td>\n",
       "      <td id=\"T_5332f_row40_col1\" class=\"data row40 col1\" >False</td>\n",
       "    </tr>\n",
       "    <tr>\n",
       "      <th id=\"T_5332f_level0_row41\" class=\"row_heading level0 row41\" >41</th>\n",
       "      <td id=\"T_5332f_row41_col0\" class=\"data row41 col0\" >Outliers Threshold</td>\n",
       "      <td id=\"T_5332f_row41_col1\" class=\"data row41 col1\" >None</td>\n",
       "    </tr>\n",
       "    <tr>\n",
       "      <th id=\"T_5332f_level0_row42\" class=\"row_heading level0 row42\" >42</th>\n",
       "      <td id=\"T_5332f_row42_col0\" class=\"data row42 col0\" >Remove Multicollinearity</td>\n",
       "      <td id=\"T_5332f_row42_col1\" class=\"data row42 col1\" >True</td>\n",
       "    </tr>\n",
       "    <tr>\n",
       "      <th id=\"T_5332f_level0_row43\" class=\"row_heading level0 row43\" >43</th>\n",
       "      <td id=\"T_5332f_row43_col0\" class=\"data row43 col0\" >Multicollinearity Threshold</td>\n",
       "      <td id=\"T_5332f_row43_col1\" class=\"data row43 col1\" >0.950000</td>\n",
       "    </tr>\n",
       "    <tr>\n",
       "      <th id=\"T_5332f_level0_row44\" class=\"row_heading level0 row44\" >44</th>\n",
       "      <td id=\"T_5332f_row44_col0\" class=\"data row44 col0\" >Remove Perfect Collinearity</td>\n",
       "      <td id=\"T_5332f_row44_col1\" class=\"data row44 col1\" >True</td>\n",
       "    </tr>\n",
       "    <tr>\n",
       "      <th id=\"T_5332f_level0_row45\" class=\"row_heading level0 row45\" >45</th>\n",
       "      <td id=\"T_5332f_row45_col0\" class=\"data row45 col0\" >Clustering</td>\n",
       "      <td id=\"T_5332f_row45_col1\" class=\"data row45 col1\" >False</td>\n",
       "    </tr>\n",
       "    <tr>\n",
       "      <th id=\"T_5332f_level0_row46\" class=\"row_heading level0 row46\" >46</th>\n",
       "      <td id=\"T_5332f_row46_col0\" class=\"data row46 col0\" >Clustering Iteration</td>\n",
       "      <td id=\"T_5332f_row46_col1\" class=\"data row46 col1\" >None</td>\n",
       "    </tr>\n",
       "    <tr>\n",
       "      <th id=\"T_5332f_level0_row47\" class=\"row_heading level0 row47\" >47</th>\n",
       "      <td id=\"T_5332f_row47_col0\" class=\"data row47 col0\" >Polynomial Features</td>\n",
       "      <td id=\"T_5332f_row47_col1\" class=\"data row47 col1\" >False</td>\n",
       "    </tr>\n",
       "    <tr>\n",
       "      <th id=\"T_5332f_level0_row48\" class=\"row_heading level0 row48\" >48</th>\n",
       "      <td id=\"T_5332f_row48_col0\" class=\"data row48 col0\" >Polynomial Degree</td>\n",
       "      <td id=\"T_5332f_row48_col1\" class=\"data row48 col1\" >None</td>\n",
       "    </tr>\n",
       "    <tr>\n",
       "      <th id=\"T_5332f_level0_row49\" class=\"row_heading level0 row49\" >49</th>\n",
       "      <td id=\"T_5332f_row49_col0\" class=\"data row49 col0\" >Trignometry Features</td>\n",
       "      <td id=\"T_5332f_row49_col1\" class=\"data row49 col1\" >False</td>\n",
       "    </tr>\n",
       "    <tr>\n",
       "      <th id=\"T_5332f_level0_row50\" class=\"row_heading level0 row50\" >50</th>\n",
       "      <td id=\"T_5332f_row50_col0\" class=\"data row50 col0\" >Polynomial Threshold</td>\n",
       "      <td id=\"T_5332f_row50_col1\" class=\"data row50 col1\" >None</td>\n",
       "    </tr>\n",
       "    <tr>\n",
       "      <th id=\"T_5332f_level0_row51\" class=\"row_heading level0 row51\" >51</th>\n",
       "      <td id=\"T_5332f_row51_col0\" class=\"data row51 col0\" >Group Features</td>\n",
       "      <td id=\"T_5332f_row51_col1\" class=\"data row51 col1\" >False</td>\n",
       "    </tr>\n",
       "    <tr>\n",
       "      <th id=\"T_5332f_level0_row52\" class=\"row_heading level0 row52\" >52</th>\n",
       "      <td id=\"T_5332f_row52_col0\" class=\"data row52 col0\" >Feature Selection</td>\n",
       "      <td id=\"T_5332f_row52_col1\" class=\"data row52 col1\" >False</td>\n",
       "    </tr>\n",
       "    <tr>\n",
       "      <th id=\"T_5332f_level0_row53\" class=\"row_heading level0 row53\" >53</th>\n",
       "      <td id=\"T_5332f_row53_col0\" class=\"data row53 col0\" >Feature Selection Method</td>\n",
       "      <td id=\"T_5332f_row53_col1\" class=\"data row53 col1\" >classic</td>\n",
       "    </tr>\n",
       "    <tr>\n",
       "      <th id=\"T_5332f_level0_row54\" class=\"row_heading level0 row54\" >54</th>\n",
       "      <td id=\"T_5332f_row54_col0\" class=\"data row54 col0\" >Features Selection Threshold</td>\n",
       "      <td id=\"T_5332f_row54_col1\" class=\"data row54 col1\" >None</td>\n",
       "    </tr>\n",
       "    <tr>\n",
       "      <th id=\"T_5332f_level0_row55\" class=\"row_heading level0 row55\" >55</th>\n",
       "      <td id=\"T_5332f_row55_col0\" class=\"data row55 col0\" >Feature Interaction</td>\n",
       "      <td id=\"T_5332f_row55_col1\" class=\"data row55 col1\" >False</td>\n",
       "    </tr>\n",
       "    <tr>\n",
       "      <th id=\"T_5332f_level0_row56\" class=\"row_heading level0 row56\" >56</th>\n",
       "      <td id=\"T_5332f_row56_col0\" class=\"data row56 col0\" >Feature Ratio</td>\n",
       "      <td id=\"T_5332f_row56_col1\" class=\"data row56 col1\" >False</td>\n",
       "    </tr>\n",
       "    <tr>\n",
       "      <th id=\"T_5332f_level0_row57\" class=\"row_heading level0 row57\" >57</th>\n",
       "      <td id=\"T_5332f_row57_col0\" class=\"data row57 col0\" >Interaction Threshold</td>\n",
       "      <td id=\"T_5332f_row57_col1\" class=\"data row57 col1\" >None</td>\n",
       "    </tr>\n",
       "    <tr>\n",
       "      <th id=\"T_5332f_level0_row58\" class=\"row_heading level0 row58\" >58</th>\n",
       "      <td id=\"T_5332f_row58_col0\" class=\"data row58 col0\" >Fix Imbalance</td>\n",
       "      <td id=\"T_5332f_row58_col1\" class=\"data row58 col1\" >False</td>\n",
       "    </tr>\n",
       "    <tr>\n",
       "      <th id=\"T_5332f_level0_row59\" class=\"row_heading level0 row59\" >59</th>\n",
       "      <td id=\"T_5332f_row59_col0\" class=\"data row59 col0\" >Fix Imbalance Method</td>\n",
       "      <td id=\"T_5332f_row59_col1\" class=\"data row59 col1\" >SMOTE</td>\n",
       "    </tr>\n",
       "  </tbody>\n",
       "</table>\n"
      ],
      "text/plain": [
       "<pandas.io.formats.style.Styler at 0x202edfb3460>"
      ]
     },
     "metadata": {},
     "output_type": "display_data"
    }
   ],
   "source": [
    "experiment = pc.setup(session_id=123,\n",
    "                      data = df_wine, # Configurações de dados\n",
    "                      train_size=0.6,\n",
    "                      target = wine_target_col,\n",
    "                      profile = False, # Analise interativa de variaveis\n",
    "                      fold_strategy = 'stratifiedkfold', # Validação cruzada\n",
    "                      fold = 10,\n",
    "                      normalize = True,  # Normalização, transformação e remoção de variáveis\n",
    "                      transformation = True, \n",
    "                      ignore_low_variance = True,\n",
    "                      remove_multicollinearity = True,\n",
    "                      multicollinearity_threshold = 0.95,\n",
    "                      bin_numeric_features = None, # Binarizacao de variaveis\n",
    "                      group_features = None, # Grupos de variáveis para combinar na engenharia de variaveis\n",
    "                      categorical_features = ['type'],\n",
    "                      ignore_features = ['target_label'],\n",
    "                      log_experiment = True, # Logging dos experimentos e afins\n",
    "                      experiment_name = 'wine-model',\n",
    "                      silent=True)"
   ]
  },
  {
   "cell_type": "markdown",
   "id": "d2c1c911-c281-449b-885e-48ae94d5d14a",
   "metadata": {},
   "source": [
    "## Seleção de Modelos"
   ]
  },
  {
   "cell_type": "code",
   "execution_count": 5,
   "id": "1ed3987a-37dc-45cc-a003-bfbaefb66880",
   "metadata": {},
   "outputs": [],
   "source": [
    "# pc.models()\n",
    "# pc.compare_models?"
   ]
  },
  {
   "cell_type": "code",
   "execution_count": 6,
   "id": "d593083f-f3bb-47d0-85cc-dbe5f62750d7",
   "metadata": {},
   "outputs": [],
   "source": [
    "# pc.models()"
   ]
  },
  {
   "cell_type": "code",
   "execution_count": 7,
   "id": "6983cfdc-27d4-4188-a072-ed0e09b90a8c",
   "metadata": {},
   "outputs": [
    {
     "data": {
      "text/html": [
       "<style type=\"text/css\">\n",
       "#T_3b6cb th {\n",
       "  text-align: left;\n",
       "}\n",
       "#T_3b6cb_row0_col0, #T_3b6cb_row1_col0, #T_3b6cb_row1_col1, #T_3b6cb_row1_col2, #T_3b6cb_row1_col3, #T_3b6cb_row1_col4, #T_3b6cb_row1_col5, #T_3b6cb_row1_col6, #T_3b6cb_row1_col7, #T_3b6cb_row2_col0, #T_3b6cb_row2_col1, #T_3b6cb_row2_col2, #T_3b6cb_row2_col3, #T_3b6cb_row2_col4, #T_3b6cb_row2_col5, #T_3b6cb_row2_col6, #T_3b6cb_row2_col7 {\n",
       "  text-align: left;\n",
       "}\n",
       "#T_3b6cb_row0_col1, #T_3b6cb_row0_col2, #T_3b6cb_row0_col3, #T_3b6cb_row0_col4, #T_3b6cb_row0_col5, #T_3b6cb_row0_col6, #T_3b6cb_row0_col7 {\n",
       "  text-align: left;\n",
       "  background-color: yellow;\n",
       "}\n",
       "#T_3b6cb_row0_col8, #T_3b6cb_row1_col8 {\n",
       "  text-align: left;\n",
       "  background-color: lightgrey;\n",
       "}\n",
       "#T_3b6cb_row2_col8 {\n",
       "  text-align: left;\n",
       "  background-color: yellow;\n",
       "  background-color: lightgrey;\n",
       "}\n",
       "</style>\n",
       "<table id=\"T_3b6cb\">\n",
       "  <thead>\n",
       "    <tr>\n",
       "      <th class=\"blank level0\" >&nbsp;</th>\n",
       "      <th id=\"T_3b6cb_level0_col0\" class=\"col_heading level0 col0\" >Model</th>\n",
       "      <th id=\"T_3b6cb_level0_col1\" class=\"col_heading level0 col1\" >Accuracy</th>\n",
       "      <th id=\"T_3b6cb_level0_col2\" class=\"col_heading level0 col2\" >AUC</th>\n",
       "      <th id=\"T_3b6cb_level0_col3\" class=\"col_heading level0 col3\" >Recall</th>\n",
       "      <th id=\"T_3b6cb_level0_col4\" class=\"col_heading level0 col4\" >Prec.</th>\n",
       "      <th id=\"T_3b6cb_level0_col5\" class=\"col_heading level0 col5\" >F1</th>\n",
       "      <th id=\"T_3b6cb_level0_col6\" class=\"col_heading level0 col6\" >Kappa</th>\n",
       "      <th id=\"T_3b6cb_level0_col7\" class=\"col_heading level0 col7\" >MCC</th>\n",
       "      <th id=\"T_3b6cb_level0_col8\" class=\"col_heading level0 col8\" >TT (Sec)</th>\n",
       "    </tr>\n",
       "  </thead>\n",
       "  <tbody>\n",
       "    <tr>\n",
       "      <th id=\"T_3b6cb_level0_row0\" class=\"row_heading level0 row0\" >rf</th>\n",
       "      <td id=\"T_3b6cb_row0_col0\" class=\"data row0 col0\" >Random Forest Classifier</td>\n",
       "      <td id=\"T_3b6cb_row0_col1\" class=\"data row0 col1\" >0.7628</td>\n",
       "      <td id=\"T_3b6cb_row0_col2\" class=\"data row0 col2\" >0.8294</td>\n",
       "      <td id=\"T_3b6cb_row0_col3\" class=\"data row0 col3\" >0.8373</td>\n",
       "      <td id=\"T_3b6cb_row0_col4\" class=\"data row0 col4\" >0.7993</td>\n",
       "      <td id=\"T_3b6cb_row0_col5\" class=\"data row0 col5\" >0.8173</td>\n",
       "      <td id=\"T_3b6cb_row0_col6\" class=\"data row0 col6\" >0.4794</td>\n",
       "      <td id=\"T_3b6cb_row0_col7\" class=\"data row0 col7\" >0.4818</td>\n",
       "      <td id=\"T_3b6cb_row0_col8\" class=\"data row0 col8\" >0.1860</td>\n",
       "    </tr>\n",
       "    <tr>\n",
       "      <th id=\"T_3b6cb_level0_row1\" class=\"row_heading level0 row1\" >lr</th>\n",
       "      <td id=\"T_3b6cb_row1_col0\" class=\"data row1 col0\" >Logistic Regression</td>\n",
       "      <td id=\"T_3b6cb_row1_col1\" class=\"data row1 col1\" >0.7409</td>\n",
       "      <td id=\"T_3b6cb_row1_col2\" class=\"data row1 col2\" >0.8134</td>\n",
       "      <td id=\"T_3b6cb_row1_col3\" class=\"data row1 col3\" >0.8348</td>\n",
       "      <td id=\"T_3b6cb_row1_col4\" class=\"data row1 col4\" >0.7745</td>\n",
       "      <td id=\"T_3b6cb_row1_col5\" class=\"data row1 col5\" >0.8032</td>\n",
       "      <td id=\"T_3b6cb_row1_col6\" class=\"data row1 col6\" >0.4253</td>\n",
       "      <td id=\"T_3b6cb_row1_col7\" class=\"data row1 col7\" >0.4286</td>\n",
       "      <td id=\"T_3b6cb_row1_col8\" class=\"data row1 col8\" >2.2380</td>\n",
       "    </tr>\n",
       "    <tr>\n",
       "      <th id=\"T_3b6cb_level0_row2\" class=\"row_heading level0 row2\" >dt</th>\n",
       "      <td id=\"T_3b6cb_row2_col0\" class=\"data row2 col0\" >Decision Tree Classifier</td>\n",
       "      <td id=\"T_3b6cb_row2_col1\" class=\"data row2 col1\" >0.6726</td>\n",
       "      <td id=\"T_3b6cb_row2_col2\" class=\"data row2 col2\" >0.6507</td>\n",
       "      <td id=\"T_3b6cb_row2_col3\" class=\"data row2 col3\" >0.7330</td>\n",
       "      <td id=\"T_3b6cb_row2_col4\" class=\"data row2 col4\" >0.7461</td>\n",
       "      <td id=\"T_3b6cb_row2_col5\" class=\"data row2 col5\" >0.7392</td>\n",
       "      <td id=\"T_3b6cb_row2_col6\" class=\"data row2 col6\" >0.2995</td>\n",
       "      <td id=\"T_3b6cb_row2_col7\" class=\"data row2 col7\" >0.3000</td>\n",
       "      <td id=\"T_3b6cb_row2_col8\" class=\"data row2 col8\" >0.0080</td>\n",
       "    </tr>\n",
       "  </tbody>\n",
       "</table>\n"
      ],
      "text/plain": [
       "<pandas.io.formats.style.Styler at 0x202edfd5bb0>"
      ]
     },
     "metadata": {},
     "output_type": "display_data"
    }
   ],
   "source": [
    "# O PyCaret treina os modelos com hiperparametros defaults, sem ajuste fino.\n",
    "model = pc.compare_models(n_select = 1, sort='Accuracy', include=['lr', 'dt', 'rf'])"
   ]
  },
  {
   "cell_type": "code",
   "execution_count": 8,
   "id": "b317bd60-f2e5-4355-8942-304f2e014a89",
   "metadata": {},
   "outputs": [
    {
     "data": {
      "text/plain": [
       "RandomForestClassifier(bootstrap=True, ccp_alpha=0.0, class_weight=None,\n",
       "                       criterion='gini', max_depth=None, max_features='auto',\n",
       "                       max_leaf_nodes=None, max_samples=None,\n",
       "                       min_impurity_decrease=0.0, min_impurity_split=None,\n",
       "                       min_samples_leaf=1, min_samples_split=2,\n",
       "                       min_weight_fraction_leaf=0.0, n_estimators=100,\n",
       "                       n_jobs=-1, oob_score=False, random_state=123, verbose=0,\n",
       "                       warm_start=False)"
      ]
     },
     "execution_count": 8,
     "metadata": {},
     "output_type": "execute_result"
    }
   ],
   "source": [
    "model"
   ]
  },
  {
   "cell_type": "markdown",
   "id": "d1fb8655-248c-4b19-afc9-2208d49664b0",
   "metadata": {},
   "source": [
    "## Ajuste de Hiperparâmetros "
   ]
  },
  {
   "cell_type": "code",
   "execution_count": 9,
   "id": "25f407da-61e4-4076-8b7b-3efdb22af196",
   "metadata": {},
   "outputs": [],
   "source": [
    "# pc.tune_model?"
   ]
  },
  {
   "cell_type": "code",
   "execution_count": 10,
   "id": "f7dee424-fdc3-482e-929a-34b8beeac949",
   "metadata": {},
   "outputs": [
    {
     "data": {
      "text/html": [
       "<style type=\"text/css\">\n",
       "#T_88045_row10_col0, #T_88045_row10_col1, #T_88045_row10_col2, #T_88045_row10_col3, #T_88045_row10_col4, #T_88045_row10_col5, #T_88045_row10_col6 {\n",
       "  background: yellow;\n",
       "}\n",
       "</style>\n",
       "<table id=\"T_88045\">\n",
       "  <thead>\n",
       "    <tr>\n",
       "      <th class=\"blank level0\" >&nbsp;</th>\n",
       "      <th id=\"T_88045_level0_col0\" class=\"col_heading level0 col0\" >Accuracy</th>\n",
       "      <th id=\"T_88045_level0_col1\" class=\"col_heading level0 col1\" >AUC</th>\n",
       "      <th id=\"T_88045_level0_col2\" class=\"col_heading level0 col2\" >Recall</th>\n",
       "      <th id=\"T_88045_level0_col3\" class=\"col_heading level0 col3\" >Prec.</th>\n",
       "      <th id=\"T_88045_level0_col4\" class=\"col_heading level0 col4\" >F1</th>\n",
       "      <th id=\"T_88045_level0_col5\" class=\"col_heading level0 col5\" >Kappa</th>\n",
       "      <th id=\"T_88045_level0_col6\" class=\"col_heading level0 col6\" >MCC</th>\n",
       "    </tr>\n",
       "  </thead>\n",
       "  <tbody>\n",
       "    <tr>\n",
       "      <th id=\"T_88045_level0_row0\" class=\"row_heading level0 row0\" >0</th>\n",
       "      <td id=\"T_88045_row0_col0\" class=\"data row0 col0\" >0.7562</td>\n",
       "      <td id=\"T_88045_row0_col1\" class=\"data row0 col1\" >0.8186</td>\n",
       "      <td id=\"T_88045_row0_col2\" class=\"data row0 col2\" >0.7931</td>\n",
       "      <td id=\"T_88045_row0_col3\" class=\"data row0 col3\" >0.8173</td>\n",
       "      <td id=\"T_88045_row0_col4\" class=\"data row0 col4\" >0.8050</td>\n",
       "      <td id=\"T_88045_row0_col5\" class=\"data row0 col5\" >0.4802</td>\n",
       "      <td id=\"T_88045_row0_col6\" class=\"data row0 col6\" >0.4806</td>\n",
       "    </tr>\n",
       "    <tr>\n",
       "      <th id=\"T_88045_level0_row1\" class=\"row_heading level0 row1\" >1</th>\n",
       "      <td id=\"T_88045_row1_col0\" class=\"data row1 col0\" >0.7188</td>\n",
       "      <td id=\"T_88045_row1_col1\" class=\"data row1 col1\" >0.7720</td>\n",
       "      <td id=\"T_88045_row1_col2\" class=\"data row1 col2\" >0.7291</td>\n",
       "      <td id=\"T_88045_row1_col3\" class=\"data row1 col3\" >0.8087</td>\n",
       "      <td id=\"T_88045_row1_col4\" class=\"data row1 col4\" >0.7668</td>\n",
       "      <td id=\"T_88045_row1_col5\" class=\"data row1 col5\" >0.4149</td>\n",
       "      <td id=\"T_88045_row1_col6\" class=\"data row1 col6\" >0.4184</td>\n",
       "    </tr>\n",
       "    <tr>\n",
       "      <th id=\"T_88045_level0_row2\" class=\"row_heading level0 row2\" >2</th>\n",
       "      <td id=\"T_88045_row2_col0\" class=\"data row2 col0\" >0.7461</td>\n",
       "      <td id=\"T_88045_row2_col1\" class=\"data row2 col1\" >0.7804</td>\n",
       "      <td id=\"T_88045_row2_col2\" class=\"data row2 col2\" >0.8119</td>\n",
       "      <td id=\"T_88045_row2_col3\" class=\"data row2 col3\" >0.7923</td>\n",
       "      <td id=\"T_88045_row2_col4\" class=\"data row2 col4\" >0.8020</td>\n",
       "      <td id=\"T_88045_row2_col5\" class=\"data row2 col5\" >0.4484</td>\n",
       "      <td id=\"T_88045_row2_col6\" class=\"data row2 col6\" >0.4487</td>\n",
       "    </tr>\n",
       "    <tr>\n",
       "      <th id=\"T_88045_level0_row3\" class=\"row_heading level0 row3\" >3</th>\n",
       "      <td id=\"T_88045_row3_col0\" class=\"data row3 col0\" >0.6771</td>\n",
       "      <td id=\"T_88045_row3_col1\" class=\"data row3 col1\" >0.7437</td>\n",
       "      <td id=\"T_88045_row3_col2\" class=\"data row3 col2\" >0.8069</td>\n",
       "      <td id=\"T_88045_row3_col3\" class=\"data row3 col3\" >0.7181</td>\n",
       "      <td id=\"T_88045_row3_col4\" class=\"data row3 col4\" >0.7599</td>\n",
       "      <td id=\"T_88045_row3_col5\" class=\"data row3 col5\" >0.2722</td>\n",
       "      <td id=\"T_88045_row3_col6\" class=\"data row3 col6\" >0.2765</td>\n",
       "    </tr>\n",
       "    <tr>\n",
       "      <th id=\"T_88045_level0_row4\" class=\"row_heading level0 row4\" >4</th>\n",
       "      <td id=\"T_88045_row4_col0\" class=\"data row4 col0\" >0.7335</td>\n",
       "      <td id=\"T_88045_row4_col1\" class=\"data row4 col1\" >0.7806</td>\n",
       "      <td id=\"T_88045_row4_col2\" class=\"data row4 col2\" >0.7772</td>\n",
       "      <td id=\"T_88045_row4_col3\" class=\"data row4 col3\" >0.7970</td>\n",
       "      <td id=\"T_88045_row4_col4\" class=\"data row4 col4\" >0.7870</td>\n",
       "      <td id=\"T_88045_row4_col5\" class=\"data row4 col5\" >0.4315</td>\n",
       "      <td id=\"T_88045_row4_col6\" class=\"data row4 col6\" >0.4317</td>\n",
       "    </tr>\n",
       "    <tr>\n",
       "      <th id=\"T_88045_level0_row5\" class=\"row_heading level0 row5\" >5</th>\n",
       "      <td id=\"T_88045_row5_col0\" class=\"data row5 col0\" >0.7398</td>\n",
       "      <td id=\"T_88045_row5_col1\" class=\"data row5 col1\" >0.8103</td>\n",
       "      <td id=\"T_88045_row5_col2\" class=\"data row5 col2\" >0.7327</td>\n",
       "      <td id=\"T_88045_row5_col3\" class=\"data row5 col3\" >0.8362</td>\n",
       "      <td id=\"T_88045_row5_col4\" class=\"data row5 col4\" >0.7810</td>\n",
       "      <td id=\"T_88045_row5_col5\" class=\"data row5 col5\" >0.4640</td>\n",
       "      <td id=\"T_88045_row5_col6\" class=\"data row5 col6\" >0.4701</td>\n",
       "    </tr>\n",
       "    <tr>\n",
       "      <th id=\"T_88045_level0_row6\" class=\"row_heading level0 row6\" >6</th>\n",
       "      <td id=\"T_88045_row6_col0\" class=\"data row6 col0\" >0.7429</td>\n",
       "      <td id=\"T_88045_row6_col1\" class=\"data row6 col1\" >0.7850</td>\n",
       "      <td id=\"T_88045_row6_col2\" class=\"data row6 col2\" >0.7970</td>\n",
       "      <td id=\"T_88045_row6_col3\" class=\"data row6 col3\" >0.7970</td>\n",
       "      <td id=\"T_88045_row6_col4\" class=\"data row6 col4\" >0.7970</td>\n",
       "      <td id=\"T_88045_row6_col5\" class=\"data row6 col5\" >0.4466</td>\n",
       "      <td id=\"T_88045_row6_col6\" class=\"data row6 col6\" >0.4466</td>\n",
       "    </tr>\n",
       "    <tr>\n",
       "      <th id=\"T_88045_level0_row7\" class=\"row_heading level0 row7\" >7</th>\n",
       "      <td id=\"T_88045_row7_col0\" class=\"data row7 col0\" >0.6771</td>\n",
       "      <td id=\"T_88045_row7_col1\" class=\"data row7 col1\" >0.7496</td>\n",
       "      <td id=\"T_88045_row7_col2\" class=\"data row7 col2\" >0.6980</td>\n",
       "      <td id=\"T_88045_row7_col3\" class=\"data row7 col3\" >0.7705</td>\n",
       "      <td id=\"T_88045_row7_col4\" class=\"data row7 col4\" >0.7325</td>\n",
       "      <td id=\"T_88045_row7_col5\" class=\"data row7 col5\" >0.3278</td>\n",
       "      <td id=\"T_88045_row7_col6\" class=\"data row7 col6\" >0.3304</td>\n",
       "    </tr>\n",
       "    <tr>\n",
       "      <th id=\"T_88045_level0_row8\" class=\"row_heading level0 row8\" >8</th>\n",
       "      <td id=\"T_88045_row8_col0\" class=\"data row8 col0\" >0.7492</td>\n",
       "      <td id=\"T_88045_row8_col1\" class=\"data row8 col1\" >0.7944</td>\n",
       "      <td id=\"T_88045_row8_col2\" class=\"data row8 col2\" >0.8713</td>\n",
       "      <td id=\"T_88045_row8_col3\" class=\"data row8 col3\" >0.7652</td>\n",
       "      <td id=\"T_88045_row8_col4\" class=\"data row8 col4\" >0.8148</td>\n",
       "      <td id=\"T_88045_row8_col5\" class=\"data row8 col5\" >0.4315</td>\n",
       "      <td id=\"T_88045_row8_col6\" class=\"data row8 col6\" >0.4403</td>\n",
       "    </tr>\n",
       "    <tr>\n",
       "      <th id=\"T_88045_level0_row9\" class=\"row_heading level0 row9\" >9</th>\n",
       "      <td id=\"T_88045_row9_col0\" class=\"data row9 col0\" >0.7116</td>\n",
       "      <td id=\"T_88045_row9_col1\" class=\"data row9 col1\" >0.7623</td>\n",
       "      <td id=\"T_88045_row9_col2\" class=\"data row9 col2\" >0.8218</td>\n",
       "      <td id=\"T_88045_row9_col3\" class=\"data row9 col3\" >0.7477</td>\n",
       "      <td id=\"T_88045_row9_col4\" class=\"data row9 col4\" >0.7830</td>\n",
       "      <td id=\"T_88045_row9_col5\" class=\"data row9 col5\" >0.3560</td>\n",
       "      <td id=\"T_88045_row9_col6\" class=\"data row9 col6\" >0.3595</td>\n",
       "    </tr>\n",
       "    <tr>\n",
       "      <th id=\"T_88045_level0_row10\" class=\"row_heading level0 row10\" >Mean</th>\n",
       "      <td id=\"T_88045_row10_col0\" class=\"data row10 col0\" >0.7252</td>\n",
       "      <td id=\"T_88045_row10_col1\" class=\"data row10 col1\" >0.7797</td>\n",
       "      <td id=\"T_88045_row10_col2\" class=\"data row10 col2\" >0.7839</td>\n",
       "      <td id=\"T_88045_row10_col3\" class=\"data row10 col3\" >0.7850</td>\n",
       "      <td id=\"T_88045_row10_col4\" class=\"data row10 col4\" >0.7829</td>\n",
       "      <td id=\"T_88045_row10_col5\" class=\"data row10 col5\" >0.4073</td>\n",
       "      <td id=\"T_88045_row10_col6\" class=\"data row10 col6\" >0.4103</td>\n",
       "    </tr>\n",
       "    <tr>\n",
       "      <th id=\"T_88045_level0_row11\" class=\"row_heading level0 row11\" >SD</th>\n",
       "      <td id=\"T_88045_row11_col0\" class=\"data row11 col0\" >0.0273</td>\n",
       "      <td id=\"T_88045_row11_col1\" class=\"data row11 col1\" >0.0229</td>\n",
       "      <td id=\"T_88045_row11_col2\" class=\"data row11 col2\" >0.0487</td>\n",
       "      <td id=\"T_88045_row11_col3\" class=\"data row11 col3\" >0.0332</td>\n",
       "      <td id=\"T_88045_row11_col4\" class=\"data row11 col4\" >0.0233</td>\n",
       "      <td id=\"T_88045_row11_col5\" class=\"data row11 col5\" >0.0634</td>\n",
       "      <td id=\"T_88045_row11_col6\" class=\"data row11 col6\" >0.0629</td>\n",
       "    </tr>\n",
       "  </tbody>\n",
       "</table>\n"
      ],
      "text/plain": [
       "<pandas.io.formats.style.Styler at 0x202ed853e80>"
      ]
     },
     "metadata": {},
     "output_type": "display_data"
    }
   ],
   "source": [
    "tuned_model = pc.tune_model(model,\n",
    "                            optimize = 'f1',\n",
    "                            search_library = 'scikit-learn',\n",
    "                            search_algorithm = 'random',\n",
    "                            n_iter = 4)\n"
   ]
  },
  {
   "cell_type": "markdown",
   "id": "64939d16-5de8-47e1-b87c-71ba54784722",
   "metadata": {},
   "source": [
    "## Avaliação do Modelo "
   ]
  },
  {
   "cell_type": "code",
   "execution_count": 11,
   "id": "1ddb11dc-1d5c-4d84-87ee-0cc826fc1045",
   "metadata": {},
   "outputs": [],
   "source": [
    "# pc.evaluate_model?\n",
    "# pc.plot_model?"
   ]
  },
  {
   "cell_type": "code",
   "execution_count": 12,
   "id": "ac1edf47-b6df-4dac-bf6b-22ba9da44dcb",
   "metadata": {},
   "outputs": [
    {
     "data": {
      "application/vnd.jupyter.widget-view+json": {
       "model_id": "232eecc763f24102947768f7e8ce4cbc",
       "version_major": 2,
       "version_minor": 0
      },
      "text/plain": [
       "interactive(children=(ToggleButtons(description='Plot Type:', icons=('',), options=(('Hyperparameters', 'param…"
      ]
     },
     "metadata": {},
     "output_type": "display_data"
    }
   ],
   "source": [
    "pc.evaluate_model(tuned_model)"
   ]
  },
  {
   "cell_type": "markdown",
   "id": "734b0dc8-b8d1-4e0e-a63b-d19f6a11e41d",
   "metadata": {},
   "source": [
    "## Interpretação dos Resultados "
   ]
  },
  {
   "cell_type": "code",
   "execution_count": 13,
   "id": "a863c3ee-fb62-4609-bc0c-b15e3f7f5b85",
   "metadata": {},
   "outputs": [],
   "source": [
    "# pc.interpret_model?"
   ]
  },
  {
   "cell_type": "code",
   "execution_count": 15,
   "id": "737c5bb8-c6f7-4cc5-a49e-dc9dd1bcdbf6",
   "metadata": {},
   "outputs": [
    {
     "data": {
      "image/png": "[encoded data removed]",
      "text/plain": [
       "<Figure size 540x360 with 2 Axes>"
      ]
     },
     "metadata": {
      "needs_background": "light"
     },
     "output_type": "display_data"
    }
   ],
   "source": [
    "pc.interpret_model(tuned_model, plot='correlation', feature='alcohol')"
   ]
  },
  {
   "cell_type": "markdown",
   "id": "f7069aad-5d23-4cdc-aa85-b1ca4c806f43",
   "metadata": {},
   "source": [
    "## Calibração de Modelos "
   ]
  },
  {
   "cell_type": "code",
   "execution_count": 16,
   "id": "795fceb4-79c5-449c-9f81-98df71a43b93",
   "metadata": {},
   "outputs": [],
   "source": [
    "# pc.calibrate_model?"
   ]
  },
  {
   "cell_type": "code",
   "execution_count": 17,
   "id": "cecd28d6-3bbd-46ca-9834-111fd1b0a142",
   "metadata": {},
   "outputs": [
    {
     "data": {
      "image/png": "[encoded data removed]",
      "text/plain": [
       "<Figure size 700x600 with 1 Axes>"
      ]
     },
     "metadata": {
      "needs_background": "light"
     },
     "output_type": "display_data"
    }
   ],
   "source": [
    "calibrated_model = pc.calibrate_model(tuned_model, method='sigmoid', calibrate_fold=5, fold=5)\n",
    "pc.plot_model(calibrated_model, plot='calibration')"
   ]
  },
  {
   "cell_type": "markdown",
   "id": "ed0e5672-3c0d-4414-a704-00ca0418a50f",
   "metadata": {},
   "source": [
    "## Optimização da Operação "
   ]
  },
  {
   "cell_type": "code",
   "execution_count": 18,
   "id": "52f257ac-4688-4d26-85e5-c9c5fd228032",
   "metadata": {
    "scrolled": true,
    "tags": []
   },
   "outputs": [],
   "source": [
    "# pc.optimize_threshold(calibrated_model, optimize = 'Precision');"
   ]
  },
  {
   "cell_type": "markdown",
   "id": "57a0f532-94e0-4d0f-954e-1747fc3685ac",
   "metadata": {},
   "source": [
    "## Avaliação do Teste "
   ]
  },
  {
   "cell_type": "code",
   "execution_count": 19,
   "id": "9cd46bf9-16c8-477d-863a-526dd437c07b",
   "metadata": {},
   "outputs": [],
   "source": [
    "# pc.predict_model?"
   ]
  },
  {
   "cell_type": "code",
   "execution_count": 20,
   "id": "920314c3-d18e-4af0-bce1-a3755c471569",
   "metadata": {},
   "outputs": [
    {
     "data": {
      "text/html": [
       "<style type=\"text/css\">\n",
       "</style>\n",
       "<table id=\"T_80425\">\n",
       "  <thead>\n",
       "    <tr>\n",
       "      <th class=\"blank level0\" >&nbsp;</th>\n",
       "      <th id=\"T_80425_level0_col0\" class=\"col_heading level0 col0\" >Model</th>\n",
       "      <th id=\"T_80425_level0_col1\" class=\"col_heading level0 col1\" >Accuracy</th>\n",
       "      <th id=\"T_80425_level0_col2\" class=\"col_heading level0 col2\" >AUC</th>\n",
       "      <th id=\"T_80425_level0_col3\" class=\"col_heading level0 col3\" >Recall</th>\n",
       "      <th id=\"T_80425_level0_col4\" class=\"col_heading level0 col4\" >Prec.</th>\n",
       "      <th id=\"T_80425_level0_col5\" class=\"col_heading level0 col5\" >F1</th>\n",
       "      <th id=\"T_80425_level0_col6\" class=\"col_heading level0 col6\" >Kappa</th>\n",
       "      <th id=\"T_80425_level0_col7\" class=\"col_heading level0 col7\" >MCC</th>\n",
       "    </tr>\n",
       "  </thead>\n",
       "  <tbody>\n",
       "    <tr>\n",
       "      <th id=\"T_80425_level0_row0\" class=\"row_heading level0 row0\" >0</th>\n",
       "      <td id=\"T_80425_row0_col0\" class=\"data row0 col0\" >Random Forest Classifier</td>\n",
       "      <td id=\"T_80425_row0_col1\" class=\"data row0 col1\" >0.7444</td>\n",
       "      <td id=\"T_80425_row0_col2\" class=\"data row0 col2\" >0.7976</td>\n",
       "      <td id=\"T_80425_row0_col3\" class=\"data row0 col3\" >0.8641</td>\n",
       "      <td id=\"T_80425_row0_col4\" class=\"data row0 col4\" >0.7557</td>\n",
       "      <td id=\"T_80425_row0_col5\" class=\"data row0 col5\" >0.8063</td>\n",
       "      <td id=\"T_80425_row0_col6\" class=\"data row0 col6\" >0.4355</td>\n",
       "      <td id=\"T_80425_row0_col7\" class=\"data row0 col7\" >0.4440</td>\n",
       "    </tr>\n",
       "  </tbody>\n",
       "</table>\n"
      ],
      "text/plain": [
       "<pandas.io.formats.style.Styler at 0x202f491ad60>"
      ]
     },
     "metadata": {},
     "output_type": "display_data"
    }
   ],
   "source": [
    "pred_holdout = pc.predict_model(calibrated_model) # holdout set (test)"
   ]
  },
  {
   "cell_type": "code",
   "execution_count": 21,
   "id": "b99fb7f4-a6f0-4cba-a5a2-94abc5cc3c1e",
   "metadata": {},
   "outputs": [
    {
     "data": {
      "text/html": [
       "<div>\n",
       "<style scoped>\n",
       "    .dataframe tbody tr th:only-of-type {\n",
       "        vertical-align: middle;\n",
       "    }\n",
       "\n",
       "    .dataframe tbody tr th {\n",
       "        vertical-align: top;\n",
       "    }\n",
       "\n",
       "    .dataframe thead th {\n",
       "        text-align: right;\n",
       "    }\n",
       "</style>\n",
       "<table border=\"1\" class=\"dataframe\">\n",
       "  <thead>\n",
       "    <tr style=\"text-align: right;\">\n",
       "      <th></th>\n",
       "      <th>fixed acidity</th>\n",
       "      <th>volatile acidity</th>\n",
       "      <th>citric acid</th>\n",
       "      <th>residual sugar</th>\n",
       "      <th>chlorides</th>\n",
       "      <th>free sulfur dioxide</th>\n",
       "      <th>total sulfur dioxide</th>\n",
       "      <th>density</th>\n",
       "      <th>pH</th>\n",
       "      <th>sulphates</th>\n",
       "      <th>alcohol</th>\n",
       "      <th>type_red</th>\n",
       "      <th>target</th>\n",
       "      <th>Label</th>\n",
       "      <th>Score</th>\n",
       "    </tr>\n",
       "  </thead>\n",
       "  <tbody>\n",
       "    <tr>\n",
       "      <th>0</th>\n",
       "      <td>-0.836000</td>\n",
       "      <td>-0.934320</td>\n",
       "      <td>1.377795</td>\n",
       "      <td>0.806935</td>\n",
       "      <td>-0.078082</td>\n",
       "      <td>0.037492</td>\n",
       "      <td>0.168669</td>\n",
       "      <td>-0.069803</td>\n",
       "      <td>0.016773</td>\n",
       "      <td>-0.153242</td>\n",
       "      <td>-0.478979</td>\n",
       "      <td>0.0</td>\n",
       "      <td>1</td>\n",
       "      <td>1</td>\n",
       "      <td>0.6989</td>\n",
       "    </tr>\n",
       "    <tr>\n",
       "      <th>1</th>\n",
       "      <td>0.545191</td>\n",
       "      <td>-0.705740</td>\n",
       "      <td>2.117903</td>\n",
       "      <td>1.527444</td>\n",
       "      <td>-1.121035</td>\n",
       "      <td>1.337881</td>\n",
       "      <td>0.996972</td>\n",
       "      <td>1.137071</td>\n",
       "      <td>-1.518171</td>\n",
       "      <td>0.175725</td>\n",
       "      <td>-1.778469</td>\n",
       "      <td>0.0</td>\n",
       "      <td>0</td>\n",
       "      <td>1</td>\n",
       "      <td>0.5406</td>\n",
       "    </tr>\n",
       "    <tr>\n",
       "      <th>2</th>\n",
       "      <td>-0.251246</td>\n",
       "      <td>-0.197295</td>\n",
       "      <td>0.205119</td>\n",
       "      <td>1.163492</td>\n",
       "      <td>-0.017889</td>\n",
       "      <td>0.278647</td>\n",
       "      <td>-0.042539</td>\n",
       "      <td>0.054931</td>\n",
       "      <td>0.202202</td>\n",
       "      <td>0.250689</td>\n",
       "      <td>0.511265</td>\n",
       "      <td>0.0</td>\n",
       "      <td>1</td>\n",
       "      <td>1</td>\n",
       "      <td>0.8117</td>\n",
       "    </tr>\n",
       "    <tr>\n",
       "      <th>3</th>\n",
       "      <td>0.748405</td>\n",
       "      <td>-1.177167</td>\n",
       "      <td>0.738319</td>\n",
       "      <td>-0.964131</td>\n",
       "      <td>0.443312</td>\n",
       "      <td>-0.659076</td>\n",
       "      <td>-1.465371</td>\n",
       "      <td>-0.131248</td>\n",
       "      <td>0.439616</td>\n",
       "      <td>1.140042</td>\n",
       "      <td>0.657754</td>\n",
       "      <td>1.0</td>\n",
       "      <td>1</td>\n",
       "      <td>1</td>\n",
       "      <td>0.7882</td>\n",
       "    </tr>\n",
       "    <tr>\n",
       "      <th>4</th>\n",
       "      <td>-0.146159</td>\n",
       "      <td>-0.197295</td>\n",
       "      <td>-0.142456</td>\n",
       "      <td>1.452992</td>\n",
       "      <td>0.204725</td>\n",
       "      <td>1.211031</td>\n",
       "      <td>0.626700</td>\n",
       "      <td>0.346471</td>\n",
       "      <td>-1.368544</td>\n",
       "      <td>0.524974</td>\n",
       "      <td>0.014571</td>\n",
       "      <td>0.0</td>\n",
       "      <td>1</td>\n",
       "      <td>1</td>\n",
       "      <td>0.6778</td>\n",
       "    </tr>\n",
       "  </tbody>\n",
       "</table>\n",
       "</div>"
      ],
      "text/plain": [
       "   fixed acidity  volatile acidity  citric acid  residual sugar  chlorides  \\\n",
       "0      -0.836000         -0.934320     1.377795        0.806935  -0.078082   \n",
       "1       0.545191         -0.705740     2.117903        1.527444  -1.121035   \n",
       "2      -0.251246         -0.197295     0.205119        1.163492  -0.017889   \n",
       "3       0.748405         -1.177167     0.738319       -0.964131   0.443312   \n",
       "4      -0.146159         -0.197295    -0.142456        1.452992   0.204725   \n",
       "\n",
       "   free sulfur dioxide  total sulfur dioxide   density        pH  sulphates  \\\n",
       "0             0.037492              0.168669 -0.069803  0.016773  -0.153242   \n",
       "1             1.337881              0.996972  1.137071 -1.518171   0.175725   \n",
       "2             0.278647             -0.042539  0.054931  0.202202   0.250689   \n",
       "3            -0.659076             -1.465371 -0.131248  0.439616   1.140042   \n",
       "4             1.211031              0.626700  0.346471 -1.368544   0.524974   \n",
       "\n",
       "    alcohol  type_red  target  Label   Score  \n",
       "0 -0.478979       0.0       1      1  0.6989  \n",
       "1 -1.778469       0.0       0      1  0.5406  \n",
       "2  0.511265       0.0       1      1  0.8117  \n",
       "3  0.657754       1.0       1      1  0.7882  \n",
       "4  0.014571       0.0       1      1  0.6778  "
      ]
     },
     "execution_count": 21,
     "metadata": {},
     "output_type": "execute_result"
    }
   ],
   "source": [
    "pred_holdout.head()"
   ]
  },
  {
   "cell_type": "code",
   "execution_count": 27,
   "id": "dce8882d-421c-4d78-b2c4-26e837e55e94",
   "metadata": {},
   "outputs": [
    {
     "data": {
      "text/plain": [
       "1514.1599999999999"
      ]
     },
     "execution_count": 27,
     "metadata": {},
     "output_type": "execute_result"
    }
   ],
   "source": [
    "pred_holdout.Score.sum()\n",
    "# print(metrics.classification_report())"
   ]
  },
  {
   "cell_type": "markdown",
   "id": "4a2f1e48-eb9c-487f-ba44-486e51a858c7",
   "metadata": {},
   "source": [
    "## Finalização do Modelo para Produção"
   ]
  },
  {
   "cell_type": "code",
   "execution_count": 28,
   "id": "204c36bf-e8d4-4e31-a71c-3473181b5691",
   "metadata": {},
   "outputs": [],
   "source": [
    "# pc.finalize_model?"
   ]
  },
  {
   "cell_type": "code",
   "execution_count": 29,
   "id": "ec0327d1-46eb-412d-87a1-47b63ab38368",
   "metadata": {},
   "outputs": [
    {
     "data": {
      "text/html": [
       "<style type=\"text/css\">\n",
       "</style>\n",
       "<table id=\"T_2ec40\">\n",
       "  <thead>\n",
       "    <tr>\n",
       "      <th class=\"blank level0\" >&nbsp;</th>\n",
       "      <th id=\"T_2ec40_level0_col0\" class=\"col_heading level0 col0\" >Model</th>\n",
       "      <th id=\"T_2ec40_level0_col1\" class=\"col_heading level0 col1\" >Accuracy</th>\n",
       "      <th id=\"T_2ec40_level0_col2\" class=\"col_heading level0 col2\" >AUC</th>\n",
       "      <th id=\"T_2ec40_level0_col3\" class=\"col_heading level0 col3\" >Recall</th>\n",
       "      <th id=\"T_2ec40_level0_col4\" class=\"col_heading level0 col4\" >Prec.</th>\n",
       "      <th id=\"T_2ec40_level0_col5\" class=\"col_heading level0 col5\" >F1</th>\n",
       "      <th id=\"T_2ec40_level0_col6\" class=\"col_heading level0 col6\" >Kappa</th>\n",
       "      <th id=\"T_2ec40_level0_col7\" class=\"col_heading level0 col7\" >MCC</th>\n",
       "    </tr>\n",
       "  </thead>\n",
       "  <tbody>\n",
       "    <tr>\n",
       "      <th id=\"T_2ec40_level0_row0\" class=\"row_heading level0 row0\" >0</th>\n",
       "      <td id=\"T_2ec40_row0_col0\" class=\"data row0 col0\" >Random Forest Classifier</td>\n",
       "      <td id=\"T_2ec40_row0_col1\" class=\"data row0 col1\" >0.7758</td>\n",
       "      <td id=\"T_2ec40_row0_col2\" class=\"data row0 col2\" >0.8383</td>\n",
       "      <td id=\"T_2ec40_row0_col3\" class=\"data row0 col3\" >0.8908</td>\n",
       "      <td id=\"T_2ec40_row0_col4\" class=\"data row0 col4\" >0.7775</td>\n",
       "      <td id=\"T_2ec40_row0_col5\" class=\"data row0 col5\" >0.8303</td>\n",
       "      <td id=\"T_2ec40_row0_col6\" class=\"data row0 col6\" >0.5047</td>\n",
       "      <td id=\"T_2ec40_row0_col7\" class=\"data row0 col7\" >0.5149</td>\n",
       "    </tr>\n",
       "  </tbody>\n",
       "</table>\n"
      ],
      "text/plain": [
       "<pandas.io.formats.style.Styler at 0x20297a07940>"
      ]
     },
     "metadata": {},
     "output_type": "display_data"
    }
   ],
   "source": [
    "final_model = pc.finalize_model(calibrated_model)\n",
    "pred_final = pc.predict_model(final_model) # holdout set (test)"
   ]
  },
  {
   "cell_type": "markdown",
   "id": "0f8b2a91-9b6b-494a-813e-3d4c58754193",
   "metadata": {},
   "source": [
    "## Exportação do Experimento "
   ]
  },
  {
   "cell_type": "code",
   "execution_count": 30,
   "id": "c456f744-87df-4cbd-895b-df7c54befad7",
   "metadata": {},
   "outputs": [],
   "source": [
    "# pc.load_config?\n",
    "# pc.save_config?\n",
    "# pc.load_model?\n",
    "# pc.save_model?"
   ]
  },
  {
   "cell_type": "code",
   "execution_count": 31,
   "id": "599ee757-4e2e-4afe-bca6-5480a3f0c49e",
   "metadata": {},
   "outputs": [
    {
     "name": "stdout",
     "output_type": "stream",
     "text": [
      "Transformation Pipeline and Model Successfully Saved\n"
     ]
    },
    {
     "data": {
      "text/plain": [
       "(Pipeline(memory=None,\n",
       "          steps=[('dtypes',\n",
       "                  DataTypes_Auto_infer(categorical_features=['type'],\n",
       "                                       display_types=False,\n",
       "                                       features_todrop=['target_label'],\n",
       "                                       id_columns=[],\n",
       "                                       ml_usecase='classification',\n",
       "                                       numerical_features=[], target='target',\n",
       "                                       time_features=[])),\n",
       "                 ('imputer',\n",
       "                  Simple_Imputer(categorical_strategy='not_available',\n",
       "                                 fill_value_categorical=None,\n",
       "                                 fill_value_numeric...\n",
       "                                                                               class_weight={},\n",
       "                                                                               criterion='entropy',\n",
       "                                                                               max_depth=5,\n",
       "                                                                               max_features=1.0,\n",
       "                                                                               max_leaf_nodes=None,\n",
       "                                                                               max_samples=None,\n",
       "                                                                               min_impurity_decrease=0.0002,\n",
       "                                                                               min_impurity_split=None,\n",
       "                                                                               min_samples_leaf=5,\n",
       "                                                                               min_samples_split=10,\n",
       "                                                                               min_weight_fraction_leaf=0.0,\n",
       "                                                                               n_estimators=150,\n",
       "                                                                               n_jobs=-1,\n",
       "                                                                               oob_score=False,\n",
       "                                                                               random_state=123,\n",
       "                                                                               verbose=0,\n",
       "                                                                               warm_start=False),\n",
       "                                         cv=5, method='sigmoid')]],\n",
       "          verbose=False),\n",
       " 'wine_model.pkl')"
      ]
     },
     "execution_count": 31,
     "metadata": {},
     "output_type": "execute_result"
    }
   ],
   "source": [
    "pc.save_model(calibrated_model, model_name)"
   ]
  },
  {
   "cell_type": "code",
   "execution_count": null,
   "id": "bb1badb8-9a2e-43b3-9425-3d836f7200f6",
   "metadata": {},
   "outputs": [],
   "source": []
  }
 ],
 "metadata": {
  "kernelspec": {
   "display_name": "Python 3 (ipykernel)",
   "language": "python",
   "name": "python3"
  },
  "language_info": {
   "codemirror_mode": {
    "name": "ipython",
    "version": 3
   },
   "file_extension": ".py",
   "mimetype": "text/x-python",
   "name": "python",
   "nbconvert_exporter": "python",
   "pygments_lexer": "ipython3",
   "version": "3.8.7"
  }
 },
 "nbformat": 4,
 "nbformat_minor": 5
}
