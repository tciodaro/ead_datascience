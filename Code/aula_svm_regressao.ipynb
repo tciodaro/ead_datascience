{
 "cells": [
  {
   "cell_type": "code",
   "execution_count": 1,
   "id": "488807a8-fc82-4c09-8576-40716e13392e",
   "metadata": {},
   "outputs": [],
   "source": [
    "import matplotlib.pyplot as plt\n",
    "import seaborn as sns\n",
    "import pandas\n",
    "import numpy as np\n",
    "\n",
    "from sklearn import svm\n",
    "from sklearn import preprocessing, model_selection\n",
    "from sklearn import metrics\n",
    "from scipy import stats\n",
    "from scipy.stats import norm\n",
    "import pingouin as pg\n",
    "\n",
    "\n",
    "\n",
    "from ipywidgets import interact, interactive, fixed\n",
    "import ipywidgets as widgets\n",
    "\n",
    "\n",
    "%matplotlib inline"
   ]
  },
  {
   "cell_type": "markdown",
   "id": "e5ba18d5-2aca-4702-9e78-766b95c77935",
   "metadata": {},
   "source": [
    "# SVM Toy"
   ]
  },
  {
   "cell_type": "code",
   "execution_count": 2,
   "id": "5b2cb712-28df-483f-a102-03c9db5c4f6f",
   "metadata": {},
   "outputs": [
    {
     "data": {
      "application/vnd.jupyter.widget-view+json": {
       "model_id": "c37cd31df7e94b84808d3dd044f8df57",
       "version_major": 2,
       "version_minor": 0
      },
      "text/plain": [
       "interactive(children=(Dropdown(description='frequency', options=(1, 2), value=1), Text(value='1,2,3', descript…"
      ]
     },
     "metadata": {},
     "output_type": "display_data"
    },
    {
     "data": {
      "text/plain": [
       "<function __main__.plot_regression_example(frequency, harmonics, C, kernel, gamma)>"
      ]
     },
     "execution_count": 2,
     "metadata": {},
     "output_type": "execute_result"
    }
   ],
   "source": [
    "def plot_regression_example(frequency, harmonics, C, kernel,gamma):\n",
    "\n",
    "    harmonics = [int(x) for x in harmonics.split(',')]\n",
    "    f = frequency\n",
    "    odd = 1\n",
    "    mult = 2\n",
    "    t = np.linspace(0, 1, num=2000)\n",
    "    y = np.zeros(2000)\n",
    "\n",
    "    # compute and add fundamental with each harmonic\n",
    "    for i in harmonics:\n",
    "        k = i * mult + odd\n",
    "        ys = (1/k)* np.sin(2 * np.pi * k *  f * t)\n",
    "        yt = (1/(k*k) * (-1)**i)* np.sin(2 * np.pi * k *  f * t)\n",
    "        y = y + ys + yt\n",
    "\n",
    "    ynoise = y + np.random.randn(y.shape[0])*0.1\n",
    "    # The classification SVC model\n",
    "    X = t.reshape(-1,1)\n",
    "    model = svm.SVR(kernel=kernel, C=C, gamma=gamma)\n",
    "    clf = model.fit(X, ynoise)\n",
    "    yhat = clf.predict(X)\n",
    "    \n",
    "  \n",
    "    # Plot\n",
    "    fig, ax = plt.subplots()\n",
    "    ax.plot(t, ynoise, lw=2, label='Ruído')\n",
    "    ax.plot(t, y, lw=2, label='Sinal')\n",
    "    ax.plot(t, yhat, 'k-', lw=2, label='SVM')\n",
    "    plt.xlabel('Tempo [s]')\n",
    "    plt.ylabel('Harmônicos {0}'.format(harmonics))\n",
    "    plt.axis('tight')\n",
    "    axis_lims = plt.axis()\n",
    "\n",
    "    plt.show()\n",
    "    \n",
    "\n",
    "interact(plot_regression_example,\n",
    "         frequency = [1, 2],\n",
    "         harmonics = '1,2,3',\n",
    "         C = [0.1, 1, 10, 1000],\n",
    "         kernel = ['linear', 'rbf'],\n",
    "         gamma = [1, 10, 100, 300, 'scale','auto']\n",
    "        )"
   ]
  },
  {
   "cell_type": "markdown",
   "id": "8faf27f9-6e0b-40a3-a1ac-ef386bb0a049",
   "metadata": {
    "tags": []
   },
   "source": [
    "# Automóveis\n"
   ]
  },
  {
   "cell_type": "markdown",
   "id": "01cb7b41-d918-491c-9a31-595a011900d3",
   "metadata": {},
   "source": [
    "## Leitura da Base "
   ]
  },
  {
   "cell_type": "code",
   "execution_count": 3,
   "id": "cfdff72a-267c-41a0-a3b1-59dbd5f632fc",
   "metadata": {},
   "outputs": [
    {
     "name": "stdout",
     "output_type": "stream",
     "text": [
      "(15000, 8)\n"
     ]
    },
    {
     "data": {
      "text/html": [
       "<div>\n",
       "<style scoped>\n",
       "    .dataframe tbody tr th:only-of-type {\n",
       "        vertical-align: middle;\n",
       "    }\n",
       "\n",
       "    .dataframe tbody tr th {\n",
       "        vertical-align: top;\n",
       "    }\n",
       "\n",
       "    .dataframe thead th {\n",
       "        text-align: right;\n",
       "    }\n",
       "</style>\n",
       "<table border=\"1\" class=\"dataframe\">\n",
       "  <thead>\n",
       "    <tr style=\"text-align: right;\">\n",
       "      <th></th>\n",
       "      <th>model</th>\n",
       "      <th>year</th>\n",
       "      <th>price</th>\n",
       "      <th>transmission</th>\n",
       "      <th>mileage</th>\n",
       "      <th>fuelType</th>\n",
       "      <th>mpg</th>\n",
       "      <th>engineSize</th>\n",
       "    </tr>\n",
       "  </thead>\n",
       "  <tbody>\n",
       "    <tr>\n",
       "      <th>0</th>\n",
       "      <td>audi A1</td>\n",
       "      <td>2020</td>\n",
       "      <td>20000</td>\n",
       "      <td>Manual</td>\n",
       "      <td>5000</td>\n",
       "      <td>Petrol</td>\n",
       "      <td>49.6</td>\n",
       "      <td>1.0</td>\n",
       "    </tr>\n",
       "    <tr>\n",
       "      <th>1</th>\n",
       "      <td>audi A5</td>\n",
       "      <td>2017</td>\n",
       "      <td>19995</td>\n",
       "      <td>Semi-Auto</td>\n",
       "      <td>54000</td>\n",
       "      <td>Diesel</td>\n",
       "      <td>67.3</td>\n",
       "      <td>2.0</td>\n",
       "    </tr>\n",
       "    <tr>\n",
       "      <th>2</th>\n",
       "      <td>audi A3</td>\n",
       "      <td>2017</td>\n",
       "      <td>11895</td>\n",
       "      <td>Manual</td>\n",
       "      <td>28334</td>\n",
       "      <td>Petrol</td>\n",
       "      <td>62.8</td>\n",
       "      <td>1.0</td>\n",
       "    </tr>\n",
       "    <tr>\n",
       "      <th>3</th>\n",
       "      <td>audi Q7</td>\n",
       "      <td>2018</td>\n",
       "      <td>56900</td>\n",
       "      <td>Semi-Auto</td>\n",
       "      <td>5330</td>\n",
       "      <td>Diesel</td>\n",
       "      <td>39.2</td>\n",
       "      <td>4.0</td>\n",
       "    </tr>\n",
       "    <tr>\n",
       "      <th>4</th>\n",
       "      <td>audi A4</td>\n",
       "      <td>2019</td>\n",
       "      <td>27160</td>\n",
       "      <td>Semi-Auto</td>\n",
       "      <td>17790</td>\n",
       "      <td>Diesel</td>\n",
       "      <td>47.9</td>\n",
       "      <td>2.0</td>\n",
       "    </tr>\n",
       "  </tbody>\n",
       "</table>\n",
       "</div>"
      ],
      "text/plain": [
       "     model  year  price transmission  mileage fuelType   mpg  engineSize\n",
       "0  audi A1  2020  20000       Manual     5000   Petrol  49.6         1.0\n",
       "1  audi A5  2017  19995    Semi-Auto    54000   Diesel  67.3         2.0\n",
       "2  audi A3  2017  11895       Manual    28334   Petrol  62.8         1.0\n",
       "3  audi Q7  2018  56900    Semi-Auto     5330   Diesel  39.2         4.0\n",
       "4  audi A4  2019  27160    Semi-Auto    17790   Diesel  47.9         2.0"
      ]
     },
     "execution_count": 3,
     "metadata": {},
     "output_type": "execute_result"
    }
   ],
   "source": [
    "df_auto = pandas.read_csv('../Data/dataset_auto.csv',sep=';')\n",
    "df_auto['model'] = df_auto['brand'].astype(str) + df_auto['model'].astype(str)\n",
    "\n",
    "auto_target_col = 'price'\n",
    "\n",
    "drop_cols = ['brand','tax']\n",
    "df_auto.drop(drop_cols, axis=1, inplace=True)\n",
    "print(df_auto.shape)\n",
    "df_auto.head()"
   ]
  },
  {
   "cell_type": "markdown",
   "id": "4a648461-8994-482a-942e-bcacb059fbc0",
   "metadata": {
    "tags": []
   },
   "source": [
    "# Transformação Variáveis Categóricas"
   ]
  },
  {
   "cell_type": "code",
   "execution_count": 4,
   "id": "95340798-6afc-48ab-842a-487737b9a610",
   "metadata": {},
   "outputs": [
    {
     "data": {
      "text/html": [
       "<div>\n",
       "<style scoped>\n",
       "    .dataframe tbody tr th:only-of-type {\n",
       "        vertical-align: middle;\n",
       "    }\n",
       "\n",
       "    .dataframe tbody tr th {\n",
       "        vertical-align: top;\n",
       "    }\n",
       "\n",
       "    .dataframe thead th {\n",
       "        text-align: right;\n",
       "    }\n",
       "</style>\n",
       "<table border=\"1\" class=\"dataframe\">\n",
       "  <thead>\n",
       "    <tr style=\"text-align: right;\">\n",
       "      <th></th>\n",
       "      <th>year</th>\n",
       "      <th>price</th>\n",
       "      <th>mileage</th>\n",
       "      <th>mpg</th>\n",
       "      <th>engineSize</th>\n",
       "      <th>transmission_Automatic</th>\n",
       "      <th>transmission_Manual</th>\n",
       "      <th>transmission_Semi-Auto</th>\n",
       "      <th>fuelType_Diesel</th>\n",
       "      <th>fuelType_Electric</th>\n",
       "      <th>...</th>\n",
       "      <th>model_ford Ka+</th>\n",
       "      <th>model_ford Kuga</th>\n",
       "      <th>model_ford Mondeo</th>\n",
       "      <th>model_ford Mustang</th>\n",
       "      <th>model_ford Puma</th>\n",
       "      <th>model_ford S-MAX</th>\n",
       "      <th>model_ford Streetka</th>\n",
       "      <th>model_ford Tourneo Connect</th>\n",
       "      <th>model_ford Tourneo Custom</th>\n",
       "      <th>model_ford Transit Tourneo</th>\n",
       "    </tr>\n",
       "  </thead>\n",
       "  <tbody>\n",
       "    <tr>\n",
       "      <th>106</th>\n",
       "      <td>2019</td>\n",
       "      <td>39990</td>\n",
       "      <td>5000</td>\n",
       "      <td>38.2</td>\n",
       "      <td>3.0</td>\n",
       "      <td>1.0</td>\n",
       "      <td>0.0</td>\n",
       "      <td>0.0</td>\n",
       "      <td>1.0</td>\n",
       "      <td>0.0</td>\n",
       "      <td>...</td>\n",
       "      <td>0.0</td>\n",
       "      <td>0.0</td>\n",
       "      <td>0.0</td>\n",
       "      <td>0.0</td>\n",
       "      <td>0.0</td>\n",
       "      <td>0.0</td>\n",
       "      <td>0.0</td>\n",
       "      <td>0.0</td>\n",
       "      <td>0.0</td>\n",
       "      <td>0.0</td>\n",
       "    </tr>\n",
       "    <tr>\n",
       "      <th>4070</th>\n",
       "      <td>2017</td>\n",
       "      <td>12525</td>\n",
       "      <td>52286</td>\n",
       "      <td>56.5</td>\n",
       "      <td>1.5</td>\n",
       "      <td>0.0</td>\n",
       "      <td>1.0</td>\n",
       "      <td>0.0</td>\n",
       "      <td>0.0</td>\n",
       "      <td>0.0</td>\n",
       "      <td>...</td>\n",
       "      <td>0.0</td>\n",
       "      <td>0.0</td>\n",
       "      <td>0.0</td>\n",
       "      <td>0.0</td>\n",
       "      <td>0.0</td>\n",
       "      <td>0.0</td>\n",
       "      <td>0.0</td>\n",
       "      <td>0.0</td>\n",
       "      <td>0.0</td>\n",
       "      <td>0.0</td>\n",
       "    </tr>\n",
       "    <tr>\n",
       "      <th>14802</th>\n",
       "      <td>2014</td>\n",
       "      <td>6791</td>\n",
       "      <td>19612</td>\n",
       "      <td>44.1</td>\n",
       "      <td>1.6</td>\n",
       "      <td>0.0</td>\n",
       "      <td>0.0</td>\n",
       "      <td>1.0</td>\n",
       "      <td>0.0</td>\n",
       "      <td>0.0</td>\n",
       "      <td>...</td>\n",
       "      <td>0.0</td>\n",
       "      <td>0.0</td>\n",
       "      <td>0.0</td>\n",
       "      <td>0.0</td>\n",
       "      <td>0.0</td>\n",
       "      <td>0.0</td>\n",
       "      <td>0.0</td>\n",
       "      <td>0.0</td>\n",
       "      <td>0.0</td>\n",
       "      <td>0.0</td>\n",
       "    </tr>\n",
       "    <tr>\n",
       "      <th>6812</th>\n",
       "      <td>2015</td>\n",
       "      <td>13399</td>\n",
       "      <td>40219</td>\n",
       "      <td>61.4</td>\n",
       "      <td>2.0</td>\n",
       "      <td>0.0</td>\n",
       "      <td>1.0</td>\n",
       "      <td>0.0</td>\n",
       "      <td>1.0</td>\n",
       "      <td>0.0</td>\n",
       "      <td>...</td>\n",
       "      <td>0.0</td>\n",
       "      <td>0.0</td>\n",
       "      <td>0.0</td>\n",
       "      <td>0.0</td>\n",
       "      <td>0.0</td>\n",
       "      <td>0.0</td>\n",
       "      <td>0.0</td>\n",
       "      <td>0.0</td>\n",
       "      <td>0.0</td>\n",
       "      <td>0.0</td>\n",
       "    </tr>\n",
       "    <tr>\n",
       "      <th>7592</th>\n",
       "      <td>2016</td>\n",
       "      <td>12950</td>\n",
       "      <td>52647</td>\n",
       "      <td>65.7</td>\n",
       "      <td>2.0</td>\n",
       "      <td>0.0</td>\n",
       "      <td>1.0</td>\n",
       "      <td>0.0</td>\n",
       "      <td>1.0</td>\n",
       "      <td>0.0</td>\n",
       "      <td>...</td>\n",
       "      <td>0.0</td>\n",
       "      <td>0.0</td>\n",
       "      <td>0.0</td>\n",
       "      <td>0.0</td>\n",
       "      <td>0.0</td>\n",
       "      <td>0.0</td>\n",
       "      <td>0.0</td>\n",
       "      <td>0.0</td>\n",
       "      <td>0.0</td>\n",
       "      <td>0.0</td>\n",
       "    </tr>\n",
       "  </tbody>\n",
       "</table>\n",
       "<p>5 rows × 82 columns</p>\n",
       "</div>"
      ],
      "text/plain": [
       "       year  price  mileage   mpg  engineSize  transmission_Automatic  \\\n",
       "106    2019  39990     5000  38.2         3.0                     1.0   \n",
       "4070   2017  12525    52286  56.5         1.5                     0.0   \n",
       "14802  2014   6791    19612  44.1         1.6                     0.0   \n",
       "6812   2015  13399    40219  61.4         2.0                     0.0   \n",
       "7592   2016  12950    52647  65.7         2.0                     0.0   \n",
       "\n",
       "       transmission_Manual  transmission_Semi-Auto  fuelType_Diesel  \\\n",
       "106                    0.0                     0.0              1.0   \n",
       "4070                   1.0                     0.0              0.0   \n",
       "14802                  0.0                     1.0              0.0   \n",
       "6812                   1.0                     0.0              1.0   \n",
       "7592                   1.0                     0.0              1.0   \n",
       "\n",
       "       fuelType_Electric  ...  model_ford Ka+  model_ford Kuga  \\\n",
       "106                  0.0  ...             0.0              0.0   \n",
       "4070                 0.0  ...             0.0              0.0   \n",
       "14802                0.0  ...             0.0              0.0   \n",
       "6812                 0.0  ...             0.0              0.0   \n",
       "7592                 0.0  ...             0.0              0.0   \n",
       "\n",
       "       model_ford Mondeo  model_ford Mustang  model_ford Puma  \\\n",
       "106                  0.0                 0.0              0.0   \n",
       "4070                 0.0                 0.0              0.0   \n",
       "14802                0.0                 0.0              0.0   \n",
       "6812                 0.0                 0.0              0.0   \n",
       "7592                 0.0                 0.0              0.0   \n",
       "\n",
       "       model_ford S-MAX  model_ford Streetka  model_ford Tourneo Connect  \\\n",
       "106                 0.0                  0.0                         0.0   \n",
       "4070                0.0                  0.0                         0.0   \n",
       "14802               0.0                  0.0                         0.0   \n",
       "6812                0.0                  0.0                         0.0   \n",
       "7592                0.0                  0.0                         0.0   \n",
       "\n",
       "       model_ford Tourneo Custom  model_ford Transit Tourneo  \n",
       "106                          0.0                         0.0  \n",
       "4070                         0.0                         0.0  \n",
       "14802                        0.0                         0.0  \n",
       "6812                         0.0                         0.0  \n",
       "7592                         0.0                         0.0  \n",
       "\n",
       "[5 rows x 82 columns]"
      ]
     },
     "execution_count": 4,
     "metadata": {},
     "output_type": "execute_result"
    }
   ],
   "source": [
    "categorical_cols = ['transmission', 'fuelType', 'model']\n",
    "encoder_map = {}\n",
    "\n",
    "for cname in categorical_cols:\n",
    "    encoder = preprocessing.OneHotEncoder(sparse=False)\n",
    "    transformed = encoder.fit_transform(df_auto[[cname]])\n",
    "    ohe_df = pandas.DataFrame(transformed, columns=[cname+'_'+cat for cat in encoder.categories_[0]])\n",
    "    encoder_map[cname] = encoder\n",
    "    \n",
    "    df_auto = pandas.concat([df_auto, ohe_df], axis=1).drop(cname, axis=1)\n",
    "\n",
    "df_raw_auto = df_auto.copy()  \n",
    "df_auto = df_raw_auto.sample(100).copy()\n",
    "df_auto.head()"
   ]
  },
  {
   "cell_type": "markdown",
   "id": "1274055c-baf4-4000-b65a-0fc1631011a5",
   "metadata": {},
   "source": [
    "## Treinamento Regressor"
   ]
  },
  {
   "cell_type": "code",
   "execution_count": 5,
   "id": "b9839dce-b3c9-4b67-b37b-a91e6ad8d5a3",
   "metadata": {},
   "outputs": [],
   "source": [
    "Y = df_auto[auto_target_col]\n",
    "X = df_auto.drop(auto_target_col, axis=1)\n",
    "\n",
    "# train/test\n",
    "xtrain, xtest, ytrain, ytest = model_selection.train_test_split(X, Y, test_size=0.2)\n",
    "\n",
    "df_train = xtrain.copy()\n",
    "df_test = xtest.copy()\n",
    "df_train['train_set'] = 1\n",
    "df_test['train_set'] = 0\n",
    "df_train[auto_target_col] = ytrain\n",
    "df_test[auto_target_col] = ytest\n",
    "\n",
    "\n",
    "# C = [0.1, 1, 10, 1000],\n",
    "# kernel = ['linear', 'rbf', 'poly']\n",
    "# gamma = [1, 10, 100, 300, 'scale','auto']\n",
    "\n",
    "model_auto = svm.SVR(kernel='linear', C=100)\n",
    "model_auto = model_auto.fit(xtrain, ytrain)\n",
    "\n",
    "df_train['prediction'] = model_auto.predict(xtrain)\n",
    "df_test['prediction']  = model_auto.predict(xtest)\n",
    "\n",
    "df_auto = pandas.concat((df_train, df_test), axis=0)\n"
   ]
  },
  {
   "cell_type": "markdown",
   "id": "0809415b-7847-4f63-83a4-ab60c944ac2b",
   "metadata": {},
   "source": [
    "## Curva de Resíduos"
   ]
  },
  {
   "cell_type": "code",
   "execution_count": 6,
   "id": "67ba1718-11a3-4e90-83bb-b29276e9824d",
   "metadata": {},
   "outputs": [
    {
     "data": {
      "image/png": "[encoded data removed]",
      "text/plain": [
       "<Figure size 864x288 with 2 Axes>"
      ]
     },
     "metadata": {
      "needs_background": "light"
     },
     "output_type": "display_data"
    }
   ],
   "source": [
    "plt.figure(figsize=(12,4))\n",
    "\n",
    "# Dispersion plot\n",
    "plt.subplot(1,2,1)\n",
    "plt.scatter(df_auto[auto_target_col], df_auto['prediction'])\n",
    "plt.plot([0, plt.gca().axis()[3]],[0, plt.gca().axis()[3]],  '--k', lw=2)\n",
    "plt.grid()\n",
    "plt.ylabel('Predição do Modelo')\n",
    "plt.xlabel('Valor Real')\n",
    "plt.title(f'Curva de Dispersão')\n",
    "plt.tight_layout()\n",
    "\n",
    "plt.subplot(1,2,2)\n",
    "error = df_auto[auto_target_col] - df_auto['prediction']\n",
    "plt.scatter(df_auto['prediction'], error)\n",
    "plt.plot([plt.gca().axis()[0], plt.gca().axis()[1]],[0, 0],  '--k', lw=2)\n",
    "plt.grid()\n",
    "plt.ylabel('Resíduo (erro)')\n",
    "plt.xlabel('Predição do Modelo')\n",
    "plt.title(f'Curva de Resíduos')\n",
    "plt.tight_layout()"
   ]
  },
  {
   "cell_type": "markdown",
   "id": "8ae68c58-89f4-415e-b1a6-8600c05a9ded",
   "metadata": {
    "tags": []
   },
   "source": [
    "## Teste de Normalidade do Erro "
   ]
  },
  {
   "cell_type": "code",
   "execution_count": 13,
   "id": "59517d28-b3a8-4215-91a5-4b31e161dc41",
   "metadata": {},
   "outputs": [
    {
     "name": "stdout",
     "output_type": "stream",
     "text": [
      "mu = 767.98 and sigma = 8434.07\n",
      "Shapiro-Wilk p-value: 6.009173159071679e-09\n"
     ]
    },
    {
     "name": "stderr",
     "output_type": "stream",
     "text": [
      "C:\\Users\\BZ241WX\\AppData\\Local\\Continuum\\anaconda3\\envs\\infnet\\lib\\site-packages\\seaborn\\distributions.py:2619: FutureWarning: `distplot` is a deprecated function and will be removed in a future version. Please adapt your code to use either `displot` (a figure-level function with similar flexibility) or `histplot` (an axes-level function for histograms).\n",
      "  warnings.warn(msg, FutureWarning)\n"
     ]
    },
    {
     "data": {
      "image/png": "[encoded data removed]",
      "text/plain": [
       "<Figure size 432x288 with 1 Axes>"
      ]
     },
     "metadata": {
      "needs_background": "light"
     },
     "output_type": "display_data"
    },
    {
     "data": {
      "image/png": "[encoded data removed]",
      "text/plain": [
       "<Figure size 360x288 with 1 Axes>"
      ]
     },
     "metadata": {
      "needs_background": "light"
     },
     "output_type": "display_data"
    }
   ],
   "source": [
    "\n",
    "error = df_auto[auto_target_col] - df_auto['prediction']\n",
    "(mu, sigma) = norm.fit(error.values.reshape((-1, 1)))\n",
    "print('mu = {:.2f} and sigma = {:.2f}'.format(mu, sigma))\n",
    "_, p_value = stats.shapiro(error)\n",
    "print('Shapiro-Wilk p-value: ' + str(p_value))\n",
    "# Get the fitted parameters used by the function\n",
    "sns.distplot(error , fit=norm)\n",
    "plt.legend(['Normal dist. ($\\mu=$ {:.2f} and $\\sigma=$ {:.2f} )'.format(mu, sigma)], loc='best')\n",
    "plt.ylabel('Frequência')\n",
    "plt.xlabel('Resíduo: Real-Estimado [R$]')\n",
    "plt.title(f'Distribuição do Resíduo')\n",
    "plt.xlim((mu-5*sigma, mu+5*sigma))\n",
    "plt.grid(True)\n",
    "plt.show()\n",
    "#Get also the QQ-plot\n",
    "# res = stats.probplot(error, plot=plt)\n",
    "pg.qqplot(error, dist='norm')\n",
    "plt.xlabel('Quartis Teóricos')\n",
    "plt.title(f'Q-Q Plot')\n",
    "plt.ylabel('Resíduo Ordenado [R$]')\n",
    "plt.grid(True)\n",
    "plt.show()\n"
   ]
  },
  {
   "cell_type": "markdown",
   "id": "b9f35297-c972-45ca-b606-d647784966db",
   "metadata": {},
   "source": [
    "# Clima\n"
   ]
  },
  {
   "cell_type": "markdown",
   "id": "82c2df0b-4c5d-42d1-a732-52c3d1da17a1",
   "metadata": {
    "tags": []
   },
   "source": [
    "## Leitura dos Dados "
   ]
  },
  {
   "cell_type": "code",
   "execution_count": 8,
   "id": "47514d91-7e29-447c-9d4b-29db397722f3",
   "metadata": {},
   "outputs": [
    {
     "name": "stdout",
     "output_type": "stream",
     "text": [
      "(4019, 7)\n"
     ]
    },
    {
     "data": {
      "text/html": [
       "<div>\n",
       "<style scoped>\n",
       "    .dataframe tbody tr th:only-of-type {\n",
       "        vertical-align: middle;\n",
       "    }\n",
       "\n",
       "    .dataframe tbody tr th {\n",
       "        vertical-align: top;\n",
       "    }\n",
       "\n",
       "    .dataframe thead th {\n",
       "        text-align: right;\n",
       "    }\n",
       "</style>\n",
       "<table border=\"1\" class=\"dataframe\">\n",
       "  <thead>\n",
       "    <tr style=\"text-align: right;\">\n",
       "      <th></th>\n",
       "      <th>Apparent Temperature (C)</th>\n",
       "      <th>Humidity</th>\n",
       "      <th>Wind Speed (km/h)</th>\n",
       "      <th>Wind Bearing (degrees)</th>\n",
       "      <th>Visibility (km)</th>\n",
       "      <th>Loud Cover</th>\n",
       "      <th>Pressure (millibars)</th>\n",
       "    </tr>\n",
       "  </thead>\n",
       "  <tbody>\n",
       "    <tr>\n",
       "      <th>2017</th>\n",
       "      <td>28.619676</td>\n",
       "      <td>0.546250</td>\n",
       "      <td>9.114612</td>\n",
       "      <td>149.291667</td>\n",
       "      <td>11.183462</td>\n",
       "      <td>0.0</td>\n",
       "      <td>1014.808750</td>\n",
       "    </tr>\n",
       "    <tr>\n",
       "      <th>1706</th>\n",
       "      <td>15.315046</td>\n",
       "      <td>0.736667</td>\n",
       "      <td>16.729913</td>\n",
       "      <td>275.375000</td>\n",
       "      <td>12.077683</td>\n",
       "      <td>0.0</td>\n",
       "      <td>1015.612083</td>\n",
       "    </tr>\n",
       "    <tr>\n",
       "      <th>856</th>\n",
       "      <td>11.826852</td>\n",
       "      <td>0.838750</td>\n",
       "      <td>8.166054</td>\n",
       "      <td>131.125000</td>\n",
       "      <td>9.863933</td>\n",
       "      <td>0.0</td>\n",
       "      <td>1021.329167</td>\n",
       "    </tr>\n",
       "    <tr>\n",
       "      <th>594</th>\n",
       "      <td>26.618519</td>\n",
       "      <td>0.470417</td>\n",
       "      <td>9.521138</td>\n",
       "      <td>261.208333</td>\n",
       "      <td>12.111225</td>\n",
       "      <td>0.0</td>\n",
       "      <td>1012.872083</td>\n",
       "    </tr>\n",
       "    <tr>\n",
       "      <th>3733</th>\n",
       "      <td>6.808565</td>\n",
       "      <td>0.666667</td>\n",
       "      <td>12.033408</td>\n",
       "      <td>256.666667</td>\n",
       "      <td>10.574346</td>\n",
       "      <td>0.0</td>\n",
       "      <td>1014.642083</td>\n",
       "    </tr>\n",
       "  </tbody>\n",
       "</table>\n",
       "</div>"
      ],
      "text/plain": [
       "      Apparent Temperature (C)  Humidity  Wind Speed (km/h)  \\\n",
       "2017                 28.619676  0.546250           9.114612   \n",
       "1706                 15.315046  0.736667          16.729913   \n",
       "856                  11.826852  0.838750           8.166054   \n",
       "594                  26.618519  0.470417           9.521138   \n",
       "3733                  6.808565  0.666667          12.033408   \n",
       "\n",
       "      Wind Bearing (degrees)  Visibility (km)  Loud Cover  \\\n",
       "2017              149.291667        11.183462         0.0   \n",
       "1706              275.375000        12.077683         0.0   \n",
       "856               131.125000         9.863933         0.0   \n",
       "594               261.208333        12.111225         0.0   \n",
       "3733              256.666667        10.574346         0.0   \n",
       "\n",
       "      Pressure (millibars)  \n",
       "2017           1014.808750  \n",
       "1706           1015.612083  \n",
       "856            1021.329167  \n",
       "594            1012.872083  \n",
       "3733           1014.642083  "
      ]
     },
     "execution_count": 8,
     "metadata": {},
     "output_type": "execute_result"
    }
   ],
   "source": [
    "df_weather = pandas.read_csv('../Data/dataset_clima.csv',sep=';')\n",
    "\n",
    "drop_cols = ['Temperature (C)']\n",
    "df_weather.drop(drop_cols, axis=1, inplace=True)\n",
    "\n",
    "print(df_weather.shape)\n",
    "\n",
    "weather_target_col = 'Apparent Temperature (C)'\n",
    "\n",
    "df_raw_weather = df_weather.copy()\n",
    "df_weather = df_raw_weather.sample(100).copy()\n",
    "\n",
    "df_weather.head()"
   ]
  },
  {
   "cell_type": "markdown",
   "id": "cd83e09c-13ee-4b4a-a70c-481559b94c67",
   "metadata": {},
   "source": [
    "## Treinamento do Classificador "
   ]
  },
  {
   "cell_type": "code",
   "execution_count": 9,
   "id": "304dd678-eb7c-4d50-876d-448be017c60d",
   "metadata": {},
   "outputs": [],
   "source": [
    "\n",
    "Y = df_weather[weather_target_col]\n",
    "X = df_weather.drop(weather_target_col, axis=1)\n",
    "\n",
    "# train/test\n",
    "xtrain, xtest, ytrain, ytest = model_selection.train_test_split(X, Y, test_size=0.2)\n",
    "\n",
    "df_train = xtrain.copy()\n",
    "df_test = xtest.copy()\n",
    "df_train['train_set'] = 1\n",
    "df_test['train_set'] = 0\n",
    "df_train[weather_target_col] = ytrain\n",
    "df_test[weather_target_col] = ytest\n",
    "\n",
    "\n",
    "# C = [0.1, 1, 10, 1000],\n",
    "# kernel = ['linear', 'rbf', 'poly']\n",
    "# gamma = [1, 10, 100, 300, 'scale','auto']\n",
    "\n",
    "model_weather = svm.SVR(kernel='linear', C=100)\n",
    "model_weather = model_weather.fit(xtrain, ytrain)\n",
    "\n",
    "\n",
    "df_train['prediction'] = model_weather.predict(xtrain)\n",
    "df_test['prediction']  = model_weather.predict(xtest)\n",
    "\n",
    "df_weather = pandas.concat((df_train, df_test), axis=0)"
   ]
  },
  {
   "cell_type": "markdown",
   "id": "d9250720-ec66-4a30-8df6-f4ab043d84f7",
   "metadata": {},
   "source": [
    "## Curva de Resíduos"
   ]
  },
  {
   "cell_type": "code",
   "execution_count": 10,
   "id": "50781385-5394-4260-95a0-260c7326040a",
   "metadata": {},
   "outputs": [
    {
     "data": {
      "image/png": "[encoded data removed]",
      "text/plain": [
       "<Figure size 864x288 with 2 Axes>"
      ]
     },
     "metadata": {
      "needs_background": "light"
     },
     "output_type": "display_data"
    }
   ],
   "source": [
    "plt.figure(figsize=(12,4))\n",
    "\n",
    "# Dispersion plot\n",
    "plt.subplot(1,2,1)\n",
    "plt.scatter(df_weather[weather_target_col], df_weather['prediction'])\n",
    "plt.plot([plt.gca().axis()[2], plt.gca().axis()[3]],\n",
    "         [plt.gca().axis()[2], plt.gca().axis()[3]],  '--k', lw=2)\n",
    "plt.grid()\n",
    "plt.ylabel('Predição do Modelo')\n",
    "plt.xlabel('Valor Real')\n",
    "plt.title(f'Curva de Dispersão')\n",
    "plt.tight_layout()\n",
    "\n",
    "plt.subplot(1,2,2)\n",
    "error = df_weather[weather_target_col] - df_weather['prediction']\n",
    "plt.scatter(df_weather['prediction'], error)\n",
    "plt.plot([plt.gca().axis()[0], plt.gca().axis()[1]],[0, 0],  '--k', lw=2)\n",
    "plt.grid()\n",
    "plt.ylabel('Resíduo (erro)')\n",
    "plt.xlabel('Predição do Modelo')\n",
    "plt.title(f'Curva de Resíduos')\n",
    "plt.tight_layout()"
   ]
  },
  {
   "cell_type": "markdown",
   "id": "6331e0b6-38f9-45d5-9009-d5e1eb89089f",
   "metadata": {
    "tags": []
   },
   "source": [
    "## Teste de Normalidade do Erro "
   ]
  },
  {
   "cell_type": "code",
   "execution_count": 12,
   "id": "fd5d6ba8-25de-4423-8fb0-623cba98b515",
   "metadata": {},
   "outputs": [
    {
     "name": "stdout",
     "output_type": "stream",
     "text": [
      "mu = -5.14 and sigma = 12.42\n",
      "Shapiro-Wilk p-value: 0.028852704912424088\n"
     ]
    },
    {
     "name": "stderr",
     "output_type": "stream",
     "text": [
      "C:\\Users\\BZ241WX\\AppData\\Local\\Continuum\\anaconda3\\envs\\infnet\\lib\\site-packages\\seaborn\\distributions.py:2619: FutureWarning: `distplot` is a deprecated function and will be removed in a future version. Please adapt your code to use either `displot` (a figure-level function with similar flexibility) or `histplot` (an axes-level function for histograms).\n",
      "  warnings.warn(msg, FutureWarning)\n"
     ]
    },
    {
     "data": {
      "image/png": "[encoded data removed]",
      "text/plain": [
       "<Figure size 432x288 with 1 Axes>"
      ]
     },
     "metadata": {
      "needs_background": "light"
     },
     "output_type": "display_data"
    },
    {
     "data": {
      "image/png": "[encoded data removed]",
      "text/plain": [
       "<Figure size 360x288 with 1 Axes>"
      ]
     },
     "metadata": {
      "needs_background": "light"
     },
     "output_type": "display_data"
    },
    {
     "name": "stderr",
     "output_type": "stream",
     "text": [
      "C:\\Users\\BZ241WX\\AppData\\Local\\Continuum\\anaconda3\\envs\\infnet\\lib\\site-packages\\outdated\\utils.py:18: OutdatedCheckFailedWarning: Failed to check for latest version of package.\n",
      "Set the environment variable OUTDATED_RAISE_EXCEPTION=1 for a full traceback.\n",
      "Set the environment variable OUTDATED_IGNORE=1 to disable these warnings.\n",
      "  **kwargs\n"
     ]
    }
   ],
   "source": [
    "error = df_weather[weather_target_col] - df_weather['prediction']\n",
    "(mu, sigma) = norm.fit(error.values.reshape((-1, 1)))\n",
    "print('mu = {:.2f} and sigma = {:.2f}'.format(mu, sigma))\n",
    "_, p_value = stats.shapiro(error)\n",
    "print('Shapiro-Wilk p-value: ' + str(p_value))\n",
    "# Get the fitted parameters used by the function\n",
    "sns.distplot(error , fit=norm)\n",
    "plt.legend(['Normal dist. ($\\mu=$ {:.2f} and $\\sigma=$ {:.2f} )'.format(mu, sigma)], loc='best')\n",
    "plt.ylabel('Frequência')\n",
    "plt.xlabel('Resíduo: Real-Estimado [R$]')\n",
    "plt.title(f'Distribuição do Resíduo')\n",
    "plt.xlim((mu-5*sigma, mu+5*sigma))\n",
    "plt.grid(True)\n",
    "plt.show()\n",
    "#Get also the QQ-plot\n",
    "pg.qqplot(error, dist='norm')\n",
    "plt.xlabel('Quartis Teóricos')\n",
    "plt.title(f'Q-Q Plot')\n",
    "plt.ylabel('Resíduo Ordenado [R$]')\n",
    "plt.grid(True)\n",
    "plt.show()\n"
   ]
  },
  {
   "cell_type": "code",
   "execution_count": null,
   "id": "599ee757-4e2e-4afe-bca6-5480a3f0c49e",
   "metadata": {},
   "outputs": [],
   "source": []
  }
 ],
 "metadata": {
  "kernelspec": {
   "display_name": "Python 3 (ipykernel)",
   "language": "python",
   "name": "python3"
  },
  "language_info": {
   "codemirror_mode": {
    "name": "ipython",
    "version": 3
   },
   "file_extension": ".py",
   "mimetype": "text/x-python",
   "name": "python",
   "nbconvert_exporter": "python",
   "pygments_lexer": "ipython3",
   "version": "3.7.11"
  }
 },
 "nbformat": 4,
 "nbformat_minor": 5
}
