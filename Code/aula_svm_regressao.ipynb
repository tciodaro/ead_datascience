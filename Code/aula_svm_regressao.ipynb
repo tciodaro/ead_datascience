{
 "cells": [
  {
   "cell_type": "code",
   "execution_count": 2,
   "id": "488807a8-fc82-4c09-8576-40716e13392e",
   "metadata": {},
   "outputs": [],
   "source": [
    "import matplotlib.pyplot as plt\n",
    "import seaborn as sns\n",
    "import pandas\n",
    "import numpy as np\n",
    "\n",
    "from sklearn import svm\n",
    "from sklearn import preprocessing, model_selection\n",
    "from sklearn import metrics\n",
    "from scipy import stats\n",
    "from scipy.stats import norm\n",
    "\n",
    "\n",
    "from ipywidgets import interact, interactive, fixed\n",
    "import ipywidgets as widgets\n",
    "\n",
    "\n",
    "%matplotlib inline"
   ]
  },
  {
   "cell_type": "markdown",
   "id": "e5ba18d5-2aca-4702-9e78-766b95c77935",
   "metadata": {},
   "source": [
    "# SVM Toy"
   ]
  },
  {
   "cell_type": "code",
   "execution_count": null,
   "id": "5b2cb712-28df-483f-a102-03c9db5c4f6f",
   "metadata": {},
   "outputs": [],
   "source": [
    "def plot_regression_example(frequency, harmonics, C, kernel,gamma):\n",
    "\n",
    "    harmonics = [int(x) for x in harmonics.split(',')]\n",
    "    f = frequency\n",
    "    odd = 1\n",
    "    mult = 2\n",
    "    t = np.linspace(0, 1, num=2000)\n",
    "    y = np.zeros(2000)\n",
    "\n",
    "    # compute and add fundamental with each harmonic\n",
    "    for i in harmonics:\n",
    "        k = i * mult + odd\n",
    "        ys = (1/k)* np.sin(2 * np.pi * k *  f * t)\n",
    "        yt = (1/(k*k) * (-1)**i)* np.sin(2 * np.pi * k *  f * t)\n",
    "        y = y + ys + yt\n",
    "\n",
    "    ynoise = y + np.random.randn(y.shape[0])*0.1\n",
    "    # The classification SVC model\n",
    "    X = t.reshape(-1,1)\n",
    "    model = svm.SVR(kernel=kernel, C=C, gamma=gamma)\n",
    "    clf = model.fit(X, ynoise)\n",
    "    yhat = clf.predict(X)\n",
    "    \n",
    "  \n",
    "    # Plot\n",
    "    fig, ax = plt.subplots()\n",
    "    ax.plot(t, ynoise, lw=2, label='Ruído')\n",
    "    ax.plot(t, y, lw=2, label='Sinal')\n",
    "    ax.plot(t, yhat, 'k-', lw=2, label='SVM')\n",
    "    plt.xlabel('Tempo [s]')\n",
    "    plt.ylabel('Harmônicos {0}'.format(harmonics))\n",
    "    plt.axis('tight')\n",
    "    axis_lims = plt.axis()\n",
    "\n",
    "    plt.show()\n",
    "    \n",
    "\n",
    "interact(plot_regression_example,\n",
    "         frequency = [1, 2],\n",
    "         harmonics = '1,2,3',\n",
    "         C = [0.1, 1, 10, 1000],\n",
    "         kernel = ['linear', 'rbf'],\n",
    "         gamma = [1, 10, 100, 300, 'scale','auto']\n",
    "        )"
   ]
  },
  {
   "cell_type": "markdown",
   "id": "8faf27f9-6e0b-40a3-a1ac-ef386bb0a049",
   "metadata": {
    "tags": []
   },
   "source": [
    "# Automóveis\n"
   ]
  },
  {
   "cell_type": "markdown",
   "id": "01cb7b41-d918-491c-9a31-595a011900d3",
   "metadata": {},
   "source": [
    "## Leitura da Base "
   ]
  },
  {
   "cell_type": "code",
   "execution_count": null,
   "id": "cfdff72a-267c-41a0-a3b1-59dbd5f632fc",
   "metadata": {},
   "outputs": [],
   "source": [
    "df_auto = pandas.read_csv('../Data/dataset_auto.csv',sep=';')\n",
    "df_auto['model'] = df_auto['brand'].astype(str) + df_auto['model'].astype(str)\n",
    "\n",
    "auto_target_col = 'price'\n",
    "\n",
    "drop_cols = ['brand','tax']\n",
    "df_auto.drop(drop_cols, axis=1, inplace=True)\n",
    "print(df_auto.shape)\n",
    "df_auto.head()"
   ]
  },
  {
   "cell_type": "markdown",
   "id": "4a648461-8994-482a-942e-bcacb059fbc0",
   "metadata": {
    "tags": []
   },
   "source": [
    "# Transformação Variáveis Categóricas"
   ]
  },
  {
   "cell_type": "code",
   "execution_count": null,
   "id": "95340798-6afc-48ab-842a-487737b9a610",
   "metadata": {},
   "outputs": [],
   "source": [
    "categorical_cols = ['transmission', 'fuelType', 'model']\n",
    "encoder_map = {}\n",
    "\n",
    "for cname in categorical_cols:\n",
    "    encoder = preprocessing.OneHotEncoder(sparse=False)\n",
    "    transformed = encoder.fit_transform(df_auto[[cname]])\n",
    "    ohe_df = pandas.DataFrame(transformed, columns=[cname+'_'+cat for cat in encoder.categories_[0]])\n",
    "    encoder_map[cname] = encoder\n",
    "    \n",
    "    df_auto = pandas.concat([df_auto, ohe_df], axis=1).drop(cname, axis=1)\n",
    "\n",
    "df_raw_auto = df_auto.copy()  \n",
    "df_auto = df_raw_auto.sample(100).copy()\n",
    "df_auto.head()"
   ]
  },
  {
   "cell_type": "markdown",
   "id": "1274055c-baf4-4000-b65a-0fc1631011a5",
   "metadata": {},
   "source": [
    "## Treinamento Regressor"
   ]
  },
  {
   "cell_type": "code",
   "execution_count": null,
   "id": "b9839dce-b3c9-4b67-b37b-a91e6ad8d5a3",
   "metadata": {},
   "outputs": [],
   "source": [
    "Y = df_auto[auto_target_col]\n",
    "X = df_auto.drop(auto_target_col, axis=1)\n",
    "\n",
    "# train/test\n",
    "xtrain, xtest, ytrain, ytest = model_selection.train_test_split(X, Y, test_size=0.2)\n",
    "\n",
    "df_train = xtrain.copy()\n",
    "df_test = xtest.copy()\n",
    "df_train['train_set'] = 1\n",
    "df_test['train_set'] = 0\n",
    "df_train[auto_target_col] = ytrain\n",
    "df_test[auto_target_col] = ytest\n",
    "\n",
    "\n",
    "# C = [0.1, 1, 10, 1000],\n",
    "# kernel = ['linear', 'rbf', 'poly']\n",
    "# gamma = [1, 10, 100, 300, 'scale','auto']\n",
    "\n",
    "model_auto = svm.SVR(kernel='linear', C=100)\n",
    "model_auto = model_auto.fit(xtrain, ytrain)\n",
    "\n",
    "df_train['prediction'] = model_auto.predict(xtrain)\n",
    "df_test['prediction']  = model_auto.predict(xtest)\n",
    "\n",
    "df_auto = pandas.concat((df_train, df_test), axis=0)\n"
   ]
  },
  {
   "cell_type": "markdown",
   "id": "0809415b-7847-4f63-83a4-ab60c944ac2b",
   "metadata": {},
   "source": [
    "## Curva de Resíduos"
   ]
  },
  {
   "cell_type": "code",
   "execution_count": null,
   "id": "67ba1718-11a3-4e90-83bb-b29276e9824d",
   "metadata": {},
   "outputs": [],
   "source": [
    "plt.figure(figsize=(12,4))\n",
    "\n",
    "# Dispersion plot\n",
    "plt.subplot(1,2,1)\n",
    "plt.scatter(df_auto[auto_target_col], df_auto['prediction'])\n",
    "plt.plot([0, plt.gca().axis()[3]],[0, plt.gca().axis()[3]],  '--k', lw=2)\n",
    "plt.grid()\n",
    "plt.ylabel('Predição do Modelo')\n",
    "plt.xlabel('Valor Real')\n",
    "plt.title(f'Curva de Dispersão')\n",
    "plt.tight_layout()\n",
    "\n",
    "plt.subplot(1,2,2)\n",
    "error = df_auto[auto_target_col] - df_auto['prediction']\n",
    "plt.scatter(df_auto['prediction'], error)\n",
    "plt.plot([plt.gca().axis()[0], plt.gca().axis()[1]],[0, 0],  '--k', lw=2)\n",
    "plt.grid()\n",
    "plt.ylabel('Resíduo (erro)')\n",
    "plt.xlabel('Predição do Modelo')\n",
    "plt.title(f'Curva de Resíduos')\n",
    "plt.tight_layout()"
   ]
  },
  {
   "cell_type": "markdown",
   "id": "8ae68c58-89f4-415e-b1a6-8600c05a9ded",
   "metadata": {
    "tags": []
   },
   "source": [
    "## Teste de Normalidade do Erro "
   ]
  },
  {
   "cell_type": "code",
   "execution_count": null,
   "id": "59517d28-b3a8-4215-91a5-4b31e161dc41",
   "metadata": {},
   "outputs": [],
   "source": [
    "\n",
    "error = df_auto[auto_target_col] - df_auto['prediction']\n",
    "(mu, sigma) = norm.fit(error.values.reshape((-1, 1)))\n",
    "print('mu = {:.2f} and sigma = {:.2f}'.format(mu, sigma))\n",
    "_, p_value = stats.shapiro(error)\n",
    "print('Shapiro-Wilk p-value: ' + str(p_value))\n",
    "# Get the fitted parameters used by the function\n",
    "sns.distplot(error , fit=norm)\n",
    "plt.legend(['Normal dist. ($\\mu=$ {:.2f} and $\\sigma=$ {:.2f} )'.format(mu, sigma)], loc='best')\n",
    "plt.ylabel('Frequência')\n",
    "plt.xlabel('Resíduo: Real-Estimado [R$]')\n",
    "plt.title(f'Distribuição do Resíduo')\n",
    "plt.xlim((mu-5*sigma, mu+5*sigma))\n",
    "plt.grid(True)\n",
    "plt.show()\n",
    "#Get also the QQ-plot\n",
    "res = stats.probplot(error, plot=plt)\n",
    "plt.xlabel('Quartis Teóricos')\n",
    "plt.title(f'Q-Q Plot')\n",
    "plt.ylabel('Resíduo Ordenado [R$]')\n",
    "plt.grid(True)\n",
    "plt.show()\n"
   ]
  },
  {
   "cell_type": "markdown",
   "id": "b9f35297-c972-45ca-b606-d647784966db",
   "metadata": {},
   "source": [
    "# Clima\n"
   ]
  },
  {
   "cell_type": "markdown",
   "id": "82c2df0b-4c5d-42d1-a732-52c3d1da17a1",
   "metadata": {
    "tags": []
   },
   "source": [
    "## Leitura dos Dados "
   ]
  },
  {
   "cell_type": "code",
   "execution_count": 3,
   "id": "47514d91-7e29-447c-9d4b-29db397722f3",
   "metadata": {},
   "outputs": [
    {
     "name": "stdout",
     "output_type": "stream",
     "text": [
      "(4019, 7)\n"
     ]
    },
    {
     "data": {
      "text/html": [
       "<div>\n",
       "<style scoped>\n",
       "    .dataframe tbody tr th:only-of-type {\n",
       "        vertical-align: middle;\n",
       "    }\n",
       "\n",
       "    .dataframe tbody tr th {\n",
       "        vertical-align: top;\n",
       "    }\n",
       "\n",
       "    .dataframe thead th {\n",
       "        text-align: right;\n",
       "    }\n",
       "</style>\n",
       "<table border=\"1\" class=\"dataframe\">\n",
       "  <thead>\n",
       "    <tr style=\"text-align: right;\">\n",
       "      <th></th>\n",
       "      <th>Apparent Temperature (C)</th>\n",
       "      <th>Humidity</th>\n",
       "      <th>Wind Speed (km/h)</th>\n",
       "      <th>Wind Bearing (degrees)</th>\n",
       "      <th>Visibility (km)</th>\n",
       "      <th>Loud Cover</th>\n",
       "      <th>Pressure (millibars)</th>\n",
       "    </tr>\n",
       "  </thead>\n",
       "  <tbody>\n",
       "    <tr>\n",
       "      <th>645</th>\n",
       "      <td>12.209722</td>\n",
       "      <td>0.670000</td>\n",
       "      <td>8.871100</td>\n",
       "      <td>34.250000</td>\n",
       "      <td>10.910433</td>\n",
       "      <td>0.0</td>\n",
       "      <td>1021.047083</td>\n",
       "    </tr>\n",
       "    <tr>\n",
       "      <th>3596</th>\n",
       "      <td>2.115741</td>\n",
       "      <td>0.919583</td>\n",
       "      <td>2.354625</td>\n",
       "      <td>158.500000</td>\n",
       "      <td>1.143771</td>\n",
       "      <td>0.0</td>\n",
       "      <td>1022.413333</td>\n",
       "    </tr>\n",
       "    <tr>\n",
       "      <th>3793</th>\n",
       "      <td>15.667130</td>\n",
       "      <td>0.655833</td>\n",
       "      <td>12.153488</td>\n",
       "      <td>77.416667</td>\n",
       "      <td>14.678504</td>\n",
       "      <td>0.0</td>\n",
       "      <td>1015.293333</td>\n",
       "    </tr>\n",
       "    <tr>\n",
       "      <th>1039</th>\n",
       "      <td>14.125463</td>\n",
       "      <td>0.793333</td>\n",
       "      <td>12.130008</td>\n",
       "      <td>133.416667</td>\n",
       "      <td>9.200479</td>\n",
       "      <td>0.0</td>\n",
       "      <td>980.106250</td>\n",
       "    </tr>\n",
       "    <tr>\n",
       "      <th>2595</th>\n",
       "      <td>-2.007176</td>\n",
       "      <td>0.831250</td>\n",
       "      <td>17.114300</td>\n",
       "      <td>276.708333</td>\n",
       "      <td>10.730650</td>\n",
       "      <td>0.0</td>\n",
       "      <td>835.110833</td>\n",
       "    </tr>\n",
       "  </tbody>\n",
       "</table>\n",
       "</div>"
      ],
      "text/plain": [
       "      Apparent Temperature (C)  Humidity  Wind Speed (km/h)  \\\n",
       "645                  12.209722  0.670000           8.871100   \n",
       "3596                  2.115741  0.919583           2.354625   \n",
       "3793                 15.667130  0.655833          12.153488   \n",
       "1039                 14.125463  0.793333          12.130008   \n",
       "2595                 -2.007176  0.831250          17.114300   \n",
       "\n",
       "      Wind Bearing (degrees)  Visibility (km)  Loud Cover  \\\n",
       "645                34.250000        10.910433         0.0   \n",
       "3596              158.500000         1.143771         0.0   \n",
       "3793               77.416667        14.678504         0.0   \n",
       "1039              133.416667         9.200479         0.0   \n",
       "2595              276.708333        10.730650         0.0   \n",
       "\n",
       "      Pressure (millibars)  \n",
       "645            1021.047083  \n",
       "3596           1022.413333  \n",
       "3793           1015.293333  \n",
       "1039            980.106250  \n",
       "2595            835.110833  "
      ]
     },
     "execution_count": 3,
     "metadata": {},
     "output_type": "execute_result"
    }
   ],
   "source": [
    "df_weather = pandas.read_csv('../Data/dataset_clima.csv',sep=';')\n",
    "\n",
    "drop_cols = ['Temperature (C)']\n",
    "df_weather.drop(drop_cols, axis=1, inplace=True)\n",
    "\n",
    "print(df_weather.shape)\n",
    "\n",
    "weather_target_col = 'Apparent Temperature (C)'\n",
    "\n",
    "df_raw_weather = df_weather.copy()\n",
    "df_weather = df_raw_weather.sample(100).copy()\n",
    "\n",
    "df_weather.head()"
   ]
  },
  {
   "cell_type": "markdown",
   "id": "cd83e09c-13ee-4b4a-a70c-481559b94c67",
   "metadata": {},
   "source": [
    "## Treinamento do Classificador "
   ]
  },
  {
   "cell_type": "code",
   "execution_count": 4,
   "id": "304dd678-eb7c-4d50-876d-448be017c60d",
   "metadata": {},
   "outputs": [],
   "source": [
    "\n",
    "Y = df_weather[weather_target_col]\n",
    "X = df_weather.drop(weather_target_col, axis=1)\n",
    "\n",
    "# train/test\n",
    "xtrain, xtest, ytrain, ytest = model_selection.train_test_split(X, Y, test_size=0.2)\n",
    "\n",
    "df_train = xtrain.copy()\n",
    "df_test = xtest.copy()\n",
    "df_train['train_set'] = 1\n",
    "df_test['train_set'] = 0\n",
    "df_train[weather_target_col] = ytrain\n",
    "df_test[weather_target_col] = ytest\n",
    "\n",
    "\n",
    "# C = [0.1, 1, 10, 1000],\n",
    "# kernel = ['linear', 'rbf', 'poly']\n",
    "# gamma = [1, 10, 100, 300, 'scale','auto']\n",
    "\n",
    "model_weather = svm.SVR(kernel='linear', C=100)\n",
    "model_weather = model_weather.fit(xtrain, ytrain)\n",
    "\n",
    "\n",
    "df_train['prediction'] = model_weather.predict(xtrain)\n",
    "df_test['prediction']  = model_weather.predict(xtest)\n",
    "\n",
    "df_weather = pandas.concat((df_train, df_test), axis=0)"
   ]
  },
  {
   "cell_type": "markdown",
   "id": "d9250720-ec66-4a30-8df6-f4ab043d84f7",
   "metadata": {},
   "source": [
    "## Curva de Resíduos"
   ]
  },
  {
   "cell_type": "code",
   "execution_count": 5,
   "id": "50781385-5394-4260-95a0-260c7326040a",
   "metadata": {},
   "outputs": [
    {
     "data": {
      "image/png": "[encoded data removed]",
      "text/plain": [
       "<Figure size 864x288 with 2 Axes>"
      ]
     },
     "metadata": {
      "needs_background": "light"
     },
     "output_type": "display_data"
    }
   ],
   "source": [
    "plt.figure(figsize=(12,4))\n",
    "\n",
    "# Dispersion plot\n",
    "plt.subplot(1,2,1)\n",
    "plt.scatter(df_weather[weather_target_col], df_weather['prediction'])\n",
    "plt.plot([plt.gca().axis()[2], plt.gca().axis()[3]],\n",
    "         [plt.gca().axis()[2], plt.gca().axis()[3]],  '--k', lw=2)\n",
    "plt.grid()\n",
    "plt.ylabel('Predição do Modelo')\n",
    "plt.xlabel('Valor Real')\n",
    "plt.title(f'Curva de Dispersão')\n",
    "plt.tight_layout()\n",
    "\n",
    "plt.subplot(1,2,2)\n",
    "error = df_weather[weather_target_col] - df_weather['prediction']\n",
    "plt.scatter(df_weather['prediction'], error)\n",
    "plt.plot([plt.gca().axis()[0], plt.gca().axis()[1]],[0, 0],  '--k', lw=2)\n",
    "plt.grid()\n",
    "plt.ylabel('Resíduo (erro)')\n",
    "plt.xlabel('Predição do Modelo')\n",
    "plt.title(f'Curva de Resíduos')\n",
    "plt.tight_layout()"
   ]
  },
  {
   "cell_type": "markdown",
   "id": "6331e0b6-38f9-45d5-9009-d5e1eb89089f",
   "metadata": {
    "tags": []
   },
   "source": [
    "## Teste de Normalidade do Erro "
   ]
  },
  {
   "cell_type": "code",
   "execution_count": 6,
   "id": "fd5d6ba8-25de-4423-8fb0-623cba98b515",
   "metadata": {},
   "outputs": [
    {
     "name": "stdout",
     "output_type": "stream",
     "text": [
      "mu = 0.72 and sigma = 12.48\n",
      "Shapiro-Wilk p-value: 0.00022783885651733726\n"
     ]
    },
    {
     "name": "stderr",
     "output_type": "stream",
     "text": [
      "C:\\Users\\BZ241WX\\AppData\\Local\\Continuum\\anaconda3\\envs\\infnet\\lib\\site-packages\\seaborn\\distributions.py:2619: FutureWarning: `distplot` is a deprecated function and will be removed in a future version. Please adapt your code to use either `displot` (a figure-level function with similar flexibility) or `histplot` (an axes-level function for histograms).\n",
      "  warnings.warn(msg, FutureWarning)\n"
     ]
    },
    {
     "data": {
      "image/png": "[encoded data removed]",
      "text/plain": [
       "<Figure size 432x288 with 1 Axes>"
      ]
     },
     "metadata": {
      "needs_background": "light"
     },
     "output_type": "display_data"
    },
    {
     "data": {
      "image/png": "[encoded data removed]",
      "text/plain": [
       "<Figure size 432x288 with 1 Axes>"
      ]
     },
     "metadata": {
      "needs_background": "light"
     },
     "output_type": "display_data"
    }
   ],
   "source": [
    "error = df_weather[weather_target_col] - df_weather['prediction']\n",
    "(mu, sigma) = norm.fit(error.values.reshape((-1, 1)))\n",
    "print('mu = {:.2f} and sigma = {:.2f}'.format(mu, sigma))\n",
    "_, p_value = stats.shapiro(error)\n",
    "print('Shapiro-Wilk p-value: ' + str(p_value))\n",
    "# Get the fitted parameters used by the function\n",
    "sns.distplot(error , fit=norm)\n",
    "plt.legend(['Normal dist. ($\\mu=$ {:.2f} and $\\sigma=$ {:.2f} )'.format(mu, sigma)], loc='best')\n",
    "plt.ylabel('Frequência')\n",
    "plt.xlabel('Resíduo: Real-Estimado [R$]')\n",
    "plt.title(f'Distribuição do Resíduo')\n",
    "plt.xlim((mu-5*sigma, mu+5*sigma))\n",
    "plt.grid(True)\n",
    "plt.show()\n",
    "#Get also the QQ-plot\n",
    "res = stats.probplot(error, plot=plt)\n",
    "plt.xlabel('Quartis Teóricos')\n",
    "plt.title(f'Q-Q Plot')\n",
    "plt.ylabel('Resíduo Ordenado [R$]')\n",
    "plt.grid(True)\n",
    "plt.show()\n"
   ]
  },
  {
   "cell_type": "code",
   "execution_count": null,
   "id": "599ee757-4e2e-4afe-bca6-5480a3f0c49e",
   "metadata": {},
   "outputs": [],
   "source": []
  }
 ],
 "metadata": {
  "kernelspec": {
   "display_name": "Python 3 (ipykernel)",
   "language": "python",
   "name": "python3"
  },
  "language_info": {
   "codemirror_mode": {
    "name": "ipython",
    "version": 3
   },
   "file_extension": ".py",
   "mimetype": "text/x-python",
   "name": "python",
   "nbconvert_exporter": "python",
   "pygments_lexer": "ipython3",
   "version": "3.7.11"
  }
 },
 "nbformat": 4,
 "nbformat_minor": 5
}
