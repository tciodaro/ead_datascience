{
 "cells": [
  {
   "cell_type": "markdown",
   "id": "ca053956-cfe7-4ecf-bb27-3ffdbd48429d",
   "metadata": {},
   "source": [
    "# Bibliotecas "
   ]
  },
  {
   "cell_type": "code",
   "execution_count": 1,
   "id": "a6a6125c-351b-4fed-8b3f-b433115a217a",
   "metadata": {},
   "outputs": [],
   "source": [
    "import pandas\n",
    "import numpy as np\n",
    "import sklearn.linear_model as lm\n",
    "from sklearn import preprocessing, model_selection, metrics\n",
    "import matplotlib.pyplot as plt\n",
    "\n",
    "from ipywidgets import interact, interactive, fixed\n",
    "import ipywidgets as widgets\n"
   ]
  },
  {
   "cell_type": "markdown",
   "id": "e0e609a6-f17c-406d-bcfe-24774e1d8d56",
   "metadata": {
    "tags": []
   },
   "source": [
    "# Automóveis "
   ]
  },
  {
   "cell_type": "code",
   "execution_count": 2,
   "id": "e8b8b9d5-d200-45e9-9733-9de7cee48f52",
   "metadata": {},
   "outputs": [
    {
     "name": "stdout",
     "output_type": "stream",
     "text": [
      "(15000, 8)\n"
     ]
    },
    {
     "data": {
      "text/html": [
       "<div>\n",
       "<style scoped>\n",
       "    .dataframe tbody tr th:only-of-type {\n",
       "        vertical-align: middle;\n",
       "    }\n",
       "\n",
       "    .dataframe tbody tr th {\n",
       "        vertical-align: top;\n",
       "    }\n",
       "\n",
       "    .dataframe thead th {\n",
       "        text-align: right;\n",
       "    }\n",
       "</style>\n",
       "<table border=\"1\" class=\"dataframe\">\n",
       "  <thead>\n",
       "    <tr style=\"text-align: right;\">\n",
       "      <th></th>\n",
       "      <th>model</th>\n",
       "      <th>year</th>\n",
       "      <th>price</th>\n",
       "      <th>transmission</th>\n",
       "      <th>mileage</th>\n",
       "      <th>fuelType</th>\n",
       "      <th>mpg</th>\n",
       "      <th>engineSize</th>\n",
       "    </tr>\n",
       "  </thead>\n",
       "  <tbody>\n",
       "    <tr>\n",
       "      <th>0</th>\n",
       "      <td>audi A1</td>\n",
       "      <td>2020</td>\n",
       "      <td>20000</td>\n",
       "      <td>Manual</td>\n",
       "      <td>5000</td>\n",
       "      <td>Petrol</td>\n",
       "      <td>49.6</td>\n",
       "      <td>1.0</td>\n",
       "    </tr>\n",
       "    <tr>\n",
       "      <th>1</th>\n",
       "      <td>audi A5</td>\n",
       "      <td>2017</td>\n",
       "      <td>19995</td>\n",
       "      <td>Semi-Auto</td>\n",
       "      <td>54000</td>\n",
       "      <td>Diesel</td>\n",
       "      <td>67.3</td>\n",
       "      <td>2.0</td>\n",
       "    </tr>\n",
       "    <tr>\n",
       "      <th>2</th>\n",
       "      <td>audi A3</td>\n",
       "      <td>2017</td>\n",
       "      <td>11895</td>\n",
       "      <td>Manual</td>\n",
       "      <td>28334</td>\n",
       "      <td>Petrol</td>\n",
       "      <td>62.8</td>\n",
       "      <td>1.0</td>\n",
       "    </tr>\n",
       "    <tr>\n",
       "      <th>3</th>\n",
       "      <td>audi Q7</td>\n",
       "      <td>2018</td>\n",
       "      <td>56900</td>\n",
       "      <td>Semi-Auto</td>\n",
       "      <td>5330</td>\n",
       "      <td>Diesel</td>\n",
       "      <td>39.2</td>\n",
       "      <td>4.0</td>\n",
       "    </tr>\n",
       "    <tr>\n",
       "      <th>4</th>\n",
       "      <td>audi A4</td>\n",
       "      <td>2019</td>\n",
       "      <td>27160</td>\n",
       "      <td>Semi-Auto</td>\n",
       "      <td>17790</td>\n",
       "      <td>Diesel</td>\n",
       "      <td>47.9</td>\n",
       "      <td>2.0</td>\n",
       "    </tr>\n",
       "  </tbody>\n",
       "</table>\n",
       "</div>"
      ],
      "text/plain": [
       "     model  year  price transmission  mileage fuelType   mpg  engineSize\n",
       "0  audi A1  2020  20000       Manual     5000   Petrol  49.6         1.0\n",
       "1  audi A5  2017  19995    Semi-Auto    54000   Diesel  67.3         2.0\n",
       "2  audi A3  2017  11895       Manual    28334   Petrol  62.8         1.0\n",
       "3  audi Q7  2018  56900    Semi-Auto     5330   Diesel  39.2         4.0\n",
       "4  audi A4  2019  27160    Semi-Auto    17790   Diesel  47.9         2.0"
      ]
     },
     "execution_count": 2,
     "metadata": {},
     "output_type": "execute_result"
    }
   ],
   "source": [
    "df_auto = pandas.read_csv('../Data/dataset_auto.csv',sep=';')\n",
    "df_auto['model'] = df_auto['brand'].astype(str) + df_auto['model'].astype(str)\n",
    "\n",
    "\n",
    "drop_cols = ['brand','tax']\n",
    "df_auto.drop(drop_cols, axis=1, inplace=True)\n",
    "\n",
    "print(df_auto.shape)\n",
    "\n",
    "target_col = 'price'\n",
    "\n",
    "df_auto.head()"
   ]
  },
  {
   "cell_type": "markdown",
   "id": "b82a9ba8-157a-477b-956a-d912e879869a",
   "metadata": {},
   "source": [
    "## Variáveis Categóricas "
   ]
  },
  {
   "cell_type": "code",
   "execution_count": 3,
   "id": "385ecf1e-24bd-45c2-8224-e351c2ae84b8",
   "metadata": {},
   "outputs": [
    {
     "data": {
      "text/html": [
       "<div>\n",
       "<style scoped>\n",
       "    .dataframe tbody tr th:only-of-type {\n",
       "        vertical-align: middle;\n",
       "    }\n",
       "\n",
       "    .dataframe tbody tr th {\n",
       "        vertical-align: top;\n",
       "    }\n",
       "\n",
       "    .dataframe thead th {\n",
       "        text-align: right;\n",
       "    }\n",
       "</style>\n",
       "<table border=\"1\" class=\"dataframe\">\n",
       "  <thead>\n",
       "    <tr style=\"text-align: right;\">\n",
       "      <th></th>\n",
       "      <th>year</th>\n",
       "      <th>price</th>\n",
       "      <th>mileage</th>\n",
       "      <th>mpg</th>\n",
       "      <th>engineSize</th>\n",
       "      <th>transmission_Automatic</th>\n",
       "      <th>transmission_Manual</th>\n",
       "      <th>transmission_Semi-Auto</th>\n",
       "      <th>fuelType_Diesel</th>\n",
       "      <th>fuelType_Electric</th>\n",
       "      <th>...</th>\n",
       "      <th>model_ford Ka+</th>\n",
       "      <th>model_ford Kuga</th>\n",
       "      <th>model_ford Mondeo</th>\n",
       "      <th>model_ford Mustang</th>\n",
       "      <th>model_ford Puma</th>\n",
       "      <th>model_ford S-MAX</th>\n",
       "      <th>model_ford Streetka</th>\n",
       "      <th>model_ford Tourneo Connect</th>\n",
       "      <th>model_ford Tourneo Custom</th>\n",
       "      <th>model_ford Transit Tourneo</th>\n",
       "    </tr>\n",
       "  </thead>\n",
       "  <tbody>\n",
       "    <tr>\n",
       "      <th>0</th>\n",
       "      <td>2020</td>\n",
       "      <td>20000</td>\n",
       "      <td>5000</td>\n",
       "      <td>49.6</td>\n",
       "      <td>1.0</td>\n",
       "      <td>0.0</td>\n",
       "      <td>1.0</td>\n",
       "      <td>0.0</td>\n",
       "      <td>0.0</td>\n",
       "      <td>0.0</td>\n",
       "      <td>...</td>\n",
       "      <td>0.0</td>\n",
       "      <td>0.0</td>\n",
       "      <td>0.0</td>\n",
       "      <td>0.0</td>\n",
       "      <td>0.0</td>\n",
       "      <td>0.0</td>\n",
       "      <td>0.0</td>\n",
       "      <td>0.0</td>\n",
       "      <td>0.0</td>\n",
       "      <td>0.0</td>\n",
       "    </tr>\n",
       "    <tr>\n",
       "      <th>1</th>\n",
       "      <td>2017</td>\n",
       "      <td>19995</td>\n",
       "      <td>54000</td>\n",
       "      <td>67.3</td>\n",
       "      <td>2.0</td>\n",
       "      <td>0.0</td>\n",
       "      <td>0.0</td>\n",
       "      <td>1.0</td>\n",
       "      <td>1.0</td>\n",
       "      <td>0.0</td>\n",
       "      <td>...</td>\n",
       "      <td>0.0</td>\n",
       "      <td>0.0</td>\n",
       "      <td>0.0</td>\n",
       "      <td>0.0</td>\n",
       "      <td>0.0</td>\n",
       "      <td>0.0</td>\n",
       "      <td>0.0</td>\n",
       "      <td>0.0</td>\n",
       "      <td>0.0</td>\n",
       "      <td>0.0</td>\n",
       "    </tr>\n",
       "    <tr>\n",
       "      <th>2</th>\n",
       "      <td>2017</td>\n",
       "      <td>11895</td>\n",
       "      <td>28334</td>\n",
       "      <td>62.8</td>\n",
       "      <td>1.0</td>\n",
       "      <td>0.0</td>\n",
       "      <td>1.0</td>\n",
       "      <td>0.0</td>\n",
       "      <td>0.0</td>\n",
       "      <td>0.0</td>\n",
       "      <td>...</td>\n",
       "      <td>0.0</td>\n",
       "      <td>0.0</td>\n",
       "      <td>0.0</td>\n",
       "      <td>0.0</td>\n",
       "      <td>0.0</td>\n",
       "      <td>0.0</td>\n",
       "      <td>0.0</td>\n",
       "      <td>0.0</td>\n",
       "      <td>0.0</td>\n",
       "      <td>0.0</td>\n",
       "    </tr>\n",
       "    <tr>\n",
       "      <th>3</th>\n",
       "      <td>2018</td>\n",
       "      <td>56900</td>\n",
       "      <td>5330</td>\n",
       "      <td>39.2</td>\n",
       "      <td>4.0</td>\n",
       "      <td>0.0</td>\n",
       "      <td>0.0</td>\n",
       "      <td>1.0</td>\n",
       "      <td>1.0</td>\n",
       "      <td>0.0</td>\n",
       "      <td>...</td>\n",
       "      <td>0.0</td>\n",
       "      <td>0.0</td>\n",
       "      <td>0.0</td>\n",
       "      <td>0.0</td>\n",
       "      <td>0.0</td>\n",
       "      <td>0.0</td>\n",
       "      <td>0.0</td>\n",
       "      <td>0.0</td>\n",
       "      <td>0.0</td>\n",
       "      <td>0.0</td>\n",
       "    </tr>\n",
       "    <tr>\n",
       "      <th>4</th>\n",
       "      <td>2019</td>\n",
       "      <td>27160</td>\n",
       "      <td>17790</td>\n",
       "      <td>47.9</td>\n",
       "      <td>2.0</td>\n",
       "      <td>0.0</td>\n",
       "      <td>0.0</td>\n",
       "      <td>1.0</td>\n",
       "      <td>1.0</td>\n",
       "      <td>0.0</td>\n",
       "      <td>...</td>\n",
       "      <td>0.0</td>\n",
       "      <td>0.0</td>\n",
       "      <td>0.0</td>\n",
       "      <td>0.0</td>\n",
       "      <td>0.0</td>\n",
       "      <td>0.0</td>\n",
       "      <td>0.0</td>\n",
       "      <td>0.0</td>\n",
       "      <td>0.0</td>\n",
       "      <td>0.0</td>\n",
       "    </tr>\n",
       "  </tbody>\n",
       "</table>\n",
       "<p>5 rows × 82 columns</p>\n",
       "</div>"
      ],
      "text/plain": [
       "   year  price  mileage   mpg  engineSize  transmission_Automatic  \\\n",
       "0  2020  20000     5000  49.6         1.0                     0.0   \n",
       "1  2017  19995    54000  67.3         2.0                     0.0   \n",
       "2  2017  11895    28334  62.8         1.0                     0.0   \n",
       "3  2018  56900     5330  39.2         4.0                     0.0   \n",
       "4  2019  27160    17790  47.9         2.0                     0.0   \n",
       "\n",
       "   transmission_Manual  transmission_Semi-Auto  fuelType_Diesel  \\\n",
       "0                  1.0                     0.0              0.0   \n",
       "1                  0.0                     1.0              1.0   \n",
       "2                  1.0                     0.0              0.0   \n",
       "3                  0.0                     1.0              1.0   \n",
       "4                  0.0                     1.0              1.0   \n",
       "\n",
       "   fuelType_Electric  ...  model_ford Ka+  model_ford Kuga  model_ford Mondeo  \\\n",
       "0                0.0  ...             0.0              0.0                0.0   \n",
       "1                0.0  ...             0.0              0.0                0.0   \n",
       "2                0.0  ...             0.0              0.0                0.0   \n",
       "3                0.0  ...             0.0              0.0                0.0   \n",
       "4                0.0  ...             0.0              0.0                0.0   \n",
       "\n",
       "   model_ford Mustang  model_ford Puma  model_ford S-MAX  model_ford Streetka  \\\n",
       "0                 0.0              0.0               0.0                  0.0   \n",
       "1                 0.0              0.0               0.0                  0.0   \n",
       "2                 0.0              0.0               0.0                  0.0   \n",
       "3                 0.0              0.0               0.0                  0.0   \n",
       "4                 0.0              0.0               0.0                  0.0   \n",
       "\n",
       "   model_ford Tourneo Connect  model_ford Tourneo Custom  \\\n",
       "0                         0.0                        0.0   \n",
       "1                         0.0                        0.0   \n",
       "2                         0.0                        0.0   \n",
       "3                         0.0                        0.0   \n",
       "4                         0.0                        0.0   \n",
       "\n",
       "   model_ford Transit Tourneo  \n",
       "0                         0.0  \n",
       "1                         0.0  \n",
       "2                         0.0  \n",
       "3                         0.0  \n",
       "4                         0.0  \n",
       "\n",
       "[5 rows x 82 columns]"
      ]
     },
     "execution_count": 3,
     "metadata": {},
     "output_type": "execute_result"
    }
   ],
   "source": [
    "categorical_cols = ['transmission', 'fuelType', 'model']\n",
    "encoder_map = {}\n",
    "\n",
    "for cname in categorical_cols:\n",
    "    encoder = preprocessing.OneHotEncoder(sparse=False)\n",
    "    transformed = encoder.fit_transform(df_auto[[cname]])\n",
    "    ohe_df = pandas.DataFrame(transformed, columns=[cname+'_'+cat for cat in encoder.categories_[0]])\n",
    "    encoder_map[cname] = encoder\n",
    "    \n",
    "    df_auto = pandas.concat([df_auto, ohe_df], axis=1).drop(cname, axis=1)\n",
    "df_auto.head()"
   ]
  },
  {
   "cell_type": "markdown",
   "id": "ce5d41cf-b36e-4ecf-8be5-9f65a798f3b6",
   "metadata": {},
   "source": [
    "## Treinamento do modelo "
   ]
  },
  {
   "cell_type": "code",
   "execution_count": 4,
   "id": "3c82f5d1-7488-4269-ba8f-fd4fd67d7103",
   "metadata": {},
   "outputs": [
    {
     "name": "stderr",
     "output_type": "stream",
     "text": [
      "C:\\Users\\BZ241WX\\AppData\\Local\\Continuum\\anaconda3\\envs\\infnet\\lib\\site-packages\\sklearn\\linear_model\\_coordinate_descent.py:532: ConvergenceWarning: Objective did not converge. You might want to increase the number of iterations. Duality gap: 89211692246.37274, tolerance: 142767928.32306695\n",
      "  positive)\n"
     ]
    }
   ],
   "source": [
    "model_map = {\n",
    "    'linear': lm.LinearRegression(),\n",
    "    'ridge': lm.Ridge(),\n",
    "    'lasso': lm.Lasso()\n",
    "}\n",
    "\n",
    "Y = df_auto[target_col]\n",
    "X = df_auto.drop(target_col, axis=1)\n",
    "\n",
    "# train/test\n",
    "xtrain, xtest, ytrain, ytest = model_selection.train_test_split(X, Y, test_size=0.2)\n",
    "\n",
    "df_train = xtrain.copy()\n",
    "df_test = xtest.copy()\n",
    "df_train['train_set'] = 1\n",
    "df_test['train_set'] = 0\n",
    "df_train[target_col] = ytrain\n",
    "df_test[target_col] = ytest\n",
    "\n",
    "for modelname, model in model_map.items():\n",
    "    model.fit(xtrain, ytrain)      \n",
    "    yhat_train = model.predict(xtrain)\n",
    "    yhat_test  = model.predict(xtest)\n",
    "    # Output table\n",
    "    df_train[modelname] = yhat_train\n",
    "    df_test[modelname] = yhat_test\n",
    "    model_map[modelname] = model\n",
    "    \n",
    "df_auto = pandas.concat((df_train, df_test), axis=0)"
   ]
  },
  {
   "cell_type": "markdown",
   "id": "3580fe6c-6efc-4100-84f5-22f2d1952a32",
   "metadata": {},
   "source": [
    "## Resultados "
   ]
  },
  {
   "cell_type": "code",
   "execution_count": 5,
   "id": "93697183-31f5-4bd8-8a76-b994ecd9a41d",
   "metadata": {},
   "outputs": [
    {
     "name": "stdout",
     "output_type": "stream",
     "text": [
      "linear\t 0.15835826507822826\n",
      "ridge\t 0.15998598420085156\n",
      "lasso\t 0.15950813560739827\n"
     ]
    },
    {
     "data": {
      "image/png": "[encoded data removed]",
      "text/plain": [
       "<Figure size 432x288 with 1 Axes>"
      ]
     },
     "metadata": {
      "needs_background": "light"
     },
     "output_type": "display_data"
    }
   ],
   "source": [
    "plt.figure()\n",
    "idx = df_auto['train_set'] == 0\n",
    "df_auto[idx].plot.scatter(target_col, 'linear', label='linear', color='k', ax=plt.gca())\n",
    "df_auto[idx].plot.scatter(target_col, 'ridge', label='ridge', color='b', ax=plt.gca())\n",
    "df_auto[idx].plot.scatter(target_col, 'lasso', label='lasso', color='g', ax=plt.gca())\n",
    "# plt.gca().plot(df_auto[target_col],df_auto[target_col], 'ro', label='referência')\n",
    "plt.grid()\n",
    "plt.ylabel('Estimativa')\n",
    "\n",
    "print('linear\\t', metrics.mean_absolute_percentage_error(df_auto[idx][target_col], df_auto[idx]['linear']))\n",
    "print('ridge\\t', metrics.mean_absolute_percentage_error(df_auto[idx][target_col], df_auto[idx]['ridge']))\n",
    "print('lasso\\t', metrics.mean_absolute_percentage_error(df_auto[idx][target_col], df_auto[idx]['lasso']))"
   ]
  },
  {
   "cell_type": "markdown",
   "id": "978c1a07-e9b1-41ac-83d0-8412c66adf30",
   "metadata": {},
   "source": [
    "## Coeficientes do Modelo"
   ]
  },
  {
   "cell_type": "code",
   "execution_count": 7,
   "id": "353f6229-73f8-4b46-be6c-59fd3264e8d1",
   "metadata": {},
   "outputs": [
    {
     "data": {
      "application/vnd.jupyter.widget-view+json": {
       "model_id": "5fdb09a0806e4ac6b1f98365c0923cf7",
       "version_major": 2,
       "version_minor": 0
      },
      "text/plain": [
       "interactive(children=(Dropdown(description='modelname', options=('linear', 'ridge', 'lasso'), value='linear'),…"
      ]
     },
     "metadata": {},
     "output_type": "display_data"
    },
    {
     "data": {
      "text/plain": [
       "<function __main__.plot_coefs(modelname)>"
      ]
     },
     "execution_count": 7,
     "metadata": {},
     "output_type": "execute_result"
    }
   ],
   "source": [
    "from IPython.display import display\n",
    "\n",
    "def plot_coefs(modelname):\n",
    "    fig = plt.figure(figsize=(15,4))\n",
    "\n",
    "    \n",
    "    coefs = model_map[modelname].coef_\n",
    "    coef_names = xtrain.columns\n",
    "\n",
    "    idx = np.argsort(coefs)\n",
    "\n",
    "    plt.bar(np.arange(coefs.shape[0]), coefs[idx])\n",
    "    plt.xticks(np.arange(coefs.shape[0]), coef_names[idx], rotation='90')\n",
    "    plt.title('Coeficientes do modelo '+ modelname)\n",
    "    plt.grid()\n",
    "    plt.xlim((-0.5, coefs.shape[0]-0.5))\n",
    "    plt.show()\n",
    "\n",
    "interact(plot_coefs, modelname = list(model_map.keys()))"
   ]
  },
  {
   "cell_type": "markdown",
   "id": "14a5f4fe-e6fd-4942-8d51-02bc2fd70490",
   "metadata": {},
   "source": [
    "# Clima "
   ]
  },
  {
   "cell_type": "code",
   "execution_count": 17,
   "id": "afbba090-c4a5-46bf-aed4-107708240673",
   "metadata": {},
   "outputs": [
    {
     "name": "stdout",
     "output_type": "stream",
     "text": [
      "(4019, 7)\n"
     ]
    },
    {
     "data": {
      "text/html": [
       "<div>\n",
       "<style scoped>\n",
       "    .dataframe tbody tr th:only-of-type {\n",
       "        vertical-align: middle;\n",
       "    }\n",
       "\n",
       "    .dataframe tbody tr th {\n",
       "        vertical-align: top;\n",
       "    }\n",
       "\n",
       "    .dataframe thead th {\n",
       "        text-align: right;\n",
       "    }\n",
       "</style>\n",
       "<table border=\"1\" class=\"dataframe\">\n",
       "  <thead>\n",
       "    <tr style=\"text-align: right;\">\n",
       "      <th></th>\n",
       "      <th>Apparent Temperature (C)</th>\n",
       "      <th>Humidity</th>\n",
       "      <th>Wind Speed (km/h)</th>\n",
       "      <th>Wind Bearing (degrees)</th>\n",
       "      <th>Visibility (km)</th>\n",
       "      <th>Loud Cover</th>\n",
       "      <th>Pressure (millibars)</th>\n",
       "    </tr>\n",
       "  </thead>\n",
       "  <tbody>\n",
       "    <tr>\n",
       "      <th>0</th>\n",
       "      <td>-4.050000</td>\n",
       "      <td>0.890000</td>\n",
       "      <td>17.114300</td>\n",
       "      <td>140.000000</td>\n",
       "      <td>9.982000</td>\n",
       "      <td>0.0</td>\n",
       "      <td>1016.660000</td>\n",
       "    </tr>\n",
       "    <tr>\n",
       "      <th>1</th>\n",
       "      <td>-0.174537</td>\n",
       "      <td>0.817083</td>\n",
       "      <td>21.229192</td>\n",
       "      <td>142.750000</td>\n",
       "      <td>11.348487</td>\n",
       "      <td>0.0</td>\n",
       "      <td>1011.985000</td>\n",
       "    </tr>\n",
       "    <tr>\n",
       "      <th>2</th>\n",
       "      <td>1.808796</td>\n",
       "      <td>0.847083</td>\n",
       "      <td>17.824713</td>\n",
       "      <td>164.583333</td>\n",
       "      <td>8.492079</td>\n",
       "      <td>0.0</td>\n",
       "      <td>1010.384167</td>\n",
       "    </tr>\n",
       "    <tr>\n",
       "      <th>3</th>\n",
       "      <td>0.445370</td>\n",
       "      <td>0.897083</td>\n",
       "      <td>7.726658</td>\n",
       "      <td>252.541667</td>\n",
       "      <td>9.223958</td>\n",
       "      <td>0.0</td>\n",
       "      <td>1021.170833</td>\n",
       "    </tr>\n",
       "    <tr>\n",
       "      <th>4</th>\n",
       "      <td>-0.663194</td>\n",
       "      <td>0.906667</td>\n",
       "      <td>12.152817</td>\n",
       "      <td>35.000000</td>\n",
       "      <td>8.352546</td>\n",
       "      <td>0.0</td>\n",
       "      <td>981.770833</td>\n",
       "    </tr>\n",
       "  </tbody>\n",
       "</table>\n",
       "</div>"
      ],
      "text/plain": [
       "   Apparent Temperature (C)  Humidity  Wind Speed (km/h)  \\\n",
       "0                 -4.050000  0.890000          17.114300   \n",
       "1                 -0.174537  0.817083          21.229192   \n",
       "2                  1.808796  0.847083          17.824713   \n",
       "3                  0.445370  0.897083           7.726658   \n",
       "4                 -0.663194  0.906667          12.152817   \n",
       "\n",
       "   Wind Bearing (degrees)  Visibility (km)  Loud Cover  Pressure (millibars)  \n",
       "0              140.000000         9.982000         0.0           1016.660000  \n",
       "1              142.750000        11.348487         0.0           1011.985000  \n",
       "2              164.583333         8.492079         0.0           1010.384167  \n",
       "3              252.541667         9.223958         0.0           1021.170833  \n",
       "4               35.000000         8.352546         0.0            981.770833  "
      ]
     },
     "execution_count": 17,
     "metadata": {},
     "output_type": "execute_result"
    }
   ],
   "source": [
    "df_weather = pandas.read_csv('../Data/dataset_clima.csv',sep=';')\n",
    "\n",
    "drop_cols = ['Temperature (C)']\n",
    "df_weather.drop(drop_cols, axis=1, inplace=True)\n",
    "\n",
    "print(df_weather.shape)\n",
    "\n",
    "target_col = 'Apparent Temperature (C)'\n",
    "\n",
    "df_weather.head()"
   ]
  },
  {
   "cell_type": "markdown",
   "id": "46076d84-5274-4ffb-b4e3-e513f51d7196",
   "metadata": {},
   "source": [
    "## Treinamento do Modelo "
   ]
  },
  {
   "cell_type": "code",
   "execution_count": 18,
   "id": "599995af-3e0b-42d5-bb16-7d498810deb4",
   "metadata": {},
   "outputs": [],
   "source": [
    "model_map = {\n",
    "    'linear': lm.LinearRegression(),\n",
    "    'ridge': lm.Ridge(),\n",
    "    'lasso': lm.Lasso()\n",
    "}\n",
    "\n",
    "Y = df_weather[target_col]\n",
    "X = df_weather.drop(target_col, axis=1)\n",
    "\n",
    "# train/test\n",
    "xtrain, xtest, ytrain, ytest = model_selection.train_test_split(X, Y, test_size=0.2)\n",
    "\n",
    "df_train = xtrain.copy()\n",
    "df_test = xtest.copy()\n",
    "df_train['train_set'] = 1\n",
    "df_test['train_set'] = 0\n",
    "df_train[target_col] = ytrain\n",
    "df_test[target_col] = ytest\n",
    "\n",
    "for modelname, model in model_map.items():\n",
    "    model.fit(xtrain, ytrain)\n",
    "    yhat_train = model.predict(xtrain)\n",
    "    yhat_test  = model.predict(xtest)\n",
    "    # Output table\n",
    "    df_train[modelname] = yhat_train\n",
    "    df_test[modelname] = yhat_test\n",
    "    \n",
    "df_weather = pandas.concat((df_train, df_test), axis=0)"
   ]
  },
  {
   "cell_type": "markdown",
   "id": "b830480e-0436-4465-8c02-fbb0c1578792",
   "metadata": {},
   "source": [
    "## Resultados "
   ]
  },
  {
   "cell_type": "code",
   "execution_count": 19,
   "id": "9afcbf0c-5b66-498c-bc3e-e0b752fc3c18",
   "metadata": {},
   "outputs": [
    {
     "name": "stderr",
     "output_type": "stream",
     "text": [
      "C:\\Users\\BZ241WX\\AppData\\Local\\Continuum\\anaconda3\\envs\\infnet\\lib\\site-packages\\ipykernel_launcher.py:3: UserWarning: Boolean Series key will be reindexed to match DataFrame index.\n",
      "  This is separate from the ipykernel package so we can avoid doing imports until\n",
      "C:\\Users\\BZ241WX\\AppData\\Local\\Continuum\\anaconda3\\envs\\infnet\\lib\\site-packages\\ipykernel_launcher.py:4: UserWarning: Boolean Series key will be reindexed to match DataFrame index.\n",
      "  after removing the cwd from sys.path.\n",
      "C:\\Users\\BZ241WX\\AppData\\Local\\Continuum\\anaconda3\\envs\\infnet\\lib\\site-packages\\ipykernel_launcher.py:5: UserWarning: Boolean Series key will be reindexed to match DataFrame index.\n",
      "  \"\"\"\n",
      "C:\\Users\\BZ241WX\\AppData\\Local\\Continuum\\anaconda3\\envs\\infnet\\lib\\site-packages\\ipykernel_launcher.py:10: UserWarning: Boolean Series key will be reindexed to match DataFrame index.\n",
      "  # Remove the CWD from sys.path while we load stuff.\n",
      "C:\\Users\\BZ241WX\\AppData\\Local\\Continuum\\anaconda3\\envs\\infnet\\lib\\site-packages\\ipykernel_launcher.py:11: UserWarning: Boolean Series key will be reindexed to match DataFrame index.\n",
      "  # This is added back by InteractiveShellApp.init_path()\n",
      "C:\\Users\\BZ241WX\\AppData\\Local\\Continuum\\anaconda3\\envs\\infnet\\lib\\site-packages\\ipykernel_launcher.py:12: UserWarning: Boolean Series key will be reindexed to match DataFrame index.\n",
      "  if sys.path[0] == '':\n"
     ]
    },
    {
     "name": "stdout",
     "output_type": "stream",
     "text": [
      "linear\t 2.446653234405423\n",
      "ridge\t 2.4508024748705464\n",
      "lasso\t 2.642644296676176\n"
     ]
    },
    {
     "data": {
      "image/png": "[encoded data removed]",
      "text/plain": [
       "<Figure size 432x288 with 1 Axes>"
      ]
     },
     "metadata": {
      "needs_background": "light"
     },
     "output_type": "display_data"
    }
   ],
   "source": [
    "plt.figure()\n",
    "idx = df_auto['train_set'] == 0\n",
    "df_weather[idx].plot.scatter(target_col, 'linear', label='linear', color='k', ax=plt.gca())\n",
    "df_weather[idx].plot.scatter(target_col, 'ridge', label='ridge', color='b', ax=plt.gca())\n",
    "df_weather[idx].plot.scatter(target_col, 'lasso', label='lasso', color='g', ax=plt.gca())\n",
    "\n",
    "plt.grid()\n",
    "plt.ylabel('Estimativa')\n",
    "\n",
    "print('linear\\t', metrics.mean_absolute_percentage_error(df_weather[idx][target_col], df_weather[idx]['linear']))\n",
    "print('ridge\\t', metrics.mean_absolute_percentage_error(df_weather[idx][target_col], df_weather[idx]['ridge']))\n",
    "print('lasso\\t', metrics.mean_absolute_percentage_error(df_weather[idx][target_col], df_weather[idx]['lasso']))"
   ]
  },
  {
   "cell_type": "markdown",
   "id": "c4ec94bc-9771-4d6a-b863-24658b6e8ab1",
   "metadata": {},
   "source": [
    "## Coeficientes do Modelo "
   ]
  },
  {
   "cell_type": "code",
   "execution_count": 20,
   "id": "c8169969-7342-4caf-9000-2d35574c4898",
   "metadata": {},
   "outputs": [
    {
     "data": {
      "application/vnd.jupyter.widget-view+json": {
       "model_id": "dff801cefaed4dd585119931e6b33a1a",
       "version_major": 2,
       "version_minor": 0
      },
      "text/plain": [
       "interactive(children=(Dropdown(description='modelname', options=('linear', 'ridge', 'lasso'), value='linear'),…"
      ]
     },
     "metadata": {},
     "output_type": "display_data"
    },
    {
     "data": {
      "text/plain": [
       "<function __main__.plot_coefs(modelname)>"
      ]
     },
     "execution_count": 20,
     "metadata": {},
     "output_type": "execute_result"
    }
   ],
   "source": [
    "interact(plot_coefs, modelname = list(model_map.keys()))"
   ]
  },
  {
   "cell_type": "code",
   "execution_count": null,
   "id": "b243184b-83b2-4809-9f69-f565659aafce",
   "metadata": {},
   "outputs": [],
   "source": []
  }
 ],
 "metadata": {
  "kernelspec": {
   "display_name": "Python 3 (ipykernel)",
   "language": "python",
   "name": "python3"
  },
  "language_info": {
   "codemirror_mode": {
    "name": "ipython",
    "version": 3
   },
   "file_extension": ".py",
   "mimetype": "text/x-python",
   "name": "python",
   "nbconvert_exporter": "python",
   "pygments_lexer": "ipython3",
   "version": "3.7.11"
  }
 },
 "nbformat": 4,
 "nbformat_minor": 5
}
