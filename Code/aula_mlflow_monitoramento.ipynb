{
 "cells": [
  {
   "cell_type": "code",
   "execution_count": 1,
   "id": "68084f4f-1a6b-41d2-9b9f-e5a4b1f599e7",
   "metadata": {
    "tags": []
   },
   "outputs": [],
   "source": [
    "import os\n",
    "import warnings\n",
    "import sys\n",
    "\n",
    "import pandas as pd\n",
    "import matplotlib.pyplot as plt\n",
    "import matplotlib as mpl\n",
    "import numpy as np\n",
    "from sklearn import linear_model, preprocessing, metrics, model_selection\n",
    "import mlflow\n",
    "import mlflow.sklearn\n",
    "from mlflow.models.signature import infer_signature\n",
    "from mlflow.tracking import MlflowClient\n",
    "\n",
    "import seaborn as sn\n",
    "\n",
    "if 'inline_rc' not in dir():\n",
    "    inline_rc = dict(mpl.rcParams)\n",
    "\n",
    "SEED = 10\n",
    "\n",
    "\n",
    "# import logging\n",
    "# logging.basicConfig(level=logging.WARN)\n",
    "# logger = logging.getLogger(__name__)\n",
    "np.random.seed(SEED)"
   ]
  },
  {
   "cell_type": "markdown",
   "id": "54b02af9-395c-48de-8ab1-b1741bf9fa3e",
   "metadata": {},
   "source": [
    "# Reset do estilo de cores do matplotlib "
   ]
  },
  {
   "cell_type": "code",
   "execution_count": 2,
   "id": "c7cfc943-790e-46af-bb10-1ffff849122c",
   "metadata": {},
   "outputs": [
    {
     "name": "stderr",
     "output_type": "stream",
     "text": [
      "C:\\Users\\BZ241WX\\AppData\\Local\\Continuum\\anaconda3\\envs\\infnet-ead\\lib\\_collections_abc.py:841: MatplotlibDeprecationWarning: \n",
      "The animation.avconv_args rcparam was deprecated in Matplotlib 3.3 and will be removed two minor releases later.\n",
      "  self[key] = other[key]\n",
      "C:\\Users\\BZ241WX\\AppData\\Local\\Continuum\\anaconda3\\envs\\infnet-ead\\lib\\_collections_abc.py:841: MatplotlibDeprecationWarning: \n",
      "The animation.avconv_path rcparam was deprecated in Matplotlib 3.3 and will be removed two minor releases later.\n",
      "  self[key] = other[key]\n",
      "C:\\Users\\BZ241WX\\AppData\\Local\\Continuum\\anaconda3\\envs\\infnet-ead\\lib\\_collections_abc.py:841: MatplotlibDeprecationWarning: \n",
      "The animation.html_args rcparam was deprecated in Matplotlib 3.3 and will be removed two minor releases later.\n",
      "  self[key] = other[key]\n",
      "C:\\Users\\BZ241WX\\AppData\\Local\\Continuum\\anaconda3\\envs\\infnet-ead\\lib\\_collections_abc.py:841: MatplotlibDeprecationWarning: \n",
      "The keymap.all_axes rcparam was deprecated in Matplotlib 3.3 and will be removed two minor releases later.\n",
      "  self[key] = other[key]\n",
      "C:\\Users\\BZ241WX\\AppData\\Local\\Continuum\\anaconda3\\envs\\infnet-ead\\lib\\_collections_abc.py:841: MatplotlibDeprecationWarning: \n",
      "The savefig.jpeg_quality rcparam was deprecated in Matplotlib 3.3 and will be removed two minor releases later.\n",
      "  self[key] = other[key]\n",
      "C:\\Users\\BZ241WX\\AppData\\Local\\Continuum\\anaconda3\\envs\\infnet-ead\\lib\\_collections_abc.py:841: MatplotlibDeprecationWarning: \n",
      "The text.latex.preview rcparam was deprecated in Matplotlib 3.3 and will be removed two minor releases later.\n",
      "  self[key] = other[key]\n"
     ]
    }
   ],
   "source": [
    "# reset matplotlib\n",
    "\n",
    "mpl.rcParams.update(inline_rc)\n",
    "font = {'family' : 'normal',\n",
    "        'weight' : 'normal',\n",
    "        'size'   : 14}\n",
    "mpl.rc('font', **font)\n",
    "lines = {'linewidth' : 3}\n",
    "mpl.rc('lines', **lines)"
   ]
  },
  {
   "cell_type": "markdown",
   "id": "c7f8bdb8-1d80-4927-b825-506fa0ed86e5",
   "metadata": {},
   "source": [
    "# Sistema Recomendação Vinhos\n",
    "\n",
    "- Carregar dados de vinho e separar vinhos tinto e branco: tintos para desenvolvimento/operação e vinhos brancos para novidade \n",
    "- Treinamento de modelo com regressão logística do sklearn no pyCaret\n",
    "- Registros das etapas de processamento como runs\n",
    "- Registro do modelo com threshold de precisão mínimo de 70% em Staging\n",
    "- Aplicação Online: recomendação de vinhos\n",
    "    - Consumo da base de dados de operação\n",
    "    - Utilização do requests para fazer o POST e recuperar a predição do modelo\n",
    "    - Propor os 5 vinhos de alta qualidade de maior nível alcólico (print data frame)\n",
    "- Aplicação de Monitoramento: pipeline de monitoramento\n",
    "    - Revalidacao da base de operacao para amostras de controle (simulação especialista)\n",
    "    - Leitura da base de desenvolvimento (treino+teste)\n",
    "    - Alarme de amostra de controle\n",
    "    - Alarme com amostras de novidade\n"
   ]
  },
  {
   "cell_type": "code",
   "execution_count": 8,
   "id": "e4b6961f-a3d2-40b1-b59c-4346fba5a9b4",
   "metadata": {},
   "outputs": [],
   "source": [
    "registered_model_name = 'modelo_vinho_tinto'\n",
    "min_precision = 0.7\n",
    "model_version = -1 # recuperar a ultima versao\n",
    "nexamples = 4"
   ]
  },
  {
   "cell_type": "markdown",
   "id": "7866e821-a504-49df-98bc-3088c396c47a",
   "metadata": {},
   "source": [
    "# Experimento de Classificação de Vinhos "
   ]
  },
  {
   "cell_type": "code",
   "execution_count": 6,
   "id": "ed8b313e-8396-4313-b518-c67dc3ad2de7",
   "metadata": {},
   "outputs": [],
   "source": [
    "# Para usar o sqlite como repositorio\n",
    "mlflow.set_tracking_uri(\"sqlite:///mlruns.db\")\n",
    "\n",
    "experiment_name = 'Aula Monitoramento'\n",
    "experiment = mlflow.get_experiment_by_name(experiment_name)\n",
    "if experiment is None:\n",
    "    experiment_id = mlflow.create_experiment(experiment_name)\n",
    "    experiment = mlflow.get_experiment(experiment_id)\n",
    "experiment_id = experiment.experiment_id\n"
   ]
  },
  {
   "cell_type": "markdown",
   "id": "d4a08c9b-1dbc-4496-bc64-2434a7712faf",
   "metadata": {},
   "source": [
    "# Leitura dos Dados de Classificação de Vinhos "
   ]
  },
  {
   "cell_type": "code",
   "execution_count": 111,
   "id": "0e58e6f7-f8bb-498a-81f4-dc8175053cbd",
   "metadata": {},
   "outputs": [
    {
     "name": "stdout",
     "output_type": "stream",
     "text": [
      "== Bases de Dados ==\n",
      "data_wine (1087, 5)\n",
      "data_operation (272, 5)\n",
      "data_novelty (3961, 5)\n",
      "Columns: Index(['alcohol', 'volatile acidity', 'free sulfur dioxide', 'residual sugar',\n",
      "       'target'],\n",
      "      dtype='object')\n"
     ]
    }
   ],
   "source": [
    "# COLOCAR RUN DE LEITURA DE DADOS\n",
    "# PARAMETROS: top_features,\n",
    "# METRICS: SHAPE de cada base de dados\n",
    "# ARTIFACTS: nenhum\n",
    "\n",
    "\n",
    "\n",
    "top_features = ['alcohol','volatile acidity','free sulfur dioxide', 'residual sugar']\n",
    "\n",
    "with mlflow.start_run(experiment_id=experiment_id, run_name = 'PreparacaoDados'):\n",
    "    df_wine = pd.read_csv('../Data/dataset_vinhos.csv',sep=';')\n",
    "    wine_target_col = 'target'\n",
    "    wine_label_map = df_wine[['target', 'target_label']].drop_duplicates()\n",
    "    drop_cols = ['target_label']\n",
    "    df_wine.drop(drop_cols, axis=1, inplace=True)\n",
    "    df_wine = df_wine[top_features + ['type', wine_target_col]].copy()\n",
    "\n",
    "    data_wine = df_wine[df_wine['type'] == 'red'].copy().drop('type', axis=1)\n",
    "    # Separar parte para compor a base de operacao\n",
    "    data_wine, data_operation, ytrain, ytest = model_selection.train_test_split(data_wine, \n",
    "                                                                            data_wine[wine_target_col],\n",
    "                                                                            test_size=0.2)\n",
    "    data_wine[wine_target_col]      = ytrain\n",
    "    data_operation[wine_target_col] = ytest\n",
    "\n",
    "    # Base de vinhos brancos\n",
    "    data_novelty = df_wine[df_wine['type'] == 'white'].copy().drop('type', axis=1)\n",
    "\n",
    "    data_novelty.to_parquet('modelo_vinho_novidade.parquet')\n",
    "    data_operation.to_parquet('modelo_vinho_operacao.parquet')\n",
    "    \n",
    "    # LOG DE PARAMETROS DO MODELO\n",
    "    mlflow.log_param(\"top_features\", top_features)\n",
    "\n",
    "    # LOG DE METRICAS GLOBAIS\n",
    "    mlflow.log_metric(\"data_dev\", data_wine.shape[0])\n",
    "    mlflow.log_metric(\"data_operation\", data_operation.shape[0])\n",
    "    mlflow.log_metric(\"data_novelty\", data_novelty.shape[0])\n",
    "   \n",
    "    \n",
    "mlflow.end_run()\n",
    "\n",
    "print('== Bases de Dados ==')\n",
    "print(f'data_wine {data_wine.shape}')\n",
    "print(f'data_operation {data_operation.shape}')\n",
    "print(f'data_novelty {data_novelty.shape}')\n",
    "print(f'Columns: {data_wine.columns}')"
   ]
  },
  {
   "cell_type": "code",
   "execution_count": 112,
   "id": "22dd5e42-518a-4407-8c17-50f8e52ca0c2",
   "metadata": {},
   "outputs": [
    {
     "name": "stdout",
     "output_type": "stream",
     "text": [
      "^C\n"
     ]
    }
   ],
   "source": [
    "# !mlflow ui --backend-store-uri sqlite:///mlruns.db"
   ]
  },
  {
   "cell_type": "markdown",
   "id": "b80922f9-7c07-463e-b97f-75f4ac3c2303",
   "metadata": {},
   "source": [
    "# Treinamento do Modelo"
   ]
  },
  {
   "cell_type": "code",
   "execution_count": 113,
   "id": "b4e1ee4b-e4bd-4ae8-b759-bdf99155ed56",
   "metadata": {},
   "outputs": [
    {
     "name": "stdout",
     "output_type": "stream",
     "text": [
      "Transformation Pipeline and Model Successfully Saved\n",
      "Transformation Pipeline and Model Successfully Loaded\n"
     ]
    }
   ],
   "source": [
    "import pycaret.classification as pc\n",
    "# COLOCAR RUN DE TREINAMENTO DE MODELOS\n",
    "# PARAMETROS: fold_strategy, fold, model_name, registered_model_name, cross_validation\n",
    "# METRICS: auto sklearn\n",
    "# ARTIFACTS: plots\n",
    "\n",
    "model_name = 'lr'\n",
    "probability_threshold = 0.5\n",
    "cross_validation = True\n",
    "fold_strategy = 'stratifiedkfold',\n",
    "fold = 10\n",
    "\n",
    "# train/test\n",
    "s = pc.setup(data = data_wine, \n",
    "             target = wine_target_col,\n",
    "             train_size=0.7,\n",
    "             silent = True,\n",
    "             fold_strategy = 'stratifiedkfold',\n",
    "             fold = fold,\n",
    "             log_experiment = True, \n",
    "             experiment_name = experiment_name, \n",
    "             log_plots = True\n",
    "            )\n",
    "bestmodel = pc.create_model(model_name,\n",
    "                            cross_validation = cross_validation, \n",
    "                            probability_threshold=probability_threshold)\n",
    "\n",
    "# Log do run, e nao do modelo respectivo\n",
    "classification_plots = [ 'auc','pr','confusion_matrix',\n",
    "#                          'error', 'class_report', \n",
    "                        'threshold',\n",
    "                         'learning','vc','feature',\n",
    "                       ]\n",
    "for plot_type in classification_plots:\n",
    "    print('=> Aplicando plot ', plot_type)\n",
    "    try:\n",
    "        artifact = pc.plot_model(bestmodel, plot=plot_type, save=True, use_train_data=False)\n",
    "        mlflow.log_artifact(artifact)\n",
    "    except:\n",
    "        print('=> Nao possivel plotar: ', plot_type )\n",
    "        continue\n",
    "\n",
    "pc.save_model(bestmodel, f'./{registered_model_name}') \n",
    "# Carrega novamente o pipeline + bestmodel\n",
    "model_pipe = pc.load_model(f'./{registered_model_name}')\n",
    "\n",
    "\n",
    "mlflow.end_run()"
   ]
  },
  {
   "cell_type": "markdown",
   "id": "098336eb-7295-4ae5-bd7a-b827cab194c4",
   "metadata": {},
   "source": [
    "# Avaliar Precisão Mínima "
   ]
  },
  {
   "cell_type": "code",
   "execution_count": 114,
   "id": "92b998b9-1442-4f28-9e0e-e0ad30043a98",
   "metadata": {},
   "outputs": [
    {
     "data": {
      "text/html": [
       "<style type=\"text/css\">\n",
       "</style>\n",
       "<table id=\"T_b31b6_\">\n",
       "  <thead>\n",
       "    <tr>\n",
       "      <th class=\"blank level0\" >&nbsp;</th>\n",
       "      <th class=\"col_heading level0 col0\" >Model</th>\n",
       "      <th class=\"col_heading level0 col1\" >Accuracy</th>\n",
       "      <th class=\"col_heading level0 col2\" >AUC</th>\n",
       "      <th class=\"col_heading level0 col3\" >Recall</th>\n",
       "      <th class=\"col_heading level0 col4\" >Prec.</th>\n",
       "      <th class=\"col_heading level0 col5\" >F1</th>\n",
       "      <th class=\"col_heading level0 col6\" >Kappa</th>\n",
       "      <th class=\"col_heading level0 col7\" >MCC</th>\n",
       "    </tr>\n",
       "  </thead>\n",
       "  <tbody>\n",
       "    <tr>\n",
       "      <th id=\"T_b31b6_level0_row0\" class=\"row_heading level0 row0\" >0</th>\n",
       "      <td id=\"T_b31b6_row0_col0\" class=\"data row0 col0\" >Logistic Regression</td>\n",
       "      <td id=\"T_b31b6_row0_col1\" class=\"data row0 col1\" >0.7034</td>\n",
       "      <td id=\"T_b31b6_row0_col2\" class=\"data row0 col2\" >0.7849</td>\n",
       "      <td id=\"T_b31b6_row0_col3\" class=\"data row0 col3\" >0.6648</td>\n",
       "      <td id=\"T_b31b6_row0_col4\" class=\"data row0 col4\" >0.7548</td>\n",
       "      <td id=\"T_b31b6_row0_col5\" class=\"data row0 col5\" >0.7069</td>\n",
       "      <td id=\"T_b31b6_row0_col6\" class=\"data row0 col6\" >0.4091</td>\n",
       "      <td id=\"T_b31b6_row0_col7\" class=\"data row0 col7\" >0.4125</td>\n",
       "    </tr>\n",
       "  </tbody>\n",
       "</table>\n"
      ],
      "text/plain": [
       "<pandas.io.formats.style.Styler at 0x1b233031f88>"
      ]
     },
     "metadata": {},
     "output_type": "display_data"
    },
    {
     "name": "stdout",
     "output_type": "stream",
     "text": [
      "=> Aceito o modelo com precisão 0.7548387096774194 (min: 0.7)\n"
     ]
    },
    {
     "name": "stderr",
     "output_type": "stream",
     "text": [
      "Registered model 'modelo_vinho_tinto' already exists. Creating a new version of this model...\n",
      "2022/04/05 21:26:20 INFO mlflow.tracking._model_registry.client: Waiting up to 300 seconds for model version to finish creation.                     Model name: modelo_vinho_tinto, version 6\n",
      "Created version '6' of model 'modelo_vinho_tinto'.\n"
     ]
    }
   ],
   "source": [
    "# COLOCAR RUN APROVACAO DE MODELO\n",
    "# PARAMETROS: min_precision\n",
    "# METRICS: new_version, precision\n",
    "# ARTIFACTS: None\n",
    "\n",
    "\n",
    "with mlflow.start_run(experiment_id=experiment_id, run_name = 'AprovacaoModelo'):\n",
    "    pred_holdout = pc.predict_model(bestmodel)\n",
    "    pr = metrics.precision_score(pred_holdout[wine_target_col], pred_holdout['Label'])\n",
    "    if pr > min_precision:\n",
    "        print(f'=> Aceito o modelo com precisão {pr} (min: {min_precision})')\n",
    "        pred_holdout.to_parquet('modelo_vinho_teste.parquet')\n",
    "        # Assinatura do Modelo Inferida pelo MLFlow\n",
    "        model_features = list(data_wine.drop(wine_target_col, axis=1).columns)\n",
    "        inf_signature = infer_signature(data_wine[model_features], model_pipe.predict(data_wine))\n",
    "        # Exemplo de entrada para o MLmodel\n",
    "        input_example = {x: data_wine[x].values[:nexamples] for x in model_features}\n",
    "        # Log do pipeline de modelagem do sklearn e registrar como uma nova versao\n",
    "        mlflow.sklearn.log_model(\n",
    "            sk_model=model_pipe,\n",
    "            artifact_path=\"sklearn-model\",\n",
    "            registered_model_name=registered_model_name,\n",
    "            signature = inf_signature,\n",
    "            input_example = input_example\n",
    "        )\n",
    "        # Criacao do cliente do servico MLFlow e atualizacao versao modelo\n",
    "        client = MlflowClient()\n",
    "        if model_version == -1:\n",
    "            model_version = client.get_latest_versions(registered_model_name)[-1].version\n",
    "        # Registrar o modelo como staging\n",
    "        client.transition_model_version_stage(\n",
    "            name=registered_model_name,\n",
    "            version=model_version, # Verificar com usuario qual versao\n",
    "            stage=\"Staging\"\n",
    "        )\n",
    "    else:\n",
    "        print(f'=> Rejeitado o modelo com precisão {pr} (min: {min_precision})')\n",
    "\n",
    "    # LOG DE PARAMETROS DO MODELO\n",
    "    mlflow.log_param(\"precisao_minima\", min_precision)\n",
    "\n",
    "    # LOG DE METRICAS GLOBAIS\n",
    "    mlflow.log_metric(\"new_version\", model_version)\n",
    "    mlflow.log_metric(\"precisao\", pr)\n",
    "\n",
    "mlflow.end_run()"
   ]
  },
  {
   "cell_type": "markdown",
   "id": "8f5b26c8-89f2-469c-88e5-d4a8b7a039b5",
   "metadata": {},
   "source": [
    "# Serviço do Modelo "
   ]
  },
  {
   "cell_type": "code",
   "execution_count": 15,
   "id": "08d2b8a9-da4c-448f-92dc-6d50b011acad",
   "metadata": {},
   "outputs": [
    {
     "name": "stdout",
     "output_type": "stream",
     "text": [
      "^C\n"
     ]
    }
   ],
   "source": [
    "import os\n",
    "os.environ['MLFLOW_TRACKING_URI'] = 'sqlite:///mlruns.db'\n",
    "!mlflow models serve -m \"models:/modelo_vinho_tinto/Staging\" --no-conda -p 5001\n"
   ]
  },
  {
   "cell_type": "markdown",
   "id": "b4b06011-d200-4ab9-861e-8648c606b2c6",
   "metadata": {},
   "source": [
    "# Operação Sistema de Recomendação de Vinhos "
   ]
  },
  {
   "cell_type": "code",
   "execution_count": 117,
   "id": "218c2dd1-8ab9-44e9-8fbb-8e203190071d",
   "metadata": {},
   "outputs": [
    {
     "data": {
      "text/html": [
       "<div>\n",
       "<style scoped>\n",
       "    .dataframe tbody tr th:only-of-type {\n",
       "        vertical-align: middle;\n",
       "    }\n",
       "\n",
       "    .dataframe tbody tr th {\n",
       "        vertical-align: top;\n",
       "    }\n",
       "\n",
       "    .dataframe thead th {\n",
       "        text-align: right;\n",
       "    }\n",
       "</style>\n",
       "<table border=\"1\" class=\"dataframe\">\n",
       "  <thead>\n",
       "    <tr style=\"text-align: right;\">\n",
       "      <th></th>\n",
       "      <th>alcohol</th>\n",
       "      <th>volatile acidity</th>\n",
       "      <th>free sulfur dioxide</th>\n",
       "      <th>residual sugar</th>\n",
       "      <th>target</th>\n",
       "      <th>operation_label</th>\n",
       "    </tr>\n",
       "  </thead>\n",
       "  <tbody>\n",
       "    <tr>\n",
       "      <th>1081</th>\n",
       "      <td>14.0</td>\n",
       "      <td>0.49</td>\n",
       "      <td>28.0</td>\n",
       "      <td>1.8</td>\n",
       "      <td>1</td>\n",
       "      <td>1</td>\n",
       "    </tr>\n",
       "    <tr>\n",
       "      <th>710</th>\n",
       "      <td>14.0</td>\n",
       "      <td>0.42</td>\n",
       "      <td>16.0</td>\n",
       "      <td>2.1</td>\n",
       "      <td>1</td>\n",
       "      <td>1</td>\n",
       "    </tr>\n",
       "    <tr>\n",
       "      <th>408</th>\n",
       "      <td>14.0</td>\n",
       "      <td>0.46</td>\n",
       "      <td>7.0</td>\n",
       "      <td>2.6</td>\n",
       "      <td>1</td>\n",
       "      <td>1</td>\n",
       "    </tr>\n",
       "    <tr>\n",
       "      <th>510</th>\n",
       "      <td>14.0</td>\n",
       "      <td>0.42</td>\n",
       "      <td>19.0</td>\n",
       "      <td>2.0</td>\n",
       "      <td>1</td>\n",
       "      <td>1</td>\n",
       "    </tr>\n",
       "    <tr>\n",
       "      <th>1082</th>\n",
       "      <td>14.0</td>\n",
       "      <td>0.38</td>\n",
       "      <td>26.0</td>\n",
       "      <td>1.6</td>\n",
       "      <td>1</td>\n",
       "      <td>1</td>\n",
       "    </tr>\n",
       "  </tbody>\n",
       "</table>\n",
       "</div>"
      ],
      "text/plain": [
       "      alcohol  volatile acidity  free sulfur dioxide  residual sugar  target  \\\n",
       "1081     14.0              0.49                 28.0             1.8       1   \n",
       "710      14.0              0.42                 16.0             2.1       1   \n",
       "408      14.0              0.46                  7.0             2.6       1   \n",
       "510      14.0              0.42                 19.0             2.0       1   \n",
       "1082     14.0              0.38                 26.0             1.6       1   \n",
       "\n",
       "      operation_label  \n",
       "1081                1  \n",
       "710                 1  \n",
       "408                 1  \n",
       "510                 1  \n",
       "1082                1  "
      ]
     },
     "execution_count": 117,
     "metadata": {},
     "output_type": "execute_result"
    }
   ],
   "source": [
    "import requests\n",
    "host = 'localhost'\n",
    "port = '5001'\n",
    "url = f'http://{host}:{port}/invocations'\n",
    "headers = {'Content-Type': 'application/json',}\n",
    "\n",
    "http_data = data_operation.drop(wine_target_col,axis=1).to_json(orient='split')\n",
    "r = requests.post(url=url, headers=headers, data=http_data)\n",
    "\n",
    "data_operation.loc[:, 'operation_label'] = pd.read_json(r.text).values[:,0]\n",
    "\n",
    "data_operation.to_parquet('modelo_vinho_operacao.parquet')\n",
    "data_operation[data_operation.operation_label == 1].sort_values('alcohol', ascending=False).head(5)"
   ]
  },
  {
   "cell_type": "markdown",
   "id": "48676dea-7b89-4f4d-b858-18e2114cc58d",
   "metadata": {},
   "source": [
    "# Revalidacao de Amostras para Monitoramento"
   ]
  },
  {
   "cell_type": "code",
   "execution_count": 116,
   "id": "f48dd1bd-cca7-49ef-9dec-f97a01bac4bf",
   "metadata": {},
   "outputs": [
    {
     "data": {
      "text/plain": [
       "Index(['alcohol', 'volatile acidity', 'free sulfur dioxide', 'residual sugar',\n",
       "       'target'],\n",
       "      dtype='object')"
      ]
     },
     "execution_count": 116,
     "metadata": {},
     "output_type": "execute_result"
    }
   ],
   "source": [
    "data_control.columns"
   ]
  },
  {
   "cell_type": "code",
   "execution_count": 118,
   "id": "d0dc93af-1554-4cb3-b1f8-90a8809c71bb",
   "metadata": {},
   "outputs": [
    {
     "name": "stdout",
     "output_type": "stream",
     "text": [
      "== DADOS DE CONTROLE ==\n",
      "              precision    recall  f1-score   support\n",
      "\n",
      "           0       0.64      0.86      0.73        59\n",
      "           1       0.89      0.68      0.77        91\n",
      "\n",
      "    accuracy                           0.75       150\n",
      "   macro avg       0.76      0.77      0.75       150\n",
      "weighted avg       0.79      0.75      0.76       150\n",
      "\n"
     ]
    }
   ],
   "source": [
    "# COLOCAR RUN REVALIDACAO\n",
    "# PARAMETROS: min_samples_control\n",
    "# METRICS: matriz de confusao\n",
    "# ARTIFACTS:\n",
    "\n",
    "\n",
    "# Utilizacao da amostra de controle, que teria sido reavaliada por especialistas\n",
    "min_samples_control = 150\n",
    "\n",
    "with mlflow.start_run(experiment_id=experiment_id, run_name = 'RevalidacaoOperacao'):\n",
    "\n",
    "    data_operation = pd.read_parquet('modelo_vinho_operacao.parquet')\n",
    "\n",
    "    data_control = data_operation.sample(min_samples_control, random_state=SEED)\n",
    "    data_control.to_parquet('modelo_vinho_controle.parquet')\n",
    "\n",
    "    print('== DADOS DE CONTROLE ==')\n",
    "    print(metrics.classification_report(data_control[wine_target_col], data_control['operation_label']))\n",
    "    \n",
    "    # LOG DE PARAMETROS DO MODELO\n",
    "    mlflow.log_param(\"min_samples_control\", min_samples_control)\n",
    "\n",
    "    # LOG DE METRICAS GLOBAIS\n",
    "    cm = metrics.confusion_matrix(data_control[wine_target_col], data_control['operation_label'])\n",
    "    specificity = cm[0,0] / cm.sum(axis=1)[0]\n",
    "    sensibility = cm[1,1] / cm.sum(axis=1)[1]\n",
    "    precision   = cm[1,1] / cm.sum(axis=0)[1]\n",
    "    mlflow.log_metric(\"Especificidade\", specificity)\n",
    "    mlflow.log_metric(\"Sensibilidade\", sensibility)\n",
    "    mlflow.log_metric(\"Precisao\", precision)\n",
    "\n",
    "mlflow.end_run()"
   ]
  },
  {
   "cell_type": "markdown",
   "id": "d85ed1a9-5d88-4cad-9e2c-38194f280eea",
   "metadata": {},
   "source": [
    "## Alarme de Desvio "
   ]
  },
  {
   "cell_type": "code",
   "execution_count": 119,
   "id": "dd737c18-c66a-4d8f-8e50-e3a29beb0c4e",
   "metadata": {},
   "outputs": [],
   "source": [
    "# reset matplotlib\n",
    "\n",
    "mpl.rcParams.update(inline_rc)\n",
    "font = {'family' : 'normal',\n",
    "        'weight' : 'normal',\n",
    "        'size'   : 14}\n",
    "mpl.rc('font', **font)\n",
    "lines = {'linewidth' : 3}\n",
    "mpl.rc('lines', **lines)\n",
    "\n",
    "def data_drift_alarm(var_name, dev_data, data_test, data_control):    \n",
    "    sn.kdeplot(dev_data[var_name], label='Desenvolvimento')\n",
    "    sn.kdeplot(data_test[var_name], label='Teste')\n",
    "    sn.kdeplot(data_control[var_name], label='Monitoramento')\n",
    "    plt.grid()\n",
    "    plt.legend(loc='best')\n",
    "    plt.title(f'Distribuição Variável {var_name}')\n",
    "    plt.ylabel('Densidade')\n",
    "    plt.xlabel(f'Unidade de {var_name}')\n",
    "    plt.tight_layout()"
   ]
  },
  {
   "cell_type": "markdown",
   "id": "0c1cda3c-e1f0-43b5-9b15-8d12bee230c0",
   "metadata": {},
   "source": [
    "## Alarme de Retreinamento"
   ]
  },
  {
   "cell_type": "code",
   "execution_count": 129,
   "id": "62d03b46-de95-4d1d-aee9-b4792891f8da",
   "metadata": {},
   "outputs": [],
   "source": [
    "def alarm(data_monitoring, testset, min_eff_alarm):\n",
    "    cm = metrics.confusion_matrix(data_monitoring[wine_target_col], data_monitoring['operation_label'])\n",
    "    specificity_m = cm[0,0] / cm.sum(axis=1)[0]\n",
    "    sensibility_m = cm[1,1] / cm.sum(axis=1)[1]\n",
    "    precision_m   = cm[1,1] / cm.sum(axis=0)[1]\n",
    "\n",
    "    cm = metrics.confusion_matrix(testset[wine_target_col], testset['Label'])\n",
    "    specificity_t = cm[0,0] / cm.sum(axis=1)[0]\n",
    "    sensibility_t = cm[1,1] / cm.sum(axis=1)[1]\n",
    "    precision_t   = cm[1,1] / cm.sum(axis=0)[1]\n",
    "\n",
    "    retrain = False\n",
    "    for name, metric_m, metric_t in zip(['especificidade', 'sensibilidade', 'precisao'],\n",
    "                                        [specificity_m, sensibility_m, precision_m],\n",
    "                                        [specificity_t, sensibility_t, precision_t]):\n",
    "        \n",
    "        print(f'\\t=> {name} de teste {metric_t} e de controle {metric_m}')\n",
    "        if (metric_t-metric_m)/metric_t > min_eff_alarm:\n",
    "            print(f'\\t=> MODELO OPERANDO FORA DO ESPERADO')\n",
    "            retrain = True\n",
    "        else:\n",
    "            print(f'\\t=> MODELO OPERANDO DENTRO DO ESPERADO')\n",
    "           \n",
    "        \n",
    "    return (retrain, [specificity_m, sensibility_m, precision_m],\n",
    "                                        [specificity_t, sensibility_t, precision_t] ) "
   ]
  },
  {
   "cell_type": "markdown",
   "id": "e2d7aa0b-06a0-4550-8795-0bb73c6af969",
   "metadata": {},
   "source": [
    "### Monitoramento Base Operacao "
   ]
  },
  {
   "cell_type": "code",
   "execution_count": 130,
   "id": "f63927f2-1db8-4f9f-add4-7e9e50817295",
   "metadata": {},
   "outputs": [
    {
     "name": "stdout",
     "output_type": "stream",
     "text": [
      "== ALARME DE RETREINAMENTO - BASE CONTROLE ==\n",
      "\t=> especificidade de teste 0.7483443708609272 e de controle 0.864406779661017\n",
      "\t=> MODELO OPERANDO DENTRO DO ESPERADO\n",
      "\t=> sensibilidade de teste 0.6647727272727273 e de controle 0.6813186813186813\n",
      "\t=> MODELO OPERANDO DENTRO DO ESPERADO\n",
      "\t=> precisao de teste 0.7548387096774194 e de controle 0.8857142857142857\n",
      "\t=> MODELO OPERANDO DENTRO DO ESPERADO\n",
      "==> RETREINAMENTO NAO NECESSARIO\n"
     ]
    },
    {
     "data": {
      "image/png": "[encoded data removed]",
      "text/plain": [
       "<Figure size 432x288 with 1 Axes>"
      ]
     },
     "metadata": {
      "needs_background": "light"
     },
     "output_type": "display_data"
    }
   ],
   "source": [
    "# COLOCAR RUN MONITORAMENTO OPERACAO\n",
    "# PARAMETROS: min_eff_alarm\n",
    "# METRICS: metricas avaliadas e de referencia\n",
    "# ARTIFACTS:\n",
    "\n",
    "print('== ALARME DE RETREINAMENTO - BASE CONTROLE ==')\n",
    "# 10% de desvio aceitavel na metrica. Deve ser estimado pelo conjunto de validacao cruzada. \n",
    "min_eff_alarm = 0.1 \n",
    "\n",
    "with mlflow.start_run(experiment_id=experiment_id, run_name = 'MonitoramentoOperacao'):\n",
    "    data_control = pd.read_parquet('modelo_vinho_controle.parquet')\n",
    "    \n",
    "    (retrain, [specificity_m, sensibility_m, precision_m],\n",
    "              [specificity_t, sensibility_t, precision_t] ) = alarm(data_control, pred_holdout, min_eff_alarm)\n",
    "    if retrain:\n",
    "        print('==> RETREINAMENTO NECESSARIO')\n",
    "    else:\n",
    "        print('==> RETREINAMENTO NAO NECESSARIO')\n",
    "    # LOG DE PARAMETROS DO MODELO\n",
    "    mlflow.log_param(\"min_eff_alarm\", min_eff_alarm)\n",
    "\n",
    "    # LOG DE METRICAS GLOBAIS\n",
    "    mlflow.log_metric(\"Alarme Retreino\", float(retrain))\n",
    "    mlflow.log_metric(\"Especificidade Controle\", specificity_m)\n",
    "    mlflow.log_metric(\"Sensibilidade Controle\", sensibility_m)\n",
    "    mlflow.log_metric(\"Precisao Controle\", precision_m)\n",
    "    mlflow.log_metric(\"Especificidade Teste\", specificity_t)\n",
    "    mlflow.log_metric(\"Sensibilidade Teste\", sensibility_t)\n",
    "    mlflow.log_metric(\"Precisao Teste\", precision_t)\n",
    "    \n",
    "    # LOG ARTEFATO\n",
    "    var_name = 'volatile acidity' # 'alcohol'\n",
    "    data_drift_alarm(var_name, data_wine, pred_holdout, data_control)\n",
    "    plot_path = f'monitor_datadrift_{var_name}.png'\n",
    "    plt.savefig(plot_path)\n",
    "    mlflow.log_artifact(plot_path)\n",
    "    \n",
    "\n",
    "mlflow.end_run()  "
   ]
  },
  {
   "cell_type": "markdown",
   "id": "3b64b71b-a0a2-4338-b0db-1cda9c3bc312",
   "metadata": {},
   "source": [
    "# Operação Aplicação Python "
   ]
  },
  {
   "cell_type": "markdown",
   "id": "0e330309-46c1-4c19-99e5-b6e3100433ce",
   "metadata": {},
   "source": [
    "### Monitoramento Base de Novidade"
   ]
  },
  {
   "cell_type": "code",
   "execution_count": 131,
   "id": "78b9be91-b48a-410c-94a9-bb2f792e436b",
   "metadata": {},
   "outputs": [
    {
     "name": "stdout",
     "output_type": "stream",
     "text": [
      "== ALARME DE RETREINAMENTO - BASE NOVIDADE ==\n",
      "\t=> especificidade de teste 0.7483443708609272 e de controle 0.5756676557863502\n",
      "\t=> MODELO OPERANDO FORA DO ESPERADO\n",
      "\t=> sensibilidade de teste 0.6647727272727273 e de controle 0.7592805204745503\n",
      "\t=> MODELO OPERANDO DENTRO DO ESPERADO\n",
      "\t=> precisao de teste 0.7548387096774194 e de controle 0.7762128325508607\n",
      "\t=> MODELO OPERANDO DENTRO DO ESPERADO\n",
      "==> RETREINAMENTO NECESSARIO\n"
     ]
    },
    {
     "data": {
      "image/png": "[encoded data removed]",
      "text/plain": [
       "<Figure size 432x288 with 1 Axes>"
      ]
     },
     "metadata": {
      "needs_background": "light"
     },
     "output_type": "display_data"
    }
   ],
   "source": [
    "# COLOCAR RUN MONITORAMENTO NOVIDADE\n",
    "# PARAMETROS: min_eff_alarm\n",
    "# METRICS: metricas avaliadas e de referencia\n",
    "# ARTIFACTS:\n",
    "\n",
    "print('== ALARME DE RETREINAMENTO - BASE NOVIDADE ==')\n",
    "# 10% de desvio aceitavel na metrica. Deve ser estimado pelo conjunto de validacao cruzada. \n",
    "min_eff_alarm = 0.1 \n",
    "\n",
    "with mlflow.start_run(experiment_id=experiment_id, run_name = 'MonitoramentoNovidade'):\n",
    "\n",
    "    model_uri = f\"models:/modelo_vinho_tinto/Staging\"\n",
    "    loaded_model = mlflow.sklearn.load_model(model_uri)\n",
    "    data_novelty = pd.read_parquet('modelo_vinho_novidade.parquet')\n",
    "    data_novelty.loc[:, 'operation_label'] = loaded_model.predict(data_novelty.drop(wine_target_col,axis=1))\n",
    "    \n",
    "    (retrain, [specificity_m, sensibility_m, precision_m],\n",
    "              [specificity_t, sensibility_t, precision_t] ) = alarm(data_novelty, pred_holdout, min_eff_alarm)\n",
    "    if retrain:\n",
    "        print('==> RETREINAMENTO NECESSARIO')\n",
    "    else:\n",
    "        print('==> RETREINAMENTO NAO NECESSARIO')\n",
    "    # LOG DE PARAMETROS DO MODELO\n",
    "    mlflow.log_param(\"min_eff_alarm\", min_eff_alarm)\n",
    "\n",
    "    # LOG DE METRICAS GLOBAIS\n",
    "    mlflow.log_metric(\"Alarme Retreino\", float(retrain))\n",
    "    mlflow.log_metric(\"Especificidade Controle\", specificity_m)\n",
    "    mlflow.log_metric(\"Sensibilidade Controle\", sensibility_m)\n",
    "    mlflow.log_metric(\"Precisao Controle\", precision_m)\n",
    "    mlflow.log_metric(\"Especificidade Teste\", specificity_t)\n",
    "    mlflow.log_metric(\"Sensibilidade Teste\", sensibility_t)\n",
    "    mlflow.log_metric(\"Precisao Teste\", precision_t)\n",
    "    # LOG ARTEFATO\n",
    "    var_name = 'volatile acidity' # 'alcohol'\n",
    "    data_drift_alarm(var_name, data_wine, pred_holdout, data_novelty)\n",
    "    plot_path = f'novidade_datadrift_{var_name}.png'\n",
    "    plt.savefig(plot_path)\n",
    "    mlflow.log_artifact(plot_path)\n",
    "\n",
    "mlflow.end_run()  "
   ]
  },
  {
   "cell_type": "code",
   "execution_count": null,
   "id": "ac0af8de-b9d3-45fa-ae4f-ef3ad7e4a98f",
   "metadata": {},
   "outputs": [],
   "source": []
  }
 ],
 "metadata": {
  "kernelspec": {
   "display_name": "Python 3",
   "language": "python",
   "name": "python3"
  },
  "language_info": {
   "codemirror_mode": {
    "name": "ipython",
    "version": 3
   },
   "file_extension": ".py",
   "mimetype": "text/x-python",
   "name": "python",
   "nbconvert_exporter": "python",
   "pygments_lexer": "ipython3",
   "version": "3.7.10"
  }
 },
 "nbformat": 4,
 "nbformat_minor": 5
}
