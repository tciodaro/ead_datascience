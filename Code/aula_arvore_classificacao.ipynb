{
 "cells": [
  {
   "cell_type": "code",
   "execution_count": 1,
   "id": "488807a8-fc82-4c09-8576-40716e13392e",
   "metadata": {},
   "outputs": [],
   "source": [
    "import matplotlib.pyplot as plt\n",
    "import seaborn as sns\n",
    "import pandas\n",
    "import numpy as np\n",
    "from sklearn import tree\n",
    "from sklearn import preprocessing, model_selection\n",
    "from sklearn import metrics\n",
    "\n",
    "\n",
    "from ipywidgets import interact, interactive, fixed\n",
    "import ipywidgets as widgets\n",
    "\n",
    "\n",
    "%matplotlib inline"
   ]
  },
  {
   "cell_type": "markdown",
   "id": "8faf27f9-6e0b-40a3-a1ac-ef386bb0a049",
   "metadata": {
    "tags": []
   },
   "source": [
    "# Vinhos\n"
   ]
  },
  {
   "cell_type": "markdown",
   "id": "01cb7b41-d918-491c-9a31-595a011900d3",
   "metadata": {},
   "source": [
    "## Leitura da Base "
   ]
  },
  {
   "cell_type": "code",
   "execution_count": 2,
   "id": "cfdff72a-267c-41a0-a3b1-59dbd5f632fc",
   "metadata": {},
   "outputs": [
    {
     "name": "stdout",
     "output_type": "stream",
     "text": [
      "(5320, 13)\n"
     ]
    },
    {
     "data": {
      "text/html": [
       "<div>\n",
       "<style scoped>\n",
       "    .dataframe tbody tr th:only-of-type {\n",
       "        vertical-align: middle;\n",
       "    }\n",
       "\n",
       "    .dataframe tbody tr th {\n",
       "        vertical-align: top;\n",
       "    }\n",
       "\n",
       "    .dataframe thead th {\n",
       "        text-align: right;\n",
       "    }\n",
       "</style>\n",
       "<table border=\"1\" class=\"dataframe\">\n",
       "  <thead>\n",
       "    <tr style=\"text-align: right;\">\n",
       "      <th></th>\n",
       "      <th>fixed acidity</th>\n",
       "      <th>volatile acidity</th>\n",
       "      <th>citric acid</th>\n",
       "      <th>residual sugar</th>\n",
       "      <th>chlorides</th>\n",
       "      <th>free sulfur dioxide</th>\n",
       "      <th>total sulfur dioxide</th>\n",
       "      <th>density</th>\n",
       "      <th>pH</th>\n",
       "      <th>sulphates</th>\n",
       "      <th>alcohol</th>\n",
       "      <th>target</th>\n",
       "      <th>type</th>\n",
       "    </tr>\n",
       "  </thead>\n",
       "  <tbody>\n",
       "    <tr>\n",
       "      <th>0</th>\n",
       "      <td>7.4</td>\n",
       "      <td>0.70</td>\n",
       "      <td>0.00</td>\n",
       "      <td>1.9</td>\n",
       "      <td>0.076</td>\n",
       "      <td>11.0</td>\n",
       "      <td>34.0</td>\n",
       "      <td>0.9978</td>\n",
       "      <td>3.51</td>\n",
       "      <td>0.56</td>\n",
       "      <td>9.4</td>\n",
       "      <td>0</td>\n",
       "      <td>red</td>\n",
       "    </tr>\n",
       "    <tr>\n",
       "      <th>1</th>\n",
       "      <td>7.8</td>\n",
       "      <td>0.88</td>\n",
       "      <td>0.00</td>\n",
       "      <td>2.6</td>\n",
       "      <td>0.098</td>\n",
       "      <td>25.0</td>\n",
       "      <td>67.0</td>\n",
       "      <td>0.9968</td>\n",
       "      <td>3.20</td>\n",
       "      <td>0.68</td>\n",
       "      <td>9.8</td>\n",
       "      <td>0</td>\n",
       "      <td>red</td>\n",
       "    </tr>\n",
       "    <tr>\n",
       "      <th>2</th>\n",
       "      <td>7.8</td>\n",
       "      <td>0.76</td>\n",
       "      <td>0.04</td>\n",
       "      <td>2.3</td>\n",
       "      <td>0.092</td>\n",
       "      <td>15.0</td>\n",
       "      <td>54.0</td>\n",
       "      <td>0.9970</td>\n",
       "      <td>3.26</td>\n",
       "      <td>0.65</td>\n",
       "      <td>9.8</td>\n",
       "      <td>0</td>\n",
       "      <td>red</td>\n",
       "    </tr>\n",
       "    <tr>\n",
       "      <th>3</th>\n",
       "      <td>11.2</td>\n",
       "      <td>0.28</td>\n",
       "      <td>0.56</td>\n",
       "      <td>1.9</td>\n",
       "      <td>0.075</td>\n",
       "      <td>17.0</td>\n",
       "      <td>60.0</td>\n",
       "      <td>0.9980</td>\n",
       "      <td>3.16</td>\n",
       "      <td>0.58</td>\n",
       "      <td>9.8</td>\n",
       "      <td>1</td>\n",
       "      <td>red</td>\n",
       "    </tr>\n",
       "    <tr>\n",
       "      <th>4</th>\n",
       "      <td>7.4</td>\n",
       "      <td>0.66</td>\n",
       "      <td>0.00</td>\n",
       "      <td>1.8</td>\n",
       "      <td>0.075</td>\n",
       "      <td>13.0</td>\n",
       "      <td>40.0</td>\n",
       "      <td>0.9978</td>\n",
       "      <td>3.51</td>\n",
       "      <td>0.56</td>\n",
       "      <td>9.4</td>\n",
       "      <td>0</td>\n",
       "      <td>red</td>\n",
       "    </tr>\n",
       "  </tbody>\n",
       "</table>\n",
       "</div>"
      ],
      "text/plain": [
       "   fixed acidity  volatile acidity  citric acid  residual sugar  chlorides  \\\n",
       "0            7.4              0.70         0.00             1.9      0.076   \n",
       "1            7.8              0.88         0.00             2.6      0.098   \n",
       "2            7.8              0.76         0.04             2.3      0.092   \n",
       "3           11.2              0.28         0.56             1.9      0.075   \n",
       "4            7.4              0.66         0.00             1.8      0.075   \n",
       "\n",
       "   free sulfur dioxide  total sulfur dioxide  density    pH  sulphates  \\\n",
       "0                 11.0                  34.0   0.9978  3.51       0.56   \n",
       "1                 25.0                  67.0   0.9968  3.20       0.68   \n",
       "2                 15.0                  54.0   0.9970  3.26       0.65   \n",
       "3                 17.0                  60.0   0.9980  3.16       0.58   \n",
       "4                 13.0                  40.0   0.9978  3.51       0.56   \n",
       "\n",
       "   alcohol  target type  \n",
       "0      9.4       0  red  \n",
       "1      9.8       0  red  \n",
       "2      9.8       0  red  \n",
       "3      9.8       1  red  \n",
       "4      9.4       0  red  "
      ]
     },
     "execution_count": 2,
     "metadata": {},
     "output_type": "execute_result"
    }
   ],
   "source": [
    "df_wine = pandas.read_csv('../Data/dataset_vinhos.csv',sep=';')\n",
    "\n",
    "\n",
    "wine_target_col = 'target'\n",
    "\n",
    "wine_label_map = df_wine[['target', 'target_label']].drop_duplicates()\n",
    "\n",
    "drop_cols = ['target_label']\n",
    "df_wine.drop(drop_cols, axis=1, inplace=True)\n",
    "print(df_wine.shape)\n",
    "df_wine.head()"
   ]
  },
  {
   "cell_type": "markdown",
   "id": "4a648461-8994-482a-942e-bcacb059fbc0",
   "metadata": {
    "tags": []
   },
   "source": [
    "# Transformação Variáveis Categóricas"
   ]
  },
  {
   "cell_type": "code",
   "execution_count": 3,
   "id": "95340798-6afc-48ab-842a-487737b9a610",
   "metadata": {},
   "outputs": [
    {
     "data": {
      "text/html": [
       "<div>\n",
       "<style scoped>\n",
       "    .dataframe tbody tr th:only-of-type {\n",
       "        vertical-align: middle;\n",
       "    }\n",
       "\n",
       "    .dataframe tbody tr th {\n",
       "        vertical-align: top;\n",
       "    }\n",
       "\n",
       "    .dataframe thead th {\n",
       "        text-align: right;\n",
       "    }\n",
       "</style>\n",
       "<table border=\"1\" class=\"dataframe\">\n",
       "  <thead>\n",
       "    <tr style=\"text-align: right;\">\n",
       "      <th></th>\n",
       "      <th>fixed acidity</th>\n",
       "      <th>volatile acidity</th>\n",
       "      <th>citric acid</th>\n",
       "      <th>residual sugar</th>\n",
       "      <th>chlorides</th>\n",
       "      <th>free sulfur dioxide</th>\n",
       "      <th>total sulfur dioxide</th>\n",
       "      <th>density</th>\n",
       "      <th>pH</th>\n",
       "      <th>sulphates</th>\n",
       "      <th>alcohol</th>\n",
       "      <th>target</th>\n",
       "      <th>type_red</th>\n",
       "      <th>type_white</th>\n",
       "    </tr>\n",
       "  </thead>\n",
       "  <tbody>\n",
       "    <tr>\n",
       "      <th>0</th>\n",
       "      <td>7.4</td>\n",
       "      <td>0.70</td>\n",
       "      <td>0.00</td>\n",
       "      <td>1.9</td>\n",
       "      <td>0.076</td>\n",
       "      <td>11.0</td>\n",
       "      <td>34.0</td>\n",
       "      <td>0.9978</td>\n",
       "      <td>3.51</td>\n",
       "      <td>0.56</td>\n",
       "      <td>9.4</td>\n",
       "      <td>0</td>\n",
       "      <td>1.0</td>\n",
       "      <td>0.0</td>\n",
       "    </tr>\n",
       "    <tr>\n",
       "      <th>1</th>\n",
       "      <td>7.8</td>\n",
       "      <td>0.88</td>\n",
       "      <td>0.00</td>\n",
       "      <td>2.6</td>\n",
       "      <td>0.098</td>\n",
       "      <td>25.0</td>\n",
       "      <td>67.0</td>\n",
       "      <td>0.9968</td>\n",
       "      <td>3.20</td>\n",
       "      <td>0.68</td>\n",
       "      <td>9.8</td>\n",
       "      <td>0</td>\n",
       "      <td>1.0</td>\n",
       "      <td>0.0</td>\n",
       "    </tr>\n",
       "    <tr>\n",
       "      <th>2</th>\n",
       "      <td>7.8</td>\n",
       "      <td>0.76</td>\n",
       "      <td>0.04</td>\n",
       "      <td>2.3</td>\n",
       "      <td>0.092</td>\n",
       "      <td>15.0</td>\n",
       "      <td>54.0</td>\n",
       "      <td>0.9970</td>\n",
       "      <td>3.26</td>\n",
       "      <td>0.65</td>\n",
       "      <td>9.8</td>\n",
       "      <td>0</td>\n",
       "      <td>1.0</td>\n",
       "      <td>0.0</td>\n",
       "    </tr>\n",
       "    <tr>\n",
       "      <th>3</th>\n",
       "      <td>11.2</td>\n",
       "      <td>0.28</td>\n",
       "      <td>0.56</td>\n",
       "      <td>1.9</td>\n",
       "      <td>0.075</td>\n",
       "      <td>17.0</td>\n",
       "      <td>60.0</td>\n",
       "      <td>0.9980</td>\n",
       "      <td>3.16</td>\n",
       "      <td>0.58</td>\n",
       "      <td>9.8</td>\n",
       "      <td>1</td>\n",
       "      <td>1.0</td>\n",
       "      <td>0.0</td>\n",
       "    </tr>\n",
       "    <tr>\n",
       "      <th>4</th>\n",
       "      <td>7.4</td>\n",
       "      <td>0.66</td>\n",
       "      <td>0.00</td>\n",
       "      <td>1.8</td>\n",
       "      <td>0.075</td>\n",
       "      <td>13.0</td>\n",
       "      <td>40.0</td>\n",
       "      <td>0.9978</td>\n",
       "      <td>3.51</td>\n",
       "      <td>0.56</td>\n",
       "      <td>9.4</td>\n",
       "      <td>0</td>\n",
       "      <td>1.0</td>\n",
       "      <td>0.0</td>\n",
       "    </tr>\n",
       "  </tbody>\n",
       "</table>\n",
       "</div>"
      ],
      "text/plain": [
       "   fixed acidity  volatile acidity  citric acid  residual sugar  chlorides  \\\n",
       "0            7.4              0.70         0.00             1.9      0.076   \n",
       "1            7.8              0.88         0.00             2.6      0.098   \n",
       "2            7.8              0.76         0.04             2.3      0.092   \n",
       "3           11.2              0.28         0.56             1.9      0.075   \n",
       "4            7.4              0.66         0.00             1.8      0.075   \n",
       "\n",
       "   free sulfur dioxide  total sulfur dioxide  density    pH  sulphates  \\\n",
       "0                 11.0                  34.0   0.9978  3.51       0.56   \n",
       "1                 25.0                  67.0   0.9968  3.20       0.68   \n",
       "2                 15.0                  54.0   0.9970  3.26       0.65   \n",
       "3                 17.0                  60.0   0.9980  3.16       0.58   \n",
       "4                 13.0                  40.0   0.9978  3.51       0.56   \n",
       "\n",
       "   alcohol  target  type_red  type_white  \n",
       "0      9.4       0       1.0         0.0  \n",
       "1      9.8       0       1.0         0.0  \n",
       "2      9.8       0       1.0         0.0  \n",
       "3      9.8       1       1.0         0.0  \n",
       "4      9.4       0       1.0         0.0  "
      ]
     },
     "execution_count": 3,
     "metadata": {},
     "output_type": "execute_result"
    }
   ],
   "source": [
    "categorical_cols = ['type']\n",
    "encoder_map = {}\n",
    "\n",
    "for cname in categorical_cols:\n",
    "    encoder = preprocessing.OneHotEncoder(sparse=False)\n",
    "    transformed = encoder.fit_transform(df_wine[[cname]])\n",
    "    ohe_df = pandas.DataFrame(transformed, columns=[cname+'_'+cat for cat in encoder.categories_[0]])\n",
    "    encoder_map[cname] = encoder\n",
    "    \n",
    "    df_wine = pandas.concat([df_wine, ohe_df], axis=1).drop(cname, axis=1)\n",
    "df_wine.head()"
   ]
  },
  {
   "cell_type": "markdown",
   "id": "1274055c-baf4-4000-b65a-0fc1631011a5",
   "metadata": {},
   "source": [
    "## Treinamento Classificador"
   ]
  },
  {
   "cell_type": "code",
   "execution_count": 4,
   "id": "b9839dce-b3c9-4b67-b37b-a91e6ad8d5a3",
   "metadata": {},
   "outputs": [],
   "source": [
    "\n",
    "Y = df_wine[wine_target_col]\n",
    "X = df_wine.drop(wine_target_col, axis=1)\n",
    "\n",
    "# train/test\n",
    "xtrain, xtest, ytrain, ytest = model_selection.train_test_split(X, Y, test_size=0.2)\n",
    "\n",
    "df_train = xtrain.copy()\n",
    "df_test = xtest.copy()\n",
    "df_train['train_set'] = 1\n",
    "df_test['train_set'] = 0\n",
    "df_train[wine_target_col] = ytrain\n",
    "df_test[wine_target_col] = ytest\n",
    "\n",
    "\n",
    "model_wine = tree.DecisionTreeClassifier(criterion='entropy', max_depth = 5)\n",
    "model_wine.fit(xtrain, ytrain)      \n",
    "df_train['decision'] = model_wine.predict(xtrain)\n",
    "df_test['decision']  = model_wine.predict(xtest)\n",
    "df_train['probability'] = model_wine.predict_proba(xtrain)[:,1]\n",
    "df_test['probability']  = model_wine.predict_proba(xtest)[:,1]\n",
    "\n",
    "df_wine = pandas.concat((df_train, df_test), axis=0)"
   ]
  },
  {
   "cell_type": "markdown",
   "id": "0809415b-7847-4f63-83a4-ab60c944ac2b",
   "metadata": {},
   "source": [
    "## Matriz de Confusão "
   ]
  },
  {
   "cell_type": "code",
   "execution_count": 5,
   "id": "67ba1718-11a3-4e90-83bb-b29276e9824d",
   "metadata": {},
   "outputs": [
    {
     "data": {
      "text/plain": [
       "[Text(0, 0.5, 'baixa qualidade'), Text(0, 1.5, 'alta qualidade')]"
      ]
     },
     "execution_count": 5,
     "metadata": {},
     "output_type": "execute_result"
    },
    {
     "data": {
      "image/png": "[encoded data removed]",
      "text/plain": [
       "<Figure size 432x288 with 2 Axes>"
      ]
     },
     "metadata": {
      "needs_background": "light"
     },
     "output_type": "display_data"
    }
   ],
   "source": [
    "cm = metrics.confusion_matrix(df_wine[wine_target_col],\n",
    "                              df_wine['decision'])\n",
    "\n",
    "sns.heatmap(cm, annot=True, fmt = '.0f')\n",
    "\n",
    "plt.xlabel('Classificação')\n",
    "plt.ylabel('Verdade')\n",
    "plt.gca().set_xticklabels(wine_label_map.target_label.values)\n",
    "plt.gca().set_yticklabels(wine_label_map.target_label.values)"
   ]
  },
  {
   "cell_type": "markdown",
   "id": "8ae68c58-89f4-415e-b1a6-8600c05a9ded",
   "metadata": {},
   "source": [
    "## Métricas de Classifição"
   ]
  },
  {
   "cell_type": "code",
   "execution_count": 6,
   "id": "59517d28-b3a8-4215-91a5-4b31e161dc41",
   "metadata": {},
   "outputs": [
    {
     "name": "stdout",
     "output_type": "stream",
     "text": [
      "                 precision    recall  f1-score   support\n",
      "\n",
      "baixa qualidade       0.69      0.62      0.65      1988\n",
      " alta qualidade       0.79      0.84      0.81      3332\n",
      "\n",
      "       accuracy                           0.76      5320\n",
      "      macro avg       0.74      0.73      0.73      5320\n",
      "   weighted avg       0.75      0.76      0.75      5320\n",
      "\n"
     ]
    }
   ],
   "source": [
    "print(metrics.classification_report(df_wine[wine_target_col],\n",
    "                              df_wine['decision'],\n",
    "                              target_names = wine_label_map.target_label))"
   ]
  },
  {
   "cell_type": "markdown",
   "id": "c3da13b0-b259-4f6d-a6cb-12e8b8eac964",
   "metadata": {
    "tags": []
   },
   "source": [
    "## Distribuição de Probabilidade "
   ]
  },
  {
   "cell_type": "code",
   "execution_count": 7,
   "id": "54dbbfe4-db10-4ce2-a6b5-bd46366a2d06",
   "metadata": {},
   "outputs": [
    {
     "name": "stderr",
     "output_type": "stream",
     "text": [
      "C:\\Users\\BZ241WX\\AppData\\Local\\Continuum\\anaconda3\\envs\\infnet-ead\\lib\\site-packages\\seaborn\\distributions.py:2619: FutureWarning: `distplot` is a deprecated function and will be removed in a future version. Please adapt your code to use either `displot` (a figure-level function with similar flexibility) or `histplot` (an axes-level function for histograms).\n",
      "  warnings.warn(msg, FutureWarning)\n",
      "C:\\Users\\BZ241WX\\AppData\\Local\\Continuum\\anaconda3\\envs\\infnet-ead\\lib\\site-packages\\seaborn\\distributions.py:2619: FutureWarning: `distplot` is a deprecated function and will be removed in a future version. Please adapt your code to use either `displot` (a figure-level function with similar flexibility) or `histplot` (an axes-level function for histograms).\n",
      "  warnings.warn(msg, FutureWarning)\n"
     ]
    },
    {
     "data": {
      "text/plain": [
       "<matplotlib.legend.Legend at 0x2bc1b7c63c8>"
      ]
     },
     "execution_count": 7,
     "metadata": {},
     "output_type": "execute_result"
    },
    {
     "data": {
      "image/png": "[encoded data removed]",
      "text/plain": [
       "<Figure size 432x288 with 1 Axes>"
      ]
     },
     "metadata": {
      "needs_background": "light"
     },
     "output_type": "display_data"
    }
   ],
   "source": [
    "plt.figure(figsize=(6,4))\n",
    "for i in wine_label_map.target.unique():\n",
    "    sns.distplot(df_wine[df_wine[wine_target_col] == i].probability,\n",
    "                 label=wine_label_map[wine_label_map.target == i].target_label,\n",
    "                 ax = plt.gca())\n",
    "\n",
    "plt.title('Distribuição de Probabilidade por Classe')\n",
    "plt.ylabel('Densidade Estimada')\n",
    "plt.xlabel('Probabilidade Alta Qualidade')\n",
    "plt.xlim((0,1))\n",
    "plt.grid()\n",
    "plt.legend()"
   ]
  },
  {
   "cell_type": "markdown",
   "id": "808b4c56-c455-4881-8688-82c63a5ef7c7",
   "metadata": {},
   "source": [
    "## Curva ROC "
   ]
  },
  {
   "cell_type": "code",
   "execution_count": 16,
   "id": "1813328c-2223-4240-bee0-b81a52f44ab7",
   "metadata": {},
   "outputs": [
    {
     "data": {
      "text/plain": [
       "Text(0, 0.5, 'Taxa de Detecção')"
      ]
     },
     "execution_count": 16,
     "metadata": {},
     "output_type": "execute_result"
    },
    {
     "data": {
      "image/png": "[encoded data removed]",
      "text/plain": [
       "<Figure size 432x288 with 1 Axes>"
      ]
     },
     "metadata": {
      "needs_background": "light"
     },
     "output_type": "display_data"
    }
   ],
   "source": [
    "plt.figure(figsize=(6,4))\n",
    "\n",
    "fpr, tpr, thr = metrics.roc_curve(df_wine[wine_target_col],\n",
    "                                  df_wine['probability'])\n",
    "plt.plot(fpr, tpr, '-', lw=2, label='Árvore Decisão')\n",
    "\n",
    "plt.legend(loc='right')\n",
    "plt.title('Classificador Vinhos de Alta Qualidade')\n",
    "plt.grid()\n",
    "plt.xlabel('Taxa de Falso Alarme')\n",
    "plt.ylabel('Taxa de Detecção')"
   ]
  },
  {
   "cell_type": "markdown",
   "id": "03d8688c-0e2c-4460-93b4-f89f5c1ae745",
   "metadata": {},
   "source": [
    "## Regime de Operação "
   ]
  },
  {
   "cell_type": "code",
   "execution_count": 9,
   "id": "aa86243a-7f0b-4838-9edf-f3f6d5a4a6eb",
   "metadata": {},
   "outputs": [
    {
     "data": {
      "application/vnd.jupyter.widget-view+json": {
       "model_id": "6654ed09b59c4cdfacd8a5f40c097d54",
       "version_major": 2,
       "version_minor": 0
      },
      "text/plain": [
       "interactive(children=(FloatSlider(value=0.0, description='threshold', max=1.0), Output()), _dom_classes=('widg…"
      ]
     },
     "metadata": {},
     "output_type": "display_data"
    },
    {
     "data": {
      "text/plain": [
       "<function __main__.plot_operation_threshold(threshold)>"
      ]
     },
     "execution_count": 9,
     "metadata": {},
     "output_type": "execute_result"
    }
   ],
   "source": [
    "import warnings\n",
    "warnings.filterwarnings('ignore')\n",
    "\n",
    "\n",
    "def plot_operation_threshold(threshold):\n",
    "    plt.figure(figsize=(12,4))\n",
    "    # MATRIZ CONFUSAO\n",
    "    plt.subplot(1,2,1)\n",
    "    cm = metrics.confusion_matrix(df_wine[wine_target_col],\n",
    "                                  df_wine['probability'] > threshold)\n",
    "    sns.heatmap(cm, annot=True, fmt = '.0f')\n",
    "    plt.xlabel('Classificação')\n",
    "    plt.ylabel('Verdade')\n",
    "    plt.gca().set_xticklabels(wine_label_map.target_label.values)\n",
    "    plt.gca().set_yticklabels(wine_label_map.target_label.values)\n",
    "    # DISTRIBUICAO PROBABILIDADES\n",
    "    plt.subplot(1,2,2)\n",
    "    for i in wine_label_map.target.unique():\n",
    "        sns.distplot(df_wine[df_wine[wine_target_col] == i].probability,\n",
    "                     label=wine_label_map[wine_label_map.target == i].target_label,\n",
    "                     ax = plt.gca())\n",
    "    plt.plot([threshold, threshold], [0, plt.axis()[3]], '--k', lw=2, label = 'Corte Operação')\n",
    "    plt.title('Distribuição de Probabilidade por Classe')\n",
    "    plt.ylabel('Densidade Estimada')\n",
    "    plt.xlabel('Probabilidade Alta Qualidade')\n",
    "    plt.xlim((-0.01,1.01))\n",
    "    plt.grid()\n",
    "    plt.legend()\n",
    "    plt.show()\n",
    "    # PRINT CLASSIFICATION REPORT\n",
    "    print(metrics.classification_report(df_wine[wine_target_col],\n",
    "                                        df_wine['probability'] > threshold,\n",
    "                                        target_names = wine_label_map.target_label))    \n",
    "\n",
    "\n",
    "interact(plot_operation_threshold, threshold=(0,1,0.1))"
   ]
  },
  {
   "cell_type": "markdown",
   "id": "b9f35297-c972-45ca-b606-d647784966db",
   "metadata": {},
   "source": [
    "# Íris "
   ]
  },
  {
   "cell_type": "markdown",
   "id": "82c2df0b-4c5d-42d1-a732-52c3d1da17a1",
   "metadata": {
    "tags": []
   },
   "source": [
    "## Leitura dos Dados "
   ]
  },
  {
   "cell_type": "code",
   "execution_count": 10,
   "id": "47514d91-7e29-447c-9d4b-29db397722f3",
   "metadata": {},
   "outputs": [
    {
     "name": "stdout",
     "output_type": "stream",
     "text": [
      "(150, 5)\n"
     ]
    },
    {
     "data": {
      "text/html": [
       "<div>\n",
       "<style scoped>\n",
       "    .dataframe tbody tr th:only-of-type {\n",
       "        vertical-align: middle;\n",
       "    }\n",
       "\n",
       "    .dataframe tbody tr th {\n",
       "        vertical-align: top;\n",
       "    }\n",
       "\n",
       "    .dataframe thead th {\n",
       "        text-align: right;\n",
       "    }\n",
       "</style>\n",
       "<table border=\"1\" class=\"dataframe\">\n",
       "  <thead>\n",
       "    <tr style=\"text-align: right;\">\n",
       "      <th></th>\n",
       "      <th>sepal length (cm)</th>\n",
       "      <th>sepal width (cm)</th>\n",
       "      <th>petal length (cm)</th>\n",
       "      <th>petal width (cm)</th>\n",
       "      <th>target</th>\n",
       "    </tr>\n",
       "  </thead>\n",
       "  <tbody>\n",
       "    <tr>\n",
       "      <th>0</th>\n",
       "      <td>5.1</td>\n",
       "      <td>3.5</td>\n",
       "      <td>1.4</td>\n",
       "      <td>0.2</td>\n",
       "      <td>0</td>\n",
       "    </tr>\n",
       "    <tr>\n",
       "      <th>1</th>\n",
       "      <td>4.9</td>\n",
       "      <td>3.0</td>\n",
       "      <td>1.4</td>\n",
       "      <td>0.2</td>\n",
       "      <td>0</td>\n",
       "    </tr>\n",
       "    <tr>\n",
       "      <th>2</th>\n",
       "      <td>4.7</td>\n",
       "      <td>3.2</td>\n",
       "      <td>1.3</td>\n",
       "      <td>0.2</td>\n",
       "      <td>0</td>\n",
       "    </tr>\n",
       "    <tr>\n",
       "      <th>3</th>\n",
       "      <td>4.6</td>\n",
       "      <td>3.1</td>\n",
       "      <td>1.5</td>\n",
       "      <td>0.2</td>\n",
       "      <td>0</td>\n",
       "    </tr>\n",
       "    <tr>\n",
       "      <th>4</th>\n",
       "      <td>5.0</td>\n",
       "      <td>3.6</td>\n",
       "      <td>1.4</td>\n",
       "      <td>0.2</td>\n",
       "      <td>0</td>\n",
       "    </tr>\n",
       "  </tbody>\n",
       "</table>\n",
       "</div>"
      ],
      "text/plain": [
       "   sepal length (cm)  sepal width (cm)  petal length (cm)  petal width (cm)  \\\n",
       "0                5.1               3.5                1.4               0.2   \n",
       "1                4.9               3.0                1.4               0.2   \n",
       "2                4.7               3.2                1.3               0.2   \n",
       "3                4.6               3.1                1.5               0.2   \n",
       "4                5.0               3.6                1.4               0.2   \n",
       "\n",
       "   target  \n",
       "0       0  \n",
       "1       0  \n",
       "2       0  \n",
       "3       0  \n",
       "4       0  "
      ]
     },
     "execution_count": 10,
     "metadata": {},
     "output_type": "execute_result"
    }
   ],
   "source": [
    "df_iris = pandas.read_csv('../Data/dataset_iris.csv',sep=';')\n",
    "\n",
    "iris_label_map = df_iris[['target', 'target_label']].drop_duplicates()\n",
    "\n",
    "drop_cols = ['target_label']\n",
    "df_iris.drop(drop_cols, axis=1, inplace=True)\n",
    "\n",
    "print(df_iris.shape)\n",
    "\n",
    "iris_target_col = 'target'\n",
    "\n",
    "df_iris.head()"
   ]
  },
  {
   "cell_type": "markdown",
   "id": "cd83e09c-13ee-4b4a-a70c-481559b94c67",
   "metadata": {},
   "source": [
    "## Treinamento do Classificador "
   ]
  },
  {
   "cell_type": "code",
   "execution_count": 11,
   "id": "304dd678-eb7c-4d50-876d-448be017c60d",
   "metadata": {},
   "outputs": [],
   "source": [
    "\n",
    "Y = df_iris[iris_target_col]\n",
    "X = df_iris.drop(iris_target_col, axis=1)\n",
    "\n",
    "# train/test\n",
    "xtrain, xtest, ytrain, ytest = model_selection.train_test_split(X, Y, test_size=0.2)\n",
    "\n",
    "df_train = xtrain.copy()\n",
    "df_test = xtest.copy()\n",
    "df_train['train_set'] = 1\n",
    "df_test['train_set'] = 0\n",
    "df_train[iris_target_col] = ytrain\n",
    "df_test[iris_target_col] = ytest\n",
    "\n",
    "\n",
    "model_iris = tree.DecisionTreeClassifier(criterion='entropy', max_depth = 2)\n",
    "model_iris.fit(xtrain, ytrain)      \n",
    "df_train['decision'] = model_iris.predict(xtrain)\n",
    "df_test['decision']  = model_iris.predict(xtest)\n",
    "for icls in iris_label_map.target.unique():\n",
    "    xclass = xtrain[ytrain==icls]\n",
    "    idx = df_train[iris_target_col] == icls\n",
    "    df_train.loc[idx,'probability'] = model_iris.predict_proba(xclass)[:,icls]\n",
    "    xclass = xtest[ytest==icls]\n",
    "    idx = df_test[iris_target_col] == icls\n",
    "    df_test.loc[idx,'probability']  = model_iris.predict_proba(xclass)[:,icls]\n",
    "\n",
    "df_iris = pandas.concat((df_train, df_test), axis=0)"
   ]
  },
  {
   "cell_type": "markdown",
   "id": "a08481b3-e752-46e4-aa87-a6a3ec0a2316",
   "metadata": {},
   "source": [
    "## Matriz de Confusão "
   ]
  },
  {
   "cell_type": "code",
   "execution_count": 12,
   "id": "64684135-87a4-43c3-bcbc-ce2c0ce72d9f",
   "metadata": {},
   "outputs": [
    {
     "data": {
      "text/plain": [
       "[Text(0, 0.5, 'setosa'), Text(0, 1.5, 'versicolor'), Text(0, 2.5, 'virginica')]"
      ]
     },
     "execution_count": 12,
     "metadata": {},
     "output_type": "execute_result"
    },
    {
     "data": {
      "image/png": "[encoded data removed]",
      "text/plain": [
       "<Figure size 432x288 with 2 Axes>"
      ]
     },
     "metadata": {
      "needs_background": "light"
     },
     "output_type": "display_data"
    }
   ],
   "source": [
    "cm = metrics.confusion_matrix(df_iris[iris_target_col],\n",
    "                              df_iris['decision'])\n",
    "                              \n",
    "sns.heatmap(cm, annot=True, fmt = '.0f')\n",
    "\n",
    "plt.xlabel('Classificação')\n",
    "plt.ylabel('Verdade')\n",
    "plt.gca().set_xticklabels(iris_label_map.target_label.values)\n",
    "plt.gca().set_yticklabels(iris_label_map.target_label.values)"
   ]
  },
  {
   "cell_type": "markdown",
   "id": "5d5f82f3-3aa7-4f07-a492-e1c49ad00bc1",
   "metadata": {},
   "source": [
    "## Relatório de Classificação "
   ]
  },
  {
   "cell_type": "code",
   "execution_count": 13,
   "id": "76958d26-010a-4bba-8a81-139dd1da55c9",
   "metadata": {},
   "outputs": [
    {
     "name": "stdout",
     "output_type": "stream",
     "text": [
      "              precision    recall  f1-score   support\n",
      "\n",
      "      setosa       1.00      1.00      1.00        50\n",
      "  versicolor       0.98      0.88      0.93        50\n",
      "   virginica       0.89      0.98      0.93        50\n",
      "\n",
      "    accuracy                           0.95       150\n",
      "   macro avg       0.96      0.95      0.95       150\n",
      "weighted avg       0.96      0.95      0.95       150\n",
      "\n"
     ]
    }
   ],
   "source": [
    "print(metrics.classification_report(df_iris[iris_target_col],\n",
    "                              df_iris['decision'],\n",
    "                              target_names = iris_label_map.target_label))"
   ]
  },
  {
   "cell_type": "markdown",
   "id": "3327ecfa-2e86-4e50-8ac0-c81fc48097af",
   "metadata": {},
   "source": [
    "## Distribuição de Probabilidade "
   ]
  },
  {
   "cell_type": "code",
   "execution_count": 14,
   "id": "19f15f16-c911-40b5-87bf-70cd560785d4",
   "metadata": {},
   "outputs": [
    {
     "data": {
      "application/vnd.jupyter.widget-view+json": {
       "model_id": "23337b1d784043eb877af261875fedef",
       "version_major": 2,
       "version_minor": 0
      },
      "text/plain": [
       "interactive(children=(Dropdown(description='class_name', options=('setosa', 'versicolor', 'virginica'), value=…"
      ]
     },
     "metadata": {},
     "output_type": "display_data"
    },
    {
     "data": {
      "text/plain": [
       "<function __main__.plot_dist_class(class_name)>"
      ]
     },
     "execution_count": 14,
     "metadata": {},
     "output_type": "execute_result"
    }
   ],
   "source": [
    "\n",
    "def plot_dist_class(class_name):\n",
    "    iclass = iris_label_map[iris_label_map.target_label == class_name].target.values[0]\n",
    "    prob = model_iris.predict_proba(X)[:,iclass]\n",
    "    \n",
    "    plt.figure(figsize=(6,4))\n",
    "    for i in iris_label_map.target.unique():\n",
    "        plt.hist(prob[Y == i], bins=np.linspace(0,1,10),\n",
    "#                  histtype ='stepfilled',\n",
    "                 alpha=0.3,\n",
    "                 lw=2,\n",
    "                 label=iris_label_map[iris_label_map.target == i].target_label)\n",
    "                     \n",
    "        \n",
    "    plt.title('Distribuição de Probabilidade por Classe')\n",
    "    plt.ylabel('Quantidade de Amostras')\n",
    "    plt.xlabel('Probabilidade Espécie ' + class_name)\n",
    "    plt.xlim((0,1))\n",
    "    plt.grid()\n",
    "    plt.legend()\n",
    "    plt.show()\n",
    "\n",
    "interact(plot_dist_class, class_name = iris_label_map.target_label) \n"
   ]
  },
  {
   "cell_type": "markdown",
   "id": "aed83797-0b12-4b34-a6a6-0b55e17bd8e1",
   "metadata": {},
   "source": [
    "## Curva ROC "
   ]
  },
  {
   "cell_type": "code",
   "execution_count": 15,
   "id": "29300108-4b76-49e6-b8e3-80352cab2077",
   "metadata": {},
   "outputs": [
    {
     "data": {
      "image/png": "[encoded data removed]",
      "text/plain": [
       "<Figure size 432x288 with 1 Axes>"
      ]
     },
     "metadata": {
      "needs_background": "light"
     },
     "output_type": "display_data"
    }
   ],
   "source": [
    "for class_name in iris_label_map.target_label:\n",
    "    iclass = iris_label_map[iris_label_map.target_label == class_name].target.values[0]\n",
    "    prob = model_iris.predict_proba(X)[:,iclass]\n",
    "    clas = Y == iclass\n",
    "\n",
    "    fpr, tpr, thr = metrics.roc_curve(clas,\n",
    "                              prob)\n",
    "    plt.plot(fpr, tpr, '-', lw=2, label=class_name)\n",
    "\n",
    "plt.legend(loc='right')\n",
    "plt.title('Classificador de Espécies de Íris')\n",
    "plt.grid()\n",
    "plt.xlabel('Taxa de Falso Alarme')\n",
    "plt.ylabel('Taxa de Detecção')\n",
    "plt.xlim((-0.01, 0.5))\n",
    "plt.ylim((0.6, 1.01))\n",
    "plt.show()\n"
   ]
  },
  {
   "cell_type": "code",
   "execution_count": null,
   "id": "2180029c-234a-44ea-b13c-6d5b384e5ed2",
   "metadata": {},
   "outputs": [],
   "source": []
  },
  {
   "cell_type": "code",
   "execution_count": null,
   "id": "9a6a4266-1950-446b-9625-e1d5d5a1ab1d",
   "metadata": {},
   "outputs": [],
   "source": []
  },
  {
   "cell_type": "code",
   "execution_count": null,
   "id": "3c0f97ec-361c-4bde-adef-79d0c23e17e1",
   "metadata": {},
   "outputs": [],
   "source": []
  },
  {
   "cell_type": "code",
   "execution_count": null,
   "id": "599ee757-4e2e-4afe-bca6-5480a3f0c49e",
   "metadata": {},
   "outputs": [],
   "source": []
  }
 ],
 "metadata": {
  "kernelspec": {
   "display_name": "Python 3",
   "language": "python",
   "name": "python3"
  },
  "language_info": {
   "codemirror_mode": {
    "name": "ipython",
    "version": 3
   },
   "file_extension": ".py",
   "mimetype": "text/x-python",
   "name": "python",
   "nbconvert_exporter": "python",
   "pygments_lexer": "ipython3",
   "version": "3.7.10"
  }
 },
 "nbformat": 4,
 "nbformat_minor": 5
}
