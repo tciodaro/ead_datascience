{
 "cells": [
  {
   "cell_type": "markdown",
   "id": "2577a2c2-b8f7-4efd-a17c-640721404b42",
   "metadata": {},
   "source": [
    "# IRIS "
   ]
  },
  {
   "cell_type": "code",
   "execution_count": 87,
   "id": "5e112059-1af8-4a7e-8587-95856cde2453",
   "metadata": {},
   "outputs": [],
   "source": [
    "from sklearn import datasets\n",
    "\n",
    "iris = datasets.load_iris(as_frame=True)\n",
    "df = iris['data']\n",
    "df['target'] = iris['target']\n",
    "df['target_label'] = [iris['target_names'][i] for i in iris['target']]\n",
    "df.to_csv('Data/dataset_iris.csv', sep=';', index=None)"
   ]
  },
  {
   "cell_type": "markdown",
   "id": "744909ab-3144-4d9a-a57f-d3e96e5af086",
   "metadata": {},
   "source": [
    "# WINE "
   ]
  },
  {
   "cell_type": "code",
   "execution_count": 1,
   "id": "25ed5c86-ecd2-4ee0-acda-92b1f22408b8",
   "metadata": {},
   "outputs": [],
   "source": [
    "import pandas\n",
    "\n",
    "labels = ['baixa qualidade','alta qualidade']\n",
    "\n",
    "df1 = pandas.read_csv('../Data/vinho/winequality-red.csv', sep=';')\n",
    "df1 = df1.drop_duplicates()\n",
    "df1['target'] = (df1['quality'] > 5).astype(int)\n",
    "df1['target_label'] = [labels[i] for i in df1['target']]\n",
    "df1['type'] = 'red'\n",
    "df1.drop('quality', axis=1, inplace=True)\n",
    "\n",
    "df2 = pandas.read_csv('../Data/vinho/winequality-white.csv', sep=';')\n",
    "df2 = df2.drop_duplicates()\n",
    "df2['target'] = (df2['quality'] > 5).astype(int)\n",
    "df2['target_label'] = [labels[i] for i in df2['target']]\n",
    "df2['type'] = 'white'\n",
    "df2.drop('quality', axis=1, inplace=True)\n",
    "\n",
    "df = pandas.concat((df1, df2), axis=0)\n",
    "# df.head()\n",
    "\n",
    "df.to_csv('../Data/dataset_vinhos.csv', sep=';', index=None)"
   ]
  },
  {
   "cell_type": "markdown",
   "id": "47086f1a-de59-494f-a512-3f5a371b15c5",
   "metadata": {},
   "source": [
    "# AUTO"
   ]
  },
  {
   "cell_type": "code",
   "execution_count": 91,
   "id": "f2e03ed7-269c-439d-a26e-97faf99c6ff4",
   "metadata": {},
   "outputs": [
    {
     "data": {
      "text/plain": [
       "(15000, 10)"
      ]
     },
     "execution_count": 91,
     "metadata": {},
     "output_type": "execute_result"
    }
   ],
   "source": [
    "df1 = pandas.read_csv('Data/auto/audi.csv', sep=',').drop_duplicates().sample(5000)\n",
    "df2 = pandas.read_csv('Data/auto/bmw.csv', sep=',').drop_duplicates().sample(5000)\n",
    "df3 = pandas.read_csv('Data/auto/ford.csv', sep=',').drop_duplicates().sample(5000)\n",
    "\n",
    "df1['brand'] = 'audi'\n",
    "df2['brand'] = 'bmw'\n",
    "df3['brand'] = 'ford'\n",
    "\n",
    "df = pandas.concat((df1, df2, df3), axis=0)\n",
    "\n",
    "df.to_csv('Data/dataset_auto.csv', sep=';', index=None)\n",
    "\n",
    "df.shape"
   ]
  },
  {
   "cell_type": "markdown",
   "id": "33172b56-64a1-408d-83c8-992fe536a074",
   "metadata": {},
   "source": [
    "# CLIMA"
   ]
  },
  {
   "cell_type": "code",
   "execution_count": 90,
   "id": "653377cc-a529-4b4a-ab66-21ceae9b06d3",
   "metadata": {},
   "outputs": [],
   "source": [
    "df = pandas.read_csv('Data/clima/weatherHistory.csv', sep=',')\n",
    "df = df.drop_duplicates()\n",
    "df['Formatted Date'] = pandas.to_datetime(df['Formatted Date'], utc=True)\n",
    "df['Formatted Date'] = df['Formatted Date'].dt.date\n",
    "\n",
    "cols = ['Temperature (C)', 'Apparent Temperature (C)',\n",
    "        'Humidity', 'Wind Speed (km/h)', 'Wind Bearing (degrees)',\n",
    "        'Visibility (km)', 'Loud Cover', 'Pressure (millibars)']\n",
    "\n",
    "df = df.groupby('Formatted Date')[cols].mean()\n",
    "\n",
    "df.to_csv('Data/dataset_clima.csv', sep=';', index=None)"
   ]
  },
  {
   "cell_type": "code",
   "execution_count": null,
   "id": "4d8d7718-a4a9-42a7-bbc2-de927a0534f5",
   "metadata": {},
   "outputs": [],
   "source": []
  }
 ],
 "metadata": {
  "kernelspec": {
   "display_name": "Python 3",
   "language": "python",
   "name": "python3"
  },
  "language_info": {
   "codemirror_mode": {
    "name": "ipython",
    "version": 3
   },
   "file_extension": ".py",
   "mimetype": "text/x-python",
   "name": "python",
   "nbconvert_exporter": "python",
   "pygments_lexer": "ipython3",
   "version": "3.7.10"
  }
 },
 "nbformat": 4,
 "nbformat_minor": 5
}
