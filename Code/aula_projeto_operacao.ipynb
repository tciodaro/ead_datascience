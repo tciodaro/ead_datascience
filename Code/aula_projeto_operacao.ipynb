{
 "cells": [
  {
   "cell_type": "code",
   "execution_count": 49,
   "id": "e39fec82-b3d2-4a39-ab85-b85159d9b556",
   "metadata": {},
   "outputs": [],
   "source": [
    "import pandas as pd\n",
    "import numpy as np\n",
    "import pycaret.classification as pc\n",
    "\n",
    "\n",
    "fname = '../Data/dataset_kobe.csv'"
   ]
  },
  {
   "cell_type": "markdown",
   "id": "51e78003-e96c-49bc-90e9-6a5c5685a595",
   "metadata": {},
   "source": [
    "# Carga dos Dados "
   ]
  },
  {
   "cell_type": "code",
   "execution_count": 109,
   "id": "387ec056-a87d-454b-81ac-ca400cb58334",
   "metadata": {},
   "outputs": [
    {
     "name": "stdout",
     "output_type": "stream",
     "text": [
      "Index(['lat', 'lon', 'minutes_remaining', 'period', 'playoffs',\n",
      "       'shot_distance', 'shot_made_flag'],\n",
      "      dtype='object')\n",
      "(20285, 7)\n",
      "(5412, 7)\n"
     ]
    }
   ],
   "source": [
    "data = pd.read_csv(fname)\n",
    "\n",
    "ml_features = [\n",
    "    'lat',\n",
    "    'lon',     \n",
    "    'minutes_remaining',\n",
    "    'period',     \n",
    "    'playoffs',\n",
    "    'shot_distance',\n",
    "]\n",
    "\n",
    "filter_column = 'shot_type'\n",
    "filter_values = ['3PT Field Goal']\n",
    "target = 'shot_made_flag'\n",
    "\n",
    "data = data[ml_features + [filter_column, target]].dropna()\n",
    "\n",
    "data_op = data[data[filter_column].isin(filter_values)].drop(filter_column, axis=1)\n",
    "data    = data[~data[filter_column].isin(filter_values)].drop(filter_column, axis=1)\n",
    "\n",
    "\n",
    "print(data.columns)\n",
    "print(data.shape)\n",
    "print(data_op.shape)"
   ]
  },
  {
   "cell_type": "code",
   "execution_count": 110,
   "id": "75993de8-de0c-4458-8a5e-314dd66b2f81",
   "metadata": {},
   "outputs": [
    {
     "data": {
      "text/html": [
       "<div>\n",
       "<style scoped>\n",
       "    .dataframe tbody tr th:only-of-type {\n",
       "        vertical-align: middle;\n",
       "    }\n",
       "\n",
       "    .dataframe tbody tr th {\n",
       "        vertical-align: top;\n",
       "    }\n",
       "\n",
       "    .dataframe thead th {\n",
       "        text-align: right;\n",
       "    }\n",
       "</style>\n",
       "<table border=\"1\" class=\"dataframe\">\n",
       "  <thead>\n",
       "    <tr style=\"text-align: right;\">\n",
       "      <th></th>\n",
       "      <th>lat</th>\n",
       "      <th>lon</th>\n",
       "      <th>minutes_remaining</th>\n",
       "      <th>period</th>\n",
       "      <th>playoffs</th>\n",
       "      <th>shot_distance</th>\n",
       "      <th>shot_made_flag</th>\n",
       "    </tr>\n",
       "  </thead>\n",
       "  <tbody>\n",
       "    <tr>\n",
       "      <th>1</th>\n",
       "      <td>34.0443</td>\n",
       "      <td>-118.4268</td>\n",
       "      <td>10</td>\n",
       "      <td>1</td>\n",
       "      <td>0</td>\n",
       "      <td>15</td>\n",
       "      <td>0.0</td>\n",
       "    </tr>\n",
       "    <tr>\n",
       "      <th>2</th>\n",
       "      <td>33.9093</td>\n",
       "      <td>-118.3708</td>\n",
       "      <td>7</td>\n",
       "      <td>1</td>\n",
       "      <td>0</td>\n",
       "      <td>16</td>\n",
       "      <td>1.0</td>\n",
       "    </tr>\n",
       "    <tr>\n",
       "      <th>3</th>\n",
       "      <td>33.8693</td>\n",
       "      <td>-118.1318</td>\n",
       "      <td>6</td>\n",
       "      <td>1</td>\n",
       "      <td>0</td>\n",
       "      <td>22</td>\n",
       "      <td>0.0</td>\n",
       "    </tr>\n",
       "    <tr>\n",
       "      <th>4</th>\n",
       "      <td>34.0443</td>\n",
       "      <td>-118.2698</td>\n",
       "      <td>6</td>\n",
       "      <td>2</td>\n",
       "      <td>0</td>\n",
       "      <td>0</td>\n",
       "      <td>1.0</td>\n",
       "    </tr>\n",
       "    <tr>\n",
       "      <th>5</th>\n",
       "      <td>34.0553</td>\n",
       "      <td>-118.4148</td>\n",
       "      <td>9</td>\n",
       "      <td>3</td>\n",
       "      <td>0</td>\n",
       "      <td>14</td>\n",
       "      <td>0.0</td>\n",
       "    </tr>\n",
       "  </tbody>\n",
       "</table>\n",
       "</div>"
      ],
      "text/plain": [
       "       lat       lon  minutes_remaining  period  playoffs  shot_distance  \\\n",
       "1  34.0443 -118.4268                 10       1         0             15   \n",
       "2  33.9093 -118.3708                  7       1         0             16   \n",
       "3  33.8693 -118.1318                  6       1         0             22   \n",
       "4  34.0443 -118.2698                  6       2         0              0   \n",
       "5  34.0553 -118.4148                  9       3         0             14   \n",
       "\n",
       "   shot_made_flag  \n",
       "1             0.0  \n",
       "2             1.0  \n",
       "3             0.0  \n",
       "4             1.0  \n",
       "5             0.0  "
      ]
     },
     "execution_count": 110,
     "metadata": {},
     "output_type": "execute_result"
    }
   ],
   "source": [
    "data.head()"
   ]
  },
  {
   "cell_type": "code",
   "execution_count": 112,
   "id": "3031f822-8eb7-4f14-8198-3825e7bde1e0",
   "metadata": {
    "tags": []
   },
   "outputs": [
    {
     "data": {
      "text/html": [
       "<style type=\"text/css\">\n",
       "#T_34e61_ th {\n",
       "  text-align: left;\n",
       "}\n",
       "#T_34e61_row0_col0, #T_34e61_row0_col3, #T_34e61_row0_col5, #T_34e61_row1_col0, #T_34e61_row1_col1, #T_34e61_row1_col2, #T_34e61_row1_col4, #T_34e61_row1_col6, #T_34e61_row1_col7 {\n",
       "  text-align: left;\n",
       "}\n",
       "#T_34e61_row0_col1, #T_34e61_row0_col2, #T_34e61_row0_col4, #T_34e61_row0_col6, #T_34e61_row0_col7, #T_34e61_row1_col3, #T_34e61_row1_col5 {\n",
       "  text-align: left;\n",
       "  background-color: yellow;\n",
       "}\n",
       "#T_34e61_row0_col8 {\n",
       "  text-align: left;\n",
       "  background-color: lightgrey;\n",
       "}\n",
       "#T_34e61_row1_col8 {\n",
       "  text-align: left;\n",
       "  background-color: yellow;\n",
       "  background-color: lightgrey;\n",
       "}\n",
       "</style>\n",
       "<table id=\"T_34e61_\">\n",
       "  <thead>\n",
       "    <tr>\n",
       "      <th class=\"blank level0\" >&nbsp;</th>\n",
       "      <th class=\"col_heading level0 col0\" >Model</th>\n",
       "      <th class=\"col_heading level0 col1\" >Accuracy</th>\n",
       "      <th class=\"col_heading level0 col2\" >AUC</th>\n",
       "      <th class=\"col_heading level0 col3\" >Recall</th>\n",
       "      <th class=\"col_heading level0 col4\" >Prec.</th>\n",
       "      <th class=\"col_heading level0 col5\" >F1</th>\n",
       "      <th class=\"col_heading level0 col6\" >Kappa</th>\n",
       "      <th class=\"col_heading level0 col7\" >MCC</th>\n",
       "      <th class=\"col_heading level0 col8\" >TT (Sec)</th>\n",
       "    </tr>\n",
       "  </thead>\n",
       "  <tbody>\n",
       "    <tr>\n",
       "      <th id=\"T_34e61_level0_row0\" class=\"row_heading level0 row0\" >lr</th>\n",
       "      <td id=\"T_34e61_row0_col0\" class=\"data row0 col0\" >Logistic Regression</td>\n",
       "      <td id=\"T_34e61_row0_col1\" class=\"data row0 col1\" >0.5762</td>\n",
       "      <td id=\"T_34e61_row0_col2\" class=\"data row0 col2\" >0.5964</td>\n",
       "      <td id=\"T_34e61_row0_col3\" class=\"data row0 col3\" >0.4890</td>\n",
       "      <td id=\"T_34e61_row0_col4\" class=\"data row0 col4\" >0.5666</td>\n",
       "      <td id=\"T_34e61_row0_col5\" class=\"data row0 col5\" >0.5249</td>\n",
       "      <td id=\"T_34e61_row0_col6\" class=\"data row0 col6\" >0.1462</td>\n",
       "      <td id=\"T_34e61_row0_col7\" class=\"data row0 col7\" >0.1475</td>\n",
       "      <td id=\"T_34e61_row0_col8\" class=\"data row0 col8\" >0.1040</td>\n",
       "    </tr>\n",
       "    <tr>\n",
       "      <th id=\"T_34e61_level0_row1\" class=\"row_heading level0 row1\" >dt</th>\n",
       "      <td id=\"T_34e61_row1_col0\" class=\"data row1 col0\" >Decision Tree Classifier</td>\n",
       "      <td id=\"T_34e61_row1_col1\" class=\"data row1 col1\" >0.5363</td>\n",
       "      <td id=\"T_34e61_row1_col2\" class=\"data row1 col2\" >0.5176</td>\n",
       "      <td id=\"T_34e61_row1_col3\" class=\"data row1 col3\" >0.5804</td>\n",
       "      <td id=\"T_34e61_row1_col4\" class=\"data row1 col4\" >0.5139</td>\n",
       "      <td id=\"T_34e61_row1_col5\" class=\"data row1 col5\" >0.5451</td>\n",
       "      <td id=\"T_34e61_row1_col6\" class=\"data row1 col6\" >0.0758</td>\n",
       "      <td id=\"T_34e61_row1_col7\" class=\"data row1 col7\" >0.0764</td>\n",
       "      <td id=\"T_34e61_row1_col8\" class=\"data row1 col8\" >0.0730</td>\n",
       "    </tr>\n",
       "  </tbody>\n",
       "</table>\n"
      ],
      "text/plain": [
       "<pandas.io.formats.style.Styler at 0x272c131ff08>"
      ]
     },
     "metadata": {},
     "output_type": "display_data"
    }
   ],
   "source": [
    "experiment= pc.setup(data,\n",
    "                     train_size = 0.80,\n",
    "                     target = target,\n",
    "                     silent=True,\n",
    "                     normalize=True,\n",
    "                     \n",
    "                     verbose=0,\n",
    "#                      numeric_features = ml_features\n",
    "                    )\n",
    "# O PyCaret treina os modelos com hiperparametros defaults, sem ajuste fino.\n",
    "model = pc.compare_models(include=['lr','dt'])"
   ]
  },
  {
   "cell_type": "code",
   "execution_count": 113,
   "id": "605671b2-addd-45f3-b9eb-1d0795f057da",
   "metadata": {},
   "outputs": [
    {
     "data": {
      "application/vnd.jupyter.widget-view+json": {
       "model_id": "44679444f8e84304a68beea583332239",
       "version_major": 2,
       "version_minor": 0
      },
      "text/plain": [
       "interactive(children=(ToggleButtons(description='Plot Type:', icons=('',), options=(('Hyperparameters', 'param…"
      ]
     },
     "metadata": {},
     "output_type": "display_data"
    }
   ],
   "source": [
    "pc.evaluate_model(model)"
   ]
  },
  {
   "cell_type": "code",
   "execution_count": 114,
   "id": "03c9a66e-4201-4003-bfe6-5f13dec4d267",
   "metadata": {},
   "outputs": [
    {
     "name": "stdout",
     "output_type": "stream",
     "text": [
      "              precision    recall  f1-score   support\n",
      "\n",
      "         0.0       0.67      1.00      0.80      3630\n",
      "         1.0       0.00      0.00      0.00      1782\n",
      "\n",
      "    accuracy                           0.67      5412\n",
      "   macro avg       0.34      0.50      0.40      5412\n",
      "weighted avg       0.45      0.67      0.54      5412\n",
      "\n"
     ]
    }
   ],
   "source": [
    "from sklearn import metrics\n",
    "\n",
    "prediction_op = pc.predict_model(model, data_op)\n",
    "\n",
    "print(metrics.classification_report(prediction_op[target], prediction_op.Label.astype(float)))"
   ]
  },
  {
   "cell_type": "code",
   "execution_count": null,
   "id": "a84cd275-d8f1-4d58-b719-c3996324f85d",
   "metadata": {},
   "outputs": [],
   "source": []
  },
  {
   "cell_type": "code",
   "execution_count": null,
   "id": "17e85c3e-4455-4aa0-b6aa-5bd5a29467d3",
   "metadata": {},
   "outputs": [],
   "source": []
  }
 ],
 "metadata": {
  "kernelspec": {
   "display_name": "Python 3",
   "language": "python",
   "name": "python3"
  },
  "language_info": {
   "codemirror_mode": {
    "name": "ipython",
    "version": 3
   },
   "file_extension": ".py",
   "mimetype": "text/x-python",
   "name": "python",
   "nbconvert_exporter": "python",
   "pygments_lexer": "ipython3",
   "version": "3.7.10"
  }
 },
 "nbformat": 4,
 "nbformat_minor": 5
}
