{
 "cells": [
  {
   "cell_type": "markdown",
   "id": "ca053956-cfe7-4ecf-bb27-3ffdbd48429d",
   "metadata": {},
   "source": [
    "# Bibliotecas "
   ]
  },
  {
   "cell_type": "code",
   "execution_count": 1,
   "id": "a6a6125c-351b-4fed-8b3f-b433115a217a",
   "metadata": {},
   "outputs": [],
   "source": [
    "import pandas\n",
    "import numpy as np\n",
    "import sklearn.linear_model as lm\n",
    "from sklearn import preprocessing, model_selection, metrics\n",
    "import matplotlib.pyplot as plt\n",
    "\n",
    "from ipywidgets import interact, interactive, fixed\n",
    "import ipywidgets as widgets\n"
   ]
  },
  {
   "cell_type": "markdown",
   "id": "e0e609a6-f17c-406d-bcfe-24774e1d8d56",
   "metadata": {
    "tags": []
   },
   "source": [
    "# Vinhos "
   ]
  },
  {
   "cell_type": "code",
   "execution_count": 2,
   "id": "e8b8b9d5-d200-45e9-9733-9de7cee48f52",
   "metadata": {},
   "outputs": [
    {
     "name": "stdout",
     "output_type": "stream",
     "text": [
      "(5320, 13)\n"
     ]
    },
    {
     "data": {
      "text/html": [
       "<div>\n",
       "<style scoped>\n",
       "    .dataframe tbody tr th:only-of-type {\n",
       "        vertical-align: middle;\n",
       "    }\n",
       "\n",
       "    .dataframe tbody tr th {\n",
       "        vertical-align: top;\n",
       "    }\n",
       "\n",
       "    .dataframe thead th {\n",
       "        text-align: right;\n",
       "    }\n",
       "</style>\n",
       "<table border=\"1\" class=\"dataframe\">\n",
       "  <thead>\n",
       "    <tr style=\"text-align: right;\">\n",
       "      <th></th>\n",
       "      <th>fixed acidity</th>\n",
       "      <th>volatile acidity</th>\n",
       "      <th>citric acid</th>\n",
       "      <th>residual sugar</th>\n",
       "      <th>chlorides</th>\n",
       "      <th>free sulfur dioxide</th>\n",
       "      <th>total sulfur dioxide</th>\n",
       "      <th>density</th>\n",
       "      <th>pH</th>\n",
       "      <th>sulphates</th>\n",
       "      <th>alcohol</th>\n",
       "      <th>target</th>\n",
       "      <th>type</th>\n",
       "    </tr>\n",
       "  </thead>\n",
       "  <tbody>\n",
       "    <tr>\n",
       "      <th>0</th>\n",
       "      <td>7.4</td>\n",
       "      <td>0.70</td>\n",
       "      <td>0.00</td>\n",
       "      <td>1.9</td>\n",
       "      <td>0.076</td>\n",
       "      <td>11.0</td>\n",
       "      <td>34.0</td>\n",
       "      <td>0.9978</td>\n",
       "      <td>3.51</td>\n",
       "      <td>0.56</td>\n",
       "      <td>9.4</td>\n",
       "      <td>0</td>\n",
       "      <td>red</td>\n",
       "    </tr>\n",
       "    <tr>\n",
       "      <th>1</th>\n",
       "      <td>7.8</td>\n",
       "      <td>0.88</td>\n",
       "      <td>0.00</td>\n",
       "      <td>2.6</td>\n",
       "      <td>0.098</td>\n",
       "      <td>25.0</td>\n",
       "      <td>67.0</td>\n",
       "      <td>0.9968</td>\n",
       "      <td>3.20</td>\n",
       "      <td>0.68</td>\n",
       "      <td>9.8</td>\n",
       "      <td>0</td>\n",
       "      <td>red</td>\n",
       "    </tr>\n",
       "    <tr>\n",
       "      <th>2</th>\n",
       "      <td>7.8</td>\n",
       "      <td>0.76</td>\n",
       "      <td>0.04</td>\n",
       "      <td>2.3</td>\n",
       "      <td>0.092</td>\n",
       "      <td>15.0</td>\n",
       "      <td>54.0</td>\n",
       "      <td>0.9970</td>\n",
       "      <td>3.26</td>\n",
       "      <td>0.65</td>\n",
       "      <td>9.8</td>\n",
       "      <td>0</td>\n",
       "      <td>red</td>\n",
       "    </tr>\n",
       "    <tr>\n",
       "      <th>3</th>\n",
       "      <td>11.2</td>\n",
       "      <td>0.28</td>\n",
       "      <td>0.56</td>\n",
       "      <td>1.9</td>\n",
       "      <td>0.075</td>\n",
       "      <td>17.0</td>\n",
       "      <td>60.0</td>\n",
       "      <td>0.9980</td>\n",
       "      <td>3.16</td>\n",
       "      <td>0.58</td>\n",
       "      <td>9.8</td>\n",
       "      <td>1</td>\n",
       "      <td>red</td>\n",
       "    </tr>\n",
       "    <tr>\n",
       "      <th>4</th>\n",
       "      <td>7.4</td>\n",
       "      <td>0.66</td>\n",
       "      <td>0.00</td>\n",
       "      <td>1.8</td>\n",
       "      <td>0.075</td>\n",
       "      <td>13.0</td>\n",
       "      <td>40.0</td>\n",
       "      <td>0.9978</td>\n",
       "      <td>3.51</td>\n",
       "      <td>0.56</td>\n",
       "      <td>9.4</td>\n",
       "      <td>0</td>\n",
       "      <td>red</td>\n",
       "    </tr>\n",
       "  </tbody>\n",
       "</table>\n",
       "</div>"
      ],
      "text/plain": [
       "   fixed acidity  volatile acidity  citric acid  residual sugar  chlorides  \\\n",
       "0            7.4              0.70         0.00             1.9      0.076   \n",
       "1            7.8              0.88         0.00             2.6      0.098   \n",
       "2            7.8              0.76         0.04             2.3      0.092   \n",
       "3           11.2              0.28         0.56             1.9      0.075   \n",
       "4            7.4              0.66         0.00             1.8      0.075   \n",
       "\n",
       "   free sulfur dioxide  total sulfur dioxide  density    pH  sulphates  \\\n",
       "0                 11.0                  34.0   0.9978  3.51       0.56   \n",
       "1                 25.0                  67.0   0.9968  3.20       0.68   \n",
       "2                 15.0                  54.0   0.9970  3.26       0.65   \n",
       "3                 17.0                  60.0   0.9980  3.16       0.58   \n",
       "4                 13.0                  40.0   0.9978  3.51       0.56   \n",
       "\n",
       "   alcohol  target type  \n",
       "0      9.4       0  red  \n",
       "1      9.8       0  red  \n",
       "2      9.8       0  red  \n",
       "3      9.8       1  red  \n",
       "4      9.4       0  red  "
      ]
     },
     "execution_count": 2,
     "metadata": {},
     "output_type": "execute_result"
    }
   ],
   "source": [
    "df_wine = pandas.read_csv('../Data/dataset_vinhos.csv',sep=';')\n",
    "\n",
    "drop_cols = ['target_label']\n",
    "df_wine.drop(drop_cols, axis=1, inplace=True)\n",
    "\n",
    "print(df_wine.shape)\n",
    "\n",
    "target_col = 'target'\n",
    "\n",
    "df_wine.head()"
   ]
  },
  {
   "cell_type": "markdown",
   "id": "b82a9ba8-157a-477b-956a-d912e879869a",
   "metadata": {},
   "source": [
    "## Variáveis Categóricas "
   ]
  },
  {
   "cell_type": "code",
   "execution_count": 3,
   "id": "385ecf1e-24bd-45c2-8224-e351c2ae84b8",
   "metadata": {},
   "outputs": [
    {
     "data": {
      "text/html": [
       "<div>\n",
       "<style scoped>\n",
       "    .dataframe tbody tr th:only-of-type {\n",
       "        vertical-align: middle;\n",
       "    }\n",
       "\n",
       "    .dataframe tbody tr th {\n",
       "        vertical-align: top;\n",
       "    }\n",
       "\n",
       "    .dataframe thead th {\n",
       "        text-align: right;\n",
       "    }\n",
       "</style>\n",
       "<table border=\"1\" class=\"dataframe\">\n",
       "  <thead>\n",
       "    <tr style=\"text-align: right;\">\n",
       "      <th></th>\n",
       "      <th>fixed acidity</th>\n",
       "      <th>volatile acidity</th>\n",
       "      <th>citric acid</th>\n",
       "      <th>residual sugar</th>\n",
       "      <th>chlorides</th>\n",
       "      <th>free sulfur dioxide</th>\n",
       "      <th>total sulfur dioxide</th>\n",
       "      <th>density</th>\n",
       "      <th>pH</th>\n",
       "      <th>sulphates</th>\n",
       "      <th>alcohol</th>\n",
       "      <th>target</th>\n",
       "      <th>type_red</th>\n",
       "      <th>type_white</th>\n",
       "    </tr>\n",
       "  </thead>\n",
       "  <tbody>\n",
       "    <tr>\n",
       "      <th>0</th>\n",
       "      <td>7.4</td>\n",
       "      <td>0.70</td>\n",
       "      <td>0.00</td>\n",
       "      <td>1.9</td>\n",
       "      <td>0.076</td>\n",
       "      <td>11.0</td>\n",
       "      <td>34.0</td>\n",
       "      <td>0.9978</td>\n",
       "      <td>3.51</td>\n",
       "      <td>0.56</td>\n",
       "      <td>9.4</td>\n",
       "      <td>0</td>\n",
       "      <td>1.0</td>\n",
       "      <td>0.0</td>\n",
       "    </tr>\n",
       "    <tr>\n",
       "      <th>1</th>\n",
       "      <td>7.8</td>\n",
       "      <td>0.88</td>\n",
       "      <td>0.00</td>\n",
       "      <td>2.6</td>\n",
       "      <td>0.098</td>\n",
       "      <td>25.0</td>\n",
       "      <td>67.0</td>\n",
       "      <td>0.9968</td>\n",
       "      <td>3.20</td>\n",
       "      <td>0.68</td>\n",
       "      <td>9.8</td>\n",
       "      <td>0</td>\n",
       "      <td>1.0</td>\n",
       "      <td>0.0</td>\n",
       "    </tr>\n",
       "    <tr>\n",
       "      <th>2</th>\n",
       "      <td>7.8</td>\n",
       "      <td>0.76</td>\n",
       "      <td>0.04</td>\n",
       "      <td>2.3</td>\n",
       "      <td>0.092</td>\n",
       "      <td>15.0</td>\n",
       "      <td>54.0</td>\n",
       "      <td>0.9970</td>\n",
       "      <td>3.26</td>\n",
       "      <td>0.65</td>\n",
       "      <td>9.8</td>\n",
       "      <td>0</td>\n",
       "      <td>1.0</td>\n",
       "      <td>0.0</td>\n",
       "    </tr>\n",
       "    <tr>\n",
       "      <th>3</th>\n",
       "      <td>11.2</td>\n",
       "      <td>0.28</td>\n",
       "      <td>0.56</td>\n",
       "      <td>1.9</td>\n",
       "      <td>0.075</td>\n",
       "      <td>17.0</td>\n",
       "      <td>60.0</td>\n",
       "      <td>0.9980</td>\n",
       "      <td>3.16</td>\n",
       "      <td>0.58</td>\n",
       "      <td>9.8</td>\n",
       "      <td>1</td>\n",
       "      <td>1.0</td>\n",
       "      <td>0.0</td>\n",
       "    </tr>\n",
       "    <tr>\n",
       "      <th>4</th>\n",
       "      <td>7.4</td>\n",
       "      <td>0.66</td>\n",
       "      <td>0.00</td>\n",
       "      <td>1.8</td>\n",
       "      <td>0.075</td>\n",
       "      <td>13.0</td>\n",
       "      <td>40.0</td>\n",
       "      <td>0.9978</td>\n",
       "      <td>3.51</td>\n",
       "      <td>0.56</td>\n",
       "      <td>9.4</td>\n",
       "      <td>0</td>\n",
       "      <td>1.0</td>\n",
       "      <td>0.0</td>\n",
       "    </tr>\n",
       "  </tbody>\n",
       "</table>\n",
       "</div>"
      ],
      "text/plain": [
       "   fixed acidity  volatile acidity  citric acid  residual sugar  chlorides  \\\n",
       "0            7.4              0.70         0.00             1.9      0.076   \n",
       "1            7.8              0.88         0.00             2.6      0.098   \n",
       "2            7.8              0.76         0.04             2.3      0.092   \n",
       "3           11.2              0.28         0.56             1.9      0.075   \n",
       "4            7.4              0.66         0.00             1.8      0.075   \n",
       "\n",
       "   free sulfur dioxide  total sulfur dioxide  density    pH  sulphates  \\\n",
       "0                 11.0                  34.0   0.9978  3.51       0.56   \n",
       "1                 25.0                  67.0   0.9968  3.20       0.68   \n",
       "2                 15.0                  54.0   0.9970  3.26       0.65   \n",
       "3                 17.0                  60.0   0.9980  3.16       0.58   \n",
       "4                 13.0                  40.0   0.9978  3.51       0.56   \n",
       "\n",
       "   alcohol  target  type_red  type_white  \n",
       "0      9.4       0       1.0         0.0  \n",
       "1      9.8       0       1.0         0.0  \n",
       "2      9.8       0       1.0         0.0  \n",
       "3      9.8       1       1.0         0.0  \n",
       "4      9.4       0       1.0         0.0  "
      ]
     },
     "execution_count": 3,
     "metadata": {},
     "output_type": "execute_result"
    }
   ],
   "source": [
    "categorical_cols = ['type']\n",
    "encoder_map = {}\n",
    "\n",
    "for cname in categorical_cols:\n",
    "    encoder = preprocessing.OneHotEncoder(sparse=False)\n",
    "    transformed = encoder.fit_transform(df_wine[[cname]])\n",
    "    ohe_df = pandas.DataFrame(transformed, columns=[cname+'_'+cat for cat in encoder.categories_[0]])\n",
    "    encoder_map[cname] = encoder\n",
    "    \n",
    "    df_wine = pandas.concat([df_wine, ohe_df], axis=1).drop(cname, axis=1)\n",
    "df_wine.head()"
   ]
  },
  {
   "cell_type": "markdown",
   "id": "ce5d41cf-b36e-4ecf-8be5-9f65a798f3b6",
   "metadata": {},
   "source": [
    "## Treinamento do modelo "
   ]
  },
  {
   "cell_type": "code",
   "execution_count": 4,
   "id": "3c82f5d1-7488-4269-ba8f-fd4fd67d7103",
   "metadata": {},
   "outputs": [
    {
     "name": "stderr",
     "output_type": "stream",
     "text": [
      "C:\\Users\\BZ241WX\\AppData\\Local\\Continuum\\anaconda3\\envs\\infnet\\lib\\site-packages\\sklearn\\linear_model\\_sag.py:329: ConvergenceWarning: The max_iter was reached which means the coef_ did not converge\n",
      "  \"the coef_ did not converge\", ConvergenceWarning)\n"
     ]
    }
   ],
   "source": [
    "model_map = {\n",
    "    'log_l1': lm.LogisticRegression(penalty='l1', solver='liblinear'),\n",
    "    'log_l2': lm.LogisticRegression(penalty='l2', solver='liblinear'),\n",
    "    'log_el': lm.LogisticRegression(penalty='elasticnet',l1_ratio= 0.4, solver='saga'),\n",
    "}\n",
    "\n",
    "# solver : 'newton-cg', 'lbfgs', 'liblinear', 'sag', 'saga'\n",
    "\n",
    "Y = df_wine[target_col]\n",
    "X = df_wine.drop(target_col, axis=1)\n",
    "\n",
    "# train/test\n",
    "xtrain, xtest, ytrain, ytest = model_selection.train_test_split(X, Y, test_size=0.2)\n",
    "\n",
    "df_train = xtrain.copy()\n",
    "df_test = xtest.copy()\n",
    "df_train['train_set'] = 1\n",
    "df_test['train_set'] = 0\n",
    "df_train[target_col] = ytrain\n",
    "df_test[target_col] = ytest\n",
    "\n",
    "for modelname, model in model_map.items():\n",
    "    model.fit(xtrain, ytrain)      \n",
    "    yhat_train = model.predict(xtrain)\n",
    "    yhat_test  = model.predict(xtest)\n",
    "    # Output table\n",
    "    df_train[modelname] = yhat_train\n",
    "    df_test[modelname] = yhat_test\n",
    "    model_map[modelname] = model\n",
    "    \n",
    "df_wine = pandas.concat((df_train, df_test), axis=0)"
   ]
  },
  {
   "cell_type": "markdown",
   "id": "3580fe6c-6efc-4100-84f5-22f2d1952a32",
   "metadata": {
    "tags": []
   },
   "source": [
    "## Resultados "
   ]
  },
  {
   "cell_type": "code",
   "execution_count": 8,
   "id": "93697183-31f5-4bd8-8a76-b994ecd9a41d",
   "metadata": {},
   "outputs": [
    {
     "name": "stdout",
     "output_type": "stream",
     "text": [
      "log_l1\t 0.7443609022556391\n",
      "log_l2\t 0.7471804511278195\n",
      "log_el\t 0.6400375939849624\n",
      "Total Real Alta Qualidade: 662\n"
     ]
    },
    {
     "data": {
      "text/html": [
       "<div>\n",
       "<style scoped>\n",
       "    .dataframe tbody tr th:only-of-type {\n",
       "        vertical-align: middle;\n",
       "    }\n",
       "\n",
       "    .dataframe tbody tr th {\n",
       "        vertical-align: top;\n",
       "    }\n",
       "\n",
       "    .dataframe thead th {\n",
       "        text-align: right;\n",
       "    }\n",
       "</style>\n",
       "<table border=\"1\" class=\"dataframe\">\n",
       "  <thead>\n",
       "    <tr style=\"text-align: right;\">\n",
       "      <th></th>\n",
       "      <th>log_l1</th>\n",
       "      <th>log_l2</th>\n",
       "      <th>log_el</th>\n",
       "    </tr>\n",
       "    <tr>\n",
       "      <th>target</th>\n",
       "      <th></th>\n",
       "      <th></th>\n",
       "      <th></th>\n",
       "    </tr>\n",
       "  </thead>\n",
       "  <tbody>\n",
       "    <tr>\n",
       "      <th>0</th>\n",
       "      <td>158</td>\n",
       "      <td>157</td>\n",
       "      <td>320</td>\n",
       "    </tr>\n",
       "    <tr>\n",
       "      <th>1</th>\n",
       "      <td>548</td>\n",
       "      <td>550</td>\n",
       "      <td>599</td>\n",
       "    </tr>\n",
       "  </tbody>\n",
       "</table>\n",
       "</div>"
      ],
      "text/plain": [
       "        log_l1  log_l2  log_el\n",
       "target                        \n",
       "0          158     157     320\n",
       "1          548     550     599"
      ]
     },
     "execution_count": 8,
     "metadata": {},
     "output_type": "execute_result"
    }
   ],
   "source": [
    "idx = df_wine['train_set'] == 0\n",
    "\n",
    "print('log_l1\\t', metrics.accuracy_score(df_wine[idx][target_col], df_wine[idx]['log_l1']>0.5))\n",
    "print('log_l2\\t', metrics.accuracy_score(df_wine[idx][target_col], df_wine[idx]['log_l2']>0.5))\n",
    "print('log_el\\t', metrics.accuracy_score(df_wine[idx][target_col], df_wine[idx]['log_el']>0.5))\n",
    "print('Total Real Alta Qualidade:', df_wine[idx][target_col].sum())\n",
    "df_wine[idx].groupby(target_col)[list(model_map.keys())].sum()\n"
   ]
  },
  {
   "cell_type": "markdown",
   "id": "978c1a07-e9b1-41ac-83d0-8412c66adf30",
   "metadata": {},
   "source": [
    "## Coeficientes do Modelo"
   ]
  },
  {
   "cell_type": "code",
   "execution_count": 9,
   "id": "353f6229-73f8-4b46-be6c-59fd3264e8d1",
   "metadata": {},
   "outputs": [
    {
     "data": {
      "application/vnd.jupyter.widget-view+json": {
       "model_id": "7c58dffa9f064d04ad5362886f51cae4",
       "version_major": 2,
       "version_minor": 0
      },
      "text/plain": [
       "interactive(children=(Dropdown(description='modelname', options=('log_l1', 'log_l2', 'log_el'), value='log_l1'…"
      ]
     },
     "metadata": {},
     "output_type": "display_data"
    },
    {
     "data": {
      "text/plain": [
       "<function __main__.plot_coefs(modelname, class_label)>"
      ]
     },
     "execution_count": 9,
     "metadata": {},
     "output_type": "execute_result"
    }
   ],
   "source": [
    "def plot_coefs(modelname, class_label):\n",
    "    fig = plt.figure(figsize=(15,4))\n",
    "    \n",
    "    iclass = 0\n",
    "    if class_label != '':\n",
    "        idx  = target_label_map.target_label==class_label\n",
    "        iclass = target_label_map.loc[idx, 'target'].values[0]\n",
    "    \n",
    "    coefs = model_map[modelname].coef_[iclass]\n",
    "    coef_names = xtrain.columns\n",
    "\n",
    "    idx = np.argsort(coefs)\n",
    "\n",
    "    plt.bar(np.arange(coefs.shape[0]), coefs[idx])\n",
    "    plt.xticks(np.arange(coefs.shape[0]), coef_names[idx], rotation='90')\n",
    "    plt.title('Coeficientes do modelo '+ modelname + ' ' + class_label)\n",
    "    plt.grid()\n",
    "    plt.xlim((-0.5, coefs.shape[0]-0.5))\n",
    "    plt.show()\n",
    "\n",
    "\n",
    "interact(plot_coefs, modelname = list(model_map.keys()), class_label = fixed(''))"
   ]
  },
  {
   "cell_type": "markdown",
   "id": "14a5f4fe-e6fd-4942-8d51-02bc2fd70490",
   "metadata": {},
   "source": [
    "# IRIS "
   ]
  },
  {
   "cell_type": "code",
   "execution_count": 10,
   "id": "afbba090-c4a5-46bf-aed4-107708240673",
   "metadata": {},
   "outputs": [
    {
     "name": "stdout",
     "output_type": "stream",
     "text": [
      "(150, 5)\n"
     ]
    },
    {
     "data": {
      "text/html": [
       "<div>\n",
       "<style scoped>\n",
       "    .dataframe tbody tr th:only-of-type {\n",
       "        vertical-align: middle;\n",
       "    }\n",
       "\n",
       "    .dataframe tbody tr th {\n",
       "        vertical-align: top;\n",
       "    }\n",
       "\n",
       "    .dataframe thead th {\n",
       "        text-align: right;\n",
       "    }\n",
       "</style>\n",
       "<table border=\"1\" class=\"dataframe\">\n",
       "  <thead>\n",
       "    <tr style=\"text-align: right;\">\n",
       "      <th></th>\n",
       "      <th>sepal length (cm)</th>\n",
       "      <th>sepal width (cm)</th>\n",
       "      <th>petal length (cm)</th>\n",
       "      <th>petal width (cm)</th>\n",
       "      <th>target</th>\n",
       "    </tr>\n",
       "  </thead>\n",
       "  <tbody>\n",
       "    <tr>\n",
       "      <th>0</th>\n",
       "      <td>5.1</td>\n",
       "      <td>3.5</td>\n",
       "      <td>1.4</td>\n",
       "      <td>0.2</td>\n",
       "      <td>0</td>\n",
       "    </tr>\n",
       "    <tr>\n",
       "      <th>1</th>\n",
       "      <td>4.9</td>\n",
       "      <td>3.0</td>\n",
       "      <td>1.4</td>\n",
       "      <td>0.2</td>\n",
       "      <td>0</td>\n",
       "    </tr>\n",
       "    <tr>\n",
       "      <th>2</th>\n",
       "      <td>4.7</td>\n",
       "      <td>3.2</td>\n",
       "      <td>1.3</td>\n",
       "      <td>0.2</td>\n",
       "      <td>0</td>\n",
       "    </tr>\n",
       "    <tr>\n",
       "      <th>3</th>\n",
       "      <td>4.6</td>\n",
       "      <td>3.1</td>\n",
       "      <td>1.5</td>\n",
       "      <td>0.2</td>\n",
       "      <td>0</td>\n",
       "    </tr>\n",
       "    <tr>\n",
       "      <th>4</th>\n",
       "      <td>5.0</td>\n",
       "      <td>3.6</td>\n",
       "      <td>1.4</td>\n",
       "      <td>0.2</td>\n",
       "      <td>0</td>\n",
       "    </tr>\n",
       "  </tbody>\n",
       "</table>\n",
       "</div>"
      ],
      "text/plain": [
       "   sepal length (cm)  sepal width (cm)  petal length (cm)  petal width (cm)  \\\n",
       "0                5.1               3.5                1.4               0.2   \n",
       "1                4.9               3.0                1.4               0.2   \n",
       "2                4.7               3.2                1.3               0.2   \n",
       "3                4.6               3.1                1.5               0.2   \n",
       "4                5.0               3.6                1.4               0.2   \n",
       "\n",
       "   target  \n",
       "0       0  \n",
       "1       0  \n",
       "2       0  \n",
       "3       0  \n",
       "4       0  "
      ]
     },
     "execution_count": 10,
     "metadata": {},
     "output_type": "execute_result"
    }
   ],
   "source": [
    "df_iris = pandas.read_csv('../Data/dataset_iris.csv',sep=';')\n",
    "\n",
    "target_label_map = df_iris[['target', 'target_label']].drop_duplicates()\n",
    "\n",
    "drop_cols = ['target_label']\n",
    "df_iris.drop(drop_cols, axis=1, inplace=True)\n",
    "\n",
    "print(df_iris.shape)\n",
    "\n",
    "target_col = 'target'\n",
    "\n",
    "\n",
    "df_iris.head()"
   ]
  },
  {
   "cell_type": "markdown",
   "id": "46076d84-5274-4ffb-b4e3-e513f51d7196",
   "metadata": {},
   "source": [
    "## Treinamento do Modelo "
   ]
  },
  {
   "cell_type": "code",
   "execution_count": 11,
   "id": "599995af-3e0b-42d5-bb16-7d498810deb4",
   "metadata": {},
   "outputs": [
    {
     "name": "stderr",
     "output_type": "stream",
     "text": [
      "C:\\Users\\BZ241WX\\AppData\\Local\\Continuum\\anaconda3\\envs\\infnet\\lib\\site-packages\\sklearn\\linear_model\\_sag.py:329: ConvergenceWarning: The max_iter was reached which means the coef_ did not converge\n",
      "  \"the coef_ did not converge\", ConvergenceWarning)\n"
     ]
    }
   ],
   "source": [
    "model_map = {\n",
    "    'log_l1': lm.LogisticRegression(penalty='l1', solver='liblinear'),\n",
    "    'log_l2': lm.LogisticRegression(penalty='l2', solver='liblinear'),\n",
    "    'log_el': lm.LogisticRegression(penalty='elasticnet',l1_ratio= 0.4, solver='saga'),\n",
    "}\n",
    "\n",
    "# solver : {'newton-cg', 'lbfgs', 'liblinear', 'sag', 'saga'\n",
    "\n",
    "Y = df_iris[target_col]\n",
    "X = df_iris.drop(target_col, axis=1)\n",
    "\n",
    "# train/test\n",
    "xtrain, xtest, ytrain, ytest = model_selection.train_test_split(X, Y, test_size=0.4)\n",
    "\n",
    "df_train = xtrain.copy()\n",
    "df_test = xtest.copy()\n",
    "df_train['train_set'] = 1\n",
    "df_test['train_set'] = 0\n",
    "df_train[target_col] = ytrain\n",
    "df_test[target_col] = ytest\n",
    "\n",
    "for modelname, model in model_map.items():\n",
    "    model.fit(xtrain, ytrain)      \n",
    "    yhat_train = model.predict(xtrain)\n",
    "    yhat_test  = model.predict(xtest)\n",
    "    # Output table\n",
    "    df_train[modelname] = yhat_train\n",
    "    df_test[modelname] = yhat_test\n",
    "    model_map[modelname] = model\n",
    "    \n",
    "df_iris = pandas.concat((df_train, df_test), axis=0)"
   ]
  },
  {
   "cell_type": "markdown",
   "id": "b830480e-0436-4465-8c02-fbb0c1578792",
   "metadata": {},
   "source": [
    "## Resultados "
   ]
  },
  {
   "cell_type": "code",
   "execution_count": 12,
   "id": "9afcbf0c-5b66-498c-bc3e-e0b752fc3c18",
   "metadata": {},
   "outputs": [
    {
     "name": "stdout",
     "output_type": "stream",
     "text": [
      "log_l1\t 0.9333333333333333\n",
      "log_l2\t 0.9333333333333333\n",
      "log_el\t 0.95\n"
     ]
    },
    {
     "data": {
      "text/html": [
       "<div>\n",
       "<style scoped>\n",
       "    .dataframe tbody tr th:only-of-type {\n",
       "        vertical-align: middle;\n",
       "    }\n",
       "\n",
       "    .dataframe tbody tr th {\n",
       "        vertical-align: top;\n",
       "    }\n",
       "\n",
       "    .dataframe thead th {\n",
       "        text-align: right;\n",
       "    }\n",
       "</style>\n",
       "<table border=\"1\" class=\"dataframe\">\n",
       "  <thead>\n",
       "    <tr style=\"text-align: right;\">\n",
       "      <th>target_label</th>\n",
       "      <th>setosa</th>\n",
       "      <th>versicolor</th>\n",
       "      <th>virginica</th>\n",
       "    </tr>\n",
       "    <tr>\n",
       "      <th>target_label</th>\n",
       "      <th></th>\n",
       "      <th></th>\n",
       "      <th></th>\n",
       "    </tr>\n",
       "  </thead>\n",
       "  <tbody>\n",
       "    <tr>\n",
       "      <th>log_l1setosa</th>\n",
       "      <td>26</td>\n",
       "      <td>0</td>\n",
       "      <td>0</td>\n",
       "    </tr>\n",
       "    <tr>\n",
       "      <th>log_l1versicolor</th>\n",
       "      <td>0</td>\n",
       "      <td>16</td>\n",
       "      <td>1</td>\n",
       "    </tr>\n",
       "    <tr>\n",
       "      <th>log_l1virginica</th>\n",
       "      <td>0</td>\n",
       "      <td>3</td>\n",
       "      <td>14</td>\n",
       "    </tr>\n",
       "    <tr>\n",
       "      <th>log_l2setosa</th>\n",
       "      <td>26</td>\n",
       "      <td>0</td>\n",
       "      <td>0</td>\n",
       "    </tr>\n",
       "    <tr>\n",
       "      <th>log_l2versicolor</th>\n",
       "      <td>0</td>\n",
       "      <td>16</td>\n",
       "      <td>1</td>\n",
       "    </tr>\n",
       "    <tr>\n",
       "      <th>log_l2virginica</th>\n",
       "      <td>0</td>\n",
       "      <td>3</td>\n",
       "      <td>14</td>\n",
       "    </tr>\n",
       "    <tr>\n",
       "      <th>log_elsetosa</th>\n",
       "      <td>26</td>\n",
       "      <td>0</td>\n",
       "      <td>0</td>\n",
       "    </tr>\n",
       "    <tr>\n",
       "      <th>log_elversicolor</th>\n",
       "      <td>0</td>\n",
       "      <td>16</td>\n",
       "      <td>0</td>\n",
       "    </tr>\n",
       "    <tr>\n",
       "      <th>log_elvirginica</th>\n",
       "      <td>0</td>\n",
       "      <td>3</td>\n",
       "      <td>15</td>\n",
       "    </tr>\n",
       "  </tbody>\n",
       "</table>\n",
       "</div>"
      ],
      "text/plain": [
       "target_label      setosa  versicolor  virginica\n",
       "target_label                                   \n",
       "log_l1setosa          26           0          0\n",
       "log_l1versicolor       0          16          1\n",
       "log_l1virginica        0           3         14\n",
       "log_l2setosa          26           0          0\n",
       "log_l2versicolor       0          16          1\n",
       "log_l2virginica        0           3         14\n",
       "log_elsetosa          26           0          0\n",
       "log_elversicolor       0          16          0\n",
       "log_elvirginica        0           3         15"
      ]
     },
     "execution_count": 12,
     "metadata": {},
     "output_type": "execute_result"
    }
   ],
   "source": [
    "idx = df_iris['train_set'] == 0\n",
    "print('log_l1\\t', metrics.accuracy_score(df_iris[idx][target_col], df_iris[idx]['log_l1']))\n",
    "print('log_l2\\t', metrics.accuracy_score(df_iris[idx][target_col], df_iris[idx]['log_l2']))\n",
    "print('log_el\\t', metrics.accuracy_score(df_iris[idx][target_col], df_iris[idx]['log_el']))\n",
    "\n",
    "df_list = []\n",
    "idx = df_iris['train_set'] == 0\n",
    "for modelname in model_map.keys():\n",
    "    cm = metrics.confusion_matrix(df_iris[idx][target_col], df_iris[idx][modelname])\n",
    "    df = pandas.DataFrame(cm, columns = target_label_map.target_label)\n",
    "    df = df.add_prefix(modelname)\n",
    "    df_list.append(df)\n",
    "df = pandas.concat(df_list, axis=1)\n",
    "df.index = target_label_map.target_label\n",
    "df.T"
   ]
  },
  {
   "cell_type": "markdown",
   "id": "c4ec94bc-9771-4d6a-b863-24658b6e8ab1",
   "metadata": {},
   "source": [
    "## Coeficientes do Modelo "
   ]
  },
  {
   "cell_type": "code",
   "execution_count": 13,
   "id": "3fd6a582-6fdf-46c8-b27a-33f1b658b41f",
   "metadata": {},
   "outputs": [
    {
     "data": {
      "application/vnd.jupyter.widget-view+json": {
       "model_id": "7bba0b1482f948298b604df49642e2e5",
       "version_major": 2,
       "version_minor": 0
      },
      "text/plain": [
       "interactive(children=(Dropdown(description='modelname', options=('log_l1', 'log_l2', 'log_el'), value='log_l1'…"
      ]
     },
     "metadata": {},
     "output_type": "display_data"
    },
    {
     "data": {
      "text/plain": [
       "<function __main__.plot_coefs(modelname, class_label)>"
      ]
     },
     "execution_count": 13,
     "metadata": {},
     "output_type": "execute_result"
    }
   ],
   "source": [
    "\n",
    "interact(plot_coefs, modelname = list(model_map.keys()),\n",
    "         class_label = target_label_map.target_label)"
   ]
  },
  {
   "cell_type": "code",
   "execution_count": null,
   "id": "b243184b-83b2-4809-9f69-f565659aafce",
   "metadata": {},
   "outputs": [],
   "source": []
  }
 ],
 "metadata": {
  "kernelspec": {
   "display_name": "Python 3",
   "language": "python",
   "name": "python3"
  },
  "language_info": {
   "codemirror_mode": {
    "name": "ipython",
    "version": 3
   },
   "file_extension": ".py",
   "mimetype": "text/x-python",
   "name": "python",
   "nbconvert_exporter": "python",
   "pygments_lexer": "ipython3",
   "version": "3.7.10"
  }
 },
 "nbformat": 4,
 "nbformat_minor": 5
}
