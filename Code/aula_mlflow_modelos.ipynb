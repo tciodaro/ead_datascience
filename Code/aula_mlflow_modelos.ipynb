{
 "cells": [
  {
   "cell_type": "code",
   "execution_count": 1,
   "id": "68084f4f-1a6b-41d2-9b9f-e5a4b1f599e7",
   "metadata": {
    "tags": []
   },
   "outputs": [],
   "source": [
    "import os\n",
    "import warnings\n",
    "import sys\n",
    "\n",
    "import pandas as pd\n",
    "import matplotlib.pyplot as plt\n",
    "import numpy as np\n",
    "from sklearn import tree, preprocessing, metrics, model_selection\n",
    "import mlflow\n",
    "import mlflow.sklearn\n",
    "\n",
    "import logging\n",
    "\n",
    "logging.basicConfig(level=logging.WARN)\n",
    "logger = logging.getLogger(__name__)\n"
   ]
  },
  {
   "cell_type": "markdown",
   "id": "d4a08c9b-1dbc-4496-bc64-2434a7712faf",
   "metadata": {},
   "source": [
    "# Leitura dos Dados de Classificação de Vinhos "
   ]
  },
  {
   "cell_type": "code",
   "execution_count": 2,
   "id": "0e58e6f7-f8bb-498a-81f4-dc8175053cbd",
   "metadata": {},
   "outputs": [
    {
     "name": "stdout",
     "output_type": "stream",
     "text": [
      "(5320, 13)\n"
     ]
    },
    {
     "data": {
      "text/html": [
       "<div>\n",
       "<style scoped>\n",
       "    .dataframe tbody tr th:only-of-type {\n",
       "        vertical-align: middle;\n",
       "    }\n",
       "\n",
       "    .dataframe tbody tr th {\n",
       "        vertical-align: top;\n",
       "    }\n",
       "\n",
       "    .dataframe thead th {\n",
       "        text-align: right;\n",
       "    }\n",
       "</style>\n",
       "<table border=\"1\" class=\"dataframe\">\n",
       "  <thead>\n",
       "    <tr style=\"text-align: right;\">\n",
       "      <th></th>\n",
       "      <th>fixed acidity</th>\n",
       "      <th>volatile acidity</th>\n",
       "      <th>citric acid</th>\n",
       "      <th>residual sugar</th>\n",
       "      <th>chlorides</th>\n",
       "      <th>free sulfur dioxide</th>\n",
       "      <th>total sulfur dioxide</th>\n",
       "      <th>density</th>\n",
       "      <th>pH</th>\n",
       "      <th>sulphates</th>\n",
       "      <th>alcohol</th>\n",
       "      <th>target</th>\n",
       "      <th>type</th>\n",
       "    </tr>\n",
       "  </thead>\n",
       "  <tbody>\n",
       "    <tr>\n",
       "      <th>0</th>\n",
       "      <td>7.4</td>\n",
       "      <td>0.70</td>\n",
       "      <td>0.00</td>\n",
       "      <td>1.9</td>\n",
       "      <td>0.076</td>\n",
       "      <td>11.0</td>\n",
       "      <td>34.0</td>\n",
       "      <td>0.9978</td>\n",
       "      <td>3.51</td>\n",
       "      <td>0.56</td>\n",
       "      <td>9.4</td>\n",
       "      <td>0</td>\n",
       "      <td>red</td>\n",
       "    </tr>\n",
       "    <tr>\n",
       "      <th>1</th>\n",
       "      <td>7.8</td>\n",
       "      <td>0.88</td>\n",
       "      <td>0.00</td>\n",
       "      <td>2.6</td>\n",
       "      <td>0.098</td>\n",
       "      <td>25.0</td>\n",
       "      <td>67.0</td>\n",
       "      <td>0.9968</td>\n",
       "      <td>3.20</td>\n",
       "      <td>0.68</td>\n",
       "      <td>9.8</td>\n",
       "      <td>0</td>\n",
       "      <td>red</td>\n",
       "    </tr>\n",
       "    <tr>\n",
       "      <th>2</th>\n",
       "      <td>7.8</td>\n",
       "      <td>0.76</td>\n",
       "      <td>0.04</td>\n",
       "      <td>2.3</td>\n",
       "      <td>0.092</td>\n",
       "      <td>15.0</td>\n",
       "      <td>54.0</td>\n",
       "      <td>0.9970</td>\n",
       "      <td>3.26</td>\n",
       "      <td>0.65</td>\n",
       "      <td>9.8</td>\n",
       "      <td>0</td>\n",
       "      <td>red</td>\n",
       "    </tr>\n",
       "    <tr>\n",
       "      <th>3</th>\n",
       "      <td>11.2</td>\n",
       "      <td>0.28</td>\n",
       "      <td>0.56</td>\n",
       "      <td>1.9</td>\n",
       "      <td>0.075</td>\n",
       "      <td>17.0</td>\n",
       "      <td>60.0</td>\n",
       "      <td>0.9980</td>\n",
       "      <td>3.16</td>\n",
       "      <td>0.58</td>\n",
       "      <td>9.8</td>\n",
       "      <td>1</td>\n",
       "      <td>red</td>\n",
       "    </tr>\n",
       "    <tr>\n",
       "      <th>4</th>\n",
       "      <td>7.4</td>\n",
       "      <td>0.66</td>\n",
       "      <td>0.00</td>\n",
       "      <td>1.8</td>\n",
       "      <td>0.075</td>\n",
       "      <td>13.0</td>\n",
       "      <td>40.0</td>\n",
       "      <td>0.9978</td>\n",
       "      <td>3.51</td>\n",
       "      <td>0.56</td>\n",
       "      <td>9.4</td>\n",
       "      <td>0</td>\n",
       "      <td>red</td>\n",
       "    </tr>\n",
       "  </tbody>\n",
       "</table>\n",
       "</div>"
      ],
      "text/plain": [
       "   fixed acidity  volatile acidity  citric acid  residual sugar  chlorides  \\\n",
       "0            7.4              0.70         0.00             1.9      0.076   \n",
       "1            7.8              0.88         0.00             2.6      0.098   \n",
       "2            7.8              0.76         0.04             2.3      0.092   \n",
       "3           11.2              0.28         0.56             1.9      0.075   \n",
       "4            7.4              0.66         0.00             1.8      0.075   \n",
       "\n",
       "   free sulfur dioxide  total sulfur dioxide  density    pH  sulphates  \\\n",
       "0                 11.0                  34.0   0.9978  3.51       0.56   \n",
       "1                 25.0                  67.0   0.9968  3.20       0.68   \n",
       "2                 15.0                  54.0   0.9970  3.26       0.65   \n",
       "3                 17.0                  60.0   0.9980  3.16       0.58   \n",
       "4                 13.0                  40.0   0.9978  3.51       0.56   \n",
       "\n",
       "   alcohol  target type  \n",
       "0      9.4       0  red  \n",
       "1      9.8       0  red  \n",
       "2      9.8       0  red  \n",
       "3      9.8       1  red  \n",
       "4      9.4       0  red  "
      ]
     },
     "execution_count": 2,
     "metadata": {},
     "output_type": "execute_result"
    }
   ],
   "source": [
    "df_wine = pd.read_csv('../Data/dataset_vinhos.csv',sep=';')\n",
    "wine_target_col = 'target'\n",
    "wine_label_map = df_wine[['target', 'target_label']].drop_duplicates()\n",
    "drop_cols = ['target_label']\n",
    "df_wine.drop(drop_cols, axis=1, inplace=True)\n",
    "print(df_wine.shape)\n",
    "df_wine.head()"
   ]
  },
  {
   "cell_type": "markdown",
   "id": "662bda2a-6f37-4ff0-b1fd-d0d8ffc926ca",
   "metadata": {},
   "source": [
    "## Codificação "
   ]
  },
  {
   "cell_type": "code",
   "execution_count": 3,
   "id": "d5792166-4bce-4fae-8049-4de40d725c93",
   "metadata": {},
   "outputs": [],
   "source": [
    "categorical_cols = ['type']\n",
    "encoder_map = {}\n",
    "\n",
    "for cname in categorical_cols:\n",
    "    encoder = preprocessing.OneHotEncoder(sparse=False)\n",
    "    transformed = encoder.fit_transform(df_wine[[cname]])\n",
    "    ohe_df = pd.DataFrame(transformed, columns=[cname+'_'+cat for cat in encoder.categories_[0]])\n",
    "    encoder_map[cname] = encoder\n",
    "    \n",
    "    df_wine = pd.concat([df_wine, ohe_df], axis=1).drop(cname, axis=1)\n",
    "df_wine.head()\n",
    "\n",
    "Y = df_wine[wine_target_col]\n",
    "X = df_wine.drop(wine_target_col, axis=1)\n",
    "wine_feature_names = list(X.columns)"
   ]
  },
  {
   "cell_type": "markdown",
   "id": "93114919-0483-4ff1-89ba-2c3ac6b6dfce",
   "metadata": {},
   "source": [
    "# Modelo de Classificação de Vinhos "
   ]
  },
  {
   "cell_type": "code",
   "execution_count": 4,
   "id": "f88da48c-b806-4044-84e4-ff9a56f0ee52",
   "metadata": {},
   "outputs": [
    {
     "name": "stderr",
     "output_type": "stream",
     "text": [
      "2022/03/25 19:18:28 INFO mlflow.store.db.utils: Creating initial MLflow database tables...\n",
      "2022/03/25 19:18:28 INFO mlflow.store.db.utils: Updating database tables\n",
      "INFO  [alembic.runtime.migration] Context impl SQLiteImpl.\n",
      "INFO  [alembic.runtime.migration] Will assume non-transactional DDL.\n",
      "INFO  [alembic.runtime.migration] Running upgrade  -> 451aebb31d03, add metric step\n",
      "INFO  [alembic.runtime.migration] Running upgrade 451aebb31d03 -> 90e64c465722, migrate user column to tags\n",
      "INFO  [alembic.runtime.migration] Running upgrade 90e64c465722 -> 181f10493468, allow nulls for metric values\n",
      "INFO  [alembic.runtime.migration] Running upgrade 181f10493468 -> df50e92ffc5e, Add Experiment Tags Table\n",
      "INFO  [alembic.runtime.migration] Running upgrade df50e92ffc5e -> 7ac759974ad8, Update run tags with larger limit\n",
      "INFO  [alembic.runtime.migration] Running upgrade 7ac759974ad8 -> 89d4b8295536, create latest metrics table\n",
      "INFO  [89d4b8295536_create_latest_metrics_table_py] Migration complete!\n",
      "INFO  [alembic.runtime.migration] Running upgrade 89d4b8295536 -> 2b4d017a5e9b, add model registry tables to db\n",
      "INFO  [2b4d017a5e9b_add_model_registry_tables_to_db_py] Adding registered_models and model_versions tables to database.\n",
      "INFO  [2b4d017a5e9b_add_model_registry_tables_to_db_py] Migration complete!\n",
      "INFO  [alembic.runtime.migration] Running upgrade 2b4d017a5e9b -> cfd24bdc0731, Update run status constraint with killed\n",
      "INFO  [alembic.runtime.migration] Running upgrade cfd24bdc0731 -> 0a8213491aaa, drop_duplicate_killed_constraint\n",
      "INFO  [alembic.runtime.migration] Running upgrade 0a8213491aaa -> 728d730b5ebd, add registered model tags table\n",
      "INFO  [alembic.runtime.migration] Running upgrade 728d730b5ebd -> 27a6a02d2cf1, add model version tags table\n",
      "INFO  [alembic.runtime.migration] Running upgrade 27a6a02d2cf1 -> 84291f40a231, add run_link to model_version\n",
      "INFO  [alembic.runtime.migration] Running upgrade 84291f40a231 -> a8c4a736bde6, allow nulls for run_id\n",
      "INFO  [alembic.runtime.migration] Running upgrade a8c4a736bde6 -> 39d1c3be5f05, add_is_nan_constraint_for_metrics_tables_if_necessary\n",
      "INFO  [alembic.runtime.migration] Running upgrade 39d1c3be5f05 -> c48cb773bb87, reset_default_value_for_is_nan_in_metrics_table_for_mysql\n",
      "INFO  [alembic.runtime.migration] Context impl SQLiteImpl.\n",
      "INFO  [alembic.runtime.migration] Will assume non-transactional DDL.\n"
     ]
    }
   ],
   "source": [
    "# Para usar o sqlite como repositorio\n",
    "mlflow.set_tracking_uri(\"sqlite:///mlruns.db\")\n",
    "\n",
    "experiment_name = 'Aula Modelos'\n",
    "experiment = mlflow.get_experiment_by_name(experiment_name)\n",
    "if experiment is None:\n",
    "    experiment_id = mlflow.create_experiment(experiment_name)\n",
    "    experiment = mlflow.get_experiment(experiment_id)\n",
    "experiment_id = experiment.experiment_id\n"
   ]
  },
  {
   "cell_type": "markdown",
   "id": "b80922f9-7c07-463e-b97f-75f4ac3c2303",
   "metadata": {},
   "source": [
    "## Salvar Modelo"
   ]
  },
  {
   "cell_type": "code",
   "execution_count": 5,
   "id": "92b998b9-1442-4f28-9e0e-e0ad30043a98",
   "metadata": {},
   "outputs": [
    {
     "name": "stdout",
     "output_type": "stream",
     "text": [
      "Decisn Tree Classifier (criterion=gini, max_depth=5.000000):\n"
     ]
    }
   ],
   "source": [
    "model_name = 'mlflow_modelo_salvo'\n",
    "\n",
    "# Configuracao\n",
    "criterion = 'gini'\n",
    "max_depth = 5\n",
    "SEED = 10\n",
    "# train/test\n",
    "xtrain, xtest, ytrain, ytest = model_selection.train_test_split(X, Y, test_size=0.2, random_state=SEED)\n",
    "df_train = xtrain.copy()\n",
    "df_test = xtest.copy()\n",
    "df_train['train_set'] = 1\n",
    "df_test['train_set'] = 0\n",
    "df_train[wine_target_col] = ytrain\n",
    "df_test[wine_target_col] = ytest\n",
    "with mlflow.start_run(experiment_id=experiment_id, run_name = 'MLModelDeployment'):\n",
    "    model_wine = tree.DecisionTreeClassifier(criterion=criterion, max_depth = max_depth, random_state=SEED)\n",
    "    model_wine.fit(xtrain, ytrain)\n",
    "    print(\"Decisn Tree Classifier (criterion=%s, max_depth=%f):\" % (criterion, max_depth))\n",
    "    mlflow.sklearn.save_model(model_wine, model_name)    "
   ]
  },
  {
   "cell_type": "markdown",
   "id": "7265a437-4b60-4b7d-9735-2fe9fe92c19a",
   "metadata": {},
   "source": [
    "## Seleção de Variáveis Importantes "
   ]
  },
  {
   "cell_type": "code",
   "execution_count": 7,
   "id": "324b4db4-c86f-4feb-a96d-e68cf0564f74",
   "metadata": {},
   "outputs": [
    {
     "name": "stdout",
     "output_type": "stream",
     "text": [
      "Top Features\n",
      " ['alcohol' 'volatile acidity' 'free sulfur dioxide' 'residual sugar']\n"
     ]
    },
    {
     "data": {
      "image/png": "[encoded data removed]",
      "text/plain": [
       "<Figure size 576x432 with 1 Axes>"
      ]
     },
     "metadata": {
      "needs_background": "light"
     },
     "output_type": "display_data"
    }
   ],
   "source": [
    "from sklearn.inspection import permutation_importance\n",
    "\n",
    "ntop=4\n",
    "\n",
    "plt.figure(figsize=(8,6))\n",
    "r = permutation_importance(model_wine, xtest, ytest,\n",
    "                           n_repeats=30,\n",
    "                           random_state=0)\n",
    "importance =  r.importances_mean\n",
    "idx = np.argsort(importance)\n",
    "plt.barh(np.arange(idx.shape[0]), importance[idx]*100)\n",
    "plt.yticks(np.arange(idx.shape[0]), np.array(wine_feature_names)[idx])\n",
    "plt.title('Importância das Variáveis por Permutação')\n",
    "plt.grid()\n",
    "plt.xlabel('Importância Relativa [%]')\n",
    "plt.tight_layout()\n",
    "\n",
    "top_features = np.array(wine_feature_names)[idx][::-1][:ntop]\n",
    "print('Top Features\\n',top_features)"
   ]
  },
  {
   "cell_type": "markdown",
   "id": "c8c573de-617d-49f5-853a-1198314a3934",
   "metadata": {},
   "source": [
    "# Modelo Com Assinatura e Exemplo de Entrada "
   ]
  },
  {
   "cell_type": "code",
   "execution_count": 8,
   "id": "f4a7cea0-5214-4621-aaba-02c1ddb1b140",
   "metadata": {},
   "outputs": [
    {
     "name": "stdout",
     "output_type": "stream",
     "text": [
      "Decisn Tree Classifier (criterion=gini, max_depth=5.000000):\n",
      "=== Assinatura Sugerida\n",
      "inputs: \n",
      "  ['alcohol': double, 'volatile acidity': double, 'free sulfur dioxide': double, 'residual sugar': double]\n",
      "outputs: \n",
      "  [Tensor('int64', (-1,))]\n",
      "\n",
      "=== Assinatura Explícita\n",
      "inputs: \n",
      "  ['alcohol': double, 'volatile acidity': double, 'sulphates': double, 'residual sugar': double]\n",
      "outputs: \n",
      "  ['classe predita': integer]\n",
      "\n"
     ]
    }
   ],
   "source": [
    "from mlflow.models.signature import infer_signature\n",
    "from mlflow.models.signature import ModelSignature\n",
    "from mlflow.types.schema import Schema, ColSpec\n",
    "\n",
    "model_name = 'mlflow_modelo_assinatura_com_exemplo'\n",
    "Y = df_wine[wine_target_col]\n",
    "X = df_wine[top_features]\n",
    "\n",
    "nexamples = 4\n",
    "\n",
    "# Configuracao\n",
    "criterion = 'gini'\n",
    "max_depth = 5\n",
    "# train/test\n",
    "xtrain, xtest, ytrain, ytest = model_selection.train_test_split(X, Y, test_size=0.2)\n",
    "df_train = xtrain.copy()\n",
    "df_test = xtest.copy()\n",
    "df_train['train_set'] = 1\n",
    "df_test['train_set'] = 0\n",
    "df_train[wine_target_col] = ytrain\n",
    "df_test[wine_target_col] = ytest\n",
    "with mlflow.start_run(experiment_id=experiment_id, run_name = 'MLModelDeployment'):\n",
    "    mlflow.sklearn.autolog() # Precisa ser chamado antes do codigo do treinamento\n",
    "    model_wine = tree.DecisionTreeClassifier(criterion=criterion, max_depth = max_depth)\n",
    "    model_wine.fit(xtrain, ytrain)\n",
    "    print(\"Decisn Tree Classifier (criterion=%s, max_depth=%f):\" % (criterion, max_depth))\n",
    "    mlflow.sklearn.save_model(model_wine, model_name)\n",
    "    \n",
    "    # Assinatura do Modelo Inferida pelo MLFlow\n",
    "    inf_signature = infer_signature(xtrain, model_wine.predict(xtrain))\n",
    "    # Assinatura Manual, forçando tipos e descricoes.\n",
    "    input_schema = Schema([\n",
    "        ColSpec(\"double\", \"alcohol\"),\n",
    "        ColSpec(\"double\", \"volatile acidity\"),\n",
    "        ColSpec(\"double\", \"sulphates\"),\n",
    "        ColSpec(\"double\", \"residual sugar\"),\n",
    "    ])\n",
    "    output_schema = Schema([\n",
    "        ColSpec(\"integer\", \"classe predita\")\n",
    "    ])\n",
    "    signature = ModelSignature(inputs=input_schema, outputs=output_schema)\n",
    "    # Print das assinaturas\n",
    "    print('=== Assinatura Sugerida')\n",
    "    print(inf_signature)\n",
    "    print('=== Assinatura Explícita')\n",
    "    print(signature)\n",
    "    \n",
    "    # Exemplo de entrada para o MLmodel\n",
    "    input_example = {x: xtrain[x].values[:nexamples] for x in top_features}\n",
    "#     input_example = {\n",
    "#         'alcohol': xtrain['alcohol'].values[:2],\n",
    "#         'volatile acidity':  xtrain['volatile acidity'].values[:2],\n",
    "#         'sulphates':  xtrain['sulphates'].values[:2],\n",
    "#         'residual sugar':  xtrain['residual sugar'].values[:2],\n",
    "#     }\n",
    "    # Adicionar o exemplo como parametro do log\n",
    "    mlflow.sklearn.log_model(model_wine,\n",
    "                             model_name,\n",
    "                             signature = inf_signature,\n",
    "                             input_example = input_example)\n"
   ]
  },
  {
   "cell_type": "code",
   "execution_count": 9,
   "id": "d7721e88-a365-460d-8ca1-7c519894bab2",
   "metadata": {},
   "outputs": [],
   "source": [
    "# mlflow.end_run()\n",
    "#!mlflow ui\n",
    "# Para usar o sqlite como repositorio\n",
    "# mlflow ui --backend-store-uri sqlite:///mlflow.db"
   ]
  },
  {
   "cell_type": "markdown",
   "id": "d3f8693d-d0d6-4187-980e-59e347a0f79b",
   "metadata": {},
   "source": [
    "# Registro de Modelos\n",
    "\n",
    "Treinamento e deployment de um modelo de classificador de vinhos tintos.\n",
    "\n",
    "    1 - Filtragem dos dados de vinho tinto e reserva de amostras\n",
    "    2 - Treinamento de modelos padrão com o PyCaret (árvore, logística e SVM)\n",
    "    3 - Registro do modelo e validaçãp para staging caso precisão mínima de 70%\n",
    "    4 - Servir o modelo em staging para testes\n",
    "    5 - Consumir o modelo por biblioteca requests com 20 exemplos base teste\n",
    "    6 - Consumir a base de dados como uma aplicação python"
   ]
  },
  {
   "cell_type": "markdown",
   "id": "e1a2423d-c9ab-4f30-9b98-da6048d847f3",
   "metadata": {},
   "source": [
    "## 1 - Filtrar Vinhos Tintos "
   ]
  },
  {
   "cell_type": "code",
   "execution_count": 10,
   "id": "22bd77c7-89a0-464c-af50-1e0025f619d0",
   "metadata": {},
   "outputs": [],
   "source": [
    "data_wine = df_wine[df_wine.type_red == 1].drop(['type_red', 'type_white'], axis=1)     \n",
    "# Separar parte para compor a base de operacao\n",
    "data_wine, data_operation, ytrain, ytest = model_selection.train_test_split(data_wine, \n",
    "                                                                        data_wine[wine_target_col],\n",
    "                                                                        test_size=0.1)\n",
    "data_wine[wine_target_col]      = ytrain\n",
    "data_operation[wine_target_col] = ytest\n",
    "\n",
    "# Base de vinhos brancos\n",
    "data_white_wine = df_wine[df_wine.type_red == 0].drop(['type_red', 'type_white'], axis=1)"
   ]
  },
  {
   "cell_type": "markdown",
   "id": "fac556fe-7bb7-4b70-bd25-e3c6e1f78c53",
   "metadata": {},
   "source": [
    "## 2 - Treinar Modelos com PyCaret "
   ]
  },
  {
   "cell_type": "code",
   "execution_count": 11,
   "id": "c91de559-e894-4383-bb93-504df0758f38",
   "metadata": {},
   "outputs": [
    {
     "name": "stderr",
     "output_type": "stream",
     "text": [
      "INFO  [logs] Saving 'Feature Importance.png'\n",
      "INFO  [logs] Visual Rendered Successfully\n",
      "INFO  [logs] plot_model() succesfully completed......................................\n"
     ]
    }
   ],
   "source": [
    "import pycaret.classification as pc\n",
    "mlflow.set_tracking_uri(\"sqlite:///mlruns.db\")\n",
    "\n",
    "experiment_name = 'classificador_vinho'\n",
    "\n",
    "# train/test\n",
    "s = pc.setup(data = data_wine, \n",
    "             target = wine_target_col,\n",
    "             train_size=0.7,\n",
    "             silent = True,\n",
    "             feature_selection = True,\n",
    "             feature_selection_threshold = 0.6,\n",
    "             feature_selection_method = 'classic',\n",
    "             log_experiment = True, \n",
    "             experiment_name = experiment_name, \n",
    "             log_plots = True)\n",
    "models = ['lr', 'dt', 'rbfsvm']\n",
    "bestmodel = pc.compare_models(include = models, sort='precision')\n",
    "# Log do run, e nao do modelo respectivo\n",
    "classification_plots = [ 'auc','pr','confusion_matrix',\n",
    "#                          'error', 'class_report', 'threshold',\n",
    "                         'learning','vc','feature',\n",
    "                       ]\n",
    "for plot_type in classification_plots:\n",
    "    print('=> Aplicando plot ', plot_type)\n",
    "    try:\n",
    "        artifact = pc.plot_model(bestmodel, plot=plot_type, save=True, use_train_data=False)\n",
    "        mlflow.log_artifact(artifact)\n",
    "    except:\n",
    "        print('=> Nao possivel plotar: ', plot_type )\n",
    "        continue"
   ]
  },
  {
   "cell_type": "markdown",
   "id": "37d4aecd-3bf3-4a97-bf08-a8e2f0507b31",
   "metadata": {},
   "source": [
    "## 3 - Registrar e Validar o Modelo Melhor Precisão"
   ]
  },
  {
   "cell_type": "code",
   "execution_count": 12,
   "id": "5492b089-75c9-4bac-a56a-137d715ee107",
   "metadata": {},
   "outputs": [
    {
     "name": "stderr",
     "output_type": "stream",
     "text": [
      "INFO  [logs] Initializing predict_model()\n",
      "INFO  [logs] predict_model(estimator=LogisticRegression(C=1.0, class_weight=None, dual=False, fit_intercept=True,\n",
      "                   intercept_scaling=1, l1_ratio=None, max_iter=1000,\n",
      "                   multi_class='auto', n_jobs=None, penalty='l2',\n",
      "                   random_state=2854, solver='lbfgs', tol=0.0001, verbose=0,\n",
      "                   warm_start=False), probability_threshold=None, encoded_labels=False, drift_report=False, raw_score=False, round=4, verbose=True, ml_usecase=MLUsecase.CLASSIFICATION, display=None)\n",
      "INFO  [logs] Checking exceptions\n",
      "INFO  [logs] Preloading libraries\n",
      "INFO  [logs] Preparing display monitor\n"
     ]
    },
    {
     "data": {
      "text/html": [
       "<style type=\"text/css\">\n",
       "</style>\n",
       "<table id=\"T_a7bf2_\">\n",
       "  <thead>\n",
       "    <tr>\n",
       "      <th class=\"blank level0\" >&nbsp;</th>\n",
       "      <th class=\"col_heading level0 col0\" >Model</th>\n",
       "      <th class=\"col_heading level0 col1\" >Accuracy</th>\n",
       "      <th class=\"col_heading level0 col2\" >AUC</th>\n",
       "      <th class=\"col_heading level0 col3\" >Recall</th>\n",
       "      <th class=\"col_heading level0 col4\" >Prec.</th>\n",
       "      <th class=\"col_heading level0 col5\" >F1</th>\n",
       "      <th class=\"col_heading level0 col6\" >Kappa</th>\n",
       "      <th class=\"col_heading level0 col7\" >MCC</th>\n",
       "    </tr>\n",
       "  </thead>\n",
       "  <tbody>\n",
       "    <tr>\n",
       "      <th id=\"T_a7bf2_level0_row0\" class=\"row_heading level0 row0\" >0</th>\n",
       "      <td id=\"T_a7bf2_row0_col0\" class=\"data row0 col0\" >Logistic Regression</td>\n",
       "      <td id=\"T_a7bf2_row0_col1\" class=\"data row0 col1\" >0.7330</td>\n",
       "      <td id=\"T_a7bf2_row0_col2\" class=\"data row0 col2\" >0.8228</td>\n",
       "      <td id=\"T_a7bf2_row0_col3\" class=\"data row0 col3\" >0.6974</td>\n",
       "      <td id=\"T_a7bf2_row0_col4\" class=\"data row0 col4\" >0.7771</td>\n",
       "      <td id=\"T_a7bf2_row0_col5\" class=\"data row0 col5\" >0.7351</td>\n",
       "      <td id=\"T_a7bf2_row0_col6\" class=\"data row0 col6\" >0.4675</td>\n",
       "      <td id=\"T_a7bf2_row0_col7\" class=\"data row0 col7\" >0.4703</td>\n",
       "    </tr>\n",
       "  </tbody>\n",
       "</table>\n"
      ],
      "text/plain": [
       "<pandas.io.formats.style.Styler at 0x2048c207688>"
      ]
     },
     "metadata": {},
     "output_type": "display_data"
    },
    {
     "name": "stderr",
     "output_type": "stream",
     "text": [
      "INFO  [logs] Initializing save_model()\n",
      "INFO  [logs] save_model(model=LogisticRegression(C=1.0, class_weight=None, dual=False, fit_intercept=True,\n",
      "                   intercept_scaling=1, l1_ratio=None, max_iter=1000,\n",
      "                   multi_class='auto', n_jobs=None, penalty='l2',\n",
      "                   random_state=2854, solver='lbfgs', tol=0.0001, verbose=0,\n",
      "                   warm_start=False), model_name=./modelo_vinho_tinto, prep_pipe_=Pipeline(memory=None,\n",
      "         steps=[('dtypes',\n",
      "                 DataTypes_Auto_infer(categorical_features=[],\n",
      "                                      display_types=False, features_todrop=[],\n",
      "                                      id_columns=[],\n",
      "                                      ml_usecase='classification',\n",
      "                                      numerical_features=[], target='target',\n",
      "                                      time_features=[])),\n",
      "                ('imputer',\n",
      "                 Simple_Imputer(categorical_strategy='not_available',\n",
      "                                fill_value_categorical=None,\n",
      "                                fill_value_numerical=None,\n",
      "                                numeric_stra...\n",
      "                ('dummy', Dummify(target='target')),\n",
      "                ('fix_perfect', Remove_100(target='target')),\n",
      "                ('clean_names', Clean_Colum_Names()),\n",
      "                ('feature_select',\n",
      "                 Advanced_Feature_Selection_Classic(ml_usecase='classification',\n",
      "                                                    n_jobs=-1,\n",
      "                                                    random_state=2854,\n",
      "                                                    subclass='binary',\n",
      "                                                    target='target',\n",
      "                                                    top_features_to_pick=0.4)),\n",
      "                ('fix_multi', 'passthrough'), ('dfs', 'passthrough'),\n",
      "                ('pca', 'passthrough')],\n",
      "         verbose=False), verbose=True, kwargs={})\n",
      "INFO  [logs] Adding model into prep_pipe\n",
      "INFO  [logs] ./modelo_vinho_tinto.pkl saved in current working directory\n",
      "INFO  [logs] Pipeline(memory=None,\n",
      "         steps=[('dtypes',\n",
      "                 DataTypes_Auto_infer(categorical_features=[],\n",
      "                                      display_types=False, features_todrop=[],\n",
      "                                      id_columns=[],\n",
      "                                      ml_usecase='classification',\n",
      "                                      numerical_features=[], target='target',\n",
      "                                      time_features=[])),\n",
      "                ('imputer',\n",
      "                 Simple_Imputer(categorical_strategy='not_available',\n",
      "                                fill_value_categorical=None,\n",
      "                                fill_value_numerical=None,\n",
      "                                numeric_stra...\n",
      "                                                    top_features_to_pick=0.4)),\n",
      "                ('fix_multi', 'passthrough'), ('dfs', 'passthrough'),\n",
      "                ('pca', 'passthrough'),\n",
      "                ['trained_model',\n",
      "                 LogisticRegression(C=1.0, class_weight=None, dual=False,\n",
      "                                    fit_intercept=True, intercept_scaling=1,\n",
      "                                    l1_ratio=None, max_iter=1000,\n",
      "                                    multi_class='auto', n_jobs=None,\n",
      "                                    penalty='l2', random_state=2854,\n",
      "                                    solver='lbfgs', tol=0.0001, verbose=0,\n",
      "                                    warm_start=False)]],\n",
      "         verbose=False)\n",
      "INFO  [logs] save_model() successfully completed......................................\n"
     ]
    },
    {
     "name": "stdout",
     "output_type": "stream",
     "text": [
      "=> Aceito o modelo com precisão 0.7771428571428571 (min: 0.7)\n",
      "Transformation Pipeline and Model Successfully Saved\n"
     ]
    },
    {
     "name": "stderr",
     "output_type": "stream",
     "text": [
      "INFO  [logs] Initializing load_model()\n",
      "INFO  [logs] load_model(model_name=./modelo_vinho_tinto, platform=None, authentication=None, verbose=True)\n"
     ]
    },
    {
     "name": "stdout",
     "output_type": "stream",
     "text": [
      "Transformation Pipeline and Model Successfully Loaded\n"
     ]
    },
    {
     "name": "stderr",
     "output_type": "stream",
     "text": [
      "Successfully registered model 'modelo_vinho_tinto'.\n",
      "2022/03/25 19:22:13 INFO mlflow.tracking._model_registry.client: Waiting up to 300 seconds for model version to finish creation.                     Model name: modelo_vinho_tinto, version 1\n",
      "Created version '1' of model 'modelo_vinho_tinto'.\n"
     ]
    }
   ],
   "source": [
    "from mlflow.tracking import MlflowClient\n",
    "mlflow.set_registry_uri(\"sqlite:///mlruns.db\")\n",
    "\n",
    "registered_model_name = 'modelo_vinho_tinto'\n",
    "min_precision = 0.7\n",
    "model_version = -1 # recuperar a ultima versao\n",
    "nexamples = 4\n",
    "\n",
    "\n",
    "# Test set\n",
    "pred_holdout = pc.predict_model(bestmodel)\n",
    "pr = metrics.precision_score(pred_holdout[wine_target_col], pred_holdout['Label'])\n",
    "if pr > min_precision:\n",
    "    print(f'=> Aceito o modelo com precisão {pr} (min: {min_precision})')\n",
    "    # Pycaret exporta junto o pipeline de preprocessamento\n",
    "    pc.save_model(bestmodel, f'./{registered_model_name}') \n",
    "    # Carrega novamente o pipeline + bestmodel\n",
    "    model_pipe = pc.load_model(f'./{registered_model_name}')\n",
    "    # Assinatura do Modelo Inferida pelo MLFlow\n",
    "    model_features = list(data_wine.drop(wine_target_col, axis=1).columns)\n",
    "    inf_signature = infer_signature(data_wine[model_features], model_pipe.predict(data_wine))\n",
    "    # Exemplo de entrada para o MLmodel\n",
    "    input_example = {x: data_wine[x].values[:nexamples] for x in model_features}\n",
    "    # Log do pipeline de modelagem do sklearn e registrar como uma nova versao\n",
    "    mlflow.sklearn.log_model(\n",
    "        sk_model=model_pipe,\n",
    "        artifact_path=\"sklearn-model\",\n",
    "        registered_model_name=registered_model_name,\n",
    "        signature = inf_signature,\n",
    "        input_example = input_example\n",
    "    )\n",
    "    # Criacao do cliente do servico MLFlow e atualizacao versao modelo\n",
    "    client = MlflowClient()\n",
    "    if model_version == -1:\n",
    "        model_version = client.get_latest_versions(registered_model_name)[-1].version\n",
    "    # Registrar o modelo como staging\n",
    "    client.transition_model_version_stage(\n",
    "        name=registered_model_name,\n",
    "        version=model_version, # Verificar com usuario qual versao\n",
    "        stage=\"Staging\"\n",
    "    )\n",
    "\n",
    "else:\n",
    "    print(f'=> Rejeitado o modelo com precisão {pr} (min: {min_precision})')\n",
    "\n",
    "\n"
   ]
  },
  {
   "cell_type": "markdown",
   "id": "9fec2d9a-b439-40e3-9890-bb43a0f3a46f",
   "metadata": {},
   "source": [
    "## 4 - Servir o Modelo com o MLFlow "
   ]
  },
  {
   "cell_type": "code",
   "execution_count": 13,
   "id": "f7af399b-db4c-4612-b00d-ffbebc2c080c",
   "metadata": {},
   "outputs": [
    {
     "name": "stdout",
     "output_type": "stream",
     "text": [
      "^C\n"
     ]
    }
   ],
   "source": [
    "import os\n",
    "os.environ['MLFLOW_TRACKING_URI'] = 'sqlite:///mlruns.db'\n",
    "\n",
    "!mlflow models serve -m \"models:/modelo_vinho_tinto/Staging\" --no-conda -p 5001\n",
    "\n",
    "# !curl http://localhost:5001/invocations -X POST -H \"Content-Type:application/json; format=pandas-split\" --data \"{\\\"columns\\\":[\\\"alcohol\\\", \\\"chlorides\\\", \\\"citric acid\\\", \\\"density\\\", \\\"fixed acidity\\\", \\\"free sulfur dioxide\\\", \\\"pH\\\", \\\"residual sugar\\\", \\\"sulphates\\\", \\\"total sulfur dioxide\\\", \\\"volatile acidity\\\"],\\\"data\\\":[[7.4, 0.7, 0.0, 1.9, 0.076, 11.0, 34.0, 0.9978, 3.51, 0.56, 9.4], [11.8, 0.26, 0.52, 1.8, 0.071, 6.0, 10.0, 0.9968, 3.2, 0.72, 10.2]]}\""
   ]
  },
  {
   "cell_type": "code",
   "execution_count": 14,
   "id": "bd65bc79-8234-404a-ab1d-8b9adffb0b70",
   "metadata": {},
   "outputs": [],
   "source": [
    "# mlflow server --backend-store-uri sqlite:///mlruns.db --default-artifact-root file:./mlserver/"
   ]
  },
  {
   "cell_type": "markdown",
   "id": "8c546385-733e-47bd-8437-cb4691b6e012",
   "metadata": {},
   "source": [
    "## 6 - Consumir o Modelo com Exemplos "
   ]
  },
  {
   "cell_type": "markdown",
   "id": "7a4932ba-165d-4141-8c06-9240b4798c2d",
   "metadata": {},
   "source": [
    "### 6.1 - Dados Vinhos Tintos Operacao "
   ]
  },
  {
   "cell_type": "code",
   "execution_count": 19,
   "id": "38266c05-e0b3-4947-a03e-4a6cc09cd587",
   "metadata": {},
   "outputs": [
    {
     "name": "stdout",
     "output_type": "stream",
     "text": [
      "              precision    recall  f1-score   support\n",
      "\n",
      "           0       0.69      0.72      0.71        58\n",
      "           1       0.79      0.76      0.77        78\n",
      "\n",
      "    accuracy                           0.74       136\n",
      "   macro avg       0.74      0.74      0.74       136\n",
      "weighted avg       0.74      0.74      0.74       136\n",
      "\n"
     ]
    }
   ],
   "source": [
    "import requests\n",
    "host = 'localhost'\n",
    "port = '5001'\n",
    "url = f'http://{host}:{port}/invocations'\n",
    "headers = {'Content-Type': 'application/json',}\n",
    "\n",
    "http_data = data_operation.drop(wine_target_col,axis=1).to_json(orient='split')\n",
    "r = requests.post(url=url, headers=headers, data=http_data)\n",
    "\n",
    "data_operation.loc[:, 'operation_label'] = pd.read_json(r.text).values[:,0]\n",
    "\n",
    "print(metrics.classification_report(data_operation[wine_target_col], data_operation['operation_label']))"
   ]
  },
  {
   "cell_type": "markdown",
   "id": "6628362e-412d-4a13-832b-bcfba55dbcb9",
   "metadata": {},
   "source": [
    "### 6.2 - Dados Vinhos Brancos "
   ]
  },
  {
   "cell_type": "code",
   "execution_count": 16,
   "id": "f3035fbc-d8a2-44be-9c84-6881154fae1d",
   "metadata": {},
   "outputs": [
    {
     "name": "stdout",
     "output_type": "stream",
     "text": [
      "              precision    recall  f1-score   support\n",
      "\n",
      "           0       0.50      0.82      0.62      1348\n",
      "           1       0.86      0.58      0.69      2613\n",
      "\n",
      "    accuracy                           0.66      3961\n",
      "   macro avg       0.68      0.70      0.65      3961\n",
      "weighted avg       0.74      0.66      0.67      3961\n",
      "\n"
     ]
    }
   ],
   "source": [
    "import requests\n",
    "host = 'localhost'\n",
    "port = '5001'\n",
    "url = f'http://{host}:{port}/invocations'\n",
    "headers = {'Content-Type': 'application/json',}\n",
    "\n",
    "http_data = data_white_wine.drop(wine_target_col,axis=1).to_json(orient='split')\n",
    "r = requests.post(url=url, headers=headers, data=http_data)\n",
    "\n",
    "\n",
    "data_white_wine.loc[:, 'operation_label'] = pd.read_json(r.text).values[:,0]\n",
    "\n",
    "print(metrics.classification_report(data_white_wine[wine_target_col], data_white_wine['operation_label']))"
   ]
  },
  {
   "cell_type": "markdown",
   "id": "884fca38-b7fc-4c0a-9bcc-d793ed862445",
   "metadata": {},
   "source": [
    "## 7 - Utilizar Como uma Biblioteca da Aplicacao  "
   ]
  },
  {
   "cell_type": "code",
   "execution_count": 17,
   "id": "d933333c-add6-42e7-ae93-fd52f1065dc9",
   "metadata": {},
   "outputs": [
    {
     "name": "stdout",
     "output_type": "stream",
     "text": [
      "              precision    recall  f1-score   support\n",
      "\n",
      "           0       0.69      0.72      0.71        58\n",
      "           1       0.79      0.76      0.77        78\n",
      "\n",
      "    accuracy                           0.74       136\n",
      "   macro avg       0.74      0.74      0.74       136\n",
      "weighted avg       0.74      0.74      0.74       136\n",
      "\n"
     ]
    }
   ],
   "source": [
    "# mlflow.get_registry_uri()\n",
    "\n",
    "model_uri = f\"models:/modelo_vinho_tinto/Staging\"\n",
    "loaded_model = mlflow.sklearn.load_model(model_uri)\n",
    "\n",
    "\n",
    "http_data = data_operation.drop(wine_target_col,axis=1)\n",
    "data_operation.loc[:, 'operation_label'] = loaded_model.predict(http_data)\n",
    "\n",
    "print(metrics.classification_report(data_operation[wine_target_col], data_operation['operation_label']))\n"
   ]
  },
  {
   "cell_type": "code",
   "execution_count": 18,
   "id": "42a48665-6e92-4d5c-94c5-643c9961f8fe",
   "metadata": {},
   "outputs": [
    {
     "data": {
      "text/plain": [
       "Pipeline(memory=None,\n",
       "         steps=[('dtypes',\n",
       "                 DataTypes_Auto_infer(categorical_features=[],\n",
       "                                      display_types=False, features_todrop=[],\n",
       "                                      id_columns=[],\n",
       "                                      ml_usecase='classification',\n",
       "                                      numerical_features=[], target='target',\n",
       "                                      time_features=[])),\n",
       "                ('imputer',\n",
       "                 Simple_Imputer(categorical_strategy='not_available',\n",
       "                                fill_value_categorical=None,\n",
       "                                fill_value_numerical=None,\n",
       "                                numeric_stra...\n",
       "                                                    top_features_to_pick=0.4)),\n",
       "                ('fix_multi', 'passthrough'), ('dfs', 'passthrough'),\n",
       "                ('pca', 'passthrough'),\n",
       "                ['trained_model',\n",
       "                 LogisticRegression(C=1.0, class_weight=None, dual=False,\n",
       "                                    fit_intercept=True, intercept_scaling=1,\n",
       "                                    l1_ratio=None, max_iter=1000,\n",
       "                                    multi_class='auto', n_jobs=None,\n",
       "                                    penalty='l2', random_state=2854,\n",
       "                                    solver='lbfgs', tol=0.0001, verbose=0,\n",
       "                                    warm_start=False)]],\n",
       "         verbose=False)"
      ]
     },
     "execution_count": 18,
     "metadata": {},
     "output_type": "execute_result"
    }
   ],
   "source": [
    "loaded_model"
   ]
  },
  {
   "cell_type": "code",
   "execution_count": null,
   "id": "ac0af8de-b9d3-45fa-ae4f-ef3ad7e4a98f",
   "metadata": {},
   "outputs": [],
   "source": []
  }
 ],
 "metadata": {
  "kernelspec": {
   "display_name": "Python 3",
   "language": "python",
   "name": "python3"
  },
  "language_info": {
   "codemirror_mode": {
    "name": "ipython",
    "version": 3
   },
   "file_extension": ".py",
   "mimetype": "text/x-python",
   "name": "python",
   "nbconvert_exporter": "python",
   "pygments_lexer": "ipython3",
   "version": "3.7.10"
  }
 },
 "nbformat": 4,
 "nbformat_minor": 5
}
